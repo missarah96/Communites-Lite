{
 "cells": [
  {
   "cell_type": "code",
   "execution_count": 24,
   "metadata": {},
   "outputs": [],
   "source": [
    "from urllib.request import urlopen\n",
    "import pandas as pd\n",
    "import plotly.express as px\n",
    "import json\n",
    "from shapely.geometry import Point\n",
    "import geopandas as gpd\n",
    "from geopandas import GeoDataFrame\n",
    "\n",
    "df = pd.read_csv(\"data/processed_communities.csv\")\n",
    "state_code = pd.read_csv(\"data/raw_data/us-state-code.csv\")\n",
    "new_df = pd.merge(df, state_code, left_on='state', right_on='stname', how='left')\n",
    "new_df.rename(columns={' stusps':'code'}, inplace=True)\n",
    "\n",
    "geometry = [Point(xy) for xy in zip(new_df['longitude'], new_df['latitude'])]\n",
    "gdf = GeoDataFrame(new_df, geometry=geometry) \n",
    "\n"
   ]
  },
  {
   "cell_type": "code",
   "execution_count": 9,
   "metadata": {},
   "outputs": [],
   "source": [
    "# world = gpd.read_file(gpd.datasets.get_path('naturalearth_lowres'))\n",
    "# gdf.plot(ax=world.plot(figsize=(10, 6)), marker='o', color='red', markersize=15)"
   ]
  },
  {
   "cell_type": "code",
   "execution_count": 14,
   "metadata": {},
   "outputs": [
    {
     "data": {
      "application/vnd.plotly.v1+json": {
       "config": {
        "plotlyServerURL": "https://plot.ly"
       },
       "data": [
        {
         "customdata": [
          [
           "Alabama",
           "Sheffield"
          ],
          [
           "Alabama",
           "Auburn"
          ],
          [
           "Alabama",
           "Daphne"
          ],
          [
           "Alabama",
           "Hoover"
          ],
          [
           "Alabama",
           "Tuscaloosa"
          ],
          [
           "Alabama",
           "Fairfield"
          ],
          [
           "Alabama",
           "Selma"
          ],
          [
           "Alabama",
           "Prichard"
          ],
          [
           "Alabama",
           "Eufaula"
          ],
          [
           "Alabama",
           "Athens"
          ],
          [
           "Alabama",
           "Florence"
          ],
          [
           "Alabama",
           "Homewood"
          ],
          [
           "Alabama",
           "Troy"
          ],
          [
           "Alabama",
           "Sylacauga"
          ],
          [
           "Alabama",
           "Phenix City"
          ],
          [
           "Alabama",
           "Alabaster"
          ],
          [
           "Alabama",
           "Huntsville"
          ],
          [
           "Alabama",
           "Hueytown"
          ],
          [
           "Alabama",
           "Tuskegee"
          ],
          [
           "Alabama",
           "Gadsden"
          ],
          [
           "Alabama",
           "Jasper"
          ],
          [
           "Alabama",
           "Saraland"
          ],
          [
           "Alabama",
           "Hartselle"
          ],
          [
           "Alabama",
           "Madison"
          ],
          [
           "Alabama",
           "Cullman"
          ],
          [
           "Alabama",
           "Opelika"
          ],
          [
           "Alabama",
           "Montgomery"
          ],
          [
           "Alabama",
           "Anniston"
          ],
          [
           "Alabama",
           "Decatur"
          ],
          [
           "Alabama",
           "Enterprise"
          ],
          [
           "Alabama",
           "Vestavia Hills"
          ],
          [
           "Alabama",
           "Prattville"
          ],
          [
           "Alabama",
           "Scottsboro"
          ],
          [
           "Alabama",
           "Dothan"
          ],
          [
           "Alabama",
           "Mountain Brook"
          ],
          [
           "Alabama",
           "Alexander City"
          ],
          [
           "Alabama",
           "Jacksonville"
          ],
          [
           "Alabama",
           "Northport"
          ],
          [
           "Alabama",
           "Birmingham"
          ],
          [
           "Alabama",
           "Fort Payne"
          ],
          [
           "Alabama",
           "Mobile"
          ],
          [
           "Alabama",
           "Ozark"
          ],
          [
           "Alabama",
           "Bessemer"
          ],
          [
           "Alaska",
           "Anchorage"
          ],
          [
           "Alaska",
           "Juneau"
          ],
          [
           "Alaska",
           "Fairbanks"
          ],
          [
           "Arizona",
           "Douglas"
          ],
          [
           "Arizona",
           "Casa Grande"
          ],
          [
           "Arizona",
           "Mesa"
          ],
          [
           "Arizona",
           "Flagstaff"
          ],
          [
           "Arizona",
           "Glendale"
          ],
          [
           "Arizona",
           "Lake Havasu City"
          ],
          [
           "Arizona",
           "Bullhead City"
          ],
          [
           "Arizona",
           "Prescott"
          ],
          [
           "Arizona",
           "Chandler"
          ],
          [
           "Arizona",
           "Phoenix"
          ],
          [
           "Arizona",
           "Nogales"
          ],
          [
           "Arizona",
           "Avondale"
          ],
          [
           "Arizona",
           "Apache Junction"
          ],
          [
           "Arizona",
           "Scottsdale"
          ],
          [
           "Arizona",
           "Paradise Valley"
          ],
          [
           "Arizona",
           "Sierra Vista"
          ],
          [
           "Arizona",
           "Gilbert"
          ],
          [
           "Arizona",
           "Peoria"
          ],
          [
           "Arizona",
           "Tucson"
          ],
          [
           "Arizona",
           "Tempe"
          ],
          [
           "Arkansas",
           "West Memphis"
          ],
          [
           "Arkansas",
           "Conway"
          ],
          [
           "Arkansas",
           "Benton"
          ],
          [
           "Arkansas",
           "Springdale"
          ],
          [
           "Arkansas",
           "Pine Bluff"
          ],
          [
           "Arkansas",
           "Blytheville"
          ],
          [
           "Arkansas",
           "Van Buren"
          ],
          [
           "Arkansas",
           "Hot Springs"
          ],
          [
           "Arkansas",
           "El Dorado"
          ],
          [
           "Arkansas",
           "Rogers"
          ],
          [
           "Arkansas",
           "Texarkana"
          ],
          [
           "Arkansas",
           "Jonesboro"
          ],
          [
           "Arkansas",
           "Jacksonville"
          ],
          [
           "Arkansas",
           "Little Rock"
          ],
          [
           "Arkansas",
           "Searcy"
          ],
          [
           "Arkansas",
           "Paragould"
          ],
          [
           "Arkansas",
           "Bentonville"
          ],
          [
           "Arkansas",
           "Forrest City"
          ],
          [
           "Arkansas",
           "Russellville"
          ],
          [
           "Arkansas",
           "Stuttgart"
          ],
          [
           "Arkansas",
           "Fort Smith"
          ],
          [
           "Arkansas",
           "North Little Rock"
          ],
          [
           "Arkansas",
           "Sherwood"
          ],
          [
           "Arkansas",
           "Arkadelphia"
          ],
          [
           "Arkansas",
           "Magnolia"
          ],
          [
           "California",
           "Pleasanton"
          ],
          [
           "California",
           "Arcata"
          ],
          [
           "California",
           "San Pablo"
          ],
          [
           "California",
           "Newark"
          ],
          [
           "California",
           "Livermore"
          ],
          [
           "California",
           "Sunnyvale"
          ],
          [
           "California",
           "Hayward"
          ],
          [
           "California",
           "Glendora"
          ],
          [
           "California",
           "Albany"
          ],
          [
           "California",
           "Indio"
          ],
          [
           "California",
           "Hercules"
          ],
          [
           "California",
           "Salinas"
          ],
          [
           "California",
           "Roseville"
          ],
          [
           "California",
           "Los Altos"
          ],
          [
           "California",
           "San Rafael"
          ],
          [
           "California",
           "Davis"
          ],
          [
           "California",
           "La Mesa"
          ],
          [
           "California",
           "Pacifica"
          ],
          [
           "California",
           "Lynwood"
          ],
          [
           "California",
           "Union City"
          ],
          [
           "California",
           "West Covina"
          ],
          [
           "California",
           "Whittier"
          ],
          [
           "California",
           "West Hollywood"
          ],
          [
           "California",
           "Barstow"
          ],
          [
           "California",
           "Tulare"
          ],
          [
           "California",
           "Coronado"
          ],
          [
           "California",
           "Walnut"
          ],
          [
           "California",
           "Paradise"
          ],
          [
           "California",
           "Los Gatos"
          ],
          [
           "California",
           "Mission Viejo"
          ],
          [
           "California",
           "Bell Gardens"
          ],
          [
           "California",
           "Atwater"
          ],
          [
           "California",
           "Palo Alto"
          ],
          [
           "California",
           "Monrovia"
          ],
          [
           "California",
           "Diamond Bar"
          ],
          [
           "California",
           "Lakewood"
          ],
          [
           "California",
           "Los Angeles"
          ],
          [
           "California",
           "Belmont"
          ],
          [
           "California",
           "Monterey"
          ],
          [
           "California",
           "Carson"
          ],
          [
           "California",
           "Santa Fe Springs"
          ],
          [
           "California",
           "Cypress"
          ],
          [
           "California",
           "Morgan Hill"
          ],
          [
           "California",
           "Pico Rivera"
          ],
          [
           "California",
           "Santa Rosa"
          ],
          [
           "California",
           "Upland"
          ],
          [
           "California",
           "San Bernardino"
          ],
          [
           "California",
           "Monterey Park"
          ],
          [
           "California",
           "Millbrae"
          ],
          [
           "California",
           "Commerce"
          ],
          [
           "California",
           "South San Francisco"
          ],
          [
           "California",
           "Sacramento"
          ],
          [
           "California",
           "Oceanside"
          ],
          [
           "California",
           "Menlo Park"
          ],
          [
           "California",
           "Los Banos"
          ],
          [
           "California",
           "San Marino"
          ],
          [
           "California",
           "Moreno Valley"
          ],
          [
           "California",
           "Chino"
          ],
          [
           "California",
           "La Canada Flintridge"
          ],
          [
           "California",
           "San Gabriel"
          ],
          [
           "California",
           "Temecula"
          ],
          [
           "California",
           "Red Bluff"
          ],
          [
           "California",
           "Rancho Palos Verdes"
          ],
          [
           "California",
           "Merced"
          ],
          [
           "California",
           "Turlock"
          ],
          [
           "California",
           "Rocklin"
          ],
          [
           "California",
           "Buena Park"
          ],
          [
           "California",
           "Alhambra"
          ],
          [
           "California",
           "Porterville"
          ],
          [
           "California",
           "Grover City"
          ],
          [
           "California",
           "Duarte"
          ],
          [
           "California",
           "Dublin"
          ],
          [
           "California",
           "Danville"
          ],
          [
           "California",
           "Downey"
          ],
          [
           "California",
           "Compton"
          ],
          [
           "California",
           "Lawndale"
          ],
          [
           "California",
           "Pacific Grove"
          ],
          [
           "California",
           "Covina"
          ],
          [
           "California",
           "Newport Beach"
          ],
          [
           "California",
           "Colton"
          ],
          [
           "California",
           "San Carlos"
          ],
          [
           "California",
           "National City"
          ],
          [
           "California",
           "Cupertino"
          ],
          [
           "California",
           "Huntington Park"
          ],
          [
           "California",
           "El Cajon"
          ],
          [
           "California",
           "Yuba City"
          ],
          [
           "California",
           "Bell"
          ],
          [
           "California",
           "Redondo Beach"
          ],
          [
           "California",
           "Arcadia"
          ],
          [
           "California",
           "Saratoga"
          ],
          [
           "California",
           "Brea"
          ],
          [
           "California",
           "Stanton"
          ],
          [
           "California",
           "Dinuba"
          ],
          [
           "California",
           "San Clemente"
          ],
          [
           "California",
           "Escondido"
          ],
          [
           "California",
           "Arroyo Grande"
          ],
          [
           "California",
           "Chula Vista"
          ],
          [
           "California",
           "Richmond"
          ],
          [
           "California",
           "Lancaster"
          ],
          [
           "California",
           "Glendale"
          ],
          [
           "California",
           "Costa Mesa"
          ],
          [
           "California",
           "Burlingame"
          ],
          [
           "California",
           "Temple City"
          ],
          [
           "California",
           "Gilroy"
          ],
          [
           "California",
           "Grand Terrace"
          ],
          [
           "California",
           "Cerritos"
          ],
          [
           "California",
           "Baldwin Park"
          ],
          [
           "California",
           "San Ramon"
          ],
          [
           "California",
           "Twentynine Palms"
          ],
          [
           "California",
           "Hollister"
          ],
          [
           "California",
           "Azusa"
          ],
          [
           "California",
           "Piedmont"
          ],
          [
           "California",
           "Paramount"
          ],
          [
           "California",
           "La Puente"
          ],
          [
           "California",
           "Alameda"
          ],
          [
           "California",
           "Rancho Cucamonga"
          ],
          [
           "California",
           "Montebello"
          ],
          [
           "California",
           "Tracy"
          ],
          [
           "California",
           "Pinole"
          ],
          [
           "California",
           "Carpinteria"
          ],
          [
           "California",
           "Fullerton"
          ],
          [
           "California",
           "Highland"
          ],
          [
           "California",
           "Garden Grove"
          ],
          [
           "California",
           "El Segundo"
          ],
          [
           "California",
           "Palmdale"
          ],
          [
           "California",
           "Apple Valley"
          ],
          [
           "California",
           "Berkeley"
          ],
          [
           "California",
           "Atascadero"
          ],
          [
           "California",
           "Norwalk"
          ],
          [
           "California",
           "Pasadena"
          ],
          [
           "California",
           "Seaside"
          ],
          [
           "California",
           "Redlands"
          ],
          [
           "California",
           "San Francisco"
          ],
          [
           "California",
           "Redwood City"
          ],
          [
           "California",
           "Santa Maria"
          ],
          [
           "California",
           "San Diego"
          ],
          [
           "California",
           "Camarillo"
          ],
          [
           "California",
           "Santa Clarita"
          ],
          [
           "California",
           "Westminster"
          ],
          [
           "California",
           "Novato"
          ],
          [
           "California",
           "Tustin"
          ],
          [
           "California",
           "El Centro"
          ],
          [
           "California",
           "Thousand Oaks"
          ],
          [
           "California",
           "Fountain Valley"
          ],
          [
           "California",
           "Manteca"
          ],
          [
           "California",
           "Santa Barbara"
          ],
          [
           "California",
           "South El Monte"
          ],
          [
           "California",
           "Ridgecrest"
          ],
          [
           "California",
           "Pomona"
          ],
          [
           "California",
           "Dixon"
          ],
          [
           "California",
           "Victorville"
          ],
          [
           "California",
           "Culver City"
          ],
          [
           "California",
           "Benicia"
          ],
          [
           "California",
           "Vacaville"
          ],
          [
           "California",
           "La Habra"
          ],
          [
           "California",
           "Irvine"
          ],
          [
           "California",
           "El Cerrito"
          ],
          [
           "California",
           "Woodland"
          ],
          [
           "California",
           "Chico"
          ],
          [
           "California",
           "Yorba Linda"
          ],
          [
           "California",
           "Suisun City"
          ],
          [
           "California",
           "Hawthorne"
          ],
          [
           "California",
           "Palos Verdes Estates"
          ],
          [
           "California",
           "Orange"
          ],
          [
           "California",
           "Bakersfield"
          ],
          [
           "California",
           "Moorpark"
          ],
          [
           "California",
           "Lompoc"
          ],
          [
           "California",
           "Port Hueneme"
          ],
          [
           "California",
           "Agoura Hills"
          ],
          [
           "California",
           "Santa Ana"
          ],
          [
           "California",
           "Brawley"
          ],
          [
           "California",
           "Hermosa Beach"
          ],
          [
           "California",
           "South Gate"
          ],
          [
           "California",
           "Vallejo"
          ],
          [
           "California",
           "West Sacramento"
          ],
          [
           "California",
           "Auburn"
          ],
          [
           "California",
           "Reedley"
          ],
          [
           "California",
           "Oakland"
          ],
          [
           "California",
           "Hemet"
          ],
          [
           "California",
           "Cudahy"
          ],
          [
           "California",
           "Cathedral City"
          ],
          [
           "California",
           "San Bruno"
          ],
          [
           "California",
           "Sierra Madre"
          ],
          [
           "California",
           "Burbank"
          ],
          [
           "California",
           "Mountain View"
          ],
          [
           "California",
           "Fremont"
          ],
          [
           "California",
           "Hesperia"
          ],
          [
           "California",
           "Madera"
          ],
          [
           "California",
           "Simi Valley"
          ],
          [
           "California",
           "La Quinta"
          ],
          [
           "California",
           "San Jacinto"
          ],
          [
           "California",
           "San Jose"
          ],
          [
           "California",
           "Palm Desert"
          ],
          [
           "California",
           "Pleasant Hill"
          ],
          [
           "California",
           "Walnut Creek"
          ],
          [
           "California",
           "Fontana"
          ],
          [
           "California",
           "Corona"
          ],
          [
           "California",
           "Hillsborough"
          ],
          [
           "California",
           "Perris"
          ],
          [
           "California",
           "Oxnard"
          ],
          [
           "California",
           "San Leandro"
          ],
          [
           "California",
           "Corcoran"
          ],
          [
           "California",
           "Ceres"
          ],
          [
           "California",
           "Placentia"
          ],
          [
           "California",
           "Stockton"
          ],
          [
           "California",
           "Claremont"
          ],
          [
           "California",
           "San Fernando"
          ],
          [
           "California",
           "Maywood"
          ],
          [
           "California",
           "Los Alamitos"
          ],
          [
           "California",
           "Eatontown"
          ],
          [
           "California",
           "Rialto"
          ],
          [
           "California",
           "Mill Valley"
          ],
          [
           "California",
           "Fairfield"
          ],
          [
           "California",
           "Milpitas"
          ],
          [
           "California",
           "Rosemead"
          ],
          [
           "California",
           "Laguna Beach"
          ],
          [
           "California",
           "Clearlake"
          ],
          [
           "California",
           "Montclair"
          ],
          [
           "California",
           "Oakdale"
          ],
          [
           "California",
           "Hanford"
          ],
          [
           "California",
           "Lomita"
          ],
          [
           "California",
           "Fresno"
          ],
          [
           "California",
           "Palm Springs"
          ],
          [
           "California",
           "Martinez"
          ],
          [
           "California",
           "Norco"
          ],
          [
           "California",
           "East Palo Alto"
          ],
          [
           "California",
           "San Mateo"
          ],
          [
           "California",
           "Santa Paula"
          ],
          [
           "California",
           "Antioch"
          ],
          [
           "California",
           "Ontario"
          ],
          [
           "California",
           "Santa Clara"
          ],
          [
           "California",
           "Daly City"
          ],
          [
           "California",
           "La Verne"
          ],
          [
           "California",
           "Banning"
          ],
          [
           "California",
           "Manhattan Beach"
          ],
          [
           "California",
           "Foster City"
          ],
          [
           "California",
           "Loma Linda"
          ],
          [
           "California",
           "Dana Point"
          ],
          [
           "California",
           "Rohnert Park"
          ],
          [
           "California",
           "Santa Monica"
          ],
          [
           "California",
           "Eureka"
          ],
          [
           "California",
           "San Luis Obispo"
          ],
          [
           "California",
           "Redding"
          ],
          [
           "California",
           "Lodi"
          ],
          [
           "California",
           "Pittsburg"
          ],
          [
           "California",
           "San Dimas"
          ],
          [
           "California",
           "Visalia"
          ],
          [
           "California",
           "El Monte"
          ],
          [
           "California",
           "Bellflower"
          ],
          [
           "California",
           "Gardena"
          ],
          [
           "California",
           "Delano"
          ],
          [
           "California",
           "Petaluma"
          ],
          [
           "California",
           "Modesto"
          ],
          [
           "California",
           "Napa"
          ],
          [
           "California",
           "Beverly Hills"
          ],
          [
           "California",
           "Riverside"
          ],
          [
           "California",
           "Carlsbad"
          ],
          [
           "California",
           "Watsonville"
          ],
          [
           "California",
           "Fillmore"
          ],
          [
           "California",
           "Ukiah"
          ],
          [
           "California",
           "Campbell"
          ],
          [
           "California",
           "Seal Beach"
          ],
          [
           "California",
           "Orinda"
          ],
          [
           "California",
           "Sanger"
          ],
          [
           "California",
           "Marysville"
          ],
          [
           "California",
           "Yucaipa"
          ],
          [
           "California",
           "Marina"
          ],
          [
           "California",
           "Folsom"
          ],
          [
           "California",
           "Concord"
          ],
          [
           "California",
           "Torrance"
          ],
          [
           "California",
           "La Mirada"
          ],
          [
           "California",
           "Selma"
          ],
          [
           "California",
           "Long Beach"
          ],
          [
           "California",
           "Clovis"
          ],
          [
           "California",
           "South Pasadena"
          ],
          [
           "California",
           "Artesia"
          ],
          [
           "California",
           "Inglewood"
          ],
          [
           "California",
           "Lafayette"
          ],
          [
           "Colorado",
           "Arvada"
          ],
          [
           "Colorado",
           "Lafayette"
          ],
          [
           "Colorado",
           "Northglenn"
          ],
          [
           "Colorado",
           "Commerce City"
          ],
          [
           "Colorado",
           "Englewood"
          ],
          [
           "Colorado",
           "Grand Junction"
          ],
          [
           "Colorado",
           "Denver"
          ],
          [
           "Colorado",
           "Golden"
          ],
          [
           "Colorado",
           "Broomfield"
          ],
          [
           "Colorado",
           "Canon City"
          ],
          [
           "Colorado",
           "Colorado Springs"
          ],
          [
           "Colorado",
           "Loveland"
          ],
          [
           "Colorado",
           "Louisville"
          ],
          [
           "Colorado",
           "Sterling"
          ],
          [
           "Colorado",
           "Lakewood"
          ],
          [
           "Colorado",
           "Fort Collins"
          ],
          [
           "Colorado",
           "Brighton"
          ],
          [
           "Colorado",
           "Durango"
          ],
          [
           "Colorado",
           "Westminster"
          ],
          [
           "Colorado",
           "Littleton"
          ],
          [
           "Colorado",
           "Greeley"
          ],
          [
           "Colorado",
           "Longmont"
          ],
          [
           "Colorado",
           "Pueblo"
          ],
          [
           "Colorado",
           "Aurora"
          ],
          [
           "Colorado",
           "Boulder"
          ],
          [
           "Connecticut",
           "New Canaan"
          ],
          [
           "Connecticut",
           "Vernon"
          ],
          [
           "Connecticut",
           "Monroe"
          ],
          [
           "Connecticut",
           "Avon"
          ],
          [
           "Connecticut",
           "Manchester"
          ],
          [
           "Connecticut",
           "Plymouth"
          ],
          [
           "Connecticut",
           "Ansonia"
          ],
          [
           "Connecticut",
           "Waterford"
          ],
          [
           "Connecticut",
           "Cromwell"
          ],
          [
           "Connecticut",
           "Waterbury"
          ],
          [
           "Connecticut",
           "Derby"
          ],
          [
           "Connecticut",
           "Rocky Hill"
          ],
          [
           "Connecticut",
           "Coventry"
          ],
          [
           "Connecticut",
           "Westport"
          ],
          [
           "Connecticut",
           "Windsor Locks"
          ],
          [
           "Connecticut",
           "Farmington"
          ],
          [
           "Connecticut",
           "Stamford"
          ],
          [
           "Connecticut",
           "Hamden"
          ],
          [
           "Connecticut",
           "New Haven"
          ],
          [
           "Connecticut",
           "Windsor"
          ],
          [
           "Connecticut",
           "Bethel"
          ],
          [
           "Connecticut",
           "Clinton"
          ],
          [
           "Connecticut",
           "Suffield"
          ],
          [
           "Connecticut",
           "Trumbull"
          ],
          [
           "Connecticut",
           "Danbury"
          ],
          [
           "Connecticut",
           "Newington"
          ],
          [
           "Connecticut",
           "Cheshire"
          ],
          [
           "Connecticut",
           "East Hartford"
          ],
          [
           "Connecticut",
           "West Haven"
          ],
          [
           "Connecticut",
           "Stonington"
          ],
          [
           "Connecticut",
           "Berlin"
          ],
          [
           "Connecticut",
           "Seymour"
          ],
          [
           "Connecticut",
           "Southington"
          ],
          [
           "Connecticut",
           "East Hampton"
          ],
          [
           "Connecticut",
           "Guilford"
          ],
          [
           "Connecticut",
           "Naugatuck"
          ],
          [
           "Connecticut",
           "Greenwich"
          ],
          [
           "Connecticut",
           "Plainville"
          ],
          [
           "Connecticut",
           "Wolcott"
          ],
          [
           "Connecticut",
           "Branford"
          ],
          [
           "Connecticut",
           "Watertown"
          ],
          [
           "Connecticut",
           "Glastonbury"
          ],
          [
           "Connecticut",
           "New Britain"
          ],
          [
           "Connecticut",
           "Simsbury"
          ],
          [
           "Connecticut",
           "New London"
          ],
          [
           "Connecticut",
           "Norwalk"
          ],
          [
           "Connecticut",
           "Wilton"
          ],
          [
           "Connecticut",
           "Wallingford"
          ],
          [
           "Connecticut",
           "Orange"
          ],
          [
           "Connecticut",
           "South Windsor"
          ],
          [
           "Connecticut",
           "Hartford"
          ],
          [
           "Connecticut",
           "Newtown"
          ],
          [
           "Connecticut",
           "Bloomfield"
          ],
          [
           "Connecticut",
           "Shelton"
          ],
          [
           "Connecticut",
           "Torrington"
          ],
          [
           "Connecticut",
           "North Branford"
          ],
          [
           "Connecticut",
           "Darien"
          ],
          [
           "Connecticut",
           "North Haven"
          ],
          [
           "Connecticut",
           "Brookfield"
          ],
          [
           "Connecticut",
           "Norwich"
          ],
          [
           "Connecticut",
           "Milford"
          ],
          [
           "Connecticut",
           "Meriden"
          ],
          [
           "Connecticut",
           "Bridgeport"
          ],
          [
           "Connecticut",
           "Wethersfield"
          ],
          [
           "Connecticut",
           "Plainfield"
          ],
          [
           "Connecticut",
           "Middletown"
          ],
          [
           "Connecticut",
           "Stratford"
          ],
          [
           "Connecticut",
           "West Hartford"
          ],
          [
           "Connecticut",
           "Enfield"
          ],
          [
           "Delaware",
           "Dover"
          ],
          [
           "District of Columbia",
           "Washington"
          ],
          [
           "Florida",
           "Gainesville"
          ],
          [
           "Florida",
           "Ocala"
          ],
          [
           "Florida",
           "Tampa"
          ],
          [
           "Florida",
           "Sarasota"
          ],
          [
           "Florida",
           "Pembroke Pines"
          ],
          [
           "Florida",
           "Niceville"
          ],
          [
           "Florida",
           "Ormond Beach"
          ],
          [
           "Florida",
           "Lauderdale Lakes"
          ],
          [
           "Florida",
           "Miami Beach"
          ],
          [
           "Florida",
           "Delray Beach"
          ],
          [
           "Florida",
           "Fort Lauderdale"
          ],
          [
           "Florida",
           "Wilton Manors"
          ],
          [
           "Florida",
           "Eustis"
          ],
          [
           "Florida",
           "Royal Palm Beach"
          ],
          [
           "Florida",
           "Boca Raton"
          ],
          [
           "Florida",
           "Miami Shores"
          ],
          [
           "Florida",
           "New Port Richey"
          ],
          [
           "Florida",
           "Ocoee"
          ],
          [
           "Florida",
           "Lakeland"
          ],
          [
           "Florida",
           "Sunrise"
          ],
          [
           "Florida",
           "Haines City"
          ],
          [
           "Florida",
           "Winter Park"
          ],
          [
           "Florida",
           "Fort Myers"
          ],
          [
           "Florida",
           "Winter Haven"
          ],
          [
           "Florida",
           "Key West"
          ],
          [
           "Florida",
           "Deerfield Beach"
          ],
          [
           "Florida",
           "Kissimmee"
          ],
          [
           "Florida",
           "Pinellas Park"
          ],
          [
           "Florida",
           "New Smyrna Beach"
          ],
          [
           "Florida",
           "Sanford"
          ],
          [
           "Florida",
           "North Palm Beach"
          ],
          [
           "Florida",
           "Panama City"
          ],
          [
           "Florida",
           "Port Orange"
          ],
          [
           "Florida",
           "Cocoa Beach"
          ],
          [
           "Florida",
           "Daytona Beach"
          ],
          [
           "Florida",
           "Palm Beach Gardens"
          ],
          [
           "Florida",
           "Lauderhill"
          ],
          [
           "Florida",
           "Boynton Beach"
          ],
          [
           "Florida",
           "Palatka"
          ],
          [
           "Florida",
           "Largo"
          ],
          [
           "Florida",
           "Palm Bay"
          ],
          [
           "Florida",
           "Plantation"
          ],
          [
           "Florida",
           "Dunedin"
          ],
          [
           "Florida",
           "Hollywood"
          ],
          [
           "Florida",
           "Punta Gorda"
          ],
          [
           "Florida",
           "Oviedo"
          ],
          [
           "Florida",
           "Tarpon Springs"
          ],
          [
           "Florida",
           "Rockledge"
          ],
          [
           "Florida",
           "Vero Beach"
          ],
          [
           "Florida",
           "DeLand"
          ],
          [
           "Florida",
           "Longwood"
          ],
          [
           "Florida",
           "South Miami"
          ],
          [
           "Florida",
           "Naples"
          ],
          [
           "Florida",
           "North Lauderdale"
          ],
          [
           "Florida",
           "Orlando"
          ],
          [
           "Florida",
           "Bartow"
          ],
          [
           "Florida",
           "Casselberry"
          ],
          [
           "Florida",
           "Plant City"
          ],
          [
           "Florida",
           "Melbourne"
          ],
          [
           "Florida",
           "Coral Gables"
          ],
          [
           "Florida",
           "Fort Pierce"
          ],
          [
           "Florida",
           "Tallahassee"
          ],
          [
           "Florida",
           "Hallandale"
          ],
          [
           "Florida",
           "Miramar"
          ],
          [
           "Florida",
           "Lake Worth"
          ],
          [
           "Florida",
           "Tamarac"
          ],
          [
           "Florida",
           "Lake City"
          ],
          [
           "Florida",
           "Gulfport"
          ],
          [
           "Florida",
           "Lighthouse Point"
          ],
          [
           "Florida",
           "Jacksonville"
          ],
          [
           "Florida",
           "Clearwater"
          ],
          [
           "Florida",
           "Pompano Beach"
          ],
          [
           "Florida",
           "Miami"
          ],
          [
           "Florida",
           "Miami Springs"
          ],
          [
           "Florida",
           "Coral Springs"
          ],
          [
           "Florida",
           "Venice"
          ],
          [
           "Florida",
           "Safety Harbor"
          ],
          [
           "Florida",
           "Temple Terrace"
          ],
          [
           "Florida",
           "Homestead"
          ],
          [
           "Florida",
           "Stuart"
          ],
          [
           "Florida",
           "Sebastian"
          ],
          [
           "Florida",
           "Leesburg"
          ],
          [
           "Florida",
           "South Daytona"
          ],
          [
           "Florida",
           "Oakland Park"
          ],
          [
           "Florida",
           "Davie"
          ],
          [
           "Florida",
           "Dania"
          ],
          [
           "Florida",
           "Margate"
          ],
          [
           "Florida",
           "Cape Coral"
          ],
          [
           "Florida",
           "Edgewater"
          ],
          [
           "Florida",
           "North Miami"
          ],
          [
           "Georgia",
           "Dublin"
          ],
          [
           "Georgia",
           "Decatur"
          ],
          [
           "Georgia",
           "Tifton"
          ],
          [
           "Georgia",
           "Columbus"
          ],
          [
           "Georgia",
           "Carrollton"
          ],
          [
           "Georgia",
           "Peachtree City"
          ],
          [
           "Georgia",
           "Americus"
          ],
          [
           "Georgia",
           "Gainesville"
          ],
          [
           "Georgia",
           "Rome"
          ],
          [
           "Georgia",
           "Savannah"
          ],
          [
           "Georgia",
           "East Point"
          ],
          [
           "Georgia",
           "Albany"
          ],
          [
           "Georgia",
           "Valdosta"
          ],
          [
           "Georgia",
           "Cartersville"
          ],
          [
           "Georgia",
           "LaGrange"
          ],
          [
           "Georgia",
           "Warner Robins"
          ],
          [
           "Georgia",
           "Snellville"
          ],
          [
           "Georgia",
           "College Park"
          ],
          [
           "Georgia",
           "Dalton"
          ],
          [
           "Georgia",
           "Marietta"
          ],
          [
           "Georgia",
           "Alpharetta"
          ],
          [
           "Georgia",
           "Forest Park"
          ],
          [
           "Georgia",
           "Augusta"
          ],
          [
           "Georgia",
           "Covington"
          ],
          [
           "Georgia",
           "Bainbridge"
          ],
          [
           "Georgia",
           "Atlanta"
          ],
          [
           "Georgia",
           "Douglas"
          ],
          [
           "Georgia",
           "Statesboro"
          ],
          [
           "Georgia",
           "Lawrenceville"
          ],
          [
           "Georgia",
           "Macon"
          ],
          [
           "Georgia",
           "Moultrie"
          ],
          [
           "Georgia",
           "Brunswick"
          ],
          [
           "Georgia",
           "Roswell"
          ],
          [
           "Georgia",
           "Smyrna"
          ],
          [
           "Georgia",
           "Thomasville"
          ],
          [
           "Georgia",
           "Hinesville"
          ],
          [
           "Georgia",
           "Waycross"
          ],
          [
           "Idaho",
           "Idaho Falls"
          ],
          [
           "Idaho",
           "Lewiston"
          ],
          [
           "Idaho",
           "Pocatello"
          ],
          [
           "Idaho",
           "Moscow"
          ],
          [
           "Idaho",
           "Rexburg"
          ],
          [
           "Idaho",
           "Twin Falls"
          ],
          [
           "Idaho",
           "Caldwell"
          ],
          [
           "Indiana",
           "Crown Point"
          ],
          [
           "Indiana",
           "Noblesville"
          ],
          [
           "Indiana",
           "Lawrence"
          ],
          [
           "Indiana",
           "Jasper"
          ],
          [
           "Indiana",
           "Greenfield"
          ],
          [
           "Indiana",
           "Anderson"
          ],
          [
           "Indiana",
           "South Bend"
          ],
          [
           "Indiana",
           "Plainfield"
          ],
          [
           "Indiana",
           "East Chicago"
          ],
          [
           "Indiana",
           "Logansport"
          ],
          [
           "Indiana",
           "Schererville"
          ],
          [
           "Indiana",
           "Hammond"
          ],
          [
           "Indiana",
           "Fort Wayne"
          ],
          [
           "Indiana",
           "Richmond"
          ],
          [
           "Indiana",
           "Gary"
          ],
          [
           "Indiana",
           "Huntington"
          ],
          [
           "Indiana",
           "Indianapolis"
          ],
          [
           "Indiana",
           "Wabash"
          ],
          [
           "Indiana",
           "Griffith"
          ],
          [
           "Indiana",
           "Carmel"
          ],
          [
           "Indiana",
           "Highland"
          ],
          [
           "Indiana",
           "Crawfordsville"
          ],
          [
           "Indiana",
           "Martinsville"
          ],
          [
           "Indiana",
           "La Porte"
          ],
          [
           "Indiana",
           "New Albany"
          ],
          [
           "Indiana",
           "Bloomington"
          ],
          [
           "Indiana",
           "Merrillville"
          ],
          [
           "Indiana",
           "Clarksville"
          ],
          [
           "Indiana",
           "Connersville"
          ],
          [
           "Indiana",
           "Hobart"
          ],
          [
           "Indiana",
           "Greenwood"
          ],
          [
           "Indiana",
           "Lafayette"
          ],
          [
           "Indiana",
           "Speedway"
          ],
          [
           "Indiana",
           "Warsaw"
          ],
          [
           "Indiana",
           "Valparaiso"
          ],
          [
           "Indiana",
           "Beech Grove"
          ],
          [
           "Indiana",
           "Dyer"
          ],
          [
           "Indiana",
           "Michigan City"
          ],
          [
           "Indiana",
           "New Castle"
          ],
          [
           "Indiana",
           "Elkhart"
          ],
          [
           "Indiana",
           "Bedford"
          ],
          [
           "Indiana",
           "Lake Station"
          ],
          [
           "Indiana",
           "Evansville"
          ],
          [
           "Indiana",
           "Kokomo"
          ],
          [
           "Indiana",
           "Portage"
          ],
          [
           "Indiana",
           "Terre Haute"
          ],
          [
           "Indiana",
           "Vincennes"
          ],
          [
           "Indiana",
           "Munster"
          ],
          [
           "Iowa",
           "Des Moines"
          ],
          [
           "Iowa",
           "Spencer"
          ],
          [
           "Iowa",
           "Mason City"
          ],
          [
           "Iowa",
           "Indianola"
          ],
          [
           "Iowa",
           "Davenport"
          ],
          [
           "Iowa",
           "Dubuque"
          ],
          [
           "Iowa",
           "Fort Dodge"
          ],
          [
           "Iowa",
           "Oskaloosa"
          ],
          [
           "Iowa",
           "Newton"
          ],
          [
           "Iowa",
           "Waterloo"
          ],
          [
           "Iowa",
           "Sioux City"
          ],
          [
           "Iowa",
           "Ankeny"
          ],
          [
           "Iowa",
           "Bettendorf"
          ],
          [
           "Iowa",
           "Ames"
          ],
          [
           "Iowa",
           "West Des Moines"
          ],
          [
           "Iowa",
           "Marshalltown"
          ],
          [
           "Iowa",
           "Cedar Falls"
          ],
          [
           "Iowa",
           "Boone"
          ],
          [
           "Iowa",
           "Urbandale"
          ],
          [
           "Iowa",
           "Fort Madison"
          ],
          [
           "Kansas",
           "Wichita"
          ],
          [
           "Kentucky",
           "Hopkinsville"
          ],
          [
           "Kentucky",
           "Newport"
          ],
          [
           "Kentucky",
           "Fort Thomas"
          ],
          [
           "Kentucky",
           "Somerset"
          ],
          [
           "Kentucky",
           "Shively"
          ],
          [
           "Kentucky",
           "Independence"
          ],
          [
           "Kentucky",
           "Danville"
          ],
          [
           "Kentucky",
           "Ashland"
          ],
          [
           "Kentucky",
           "Owensboro"
          ],
          [
           "Kentucky",
           "Winchester"
          ],
          [
           "Kentucky",
           "Murray"
          ],
          [
           "Kentucky",
           "Georgetown"
          ],
          [
           "Kentucky",
           "Bowling Green"
          ],
          [
           "Kentucky",
           "Florence"
          ],
          [
           "Kentucky",
           "Elizabethtown"
          ],
          [
           "Kentucky",
           "Henderson"
          ],
          [
           "Kentucky",
           "Madisonville"
          ],
          [
           "Kentucky",
           "Louisville"
          ],
          [
           "Kentucky",
           "Erlanger"
          ],
          [
           "Kentucky",
           "Jeffersontown"
          ],
          [
           "Kentucky",
           "Glasgow"
          ],
          [
           "Kentucky",
           "Radcliff"
          ],
          [
           "Kentucky",
           "Nicholasville"
          ],
          [
           "Kentucky",
           "Paducah"
          ],
          [
           "Kentucky",
           "Covington"
          ],
          [
           "Kentucky",
           "Frankfort"
          ],
          [
           "Louisiana",
           "West Monroe"
          ],
          [
           "Louisiana",
           "Slidell"
          ],
          [
           "Louisiana",
           "Alexandria"
          ],
          [
           "Louisiana",
           "Ruston"
          ],
          [
           "Louisiana",
           "New Orleans"
          ],
          [
           "Louisiana",
           "Pineville"
          ],
          [
           "Louisiana",
           "Kenner"
          ],
          [
           "Louisiana",
           "Natchitoches"
          ],
          [
           "Louisiana",
           "Eunice"
          ],
          [
           "Louisiana",
           "New Iberia"
          ],
          [
           "Louisiana",
           "Crowley"
          ],
          [
           "Louisiana",
           "Lake Charles"
          ],
          [
           "Louisiana",
           "Monroe"
          ],
          [
           "Louisiana",
           "Houma"
          ],
          [
           "Louisiana",
           "Bossier City"
          ],
          [
           "Louisiana",
           "Lafayette"
          ],
          [
           "Louisiana",
           "Shreveport"
          ],
          [
           "Louisiana",
           "Gretna"
          ],
          [
           "Louisiana",
           "Westwego"
          ],
          [
           "Louisiana",
           "Baton Rouge"
          ],
          [
           "Louisiana",
           "Bogalusa"
          ],
          [
           "Louisiana",
           "Jennings"
          ],
          [
           "Maine",
           "Portland"
          ],
          [
           "Maine",
           "South Portland"
          ],
          [
           "Maine",
           "Brunswick"
          ],
          [
           "Maine",
           "Orono"
          ],
          [
           "Maine",
           "Waterville"
          ],
          [
           "Maine",
           "Augusta"
          ],
          [
           "Maine",
           "Windham"
          ],
          [
           "Maine",
           "Bangor"
          ],
          [
           "Maine",
           "Sanford"
          ],
          [
           "Maine",
           "Lewiston"
          ],
          [
           "Maine",
           "Biddeford"
          ],
          [
           "Maine",
           "Gorham"
          ],
          [
           "Maine",
           "Scarborough"
          ],
          [
           "Maine",
           "Saco"
          ],
          [
           "Maine",
           "Presque Isle"
          ],
          [
           "Maine",
           "Westbrook"
          ],
          [
           "Maine",
           "Auburn"
          ],
          [
           "Maryland",
           "Westminster"
          ],
          [
           "Maryland",
           "Annapolis"
          ],
          [
           "Maryland",
           "Baltimore"
          ],
          [
           "Maryland",
           "Laurel"
          ],
          [
           "Maryland",
           "Cambridge"
          ],
          [
           "Maryland",
           "Greenbelt"
          ],
          [
           "Maryland",
           "Salisbury"
          ],
          [
           "Maryland",
           "Cumberland"
          ],
          [
           "Maryland",
           "Hagerstown"
          ],
          [
           "Maryland",
           "Aberdeen"
          ],
          [
           "Maryland",
           "Frederick"
          ],
          [
           "Maryland",
           "Hyattsville"
          ],
          [
           "Massachusetts",
           "Uxbridge"
          ],
          [
           "Massachusetts",
           "Swampscott"
          ],
          [
           "Massachusetts",
           "Winchester"
          ],
          [
           "Massachusetts",
           "Clinton"
          ],
          [
           "Massachusetts",
           "Fitchburg"
          ],
          [
           "Massachusetts",
           "Methuen"
          ],
          [
           "Massachusetts",
           "Lowell"
          ],
          [
           "Massachusetts",
           "Shrewsbury"
          ],
          [
           "Massachusetts",
           "Westport"
          ],
          [
           "Massachusetts",
           "Grafton"
          ],
          [
           "Massachusetts",
           "Pepperell"
          ],
          [
           "Massachusetts",
           "Hull"
          ],
          [
           "Massachusetts",
           "Marshfield"
          ],
          [
           "Massachusetts",
           "Danvers"
          ],
          [
           "Massachusetts",
           "Reading"
          ],
          [
           "Massachusetts",
           "Somerville"
          ],
          [
           "Massachusetts",
           "Fall River"
          ],
          [
           "Massachusetts",
           "Lexington"
          ],
          [
           "Massachusetts",
           "Easton"
          ],
          [
           "Massachusetts",
           "Milford"
          ],
          [
           "Massachusetts",
           "Belchertown"
          ],
          [
           "Massachusetts",
           "Pembroke"
          ],
          [
           "Massachusetts",
           "Dartmouth"
          ],
          [
           "Massachusetts",
           "Wilbraham"
          ],
          [
           "Massachusetts",
           "Gloucester"
          ],
          [
           "Massachusetts",
           "Bourne"
          ],
          [
           "Massachusetts",
           "Dracut"
          ],
          [
           "Massachusetts",
           "Everett"
          ],
          [
           "Massachusetts",
           "Weymouth"
          ],
          [
           "Massachusetts",
           "Sudbury"
          ],
          [
           "Massachusetts",
           "Dennis"
          ],
          [
           "Massachusetts",
           "Canton"
          ],
          [
           "Massachusetts",
           "Barnstable"
          ],
          [
           "Massachusetts",
           "Concord"
          ],
          [
           "Massachusetts",
           "Northbridge"
          ],
          [
           "Massachusetts",
           "Plymouth"
          ],
          [
           "Massachusetts",
           "Melrose"
          ],
          [
           "Massachusetts",
           "Brookline"
          ],
          [
           "Massachusetts",
           "Wilmington"
          ],
          [
           "Massachusetts",
           "Marblehead"
          ],
          [
           "Massachusetts",
           "Ipswich"
          ],
          [
           "Massachusetts",
           "North Andover"
          ],
          [
           "Massachusetts",
           "Ludlow"
          ],
          [
           "Massachusetts",
           "Bedford"
          ],
          [
           "Massachusetts",
           "Westborough"
          ],
          [
           "Massachusetts",
           "Holliston"
          ],
          [
           "Massachusetts",
           "Scituate"
          ],
          [
           "Massachusetts",
           "Woburn"
          ],
          [
           "Massachusetts",
           "East Longmeadow"
          ],
          [
           "Massachusetts",
           "Northborough"
          ],
          [
           "Massachusetts",
           "Norwood"
          ],
          [
           "Massachusetts",
           "Peabody"
          ],
          [
           "Massachusetts",
           "Bridgewater"
          ],
          [
           "Massachusetts",
           "Framingham"
          ],
          [
           "Massachusetts",
           "New Bedford"
          ],
          [
           "Massachusetts",
           "Bellingham"
          ],
          [
           "Massachusetts",
           "Oxford"
          ],
          [
           "Massachusetts",
           "Medfield"
          ],
          [
           "Massachusetts",
           "Greenfield"
          ],
          [
           "Massachusetts",
           "Dedham"
          ],
          [
           "Massachusetts",
           "Norton"
          ],
          [
           "Massachusetts",
           "Malden"
          ],
          [
           "Massachusetts",
           "Yarmouth"
          ],
          [
           "Massachusetts",
           "Sharon"
          ],
          [
           "Massachusetts",
           "Harwich"
          ],
          [
           "Massachusetts",
           "Needham"
          ],
          [
           "Massachusetts",
           "Gardner"
          ],
          [
           "Massachusetts",
           "Natick"
          ],
          [
           "Massachusetts",
           "Swansea"
          ],
          [
           "Massachusetts",
           "Webster"
          ],
          [
           "Massachusetts",
           "Taunton"
          ],
          [
           "Massachusetts",
           "Athol"
          ],
          [
           "Massachusetts",
           "Medford"
          ],
          [
           "Massachusetts",
           "Wakefield"
          ],
          [
           "Massachusetts",
           "Arlington"
          ],
          [
           "Massachusetts",
           "Pittsfield"
          ],
          [
           "Massachusetts",
           "Boston"
          ],
          [
           "Massachusetts",
           "Lynn"
          ],
          [
           "Massachusetts",
           "Westford"
          ],
          [
           "Massachusetts",
           "Harvard"
          ],
          [
           "Massachusetts",
           "Newton"
          ],
          [
           "Massachusetts",
           "Westwood"
          ],
          [
           "Massachusetts",
           "North Adams"
          ],
          [
           "Massachusetts",
           "Stoughton"
          ],
          [
           "Massachusetts",
           "South Hadley"
          ],
          [
           "Massachusetts",
           "Braintree"
          ],
          [
           "Massachusetts",
           "Marlborough"
          ],
          [
           "Massachusetts",
           "Walpole"
          ],
          [
           "Massachusetts",
           "Hingham"
          ],
          [
           "Massachusetts",
           "Randolph"
          ],
          [
           "Massachusetts",
           "Ashland"
          ],
          [
           "Massachusetts",
           "Leicester"
          ],
          [
           "Massachusetts",
           "Hudson"
          ],
          [
           "Massachusetts",
           "Salem"
          ],
          [
           "Massachusetts",
           "Haverhill"
          ],
          [
           "Massachusetts",
           "Holbrook"
          ],
          [
           "Massachusetts",
           "Sandwich"
          ],
          [
           "Massachusetts",
           "Lawrence"
          ],
          [
           "Massachusetts",
           "Cambridge"
          ],
          [
           "Massachusetts",
           "Weston"
          ],
          [
           "Massachusetts",
           "Westfield"
          ],
          [
           "Massachusetts",
           "Andover"
          ],
          [
           "Massachusetts",
           "East Bridgewater"
          ],
          [
           "Massachusetts",
           "Foxborough"
          ],
          [
           "Massachusetts",
           "North Reading"
          ],
          [
           "Massachusetts",
           "Longmeadow"
          ],
          [
           "Massachusetts",
           "Amesbury"
          ],
          [
           "Massachusetts",
           "Chelmsford"
          ],
          [
           "Massachusetts",
           "Somerset"
          ],
          [
           "Massachusetts",
           "Milton"
          ],
          [
           "Massachusetts",
           "Franklin"
          ],
          [
           "Massachusetts",
           "Saugus"
          ],
          [
           "Massachusetts",
           "Leominster"
          ],
          [
           "Massachusetts",
           "Quincy"
          ],
          [
           "Massachusetts",
           "Maynard"
          ],
          [
           "Massachusetts",
           "Watertown"
          ],
          [
           "Massachusetts",
           "West Springfield"
          ],
          [
           "Massachusetts",
           "Waltham"
          ],
          [
           "Massachusetts",
           "Beverly"
          ],
          [
           "Massachusetts",
           "Belmont"
          ],
          [
           "Massachusetts",
           "Brockton"
          ],
          [
           "Minnesota",
           "Columbia Heights"
          ],
          [
           "Minnesota",
           "Minneapolis"
          ],
          [
           "Minnesota",
           "Cottage Grove"
          ],
          [
           "Minnesota",
           "Shakopee"
          ],
          [
           "Minnesota",
           "Robbinsdale"
          ],
          [
           "Minnesota",
           "Hopkins"
          ],
          [
           "Minnesota",
           "Northfield"
          ],
          [
           "Mississippi",
           "Mc Comb"
          ],
          [
           "Mississippi",
           "Natchez"
          ],
          [
           "Mississippi",
           "Starkville"
          ],
          [
           "Mississippi",
           "Ridgeland"
          ],
          [
           "Mississippi",
           "Grenada"
          ],
          [
           "Mississippi",
           "Greenville"
          ],
          [
           "Mississippi",
           "Pascagoula"
          ],
          [
           "Mississippi",
           "Greenwood"
          ],
          [
           "Mississippi",
           "Jackson"
          ],
          [
           "Mississippi",
           "Gulfport"
          ],
          [
           "Mississippi",
           "Ocean Springs"
          ],
          [
           "Mississippi",
           "Meridian"
          ],
          [
           "Mississippi",
           "Clinton"
          ],
          [
           "Mississippi",
           "Tupelo"
          ],
          [
           "Mississippi",
           "Moss Point"
          ],
          [
           "Mississippi",
           "Hattiesburg"
          ],
          [
           "Mississippi",
           "Vicksburg"
          ],
          [
           "Mississippi",
           "Brandon"
          ],
          [
           "Mississippi",
           "Columbus"
          ],
          [
           "Missouri",
           "Chesterfield"
          ],
          [
           "Missouri",
           "Blue Springs"
          ],
          [
           "Missouri",
           "Clayton"
          ],
          [
           "Missouri",
           "Gladstone"
          ],
          [
           "Missouri",
           "Maryville"
          ],
          [
           "Missouri",
           "Marshall"
          ],
          [
           "Missouri",
           "Ballwin"
          ],
          [
           "Missouri",
           "Richmond Heights"
          ],
          [
           "Missouri",
           "Crestwood"
          ],
          [
           "Missouri",
           "Carthage"
          ],
          [
           "Missouri",
           "Moberly"
          ],
          [
           "Missouri",
           "Independence"
          ],
          [
           "Missouri",
           "Webster Groves"
          ],
          [
           "Missouri",
           "Hannibal"
          ],
          [
           "Missouri",
           "Kennett"
          ],
          [
           "Missouri",
           "Raytown"
          ],
          [
           "Missouri",
           "Joplin"
          ],
          [
           "Missouri",
           "Overland"
          ],
          [
           "Missouri",
           "Belton"
          ],
          [
           "Missouri",
           "Springfield"
          ],
          [
           "Missouri",
           "Jefferson City"
          ],
          [
           "Missouri",
           "Bellefontaine Neighbors"
          ],
          [
           "Missouri",
           "Bridgeton"
          ],
          [
           "Missouri",
           "Sedalia"
          ],
          [
           "Missouri",
           "Warrensburg"
          ],
          [
           "Missouri",
           "Ferguson"
          ],
          [
           "Missouri",
           "Arnold"
          ],
          [
           "Missouri",
           "Grandview"
          ],
          [
           "Missouri",
           "Mexico"
          ],
          [
           "Missouri",
           "Berkeley"
          ],
          [
           "Missouri",
           "Rolla"
          ],
          [
           "Missouri",
           "Florissant"
          ],
          [
           "Missouri",
           "Cape Girardeau"
          ],
          [
           "Missouri",
           "Columbia"
          ],
          [
           "Missouri",
           "Washington"
          ],
          [
           "Missouri",
           "Kansas City"
          ],
          [
           "Missouri",
           "University City"
          ],
          [
           "Missouri",
           "Creve Coeur"
          ],
          [
           "Missouri",
           "Kirkwood"
          ],
          [
           "Missouri",
           "Fulton"
          ],
          [
           "Missouri",
           "Hazelwood"
          ],
          [
           "Missouri",
           "Poplar Bluff"
          ],
          [
           "Nevada",
           "Reno"
          ],
          [
           "Nevada",
           "Boulder City"
          ],
          [
           "Nevada",
           "Henderson"
          ],
          [
           "Nevada",
           "Las Vegas"
          ],
          [
           "Nevada",
           "Sparks"
          ],
          [
           "New Hampshire",
           "Portsmouth"
          ],
          [
           "New Hampshire",
           "Hudson"
          ],
          [
           "New Hampshire",
           "Lebanon"
          ],
          [
           "New Hampshire",
           "Goffstown"
          ],
          [
           "New Hampshire",
           "Londonderry"
          ],
          [
           "New Hampshire",
           "Claremont"
          ],
          [
           "New Hampshire",
           "Exeter"
          ],
          [
           "New Hampshire",
           "Concord"
          ],
          [
           "New Hampshire",
           "Keene"
          ],
          [
           "New Hampshire",
           "Bedford"
          ],
          [
           "New Hampshire",
           "Dover"
          ],
          [
           "New Hampshire",
           "Laconia"
          ],
          [
           "New Hampshire",
           "Derry"
          ],
          [
           "New Hampshire",
           "Milford"
          ],
          [
           "New Hampshire",
           "Merrimack"
          ],
          [
           "New Hampshire",
           "Nashua"
          ],
          [
           "New Hampshire",
           "Salem"
          ],
          [
           "New Hampshire",
           "Somersworth"
          ],
          [
           "New Hampshire",
           "Durham"
          ],
          [
           "New Hampshire",
           "Berlin"
          ],
          [
           "New Hampshire",
           "Manchester"
          ],
          [
           "New Jersey",
           "Dumont"
          ],
          [
           "New Jersey",
           "Marlboro"
          ],
          [
           "New Jersey",
           "Cinnaminson"
          ],
          [
           "New Jersey",
           "Ramsey"
          ],
          [
           "New Jersey",
           "Bergenfield"
          ],
          [
           "New Jersey",
           "Denville"
          ],
          [
           "New Jersey",
           "Palisades Park"
          ],
          [
           "New Jersey",
           "Keansburg"
          ],
          [
           "New Jersey",
           "Ridgefield Park"
          ],
          [
           "New Jersey",
           "Passaic"
          ],
          [
           "New Jersey",
           "Hammonton"
          ],
          [
           "New Jersey",
           "Point Pleasant"
          ],
          [
           "New Jersey",
           "Mount Olive"
          ],
          [
           "New Jersey",
           "Livingston"
          ],
          [
           "New Jersey",
           "West New York"
          ],
          [
           "New Jersey",
           "Totowa"
          ],
          [
           "New Jersey",
           "Woodbridge"
          ],
          [
           "New Jersey",
           "Haddon"
          ],
          [
           "New Jersey",
           "Willingboro"
          ],
          [
           "New Jersey",
           "Rahway"
          ],
          [
           "New Jersey",
           "Red Bank"
          ],
          [
           "New Jersey",
           "Egg Harbor"
          ],
          [
           "New Jersey",
           "Bridgeton"
          ],
          [
           "New Jersey",
           "Jackson"
          ],
          [
           "New Jersey",
           "Weehawken"
          ],
          [
           "New Jersey",
           "Cliffside Park"
          ],
          [
           "New Jersey",
           "Brigantine"
          ],
          [
           "New Jersey",
           "Hillsborough"
          ],
          [
           "New Jersey",
           "Princeton"
          ],
          [
           "New Jersey",
           "Pleasantville"
          ],
          [
           "New Jersey",
           "Tenafly"
          ],
          [
           "New Jersey",
           "Eatontown"
          ],
          [
           "New Jersey",
           "Hopewell"
          ],
          [
           "New Jersey",
           "Vineland"
          ],
          [
           "New Jersey",
           "Lincoln Park"
          ],
          [
           "New Jersey",
           "Berkeley"
          ],
          [
           "New Jersey",
           "Lawrence"
          ],
          [
           "New Jersey",
           "Warren"
          ],
          [
           "New Jersey",
           "Garfield"
          ],
          [
           "New Jersey",
           "Readington"
          ],
          [
           "New Jersey",
           "Hoboken"
          ],
          [
           "New Jersey",
           "Hazlet"
          ],
          [
           "New Jersey",
           "Lakewood"
          ],
          [
           "New Jersey",
           "Ocean City"
          ],
          [
           "New Jersey",
           "Morristown"
          ],
          [
           "New Jersey",
           "Clifton"
          ],
          [
           "New Jersey",
           "New Milford"
          ],
          [
           "New Jersey",
           "Manville"
          ],
          [
           "New Jersey",
           "Lodi"
          ],
          [
           "New Jersey",
           "Little Egg Harbor"
          ],
          [
           "New Jersey",
           "Hawthorne"
          ],
          [
           "New Jersey",
           "Plainsboro"
          ],
          [
           "New Jersey",
           "New Brunswick"
          ],
          [
           "New Jersey",
           "Freehold"
          ],
          [
           "New Jersey",
           "Rockaway"
          ],
          [
           "New Jersey",
           "Summit"
          ],
          [
           "New Jersey",
           "Roselle"
          ],
          [
           "New Jersey",
           "Florence"
          ],
          [
           "New Jersey",
           "Tinton Falls"
          ],
          [
           "New Jersey",
           "Aberdeen"
          ],
          [
           "New Jersey",
           "Vernon"
          ],
          [
           "New Jersey",
           "North Brunswick"
          ],
          [
           "New Jersey",
           "Sparta"
          ],
          [
           "New Jersey",
           "Roxbury"
          ],
          [
           "New Jersey",
           "Pequannock"
          ],
          [
           "New Jersey",
           "Maplewood"
          ],
          [
           "New Jersey",
           "Collingswood"
          ],
          [
           "New Jersey",
           "Metuchen"
          ],
          [
           "New Jersey",
           "Somers Point"
          ],
          [
           "New Jersey",
           "Scotch Plains"
          ],
          [
           "New Jersey",
           "Camden"
          ],
          [
           "New Jersey",
           "Pennsauken"
          ],
          [
           "New Jersey",
           "Winslow"
          ],
          [
           "New Jersey",
           "West Caldwell"
          ],
          [
           "New Jersey",
           "West Windsor"
          ],
          [
           "New Jersey",
           "Brick"
          ],
          [
           "New Jersey",
           "Woodbury"
          ],
          [
           "New Jersey",
           "Medford"
          ],
          [
           "New Jersey",
           "Fort Lee"
          ],
          [
           "New Jersey",
           "Millville"
          ],
          [
           "New Jersey",
           "Paramus"
          ],
          [
           "New Jersey",
           "Mount Holly"
          ],
          [
           "New Jersey",
           "Pompton Lakes"
          ],
          [
           "New Jersey",
           "Middletown"
          ],
          [
           "New Jersey",
           "Fair Lawn"
          ],
          [
           "New Jersey",
           "Hanover"
          ],
          [
           "New Jersey",
           "Haddonfield"
          ],
          [
           "New Jersey",
           "North Bergen"
          ],
          [
           "New Jersey",
           "Wall"
          ],
          [
           "New Jersey",
           "Linden"
          ],
          [
           "New Jersey",
           "Mahwah"
          ],
          [
           "New Jersey",
           "City of Orange"
          ],
          [
           "New Jersey",
           "Wallington"
          ],
          [
           "New Jersey",
           "Montclair"
          ],
          [
           "New Jersey",
           "Hopatcong"
          ],
          [
           "New Jersey",
           "Roselle Park"
          ],
          [
           "New Jersey",
           "Madison"
          ],
          [
           "New Jersey",
           "Perth Amboy"
          ],
          [
           "New Jersey",
           "Evesham"
          ],
          [
           "New Jersey",
           "Randolph"
          ],
          [
           "New Jersey",
           "Old Bridge"
          ],
          [
           "New Jersey",
           "Jefferson"
          ],
          [
           "New Jersey",
           "Hillside"
          ],
          [
           "New Jersey",
           "Ventnor City"
          ],
          [
           "New Jersey",
           "Elmwood Park"
          ],
          [
           "New Jersey",
           "Wyckoff"
          ],
          [
           "New Jersey",
           "South Brunswick"
          ],
          [
           "New Jersey",
           "Paterson"
          ],
          [
           "New Jersey",
           "Lacey"
          ],
          [
           "New Jersey",
           "East Brunswick"
          ],
          [
           "New Jersey",
           "Ringwood"
          ],
          [
           "New Jersey",
           "Deptford"
          ],
          [
           "New Jersey",
           "Newark"
          ],
          [
           "New Jersey",
           "Gloucester City"
          ],
          [
           "New Jersey",
           "Piscataway"
          ],
          [
           "New Jersey",
           "Raritan"
          ],
          [
           "New Jersey",
           "Ewing"
          ],
          [
           "New Jersey",
           "Middletown"
          ],
          [
           "New Jersey",
           "Secaucus"
          ],
          [
           "New Jersey",
           "Kearny"
          ],
          [
           "New Jersey",
           "Lindenwold"
          ],
          [
           "New Jersey",
           "Voorhees"
          ],
          [
           "New Jersey",
           "Millburn"
          ],
          [
           "New Jersey",
           "Teaneck"
          ],
          [
           "New Jersey",
           "Glen Rock"
          ],
          [
           "New Jersey",
           "Springfield"
          ],
          [
           "New Jersey",
           "East Orange"
          ],
          [
           "New Jersey",
           "Delran"
          ],
          [
           "New Jersey",
           "West Milford"
          ],
          [
           "New Jersey",
           "Cranford"
          ],
          [
           "New Jersey",
           "Elizabeth"
          ],
          [
           "New Jersey",
           "Dover"
          ],
          [
           "New Jersey",
           "Bayonne"
          ],
          [
           "New Jersey",
           "Gloucester"
          ],
          [
           "New Jersey",
           "Ocean"
          ],
          [
           "New Jersey",
           "Somerville"
          ],
          [
           "New Jersey",
           "Bridgewater"
          ],
          [
           "New Jersey",
           "Freehold"
          ],
          [
           "New Jersey",
           "Mantua"
          ],
          [
           "New Jersey",
           "Dover"
          ],
          [
           "New Jersey",
           "Mount Laurel"
          ],
          [
           "New Jersey",
           "Galloway"
          ],
          [
           "New Jersey",
           "Fairview"
          ],
          [
           "New Jersey",
           "River Edge"
          ],
          [
           "New Jersey",
           "North Arlington"
          ],
          [
           "New Jersey",
           "Trenton"
          ],
          [
           "New Jersey",
           "Stafford"
          ],
          [
           "New Jersey",
           "Manchester"
          ],
          [
           "New Jersey",
           "Manalapan"
          ],
          [
           "New Jersey",
           "New Providence"
          ],
          [
           "New Jersey",
           "Princeton"
          ],
          [
           "New Jersey",
           "Waterford"
          ],
          [
           "New Jersey",
           "Branchburg"
          ],
          [
           "New Jersey",
           "Bellmawr"
          ],
          [
           "New Jersey",
           "Bloomfield"
          ],
          [
           "New Jersey",
           "Bernards"
          ],
          [
           "New Jersey",
           "Hasbrouck Heights"
          ],
          [
           "New Jersey",
           "Morris"
          ],
          [
           "New Jersey",
           "Pemberton"
          ],
          [
           "New Jersey",
           "Holmdel"
          ],
          [
           "New Jersey",
           "Highland Park"
          ],
          [
           "New Jersey",
           "Rutherford"
          ],
          [
           "New Jersey",
           "Saddle Brook"
          ],
          [
           "New Jersey",
           "Harrison"
          ],
          [
           "New Jersey",
           "Little Falls"
          ],
          [
           "New Jersey",
           "Middlesex"
          ],
          [
           "New Jersey",
           "Maple Shade"
          ],
          [
           "New Jersey",
           "North Plainfield"
          ],
          [
           "New Jersey",
           "Englewood"
          ],
          [
           "New Jersey",
           "Plainfield"
          ],
          [
           "New Jersey",
           "West Deptford"
          ],
          [
           "New Jersey",
           "Neptune"
          ],
          [
           "New Jersey",
           "Union"
          ],
          [
           "New Jersey",
           "Hackensack"
          ],
          [
           "New Jersey",
           "Clark"
          ],
          [
           "New Jersey",
           "Parsippany- Troy Hills"
          ],
          [
           "New Jersey",
           "Phillipsburg"
          ],
          [
           "New Jersey",
           "Verona"
          ],
          [
           "New Jersey",
           "Edison"
          ],
          [
           "New Jersey",
           "Cherry Hill"
          ],
          [
           "New Jersey",
           "South Plainfield"
          ],
          [
           "New Jersey",
           "Montville"
          ],
          [
           "New Jersey",
           "Westwood"
          ],
          [
           "New Jersey",
           "Wayne"
          ],
          [
           "New Jersey",
           "Lower"
          ],
          [
           "New Jersey",
           "Carteret"
          ],
          [
           "New Jersey",
           "Burlington"
          ],
          [
           "New Jersey",
           "Berkeley Heights"
          ],
          [
           "New Jersey",
           "East Windsor"
          ],
          [
           "New Jersey",
           "Jersey City"
          ],
          [
           "New Jersey",
           "Westfield"
          ],
          [
           "New Jersey",
           "Pennsville"
          ],
          [
           "New Jersey",
           "Lyndhurst"
          ],
          [
           "New Jersey",
           "Belleville"
          ],
          [
           "New Jersey",
           "South Orange Village"
          ],
          [
           "New Jersey",
           "Atlantic City"
          ],
          [
           "New Jersey",
           "Irvington"
          ],
          [
           "New Jersey",
           "Long Branch"
          ],
          [
           "New Jersey",
           "Ridgewood"
          ],
          [
           "New Jersey",
           "Nutley"
          ],
          [
           "New Jersey",
           "Sayreville"
          ],
          [
           "New Jersey",
           "Barnegat"
          ],
          [
           "New Jersey",
           "Cedar Grove"
          ],
          [
           "New Jersey",
           "Moorestown"
          ],
          [
           "New Jersey",
           "West Paterson"
          ],
          [
           "New Jersey",
           "Oakland"
          ],
          [
           "New Jersey",
           "Glassboro"
          ],
          [
           "New Jersey",
           "Union City"
          ],
          [
           "New Jersey",
           "South River"
          ],
          [
           "New Jersey",
           "West Orange"
          ],
          [
           "New Jersey",
           "Asbury Park"
          ],
          [
           "New Mexico",
           "Portales"
          ],
          [
           "New Mexico",
           "Roswell"
          ],
          [
           "New Mexico",
           "Farmington"
          ],
          [
           "New Mexico",
           "Alamogordo"
          ],
          [
           "New Mexico",
           "Deming"
          ],
          [
           "New Mexico",
           "Artesia"
          ],
          [
           "New Mexico",
           "Hobbs"
          ],
          [
           "New Mexico",
           "Albuquerque"
          ],
          [
           "New Mexico",
           "Gallup"
          ],
          [
           "New Mexico",
           "Silver City"
          ],
          [
           "New York",
           "Mount Vernon"
          ],
          [
           "New York",
           "Fulton"
          ],
          [
           "New York",
           "Cortland"
          ],
          [
           "New York",
           "Oswego"
          ],
          [
           "New York",
           "Greenburgh"
          ],
          [
           "New York",
           "Auburn"
          ],
          [
           "New York",
           "Schenectady"
          ],
          [
           "New York",
           "Rochester"
          ],
          [
           "New York",
           "Albany"
          ],
          [
           "New York",
           "Binghamton"
          ],
          [
           "New York",
           "Peekskill"
          ],
          [
           "New York",
           "Poughkeepsie"
          ],
          [
           "New York",
           "Niagara Falls"
          ],
          [
           "New York",
           "Beacon"
          ],
          [
           "New York",
           "North Tonawanda"
          ],
          [
           "New York",
           "Lockport"
          ],
          [
           "New York",
           "Gloversville"
          ],
          [
           "New York",
           "White Plains"
          ],
          [
           "New York",
           "New York"
          ],
          [
           "New York",
           "Corning"
          ],
          [
           "New York",
           "Newburgh"
          ],
          [
           "New York",
           "Lackawanna"
          ],
          [
           "New York",
           "Buffalo"
          ],
          [
           "New York",
           "Ithaca"
          ],
          [
           "New York",
           "Glens Falls"
          ],
          [
           "New York",
           "Oneida"
          ],
          [
           "New York",
           "Olean"
          ],
          [
           "New York",
           "Canandaigua"
          ],
          [
           "New York",
           "Amsterdam"
          ],
          [
           "New York",
           "Rye"
          ],
          [
           "New York",
           "Rome"
          ],
          [
           "New York",
           "Goshen"
          ],
          [
           "New York",
           "Rockville Centre"
          ],
          [
           "New York",
           "Middletown"
          ],
          [
           "New York",
           "Long Beach"
          ],
          [
           "New York",
           "Cohoes"
          ],
          [
           "New York",
           "Dunkirk"
          ],
          [
           "New York",
           "Yorktown"
          ],
          [
           "New York",
           "Yonkers"
          ],
          [
           "New York",
           "Oneonta"
          ],
          [
           "New York",
           "Utica"
          ],
          [
           "New York",
           "Geneva"
          ],
          [
           "New York",
           "Syracuse"
          ],
          [
           "New York",
           "Kingston"
          ],
          [
           "New York",
           "Saratoga Springs"
          ],
          [
           "New York",
           "Ogdensburg"
          ],
          [
           "North Carolina",
           "High Point"
          ],
          [
           "North Carolina",
           "Hickory"
          ],
          [
           "North Carolina",
           "Asheboro"
          ],
          [
           "North Carolina",
           "Monroe"
          ],
          [
           "North Carolina",
           "Chapel Hill"
          ],
          [
           "North Carolina",
           "Roanoke Rapids"
          ],
          [
           "North Carolina",
           "Lenoir"
          ],
          [
           "North Carolina",
           "Gastonia"
          ],
          [
           "North Carolina",
           "Havelock"
          ],
          [
           "North Carolina",
           "Laurinburg"
          ],
          [
           "North Carolina",
           "Asheville"
          ],
          [
           "North Carolina",
           "Morganton"
          ],
          [
           "North Carolina",
           "Boone"
          ],
          [
           "North Carolina",
           "Rocky Mount"
          ],
          [
           "North Carolina",
           "Concord"
          ],
          [
           "North Carolina",
           "Kinston"
          ],
          [
           "North Carolina",
           "Goldsboro"
          ],
          [
           "North Carolina",
           "Wilson"
          ],
          [
           "North Carolina",
           "Charlotte"
          ],
          [
           "North Carolina",
           "Lumberton"
          ],
          [
           "North Carolina",
           "Albemarle"
          ],
          [
           "North Carolina",
           "Shelby"
          ],
          [
           "North Carolina",
           "Carrboro"
          ],
          [
           "North Carolina",
           "New Bern"
          ],
          [
           "North Carolina",
           "Reidsville"
          ],
          [
           "North Carolina",
           "Garner"
          ],
          [
           "North Carolina",
           "Sanford"
          ],
          [
           "North Carolina",
           "Kannapolis"
          ],
          [
           "North Carolina",
           "Elizabeth City"
          ],
          [
           "North Carolina",
           "Jacksonville"
          ],
          [
           "North Carolina",
           "Raleigh"
          ],
          [
           "North Carolina",
           "Wilmington"
          ],
          [
           "North Carolina",
           "Salisbury"
          ],
          [
           "North Carolina",
           "Greensboro"
          ],
          [
           "North Carolina",
           "Durham"
          ],
          [
           "North Carolina",
           "Eden"
          ],
          [
           "North Carolina",
           "Tarboro"
          ],
          [
           "North Carolina",
           "Thomasville"
          ],
          [
           "North Carolina",
           "Greenville"
          ],
          [
           "North Carolina",
           "Henderson"
          ],
          [
           "North Carolina",
           "Kernersville"
          ],
          [
           "North Carolina",
           "Burlington"
          ],
          [
           "North Carolina",
           "Fayetteville"
          ],
          [
           "North Carolina",
           "Cary"
          ],
          [
           "North Carolina",
           "Lexington"
          ],
          [
           "North Carolina",
           "Graham"
          ],
          [
           "North Dakota",
           "Dickinson"
          ],
          [
           "North Dakota",
           "Williston"
          ],
          [
           "North Dakota",
           "Fargo"
          ],
          [
           "North Dakota",
           "Grand Forks"
          ],
          [
           "North Dakota",
           "Jamestown"
          ],
          [
           "North Dakota",
           "West Fargo"
          ],
          [
           "North Dakota",
           "Bismarck"
          ],
          [
           "North Dakota",
           "Minot"
          ],
          [
           "Ohio",
           "Lima"
          ],
          [
           "Ohio",
           "Kettering"
          ],
          [
           "Ohio",
           "Poland"
          ],
          [
           "Ohio",
           "Westlake"
          ],
          [
           "Ohio",
           "Cleveland Heights"
          ],
          [
           "Ohio",
           "Newark"
          ],
          [
           "Ohio",
           "Upper Arlington"
          ],
          [
           "Ohio",
           "University Heights"
          ],
          [
           "Ohio",
           "Marion"
          ],
          [
           "Ohio",
           "Stow"
          ],
          [
           "Ohio",
           "Warrensville Heights"
          ],
          [
           "Ohio",
           "Goshen"
          ],
          [
           "Ohio",
           "Strongsville"
          ],
          [
           "Ohio",
           "Dayton"
          ],
          [
           "Ohio",
           "Maumee"
          ],
          [
           "Ohio",
           "Sylvania"
          ],
          [
           "Ohio",
           "Amherst"
          ],
          [
           "Ohio",
           "North Canton"
          ],
          [
           "Ohio",
           "Mentor"
          ],
          [
           "Ohio",
           "Hamilton"
          ],
          [
           "Ohio",
           "Tiffin"
          ],
          [
           "Ohio",
           "Springfield"
          ],
          [
           "Ohio",
           "Massillon"
          ],
          [
           "Ohio",
           "Kent"
          ],
          [
           "Ohio",
           "Steubenville"
          ],
          [
           "Ohio",
           "Athens"
          ],
          [
           "Ohio",
           "Perry"
          ],
          [
           "Ohio",
           "Troy"
          ],
          [
           "Ohio",
           "Piqua"
          ],
          [
           "Ohio",
           "Ashland"
          ],
          [
           "Ohio",
           "Barberton"
          ],
          [
           "Ohio",
           "Bexley"
          ],
          [
           "Ohio",
           "Grove City"
          ],
          [
           "Ohio",
           "Westerville"
          ],
          [
           "Ohio",
           "Englewood"
          ],
          [
           "Ohio",
           "Greenville"
          ],
          [
           "Ohio",
           "Mansfield"
          ],
          [
           "Ohio",
           "Alliance"
          ],
          [
           "Ohio",
           "Forest Park"
          ],
          [
           "Ohio",
           "North Ridgeville"
          ],
          [
           "Ohio",
           "Seven Hills"
          ],
          [
           "Ohio",
           "Springfield"
          ],
          [
           "Ohio",
           "Franklin"
          ],
          [
           "Ohio",
           "Cleveland"
          ],
          [
           "Ohio",
           "Zanesville"
          ],
          [
           "Ohio",
           "Tallmadge"
          ],
          [
           "Ohio",
           "Youngstown"
          ],
          [
           "Ohio",
           "Bedford Heights"
          ],
          [
           "Ohio",
           "Perrysburg"
          ],
          [
           "Ohio",
           "Sylvania"
          ],
          [
           "Ohio",
           "Worthington"
          ],
          [
           "Ohio",
           "Brecksville"
          ],
          [
           "Ohio",
           "Lebanon"
          ],
          [
           "Ohio",
           "Marietta"
          ],
          [
           "Ohio",
           "Madison"
          ],
          [
           "Ohio",
           "Dover"
          ],
          [
           "Ohio",
           "Jackson"
          ],
          [
           "Ohio",
           "Liberty"
          ],
          [
           "Ohio",
           "Wooster"
          ],
          [
           "Ohio",
           "Fremont"
          ],
          [
           "Ohio",
           "Middletown"
          ],
          [
           "Ohio",
           "Cincinnati"
          ],
          [
           "Ohio",
           "Miami"
          ],
          [
           "Ohio",
           "Conneaut"
          ],
          [
           "Ohio",
           "Niles"
          ],
          [
           "Ohio",
           "Fairborn"
          ],
          [
           "Ohio",
           "Hilliard"
          ],
          [
           "Ohio",
           "Shaker Heights"
          ],
          [
           "Ohio",
           "Bucyrus"
          ],
          [
           "Ohio",
           "Portsmouth"
          ],
          [
           "Ohio",
           "Lakewood"
          ],
          [
           "Ohio",
           "Brooklyn"
          ],
          [
           "Ohio",
           "Beavercreek"
          ],
          [
           "Ohio",
           "Urbana"
          ],
          [
           "Ohio",
           "Solon"
          ],
          [
           "Ohio",
           "Garfield Heights"
          ],
          [
           "Ohio",
           "Van Wert"
          ],
          [
           "Ohio",
           "Girard"
          ],
          [
           "Ohio",
           "Xenia"
          ],
          [
           "Ohio",
           "Lorain"
          ],
          [
           "Ohio",
           "Centerville"
          ],
          [
           "Ohio",
           "Huber Heights"
          ],
          [
           "Ohio",
           "New Philadelphia"
          ],
          [
           "Ohio",
           "Norwalk"
          ],
          [
           "Ohio",
           "Toledo"
          ],
          [
           "Ohio",
           "Sandusky"
          ],
          [
           "Ohio",
           "Bellefontaine"
          ],
          [
           "Ohio",
           "Vermilion"
          ],
          [
           "Ohio",
           "Vandalia"
          ],
          [
           "Ohio",
           "Wadsworth"
          ],
          [
           "Ohio",
           "Dublin"
          ],
          [
           "Ohio",
           "Miamisburg"
          ],
          [
           "Ohio",
           "Springdale"
          ],
          [
           "Ohio",
           "Norwood"
          ],
          [
           "Ohio",
           "Sharonville"
          ],
          [
           "Ohio",
           "Delhi"
          ],
          [
           "Ohio",
           "Wickliffe"
          ],
          [
           "Ohio",
           "Mason"
          ],
          [
           "Ohio",
           "Delaware"
          ],
          [
           "Ohio",
           "Canton"
          ],
          [
           "Ohio",
           "Salem"
          ],
          [
           "Ohio",
           "Reading"
          ],
          [
           "Ohio",
           "Wilmington"
          ],
          [
           "Ohio",
           "Oregon"
          ],
          [
           "Ohio",
           "Fairfield"
          ],
          [
           "Ohio",
           "Columbus"
          ],
          [
           "Ohio",
           "Perkins"
          ],
          [
           "Ohio",
           "Chillicothe"
          ],
          [
           "Ohio",
           "Norton"
          ],
          [
           "Oklahoma",
           "Tahlequah"
          ],
          [
           "Oklahoma",
           "Sand Springs"
          ],
          [
           "Oklahoma",
           "Lawton"
          ],
          [
           "Oklahoma",
           "Woodward"
          ],
          [
           "Oklahoma",
           "Ponca City"
          ],
          [
           "Oklahoma",
           "McAlester"
          ],
          [
           "Oklahoma",
           "Duncan"
          ],
          [
           "Oklahoma",
           "Chickasha"
          ],
          [
           "Oklahoma",
           "Tulsa"
          ],
          [
           "Oklahoma",
           "Bartlesville"
          ],
          [
           "Oklahoma",
           "Muskogee"
          ],
          [
           "Oklahoma",
           "Mustang"
          ],
          [
           "Oklahoma",
           "Ardmore"
          ],
          [
           "Oklahoma",
           "Shawnee"
          ],
          [
           "Oklahoma",
           "Bethany"
          ],
          [
           "Oklahoma",
           "El Reno"
          ],
          [
           "Oklahoma",
           "Claremore"
          ],
          [
           "Oklahoma",
           "Sapulpa"
          ],
          [
           "Oklahoma",
           "Norman"
          ],
          [
           "Oklahoma",
           "Moore"
          ],
          [
           "Oklahoma",
           "Midwest City"
          ],
          [
           "Oklahoma",
           "Miami"
          ],
          [
           "Oklahoma",
           "Oklahoma City"
          ],
          [
           "Oklahoma",
           "Durant"
          ],
          [
           "Oklahoma",
           "Enid"
          ],
          [
           "Oklahoma",
           "Yukon"
          ],
          [
           "Oklahoma",
           "Okmulgee"
          ],
          [
           "Oklahoma",
           "The Village"
          ],
          [
           "Oklahoma",
           "Del City"
          ],
          [
           "Oklahoma",
           "Owasso"
          ],
          [
           "Oklahoma",
           "Ada"
          ],
          [
           "Oklahoma",
           "Broken Arrow"
          ],
          [
           "Oklahoma",
           "Edmond"
          ],
          [
           "Oklahoma",
           "Altus"
          ],
          [
           "Oklahoma",
           "Elk City"
          ],
          [
           "Oklahoma",
           "Stillwater"
          ],
          [
           "Oregon",
           "Springfield"
          ],
          [
           "Oregon",
           "Woodburn"
          ],
          [
           "Oregon",
           "Beaverton"
          ],
          [
           "Oregon",
           "Bend"
          ],
          [
           "Oregon",
           "Lebanon"
          ],
          [
           "Oregon",
           "Forest Grove"
          ],
          [
           "Oregon",
           "Gladstone"
          ],
          [
           "Oregon",
           "Hillsboro"
          ],
          [
           "Oregon",
           "Lake Oswego"
          ],
          [
           "Oregon",
           "Salem"
          ],
          [
           "Oregon",
           "La Grande"
          ],
          [
           "Oregon",
           "Klamath Falls"
          ],
          [
           "Oregon",
           "Tigard"
          ],
          [
           "Oregon",
           "Hermiston"
          ],
          [
           "Oregon",
           "Albany"
          ],
          [
           "Oregon",
           "Grants Pass"
          ],
          [
           "Oregon",
           "Medford"
          ],
          [
           "Oregon",
           "Corvallis"
          ],
          [
           "Oregon",
           "Astoria"
          ],
          [
           "Oregon",
           "Milwaukie"
          ],
          [
           "Oregon",
           "Roseburg"
          ],
          [
           "Oregon",
           "West Linn"
          ],
          [
           "Oregon",
           "Coos Bay"
          ],
          [
           "Oregon",
           "Oregon City"
          ],
          [
           "Oregon",
           "Portland"
          ],
          [
           "Oregon",
           "Mc Minnville"
          ],
          [
           "Oregon",
           "Gresham"
          ],
          [
           "Oregon",
           "Keizer"
          ],
          [
           "Oregon",
           "Newberg"
          ],
          [
           "Oregon",
           "Ashland"
          ],
          [
           "Oregon",
           "Eugene"
          ],
          [
           "Pennsylvania",
           "Cumru"
          ],
          [
           "Pennsylvania",
           "Caln"
          ],
          [
           "Pennsylvania",
           "Pittsburgh"
          ],
          [
           "Pennsylvania",
           "Philadelphia"
          ],
          [
           "Pennsylvania",
           "Harrisburg"
          ],
          [
           "Pennsylvania",
           "West Mifflin"
          ],
          [
           "Pennsylvania",
           "Ephrata"
          ],
          [
           "Pennsylvania",
           "Yeadon"
          ],
          [
           "Pennsylvania",
           "Williamsport"
          ],
          [
           "Pennsylvania",
           "Berwick"
          ],
          [
           "Pennsylvania",
           "East Lampeter"
          ],
          [
           "Pennsylvania",
           "South Whitehall"
          ],
          [
           "Pennsylvania",
           "Hampton"
          ],
          [
           "Pennsylvania",
           "Moon"
          ],
          [
           "Pennsylvania",
           "Lower Makefield"
          ],
          [
           "Pennsylvania",
           "Lower Paxton"
          ],
          [
           "Pennsylvania",
           "Lower Salford"
          ],
          [
           "Pennsylvania",
           "Nether Providence"
          ],
          [
           "Pennsylvania",
           "Oil City"
          ],
          [
           "Pennsylvania",
           "Cranberry"
          ],
          [
           "Pennsylvania",
           "West Chester"
          ],
          [
           "Pennsylvania",
           "Bethlehem"
          ],
          [
           "Pennsylvania",
           "Middletown"
          ],
          [
           "Pennsylvania",
           "Kingston"
          ],
          [
           "Pennsylvania",
           "Johnstown"
          ],
          [
           "Pennsylvania",
           "Upper Chichester"
          ],
          [
           "Pennsylvania",
           "Phoenixville"
          ],
          [
           "Pennsylvania",
           "Hampden"
          ],
          [
           "Pennsylvania",
           "Allentown"
          ],
          [
           "Pennsylvania",
           "Montgomery"
          ],
          [
           "Pennsylvania",
           "West Whiteland"
          ],
          [
           "Pennsylvania",
           "Northampton"
          ],
          [
           "Pennsylvania",
           "Butler"
          ],
          [
           "Pennsylvania",
           "Marple"
          ],
          [
           "Pennsylvania",
           "Whitehall"
          ],
          [
           "Pennsylvania",
           "East Norriton"
          ],
          [
           "Pennsylvania",
           "Upper Allen"
          ],
          [
           "Pennsylvania",
           "Brentwood"
          ],
          [
           "Pennsylvania",
           "Richland"
          ],
          [
           "Pennsylvania",
           "Tredyffrin"
          ],
          [
           "Pennsylvania",
           "Altoona"
          ],
          [
           "Pennsylvania",
           "Swatara"
          ],
          [
           "Pennsylvania",
           "Doylestown"
          ],
          [
           "Pennsylvania",
           "Logan"
          ],
          [
           "Pennsylvania",
           "Butler"
          ],
          [
           "Pennsylvania",
           "Center"
          ],
          [
           "Pennsylvania",
           "Towamencin"
          ],
          [
           "Pennsylvania",
           "Spring"
          ],
          [
           "Pennsylvania",
           "Warwick"
          ],
          [
           "Pennsylvania",
           "Erie"
          ],
          [
           "Pennsylvania",
           "Upper Gwynedd"
          ],
          [
           "Pennsylvania",
           "Beaver Falls"
          ],
          [
           "Pennsylvania",
           "West Manchester"
          ],
          [
           "Pennsylvania",
           "Shaler"
          ],
          [
           "Pennsylvania",
           "Chester"
          ],
          [
           "Pennsylvania",
           "Lansdowne"
          ],
          [
           "Pennsylvania",
           "Aston"
          ],
          [
           "Pennsylvania",
           "Wilkinsburg"
          ],
          [
           "Pennsylvania",
           "York"
          ],
          [
           "Pennsylvania",
           "Haverford"
          ],
          [
           "Pennsylvania",
           "Bethel Park"
          ],
          [
           "Pennsylvania",
           "Hanover"
          ],
          [
           "Pennsylvania",
           "Reading"
          ],
          [
           "Pennsylvania",
           "Lancaster"
          ],
          [
           "Pennsylvania",
           "Bensalem"
          ],
          [
           "Pennsylvania",
           "Swissvale"
          ],
          [
           "Pennsylvania",
           "Muhlenberg"
          ],
          [
           "Pennsylvania",
           "Hilltown"
          ],
          [
           "Pennsylvania",
           "North Huntingdon"
          ],
          [
           "Pennsylvania",
           "Bristol"
          ],
          [
           "Pennsylvania",
           "Plains"
          ],
          [
           "Pennsylvania",
           "Manheim"
          ],
          [
           "Pennsylvania",
           "West Hempfield"
          ],
          [
           "Pennsylvania",
           "Peters"
          ],
          [
           "Pennsylvania",
           "Newberry"
          ],
          [
           "Pennsylvania",
           "Scranton"
          ],
          [
           "Pennsylvania",
           "Scott"
          ],
          [
           "Pennsylvania",
           "Stroud"
          ],
          [
           "Pennsylvania",
           "Spring Garden"
          ],
          [
           "Pennsylvania",
           "Dunmore"
          ],
          [
           "Pennsylvania",
           "Coatesville"
          ],
          [
           "Pennsylvania",
           "Lower Moreland"
          ],
          [
           "Pennsylvania",
           "Lebanon"
          ],
          [
           "Pennsylvania",
           "Radnor"
          ],
          [
           "Pennsylvania",
           "Upper Darby"
          ],
          [
           "Pennsylvania",
           "Columbia"
          ],
          [
           "Pennsylvania",
           "Penn"
          ],
          [
           "Pennsylvania",
           "Nanticoke"
          ],
          [
           "Pennsylvania",
           "Emmaus"
          ],
          [
           "Pennsylvania",
           "Warrington"
          ],
          [
           "Pennsylvania",
           "Bethlehem"
          ],
          [
           "Pennsylvania",
           "Pottsville"
          ],
          [
           "Pennsylvania",
           "Lancaster"
          ],
          [
           "Pennsylvania",
           "Rostraver"
          ],
          [
           "Pennsylvania",
           "Carlisle"
          ],
          [
           "Pennsylvania",
           "Whitehall"
          ],
          [
           "Pennsylvania",
           "Falls"
          ],
          [
           "Pennsylvania",
           "Hazleton"
          ],
          [
           "Pennsylvania",
           "Lower Allen"
          ],
          [
           "Pennsylvania",
           "West Goshen"
          ],
          [
           "Pennsylvania",
           "New Castle"
          ],
          [
           "Rhode Island",
           "Lincoln"
          ],
          [
           "Rhode Island",
           "North Providence"
          ],
          [
           "Rhode Island",
           "Coventry"
          ],
          [
           "Rhode Island",
           "Woonsocket"
          ],
          [
           "Rhode Island",
           "South Kingstown"
          ],
          [
           "Rhode Island",
           "Johnston"
          ],
          [
           "Rhode Island",
           "Pawtucket"
          ],
          [
           "Rhode Island",
           "Smithfield"
          ],
          [
           "Rhode Island",
           "Barrington"
          ],
          [
           "Rhode Island",
           "Tiverton"
          ],
          [
           "Rhode Island",
           "Narragansett"
          ],
          [
           "Rhode Island",
           "Newport"
          ],
          [
           "Rhode Island",
           "Warren"
          ],
          [
           "Rhode Island",
           "North Smithfield"
          ],
          [
           "Rhode Island",
           "Cumberland"
          ],
          [
           "Rhode Island",
           "East Greenwich"
          ],
          [
           "Rhode Island",
           "Westerly"
          ],
          [
           "Rhode Island",
           "Bristol"
          ],
          [
           "Rhode Island",
           "Cranston"
          ],
          [
           "Rhode Island",
           "Burrillville"
          ],
          [
           "Rhode Island",
           "Portsmouth"
          ],
          [
           "Rhode Island",
           "Central Falls"
          ],
          [
           "Rhode Island",
           "Warwick"
          ],
          [
           "Rhode Island",
           "Middletown"
          ],
          [
           "Rhode Island",
           "Providence"
          ],
          [
           "Rhode Island",
           "East Providence"
          ],
          [
           "South Carolina",
           "Rock Hill"
          ],
          [
           "South Carolina",
           "Mauldin"
          ],
          [
           "South Carolina",
           "Hanahan"
          ],
          [
           "South Carolina",
           "Easley"
          ],
          [
           "South Carolina",
           "Orangeburg"
          ],
          [
           "South Carolina",
           "Anderson"
          ],
          [
           "South Carolina",
           "Simpsonville"
          ],
          [
           "South Carolina",
           "Gaffney"
          ],
          [
           "South Carolina",
           "Greenwood"
          ],
          [
           "South Carolina",
           "Mount Pleasant"
          ],
          [
           "South Carolina",
           "Charleston"
          ],
          [
           "South Carolina",
           "Summerville"
          ],
          [
           "South Carolina",
           "West Columbia"
          ],
          [
           "South Carolina",
           "North Charleston"
          ],
          [
           "South Carolina",
           "Sumter"
          ],
          [
           "South Carolina",
           "Goose Creek"
          ],
          [
           "South Carolina",
           "Columbia"
          ],
          [
           "South Carolina",
           "Irmo"
          ],
          [
           "South Carolina",
           "Aiken"
          ],
          [
           "South Carolina",
           "Greer"
          ],
          [
           "South Carolina",
           "Florence"
          ],
          [
           "South Carolina",
           "Spartanburg"
          ],
          [
           "South Carolina",
           "North Augusta"
          ],
          [
           "South Carolina",
           "Greenville"
          ],
          [
           "South Carolina",
           "Cayce"
          ],
          [
           "South Carolina",
           "Myrtle Beach"
          ],
          [
           "South Carolina",
           "Newberry"
          ],
          [
           "South Carolina",
           "Clemson"
          ],
          [
           "South Dakota",
           "Vermillion"
          ],
          [
           "South Dakota",
           "Watertown"
          ],
          [
           "South Dakota",
           "Brookings"
          ],
          [
           "South Dakota",
           "Sioux Falls"
          ],
          [
           "South Dakota",
           "Pierre"
          ],
          [
           "South Dakota",
           "Aberdeen"
          ],
          [
           "South Dakota",
           "Yankton"
          ],
          [
           "South Dakota",
           "Mitchell"
          ],
          [
           "South Dakota",
           "Rapid City"
          ],
          [
           "Tennessee",
           "Germantown"
          ],
          [
           "Tennessee",
           "Columbia"
          ],
          [
           "Tennessee",
           "Collierville"
          ],
          [
           "Tennessee",
           "Red Bank"
          ],
          [
           "Tennessee",
           "Shelbyville"
          ],
          [
           "Tennessee",
           "Murfreesboro"
          ],
          [
           "Tennessee",
           "Bartlett"
          ],
          [
           "Tennessee",
           "Jackson"
          ],
          [
           "Tennessee",
           "Cookeville"
          ],
          [
           "Tennessee",
           "Goodlettsville"
          ],
          [
           "Tennessee",
           "Smyrna"
          ],
          [
           "Tennessee",
           "Greeneville"
          ],
          [
           "Tennessee",
           "Memphis"
          ],
          [
           "Tennessee",
           "Union City"
          ],
          [
           "Tennessee",
           "Cleveland"
          ],
          [
           "Tennessee",
           "Morristown"
          ],
          [
           "Tennessee",
           "Hendersonville"
          ],
          [
           "Tennessee",
           "Mc Minnville"
          ],
          [
           "Tennessee",
           "Franklin"
          ],
          [
           "Tennessee",
           "Tullahoma"
          ],
          [
           "Tennessee",
           "Kingsport"
          ],
          [
           "Tennessee",
           "Clarksville"
          ],
          [
           "Tennessee",
           "Chattanooga"
          ],
          [
           "Tennessee",
           "East Ridge"
          ],
          [
           "Tennessee",
           "Dyersburg"
          ],
          [
           "Tennessee",
           "Athens"
          ],
          [
           "Tennessee",
           "Brownsville"
          ],
          [
           "Tennessee",
           "Gallatin"
          ],
          [
           "Tennessee",
           "Maryville"
          ],
          [
           "Tennessee",
           "Brentwood"
          ],
          [
           "Tennessee",
           "Knoxville"
          ],
          [
           "Tennessee",
           "Oak Ridge"
          ],
          [
           "Tennessee",
           "Springfield"
          ],
          [
           "Tennessee",
           "Johnson City"
          ],
          [
           "Tennessee",
           "Millington"
          ],
          [
           "Texas",
           "Edinburg"
          ],
          [
           "Texas",
           "San Antonio"
          ],
          [
           "Texas",
           "Waco"
          ],
          [
           "Texas",
           "Copperas Cove"
          ],
          [
           "Texas",
           "Freeport"
          ],
          [
           "Texas",
           "Robstown"
          ],
          [
           "Texas",
           "Burkburnett"
          ],
          [
           "Texas",
           "Greenville"
          ],
          [
           "Texas",
           "Longview"
          ],
          [
           "Texas",
           "Killeen"
          ],
          [
           "Texas",
           "Rosenberg"
          ],
          [
           "Texas",
           "Keller"
          ],
          [
           "Texas",
           "Lewisville"
          ],
          [
           "Texas",
           "Round Rock"
          ],
          [
           "Texas",
           "Laredo"
          ],
          [
           "Texas",
           "Irving"
          ],
          [
           "Texas",
           "Farmers Branch"
          ],
          [
           "Texas",
           "Port Neches"
          ],
          [
           "Texas",
           "Pearland"
          ],
          [
           "Texas",
           "Nacogdoches"
          ],
          [
           "Texas",
           "Euless"
          ],
          [
           "Texas",
           "Galveston"
          ],
          [
           "Texas",
           "Tyler"
          ],
          [
           "Texas",
           "Canyon"
          ],
          [
           "Texas",
           "Bay City"
          ],
          [
           "Texas",
           "Sugar Land"
          ],
          [
           "Texas",
           "Missouri City"
          ],
          [
           "Texas",
           "Andrews"
          ],
          [
           "Texas",
           "Snyder"
          ],
          [
           "Texas",
           "Alvin"
          ],
          [
           "Texas",
           "Victoria"
          ],
          [
           "Texas",
           "Sulphur Springs"
          ],
          [
           "Texas",
           "Burleson"
          ],
          [
           "Texas",
           "Benbrook"
          ],
          [
           "Texas",
           "Seguin"
          ],
          [
           "Texas",
           "Pharr"
          ],
          [
           "Texas",
           "Marshall"
          ],
          [
           "Texas",
           "Schertz"
          ],
          [
           "Texas",
           "Austin"
          ],
          [
           "Texas",
           "Balch Springs"
          ],
          [
           "Texas",
           "Sweetwater"
          ],
          [
           "Texas",
           "Flower Mound"
          ],
          [
           "Texas",
           "Odessa"
          ],
          [
           "Texas",
           "Mansfield"
          ],
          [
           "Texas",
           "Bellaire"
          ],
          [
           "Texas",
           "Huntsville"
          ],
          [
           "Texas",
           "Mc Allen"
          ],
          [
           "Texas",
           "Vidor"
          ],
          [
           "Texas",
           "Carrollton"
          ],
          [
           "Texas",
           "Conroe"
          ],
          [
           "Texas",
           "Waxahachie"
          ],
          [
           "Texas",
           "Midland"
          ],
          [
           "Texas",
           "Pasadena"
          ],
          [
           "Texas",
           "Dallas"
          ],
          [
           "Texas",
           "Grapevine"
          ],
          [
           "Texas",
           "Cleburne"
          ],
          [
           "Texas",
           "Colleyville"
          ],
          [
           "Texas",
           "University Park"
          ],
          [
           "Texas",
           "Pecos"
          ],
          [
           "Texas",
           "College Station"
          ],
          [
           "Texas",
           "Watauga"
          ],
          [
           "Texas",
           "League City"
          ],
          [
           "Texas",
           "Brownsville"
          ],
          [
           "Texas",
           "Ennis"
          ],
          [
           "Texas",
           "Vernon"
          ],
          [
           "Texas",
           "Uvalde"
          ],
          [
           "Texas",
           "Beaumont"
          ],
          [
           "Texas",
           "Levelland"
          ],
          [
           "Texas",
           "Cedar Hill"
          ],
          [
           "Texas",
           "Lubbock"
          ],
          [
           "Texas",
           "Fort Worth"
          ],
          [
           "Texas",
           "Mesquite"
          ],
          [
           "Texas",
           "Texarkana"
          ],
          [
           "Texas",
           "Georgetown"
          ],
          [
           "Texas",
           "Corsicana"
          ],
          [
           "Texas",
           "Pampa"
          ],
          [
           "Texas",
           "Amarillo"
          ],
          [
           "Texas",
           "Brownwood"
          ],
          [
           "Texas",
           "Bryan"
          ],
          [
           "Texas",
           "Plainview"
          ],
          [
           "Texas",
           "San Marcos"
          ],
          [
           "Texas",
           "Athens"
          ],
          [
           "Texas",
           "Brenham"
          ],
          [
           "Texas",
           "Temple"
          ],
          [
           "Texas",
           "San Juan"
          ],
          [
           "Texas",
           "Del Rio"
          ],
          [
           "Texas",
           "Lamesa"
          ],
          [
           "Texas",
           "Orange"
          ],
          [
           "Texas",
           "Port Lavaca"
          ],
          [
           "Texas",
           "San Angelo"
          ],
          [
           "Texas",
           "Mount Pleasant"
          ],
          [
           "Texas",
           "South Houston"
          ],
          [
           "Texas",
           "Plano"
          ],
          [
           "Texas",
           "Kilgore"
          ],
          [
           "Texas",
           "Groves"
          ],
          [
           "Texas",
           "Live Oak"
          ],
          [
           "Texas",
           "Portland"
          ],
          [
           "Texas",
           "Bedford"
          ],
          [
           "Texas",
           "Duncanville"
          ],
          [
           "Texas",
           "El Campo"
          ],
          [
           "Texas",
           "The Colony"
          ],
          [
           "Texas",
           "Galena Park"
          ],
          [
           "Texas",
           "San Benito"
          ],
          [
           "Texas",
           "La Porte"
          ],
          [
           "Texas",
           "Angleton"
          ],
          [
           "Texas",
           "Mercedes"
          ],
          [
           "Texas",
           "New Braunfels"
          ],
          [
           "Texas",
           "North Richland Hills"
          ],
          [
           "Texas",
           "Baytown"
          ],
          [
           "Texas",
           "Jacksonville"
          ],
          [
           "Texas",
           "Denton"
          ],
          [
           "Texas",
           "Alice"
          ],
          [
           "Texas",
           "Palestine"
          ],
          [
           "Texas",
           "Stephenville"
          ],
          [
           "Texas",
           "Denison"
          ],
          [
           "Texas",
           "Corpus Christi"
          ],
          [
           "Texas",
           "Richardson"
          ],
          [
           "Texas",
           "Hurst"
          ],
          [
           "Texas",
           "La Marque"
          ],
          [
           "Texas",
           "Friendswood"
          ],
          [
           "Texas",
           "Harker Heights"
          ],
          [
           "Texas",
           "Rockwall"
          ],
          [
           "Texas",
           "Beeville"
          ],
          [
           "Texas",
           "Arlington"
          ],
          [
           "Texas",
           "Sherman"
          ],
          [
           "Texas",
           "Taylor"
          ],
          [
           "Texas",
           "Mineral Wells"
          ],
          [
           "Texas",
           "Mc Kinney"
          ],
          [
           "Texas",
           "Eagle Pass"
          ],
          [
           "Texas",
           "Port Arthur"
          ],
          [
           "Texas",
           "Weatherford"
          ],
          [
           "Texas",
           "Lufkin"
          ],
          [
           "Texas",
           "Paris"
          ],
          [
           "Texas",
           "Terrell"
          ],
          [
           "Texas",
           "Mission"
          ],
          [
           "Texas",
           "De Soto"
          ],
          [
           "Texas",
           "Hereford"
          ],
          [
           "Texas",
           "Nederland"
          ],
          [
           "Texas",
           "Rowlett"
          ],
          [
           "Texas",
           "Belton"
          ],
          [
           "Texas",
           "Borger"
          ],
          [
           "Texas",
           "Donna"
          ],
          [
           "Texas",
           "El Paso"
          ],
          [
           "Texas",
           "Lancaster"
          ],
          [
           "Texas",
           "Weslaco"
          ],
          [
           "Texas",
           "White Settlement"
          ],
          [
           "Texas",
           "Harlingen"
          ],
          [
           "Texas",
           "Texas City"
          ],
          [
           "Texas",
           "Gatesville"
          ],
          [
           "Texas",
           "Humble"
          ],
          [
           "Texas",
           "Lake Jackson"
          ],
          [
           "Texas",
           "Kingsville"
          ],
          [
           "Texas",
           "Gainesville"
          ],
          [
           "Texas",
           "Kerrville"
          ],
          [
           "Texas",
           "Deer Park"
          ],
          [
           "Texas",
           "Coppell"
          ],
          [
           "Utah",
           "Springville"
          ],
          [
           "Utah",
           "Provo"
          ],
          [
           "Utah",
           "Clearfield"
          ],
          [
           "Utah",
           "Orem"
          ],
          [
           "Utah",
           "South Jordan"
          ],
          [
           "Utah",
           "Tooele"
          ],
          [
           "Utah",
           "Centerville"
          ],
          [
           "Utah",
           "Sandy"
          ],
          [
           "Utah",
           "South Ogden"
          ],
          [
           "Utah",
           "Cedar City"
          ],
          [
           "Utah",
           "Logan"
          ],
          [
           "Utah",
           "Murray"
          ],
          [
           "Utah",
           "Pleasant Grove"
          ],
          [
           "Utah",
           "Roy"
          ],
          [
           "Utah",
           "Bountiful"
          ],
          [
           "Utah",
           "Brigham City"
          ],
          [
           "Utah",
           "North Ogden"
          ],
          [
           "Utah",
           "Midvale"
          ],
          [
           "Utah",
           "American Fork"
          ],
          [
           "Utah",
           "Spanish Fork"
          ],
          [
           "Utah",
           "West Jordan"
          ],
          [
           "Utah",
           "Ogden"
          ],
          [
           "Utah",
           "Salt Lake City"
          ],
          [
           "Utah",
           "South Salt Lake"
          ],
          [
           "Vermont",
           "Burlington"
          ],
          [
           "Vermont",
           "South Burlington"
          ],
          [
           "Vermont",
           "Rutland"
          ],
          [
           "Vermont",
           "Colchester"
          ],
          [
           "Virginia",
           "Alexandria"
          ],
          [
           "Virginia",
           "Waynesboro"
          ],
          [
           "Virginia",
           "Chesapeake"
          ],
          [
           "Virginia",
           "Salem"
          ],
          [
           "Virginia",
           "Harrisonburg"
          ],
          [
           "Virginia",
           "Richmond"
          ],
          [
           "Virginia",
           "Charlottesville"
          ],
          [
           "Virginia",
           "Portsmouth"
          ],
          [
           "Virginia",
           "Lynchburg"
          ],
          [
           "Virginia",
           "Radford"
          ],
          [
           "Virginia",
           "Hopewell"
          ],
          [
           "Virginia",
           "Roanoke"
          ],
          [
           "Virginia",
           "Staunton"
          ],
          [
           "Virginia",
           "Manassas"
          ],
          [
           "Virginia",
           "Poquoson"
          ],
          [
           "Virginia",
           "Winchester"
          ],
          [
           "Virginia",
           "Martinsville"
          ],
          [
           "Virginia",
           "Front Royal"
          ],
          [
           "Virginia",
           "Blacksburg"
          ],
          [
           "Virginia",
           "Hampton"
          ],
          [
           "Virginia",
           "Herndon"
          ],
          [
           "Virginia",
           "Norfolk"
          ],
          [
           "Virginia",
           "Danville"
          ],
          [
           "Virginia",
           "Williamsburg"
          ],
          [
           "Virginia",
           "Leesburg"
          ],
          [
           "Virginia",
           "Newport News"
          ],
          [
           "Virginia",
           "Fredericksburg"
          ],
          [
           "Virginia",
           "Petersburg"
          ],
          [
           "Virginia",
           "Virginia Beach"
          ],
          [
           "Virginia",
           "Christiansburg"
          ],
          [
           "Virginia",
           "Suffolk"
          ],
          [
           "Virginia",
           "Colonial Heights"
          ],
          [
           "Virginia",
           "Vienna"
          ],
          [
           "Washington",
           "Yakima"
          ],
          [
           "Washington",
           "Renton"
          ],
          [
           "Washington",
           "Kent"
          ],
          [
           "Washington",
           "Walla Walla"
          ],
          [
           "Washington",
           "Tacoma"
          ],
          [
           "Washington",
           "Tukwila"
          ],
          [
           "Washington",
           "Bothell"
          ],
          [
           "Washington",
           "Everett"
          ],
          [
           "Washington",
           "Port Angeles"
          ],
          [
           "Washington",
           "Anacortes"
          ],
          [
           "Washington",
           "Lacey"
          ],
          [
           "Washington",
           "Mount Vernon"
          ],
          [
           "Washington",
           "Moses Lake"
          ],
          [
           "Washington",
           "Bellingham"
          ],
          [
           "Washington",
           "Longview"
          ],
          [
           "Washington",
           "Olympia"
          ],
          [
           "Washington",
           "Puyallup"
          ],
          [
           "Washington",
           "Kennewick"
          ],
          [
           "Washington",
           "Seattle"
          ],
          [
           "Washington",
           "Pullman"
          ],
          [
           "Washington",
           "Redmond"
          ],
          [
           "Washington",
           "Auburn"
          ],
          [
           "Washington",
           "Kirkland"
          ],
          [
           "Washington",
           "Wenatchee"
          ],
          [
           "Washington",
           "Oak Harbor"
          ],
          [
           "Washington",
           "Bremerton"
          ],
          [
           "Washington",
           "Sunnyside"
          ],
          [
           "Washington",
           "Centralia"
          ],
          [
           "Washington",
           "Edmonds"
          ],
          [
           "Washington",
           "Pasco"
          ],
          [
           "Washington",
           "Richland"
          ],
          [
           "Washington",
           "Bellevue"
          ],
          [
           "Washington",
           "Ellensburg"
          ],
          [
           "Washington",
           "Spokane"
          ],
          [
           "Washington",
           "Des Moines"
          ],
          [
           "Washington",
           "Kelso"
          ],
          [
           "Washington",
           "Vancouver"
          ],
          [
           "Washington",
           "Mercer Island"
          ],
          [
           "Washington",
           "Aberdeen"
          ],
          [
           "Washington",
           "Lynnwood"
          ],
          [
           "West Virginia",
           "Fairmont"
          ],
          [
           "West Virginia",
           "Vienna"
          ],
          [
           "West Virginia",
           "Huntington"
          ],
          [
           "West Virginia",
           "Morgantown"
          ],
          [
           "West Virginia",
           "Wheeling"
          ],
          [
           "West Virginia",
           "Charleston"
          ],
          [
           "West Virginia",
           "South Charleston"
          ],
          [
           "West Virginia",
           "Martinsburg"
          ],
          [
           "West Virginia",
           "Weirton"
          ],
          [
           "West Virginia",
           "Bluefield"
          ],
          [
           "West Virginia",
           "Moundsville"
          ],
          [
           "West Virginia",
           "Parkersburg"
          ],
          [
           "West Virginia",
           "Clarksburg"
          ],
          [
           "West Virginia",
           "Beckley"
          ],
          [
           "Wisconsin",
           "Onalaska"
          ],
          [
           "Wisconsin",
           "Oshkosh"
          ],
          [
           "Wisconsin",
           "Brookfield"
          ],
          [
           "Wisconsin",
           "Menasha"
          ],
          [
           "Wisconsin",
           "Muskego"
          ],
          [
           "Wisconsin",
           "Marinette"
          ],
          [
           "Wisconsin",
           "Waukesha"
          ],
          [
           "Wisconsin",
           "Kenosha"
          ],
          [
           "Wisconsin",
           "River Falls"
          ],
          [
           "Wisconsin",
           "Germantown"
          ],
          [
           "Wisconsin",
           "Manitowoc"
          ],
          [
           "Wisconsin",
           "Whitewater"
          ],
          [
           "Wisconsin",
           "Wisconsin Rapids"
          ],
          [
           "Wisconsin",
           "La Crosse"
          ],
          [
           "Wisconsin",
           "Sheboygan"
          ],
          [
           "Wisconsin",
           "Caledonia"
          ],
          [
           "Wisconsin",
           "Marshfield"
          ],
          [
           "Wisconsin",
           "Two Rivers"
          ],
          [
           "Wisconsin",
           "Oconomowoc"
          ],
          [
           "Wisconsin",
           "Oak Creek"
          ],
          [
           "Wisconsin",
           "Monroe"
          ],
          [
           "Wisconsin",
           "Beaver Dam"
          ],
          [
           "Wisconsin",
           "Madison"
          ],
          [
           "Wisconsin",
           "Shorewood"
          ],
          [
           "Wisconsin",
           "Beloit"
          ],
          [
           "Wisconsin",
           "Fitchburg"
          ],
          [
           "Wisconsin",
           "Milwaukee"
          ],
          [
           "Wisconsin",
           "West Allis"
          ],
          [
           "Wisconsin",
           "Kaukauna"
          ],
          [
           "Wisconsin",
           "Green Bay"
          ],
          [
           "Wisconsin",
           "Middleton"
          ],
          [
           "Wisconsin",
           "Glendale"
          ],
          [
           "Wisconsin",
           "Cudahy"
          ],
          [
           "Wisconsin",
           "Sun Prairie"
          ],
          [
           "Wisconsin",
           "Janesville"
          ],
          [
           "Wisconsin",
           "Mequon"
          ],
          [
           "Wisconsin",
           "South Milwaukee"
          ],
          [
           "Wisconsin",
           "Racine"
          ],
          [
           "Wisconsin",
           "Menomonie"
          ],
          [
           "Wisconsin",
           "Greendale"
          ],
          [
           "Wisconsin",
           "Wauwatosa"
          ],
          [
           "Wisconsin",
           "Fond Du Lac"
          ],
          [
           "Wisconsin",
           "Wausau"
          ],
          [
           "Wisconsin",
           "Chippewa Falls"
          ],
          [
           "Wisconsin",
           "Ashwaubenon"
          ],
          [
           "Wisconsin",
           "Neenah"
          ],
          [
           "Wisconsin",
           "Appleton"
          ],
          [
           "Wisconsin",
           "Watertown"
          ],
          [
           "Wisconsin",
           "Stevens Point"
          ],
          [
           "Wisconsin",
           "Fort Atkinson"
          ],
          [
           "Wisconsin",
           "West Bend"
          ],
          [
           "Wisconsin",
           "De Pere"
          ],
          [
           "Wisconsin",
           "Menomonee Falls"
          ],
          [
           "Wisconsin",
           "Mount Pleasant"
          ],
          [
           "Wisconsin",
           "Brown Deer"
          ],
          [
           "Wisconsin",
           "Whitefish Bay"
          ],
          [
           "Wisconsin",
           "Grand Chute"
          ],
          [
           "Wisconsin",
           "Superior"
          ],
          [
           "Wisconsin",
           "Eau Claire"
          ],
          [
           "Wisconsin",
           "New Berlin"
          ],
          [
           "Wyoming",
           "Cheyenne"
          ],
          [
           "Wyoming",
           "Green River"
          ],
          [
           "Wyoming",
           "Sheridan"
          ],
          [
           "Wyoming",
           "Evanston"
          ],
          [
           "Wyoming",
           "Gillette"
          ],
          [
           "Wyoming",
           "Laramie"
          ],
          [
           "Wyoming",
           "Rock Springs"
          ]
         ],
         "hovertemplate": "<b>%{hovertext}</b><br><br>violent_crime_rate=%{marker.color}<br>latitude=%{lat}<br>longitude=%{lon}<br>state=%{customdata[0]}<br>area=%{customdata[1]}<extra></extra>",
         "hovertext": [
          "Alabama",
          "Alabama",
          "Alabama",
          "Alabama",
          "Alabama",
          "Alabama",
          "Alabama",
          "Alabama",
          "Alabama",
          "Alabama",
          "Alabama",
          "Alabama",
          "Alabama",
          "Alabama",
          "Alabama",
          "Alabama",
          "Alabama",
          "Alabama",
          "Alabama",
          "Alabama",
          "Alabama",
          "Alabama",
          "Alabama",
          "Alabama",
          "Alabama",
          "Alabama",
          "Alabama",
          "Alabama",
          "Alabama",
          "Alabama",
          "Alabama",
          "Alabama",
          "Alabama",
          "Alabama",
          "Alabama",
          "Alabama",
          "Alabama",
          "Alabama",
          "Alabama",
          "Alabama",
          "Alabama",
          "Alabama",
          "Alabama",
          "Alaska",
          "Alaska",
          "Alaska",
          "Arizona",
          "Arizona",
          "Arizona",
          "Arizona",
          "Arizona",
          "Arizona",
          "Arizona",
          "Arizona",
          "Arizona",
          "Arizona",
          "Arizona",
          "Arizona",
          "Arizona",
          "Arizona",
          "Arizona",
          "Arizona",
          "Arizona",
          "Arizona",
          "Arizona",
          "Arizona",
          "Arkansas",
          "Arkansas",
          "Arkansas",
          "Arkansas",
          "Arkansas",
          "Arkansas",
          "Arkansas",
          "Arkansas",
          "Arkansas",
          "Arkansas",
          "Arkansas",
          "Arkansas",
          "Arkansas",
          "Arkansas",
          "Arkansas",
          "Arkansas",
          "Arkansas",
          "Arkansas",
          "Arkansas",
          "Arkansas",
          "Arkansas",
          "Arkansas",
          "Arkansas",
          "Arkansas",
          "Arkansas",
          "California",
          "California",
          "California",
          "California",
          "California",
          "California",
          "California",
          "California",
          "California",
          "California",
          "California",
          "California",
          "California",
          "California",
          "California",
          "California",
          "California",
          "California",
          "California",
          "California",
          "California",
          "California",
          "California",
          "California",
          "California",
          "California",
          "California",
          "California",
          "California",
          "California",
          "California",
          "California",
          "California",
          "California",
          "California",
          "California",
          "California",
          "California",
          "California",
          "California",
          "California",
          "California",
          "California",
          "California",
          "California",
          "California",
          "California",
          "California",
          "California",
          "California",
          "California",
          "California",
          "California",
          "California",
          "California",
          "California",
          "California",
          "California",
          "California",
          "California",
          "California",
          "California",
          "California",
          "California",
          "California",
          "California",
          "California",
          "California",
          "California",
          "California",
          "California",
          "California",
          "California",
          "California",
          "California",
          "California",
          "California",
          "California",
          "California",
          "California",
          "California",
          "California",
          "California",
          "California",
          "California",
          "California",
          "California",
          "California",
          "California",
          "California",
          "California",
          "California",
          "California",
          "California",
          "California",
          "California",
          "California",
          "California",
          "California",
          "California",
          "California",
          "California",
          "California",
          "California",
          "California",
          "California",
          "California",
          "California",
          "California",
          "California",
          "California",
          "California",
          "California",
          "California",
          "California",
          "California",
          "California",
          "California",
          "California",
          "California",
          "California",
          "California",
          "California",
          "California",
          "California",
          "California",
          "California",
          "California",
          "California",
          "California",
          "California",
          "California",
          "California",
          "California",
          "California",
          "California",
          "California",
          "California",
          "California",
          "California",
          "California",
          "California",
          "California",
          "California",
          "California",
          "California",
          "California",
          "California",
          "California",
          "California",
          "California",
          "California",
          "California",
          "California",
          "California",
          "California",
          "California",
          "California",
          "California",
          "California",
          "California",
          "California",
          "California",
          "California",
          "California",
          "California",
          "California",
          "California",
          "California",
          "California",
          "California",
          "California",
          "California",
          "California",
          "California",
          "California",
          "California",
          "California",
          "California",
          "California",
          "California",
          "California",
          "California",
          "California",
          "California",
          "California",
          "California",
          "California",
          "California",
          "California",
          "California",
          "California",
          "California",
          "California",
          "California",
          "California",
          "California",
          "California",
          "California",
          "California",
          "California",
          "California",
          "California",
          "California",
          "California",
          "California",
          "California",
          "California",
          "California",
          "California",
          "California",
          "California",
          "California",
          "California",
          "California",
          "California",
          "California",
          "California",
          "California",
          "California",
          "California",
          "California",
          "California",
          "California",
          "California",
          "California",
          "California",
          "California",
          "California",
          "California",
          "California",
          "California",
          "California",
          "California",
          "California",
          "California",
          "California",
          "California",
          "California",
          "California",
          "California",
          "California",
          "California",
          "California",
          "California",
          "California",
          "California",
          "California",
          "California",
          "California",
          "California",
          "California",
          "California",
          "California",
          "California",
          "California",
          "California",
          "California",
          "California",
          "California",
          "California",
          "California",
          "California",
          "California",
          "California",
          "California",
          "California",
          "California",
          "California",
          "California",
          "California",
          "California",
          "California",
          "California",
          "California",
          "California",
          "California",
          "California",
          "Colorado",
          "Colorado",
          "Colorado",
          "Colorado",
          "Colorado",
          "Colorado",
          "Colorado",
          "Colorado",
          "Colorado",
          "Colorado",
          "Colorado",
          "Colorado",
          "Colorado",
          "Colorado",
          "Colorado",
          "Colorado",
          "Colorado",
          "Colorado",
          "Colorado",
          "Colorado",
          "Colorado",
          "Colorado",
          "Colorado",
          "Colorado",
          "Colorado",
          "Connecticut",
          "Connecticut",
          "Connecticut",
          "Connecticut",
          "Connecticut",
          "Connecticut",
          "Connecticut",
          "Connecticut",
          "Connecticut",
          "Connecticut",
          "Connecticut",
          "Connecticut",
          "Connecticut",
          "Connecticut",
          "Connecticut",
          "Connecticut",
          "Connecticut",
          "Connecticut",
          "Connecticut",
          "Connecticut",
          "Connecticut",
          "Connecticut",
          "Connecticut",
          "Connecticut",
          "Connecticut",
          "Connecticut",
          "Connecticut",
          "Connecticut",
          "Connecticut",
          "Connecticut",
          "Connecticut",
          "Connecticut",
          "Connecticut",
          "Connecticut",
          "Connecticut",
          "Connecticut",
          "Connecticut",
          "Connecticut",
          "Connecticut",
          "Connecticut",
          "Connecticut",
          "Connecticut",
          "Connecticut",
          "Connecticut",
          "Connecticut",
          "Connecticut",
          "Connecticut",
          "Connecticut",
          "Connecticut",
          "Connecticut",
          "Connecticut",
          "Connecticut",
          "Connecticut",
          "Connecticut",
          "Connecticut",
          "Connecticut",
          "Connecticut",
          "Connecticut",
          "Connecticut",
          "Connecticut",
          "Connecticut",
          "Connecticut",
          "Connecticut",
          "Connecticut",
          "Connecticut",
          "Connecticut",
          "Connecticut",
          "Connecticut",
          "Connecticut",
          "Delaware",
          "District of Columbia",
          "Florida",
          "Florida",
          "Florida",
          "Florida",
          "Florida",
          "Florida",
          "Florida",
          "Florida",
          "Florida",
          "Florida",
          "Florida",
          "Florida",
          "Florida",
          "Florida",
          "Florida",
          "Florida",
          "Florida",
          "Florida",
          "Florida",
          "Florida",
          "Florida",
          "Florida",
          "Florida",
          "Florida",
          "Florida",
          "Florida",
          "Florida",
          "Florida",
          "Florida",
          "Florida",
          "Florida",
          "Florida",
          "Florida",
          "Florida",
          "Florida",
          "Florida",
          "Florida",
          "Florida",
          "Florida",
          "Florida",
          "Florida",
          "Florida",
          "Florida",
          "Florida",
          "Florida",
          "Florida",
          "Florida",
          "Florida",
          "Florida",
          "Florida",
          "Florida",
          "Florida",
          "Florida",
          "Florida",
          "Florida",
          "Florida",
          "Florida",
          "Florida",
          "Florida",
          "Florida",
          "Florida",
          "Florida",
          "Florida",
          "Florida",
          "Florida",
          "Florida",
          "Florida",
          "Florida",
          "Florida",
          "Florida",
          "Florida",
          "Florida",
          "Florida",
          "Florida",
          "Florida",
          "Florida",
          "Florida",
          "Florida",
          "Florida",
          "Florida",
          "Florida",
          "Florida",
          "Florida",
          "Florida",
          "Florida",
          "Florida",
          "Florida",
          "Florida",
          "Florida",
          "Florida",
          "Georgia",
          "Georgia",
          "Georgia",
          "Georgia",
          "Georgia",
          "Georgia",
          "Georgia",
          "Georgia",
          "Georgia",
          "Georgia",
          "Georgia",
          "Georgia",
          "Georgia",
          "Georgia",
          "Georgia",
          "Georgia",
          "Georgia",
          "Georgia",
          "Georgia",
          "Georgia",
          "Georgia",
          "Georgia",
          "Georgia",
          "Georgia",
          "Georgia",
          "Georgia",
          "Georgia",
          "Georgia",
          "Georgia",
          "Georgia",
          "Georgia",
          "Georgia",
          "Georgia",
          "Georgia",
          "Georgia",
          "Georgia",
          "Georgia",
          "Idaho",
          "Idaho",
          "Idaho",
          "Idaho",
          "Idaho",
          "Idaho",
          "Idaho",
          "Indiana",
          "Indiana",
          "Indiana",
          "Indiana",
          "Indiana",
          "Indiana",
          "Indiana",
          "Indiana",
          "Indiana",
          "Indiana",
          "Indiana",
          "Indiana",
          "Indiana",
          "Indiana",
          "Indiana",
          "Indiana",
          "Indiana",
          "Indiana",
          "Indiana",
          "Indiana",
          "Indiana",
          "Indiana",
          "Indiana",
          "Indiana",
          "Indiana",
          "Indiana",
          "Indiana",
          "Indiana",
          "Indiana",
          "Indiana",
          "Indiana",
          "Indiana",
          "Indiana",
          "Indiana",
          "Indiana",
          "Indiana",
          "Indiana",
          "Indiana",
          "Indiana",
          "Indiana",
          "Indiana",
          "Indiana",
          "Indiana",
          "Indiana",
          "Indiana",
          "Indiana",
          "Indiana",
          "Indiana",
          "Iowa",
          "Iowa",
          "Iowa",
          "Iowa",
          "Iowa",
          "Iowa",
          "Iowa",
          "Iowa",
          "Iowa",
          "Iowa",
          "Iowa",
          "Iowa",
          "Iowa",
          "Iowa",
          "Iowa",
          "Iowa",
          "Iowa",
          "Iowa",
          "Iowa",
          "Iowa",
          "Kansas",
          "Kentucky",
          "Kentucky",
          "Kentucky",
          "Kentucky",
          "Kentucky",
          "Kentucky",
          "Kentucky",
          "Kentucky",
          "Kentucky",
          "Kentucky",
          "Kentucky",
          "Kentucky",
          "Kentucky",
          "Kentucky",
          "Kentucky",
          "Kentucky",
          "Kentucky",
          "Kentucky",
          "Kentucky",
          "Kentucky",
          "Kentucky",
          "Kentucky",
          "Kentucky",
          "Kentucky",
          "Kentucky",
          "Kentucky",
          "Louisiana",
          "Louisiana",
          "Louisiana",
          "Louisiana",
          "Louisiana",
          "Louisiana",
          "Louisiana",
          "Louisiana",
          "Louisiana",
          "Louisiana",
          "Louisiana",
          "Louisiana",
          "Louisiana",
          "Louisiana",
          "Louisiana",
          "Louisiana",
          "Louisiana",
          "Louisiana",
          "Louisiana",
          "Louisiana",
          "Louisiana",
          "Louisiana",
          "Maine",
          "Maine",
          "Maine",
          "Maine",
          "Maine",
          "Maine",
          "Maine",
          "Maine",
          "Maine",
          "Maine",
          "Maine",
          "Maine",
          "Maine",
          "Maine",
          "Maine",
          "Maine",
          "Maine",
          "Maryland",
          "Maryland",
          "Maryland",
          "Maryland",
          "Maryland",
          "Maryland",
          "Maryland",
          "Maryland",
          "Maryland",
          "Maryland",
          "Maryland",
          "Maryland",
          "Massachusetts",
          "Massachusetts",
          "Massachusetts",
          "Massachusetts",
          "Massachusetts",
          "Massachusetts",
          "Massachusetts",
          "Massachusetts",
          "Massachusetts",
          "Massachusetts",
          "Massachusetts",
          "Massachusetts",
          "Massachusetts",
          "Massachusetts",
          "Massachusetts",
          "Massachusetts",
          "Massachusetts",
          "Massachusetts",
          "Massachusetts",
          "Massachusetts",
          "Massachusetts",
          "Massachusetts",
          "Massachusetts",
          "Massachusetts",
          "Massachusetts",
          "Massachusetts",
          "Massachusetts",
          "Massachusetts",
          "Massachusetts",
          "Massachusetts",
          "Massachusetts",
          "Massachusetts",
          "Massachusetts",
          "Massachusetts",
          "Massachusetts",
          "Massachusetts",
          "Massachusetts",
          "Massachusetts",
          "Massachusetts",
          "Massachusetts",
          "Massachusetts",
          "Massachusetts",
          "Massachusetts",
          "Massachusetts",
          "Massachusetts",
          "Massachusetts",
          "Massachusetts",
          "Massachusetts",
          "Massachusetts",
          "Massachusetts",
          "Massachusetts",
          "Massachusetts",
          "Massachusetts",
          "Massachusetts",
          "Massachusetts",
          "Massachusetts",
          "Massachusetts",
          "Massachusetts",
          "Massachusetts",
          "Massachusetts",
          "Massachusetts",
          "Massachusetts",
          "Massachusetts",
          "Massachusetts",
          "Massachusetts",
          "Massachusetts",
          "Massachusetts",
          "Massachusetts",
          "Massachusetts",
          "Massachusetts",
          "Massachusetts",
          "Massachusetts",
          "Massachusetts",
          "Massachusetts",
          "Massachusetts",
          "Massachusetts",
          "Massachusetts",
          "Massachusetts",
          "Massachusetts",
          "Massachusetts",
          "Massachusetts",
          "Massachusetts",
          "Massachusetts",
          "Massachusetts",
          "Massachusetts",
          "Massachusetts",
          "Massachusetts",
          "Massachusetts",
          "Massachusetts",
          "Massachusetts",
          "Massachusetts",
          "Massachusetts",
          "Massachusetts",
          "Massachusetts",
          "Massachusetts",
          "Massachusetts",
          "Massachusetts",
          "Massachusetts",
          "Massachusetts",
          "Massachusetts",
          "Massachusetts",
          "Massachusetts",
          "Massachusetts",
          "Massachusetts",
          "Massachusetts",
          "Massachusetts",
          "Massachusetts",
          "Massachusetts",
          "Massachusetts",
          "Massachusetts",
          "Massachusetts",
          "Massachusetts",
          "Massachusetts",
          "Massachusetts",
          "Massachusetts",
          "Massachusetts",
          "Massachusetts",
          "Massachusetts",
          "Massachusetts",
          "Massachusetts",
          "Massachusetts",
          "Minnesota",
          "Minnesota",
          "Minnesota",
          "Minnesota",
          "Minnesota",
          "Minnesota",
          "Minnesota",
          "Mississippi",
          "Mississippi",
          "Mississippi",
          "Mississippi",
          "Mississippi",
          "Mississippi",
          "Mississippi",
          "Mississippi",
          "Mississippi",
          "Mississippi",
          "Mississippi",
          "Mississippi",
          "Mississippi",
          "Mississippi",
          "Mississippi",
          "Mississippi",
          "Mississippi",
          "Mississippi",
          "Mississippi",
          "Missouri",
          "Missouri",
          "Missouri",
          "Missouri",
          "Missouri",
          "Missouri",
          "Missouri",
          "Missouri",
          "Missouri",
          "Missouri",
          "Missouri",
          "Missouri",
          "Missouri",
          "Missouri",
          "Missouri",
          "Missouri",
          "Missouri",
          "Missouri",
          "Missouri",
          "Missouri",
          "Missouri",
          "Missouri",
          "Missouri",
          "Missouri",
          "Missouri",
          "Missouri",
          "Missouri",
          "Missouri",
          "Missouri",
          "Missouri",
          "Missouri",
          "Missouri",
          "Missouri",
          "Missouri",
          "Missouri",
          "Missouri",
          "Missouri",
          "Missouri",
          "Missouri",
          "Missouri",
          "Missouri",
          "Missouri",
          "Nevada",
          "Nevada",
          "Nevada",
          "Nevada",
          "Nevada",
          "New Hampshire",
          "New Hampshire",
          "New Hampshire",
          "New Hampshire",
          "New Hampshire",
          "New Hampshire",
          "New Hampshire",
          "New Hampshire",
          "New Hampshire",
          "New Hampshire",
          "New Hampshire",
          "New Hampshire",
          "New Hampshire",
          "New Hampshire",
          "New Hampshire",
          "New Hampshire",
          "New Hampshire",
          "New Hampshire",
          "New Hampshire",
          "New Hampshire",
          "New Hampshire",
          "New Jersey",
          "New Jersey",
          "New Jersey",
          "New Jersey",
          "New Jersey",
          "New Jersey",
          "New Jersey",
          "New Jersey",
          "New Jersey",
          "New Jersey",
          "New Jersey",
          "New Jersey",
          "New Jersey",
          "New Jersey",
          "New Jersey",
          "New Jersey",
          "New Jersey",
          "New Jersey",
          "New Jersey",
          "New Jersey",
          "New Jersey",
          "New Jersey",
          "New Jersey",
          "New Jersey",
          "New Jersey",
          "New Jersey",
          "New Jersey",
          "New Jersey",
          "New Jersey",
          "New Jersey",
          "New Jersey",
          "New Jersey",
          "New Jersey",
          "New Jersey",
          "New Jersey",
          "New Jersey",
          "New Jersey",
          "New Jersey",
          "New Jersey",
          "New Jersey",
          "New Jersey",
          "New Jersey",
          "New Jersey",
          "New Jersey",
          "New Jersey",
          "New Jersey",
          "New Jersey",
          "New Jersey",
          "New Jersey",
          "New Jersey",
          "New Jersey",
          "New Jersey",
          "New Jersey",
          "New Jersey",
          "New Jersey",
          "New Jersey",
          "New Jersey",
          "New Jersey",
          "New Jersey",
          "New Jersey",
          "New Jersey",
          "New Jersey",
          "New Jersey",
          "New Jersey",
          "New Jersey",
          "New Jersey",
          "New Jersey",
          "New Jersey",
          "New Jersey",
          "New Jersey",
          "New Jersey",
          "New Jersey",
          "New Jersey",
          "New Jersey",
          "New Jersey",
          "New Jersey",
          "New Jersey",
          "New Jersey",
          "New Jersey",
          "New Jersey",
          "New Jersey",
          "New Jersey",
          "New Jersey",
          "New Jersey",
          "New Jersey",
          "New Jersey",
          "New Jersey",
          "New Jersey",
          "New Jersey",
          "New Jersey",
          "New Jersey",
          "New Jersey",
          "New Jersey",
          "New Jersey",
          "New Jersey",
          "New Jersey",
          "New Jersey",
          "New Jersey",
          "New Jersey",
          "New Jersey",
          "New Jersey",
          "New Jersey",
          "New Jersey",
          "New Jersey",
          "New Jersey",
          "New Jersey",
          "New Jersey",
          "New Jersey",
          "New Jersey",
          "New Jersey",
          "New Jersey",
          "New Jersey",
          "New Jersey",
          "New Jersey",
          "New Jersey",
          "New Jersey",
          "New Jersey",
          "New Jersey",
          "New Jersey",
          "New Jersey",
          "New Jersey",
          "New Jersey",
          "New Jersey",
          "New Jersey",
          "New Jersey",
          "New Jersey",
          "New Jersey",
          "New Jersey",
          "New Jersey",
          "New Jersey",
          "New Jersey",
          "New Jersey",
          "New Jersey",
          "New Jersey",
          "New Jersey",
          "New Jersey",
          "New Jersey",
          "New Jersey",
          "New Jersey",
          "New Jersey",
          "New Jersey",
          "New Jersey",
          "New Jersey",
          "New Jersey",
          "New Jersey",
          "New Jersey",
          "New Jersey",
          "New Jersey",
          "New Jersey",
          "New Jersey",
          "New Jersey",
          "New Jersey",
          "New Jersey",
          "New Jersey",
          "New Jersey",
          "New Jersey",
          "New Jersey",
          "New Jersey",
          "New Jersey",
          "New Jersey",
          "New Jersey",
          "New Jersey",
          "New Jersey",
          "New Jersey",
          "New Jersey",
          "New Jersey",
          "New Jersey",
          "New Jersey",
          "New Jersey",
          "New Jersey",
          "New Jersey",
          "New Jersey",
          "New Jersey",
          "New Jersey",
          "New Jersey",
          "New Jersey",
          "New Jersey",
          "New Jersey",
          "New Jersey",
          "New Jersey",
          "New Jersey",
          "New Jersey",
          "New Jersey",
          "New Jersey",
          "New Jersey",
          "New Jersey",
          "New Jersey",
          "New Jersey",
          "New Jersey",
          "New Jersey",
          "New Jersey",
          "New Jersey",
          "New Jersey",
          "New Jersey",
          "New Jersey",
          "New Jersey",
          "New Jersey",
          "New Jersey",
          "New Jersey",
          "New Jersey",
          "New Jersey",
          "New Jersey",
          "New Jersey",
          "New Jersey",
          "New Jersey",
          "New Jersey",
          "New Jersey",
          "New Jersey",
          "New Jersey",
          "New Jersey",
          "New Jersey",
          "New Mexico",
          "New Mexico",
          "New Mexico",
          "New Mexico",
          "New Mexico",
          "New Mexico",
          "New Mexico",
          "New Mexico",
          "New Mexico",
          "New Mexico",
          "New York",
          "New York",
          "New York",
          "New York",
          "New York",
          "New York",
          "New York",
          "New York",
          "New York",
          "New York",
          "New York",
          "New York",
          "New York",
          "New York",
          "New York",
          "New York",
          "New York",
          "New York",
          "New York",
          "New York",
          "New York",
          "New York",
          "New York",
          "New York",
          "New York",
          "New York",
          "New York",
          "New York",
          "New York",
          "New York",
          "New York",
          "New York",
          "New York",
          "New York",
          "New York",
          "New York",
          "New York",
          "New York",
          "New York",
          "New York",
          "New York",
          "New York",
          "New York",
          "New York",
          "New York",
          "New York",
          "North Carolina",
          "North Carolina",
          "North Carolina",
          "North Carolina",
          "North Carolina",
          "North Carolina",
          "North Carolina",
          "North Carolina",
          "North Carolina",
          "North Carolina",
          "North Carolina",
          "North Carolina",
          "North Carolina",
          "North Carolina",
          "North Carolina",
          "North Carolina",
          "North Carolina",
          "North Carolina",
          "North Carolina",
          "North Carolina",
          "North Carolina",
          "North Carolina",
          "North Carolina",
          "North Carolina",
          "North Carolina",
          "North Carolina",
          "North Carolina",
          "North Carolina",
          "North Carolina",
          "North Carolina",
          "North Carolina",
          "North Carolina",
          "North Carolina",
          "North Carolina",
          "North Carolina",
          "North Carolina",
          "North Carolina",
          "North Carolina",
          "North Carolina",
          "North Carolina",
          "North Carolina",
          "North Carolina",
          "North Carolina",
          "North Carolina",
          "North Carolina",
          "North Carolina",
          "North Dakota",
          "North Dakota",
          "North Dakota",
          "North Dakota",
          "North Dakota",
          "North Dakota",
          "North Dakota",
          "North Dakota",
          "Ohio",
          "Ohio",
          "Ohio",
          "Ohio",
          "Ohio",
          "Ohio",
          "Ohio",
          "Ohio",
          "Ohio",
          "Ohio",
          "Ohio",
          "Ohio",
          "Ohio",
          "Ohio",
          "Ohio",
          "Ohio",
          "Ohio",
          "Ohio",
          "Ohio",
          "Ohio",
          "Ohio",
          "Ohio",
          "Ohio",
          "Ohio",
          "Ohio",
          "Ohio",
          "Ohio",
          "Ohio",
          "Ohio",
          "Ohio",
          "Ohio",
          "Ohio",
          "Ohio",
          "Ohio",
          "Ohio",
          "Ohio",
          "Ohio",
          "Ohio",
          "Ohio",
          "Ohio",
          "Ohio",
          "Ohio",
          "Ohio",
          "Ohio",
          "Ohio",
          "Ohio",
          "Ohio",
          "Ohio",
          "Ohio",
          "Ohio",
          "Ohio",
          "Ohio",
          "Ohio",
          "Ohio",
          "Ohio",
          "Ohio",
          "Ohio",
          "Ohio",
          "Ohio",
          "Ohio",
          "Ohio",
          "Ohio",
          "Ohio",
          "Ohio",
          "Ohio",
          "Ohio",
          "Ohio",
          "Ohio",
          "Ohio",
          "Ohio",
          "Ohio",
          "Ohio",
          "Ohio",
          "Ohio",
          "Ohio",
          "Ohio",
          "Ohio",
          "Ohio",
          "Ohio",
          "Ohio",
          "Ohio",
          "Ohio",
          "Ohio",
          "Ohio",
          "Ohio",
          "Ohio",
          "Ohio",
          "Ohio",
          "Ohio",
          "Ohio",
          "Ohio",
          "Ohio",
          "Ohio",
          "Ohio",
          "Ohio",
          "Ohio",
          "Ohio",
          "Ohio",
          "Ohio",
          "Ohio",
          "Ohio",
          "Ohio",
          "Ohio",
          "Ohio",
          "Ohio",
          "Ohio",
          "Ohio",
          "Ohio",
          "Ohio",
          "Oklahoma",
          "Oklahoma",
          "Oklahoma",
          "Oklahoma",
          "Oklahoma",
          "Oklahoma",
          "Oklahoma",
          "Oklahoma",
          "Oklahoma",
          "Oklahoma",
          "Oklahoma",
          "Oklahoma",
          "Oklahoma",
          "Oklahoma",
          "Oklahoma",
          "Oklahoma",
          "Oklahoma",
          "Oklahoma",
          "Oklahoma",
          "Oklahoma",
          "Oklahoma",
          "Oklahoma",
          "Oklahoma",
          "Oklahoma",
          "Oklahoma",
          "Oklahoma",
          "Oklahoma",
          "Oklahoma",
          "Oklahoma",
          "Oklahoma",
          "Oklahoma",
          "Oklahoma",
          "Oklahoma",
          "Oklahoma",
          "Oklahoma",
          "Oklahoma",
          "Oregon",
          "Oregon",
          "Oregon",
          "Oregon",
          "Oregon",
          "Oregon",
          "Oregon",
          "Oregon",
          "Oregon",
          "Oregon",
          "Oregon",
          "Oregon",
          "Oregon",
          "Oregon",
          "Oregon",
          "Oregon",
          "Oregon",
          "Oregon",
          "Oregon",
          "Oregon",
          "Oregon",
          "Oregon",
          "Oregon",
          "Oregon",
          "Oregon",
          "Oregon",
          "Oregon",
          "Oregon",
          "Oregon",
          "Oregon",
          "Oregon",
          "Pennsylvania",
          "Pennsylvania",
          "Pennsylvania",
          "Pennsylvania",
          "Pennsylvania",
          "Pennsylvania",
          "Pennsylvania",
          "Pennsylvania",
          "Pennsylvania",
          "Pennsylvania",
          "Pennsylvania",
          "Pennsylvania",
          "Pennsylvania",
          "Pennsylvania",
          "Pennsylvania",
          "Pennsylvania",
          "Pennsylvania",
          "Pennsylvania",
          "Pennsylvania",
          "Pennsylvania",
          "Pennsylvania",
          "Pennsylvania",
          "Pennsylvania",
          "Pennsylvania",
          "Pennsylvania",
          "Pennsylvania",
          "Pennsylvania",
          "Pennsylvania",
          "Pennsylvania",
          "Pennsylvania",
          "Pennsylvania",
          "Pennsylvania",
          "Pennsylvania",
          "Pennsylvania",
          "Pennsylvania",
          "Pennsylvania",
          "Pennsylvania",
          "Pennsylvania",
          "Pennsylvania",
          "Pennsylvania",
          "Pennsylvania",
          "Pennsylvania",
          "Pennsylvania",
          "Pennsylvania",
          "Pennsylvania",
          "Pennsylvania",
          "Pennsylvania",
          "Pennsylvania",
          "Pennsylvania",
          "Pennsylvania",
          "Pennsylvania",
          "Pennsylvania",
          "Pennsylvania",
          "Pennsylvania",
          "Pennsylvania",
          "Pennsylvania",
          "Pennsylvania",
          "Pennsylvania",
          "Pennsylvania",
          "Pennsylvania",
          "Pennsylvania",
          "Pennsylvania",
          "Pennsylvania",
          "Pennsylvania",
          "Pennsylvania",
          "Pennsylvania",
          "Pennsylvania",
          "Pennsylvania",
          "Pennsylvania",
          "Pennsylvania",
          "Pennsylvania",
          "Pennsylvania",
          "Pennsylvania",
          "Pennsylvania",
          "Pennsylvania",
          "Pennsylvania",
          "Pennsylvania",
          "Pennsylvania",
          "Pennsylvania",
          "Pennsylvania",
          "Pennsylvania",
          "Pennsylvania",
          "Pennsylvania",
          "Pennsylvania",
          "Pennsylvania",
          "Pennsylvania",
          "Pennsylvania",
          "Pennsylvania",
          "Pennsylvania",
          "Pennsylvania",
          "Pennsylvania",
          "Pennsylvania",
          "Pennsylvania",
          "Pennsylvania",
          "Pennsylvania",
          "Pennsylvania",
          "Pennsylvania",
          "Pennsylvania",
          "Pennsylvania",
          "Pennsylvania",
          "Pennsylvania",
          "Rhode Island",
          "Rhode Island",
          "Rhode Island",
          "Rhode Island",
          "Rhode Island",
          "Rhode Island",
          "Rhode Island",
          "Rhode Island",
          "Rhode Island",
          "Rhode Island",
          "Rhode Island",
          "Rhode Island",
          "Rhode Island",
          "Rhode Island",
          "Rhode Island",
          "Rhode Island",
          "Rhode Island",
          "Rhode Island",
          "Rhode Island",
          "Rhode Island",
          "Rhode Island",
          "Rhode Island",
          "Rhode Island",
          "Rhode Island",
          "Rhode Island",
          "Rhode Island",
          "South Carolina",
          "South Carolina",
          "South Carolina",
          "South Carolina",
          "South Carolina",
          "South Carolina",
          "South Carolina",
          "South Carolina",
          "South Carolina",
          "South Carolina",
          "South Carolina",
          "South Carolina",
          "South Carolina",
          "South Carolina",
          "South Carolina",
          "South Carolina",
          "South Carolina",
          "South Carolina",
          "South Carolina",
          "South Carolina",
          "South Carolina",
          "South Carolina",
          "South Carolina",
          "South Carolina",
          "South Carolina",
          "South Carolina",
          "South Carolina",
          "South Carolina",
          "South Dakota",
          "South Dakota",
          "South Dakota",
          "South Dakota",
          "South Dakota",
          "South Dakota",
          "South Dakota",
          "South Dakota",
          "South Dakota",
          "Tennessee",
          "Tennessee",
          "Tennessee",
          "Tennessee",
          "Tennessee",
          "Tennessee",
          "Tennessee",
          "Tennessee",
          "Tennessee",
          "Tennessee",
          "Tennessee",
          "Tennessee",
          "Tennessee",
          "Tennessee",
          "Tennessee",
          "Tennessee",
          "Tennessee",
          "Tennessee",
          "Tennessee",
          "Tennessee",
          "Tennessee",
          "Tennessee",
          "Tennessee",
          "Tennessee",
          "Tennessee",
          "Tennessee",
          "Tennessee",
          "Tennessee",
          "Tennessee",
          "Tennessee",
          "Tennessee",
          "Tennessee",
          "Tennessee",
          "Tennessee",
          "Tennessee",
          "Texas",
          "Texas",
          "Texas",
          "Texas",
          "Texas",
          "Texas",
          "Texas",
          "Texas",
          "Texas",
          "Texas",
          "Texas",
          "Texas",
          "Texas",
          "Texas",
          "Texas",
          "Texas",
          "Texas",
          "Texas",
          "Texas",
          "Texas",
          "Texas",
          "Texas",
          "Texas",
          "Texas",
          "Texas",
          "Texas",
          "Texas",
          "Texas",
          "Texas",
          "Texas",
          "Texas",
          "Texas",
          "Texas",
          "Texas",
          "Texas",
          "Texas",
          "Texas",
          "Texas",
          "Texas",
          "Texas",
          "Texas",
          "Texas",
          "Texas",
          "Texas",
          "Texas",
          "Texas",
          "Texas",
          "Texas",
          "Texas",
          "Texas",
          "Texas",
          "Texas",
          "Texas",
          "Texas",
          "Texas",
          "Texas",
          "Texas",
          "Texas",
          "Texas",
          "Texas",
          "Texas",
          "Texas",
          "Texas",
          "Texas",
          "Texas",
          "Texas",
          "Texas",
          "Texas",
          "Texas",
          "Texas",
          "Texas",
          "Texas",
          "Texas",
          "Texas",
          "Texas",
          "Texas",
          "Texas",
          "Texas",
          "Texas",
          "Texas",
          "Texas",
          "Texas",
          "Texas",
          "Texas",
          "Texas",
          "Texas",
          "Texas",
          "Texas",
          "Texas",
          "Texas",
          "Texas",
          "Texas",
          "Texas",
          "Texas",
          "Texas",
          "Texas",
          "Texas",
          "Texas",
          "Texas",
          "Texas",
          "Texas",
          "Texas",
          "Texas",
          "Texas",
          "Texas",
          "Texas",
          "Texas",
          "Texas",
          "Texas",
          "Texas",
          "Texas",
          "Texas",
          "Texas",
          "Texas",
          "Texas",
          "Texas",
          "Texas",
          "Texas",
          "Texas",
          "Texas",
          "Texas",
          "Texas",
          "Texas",
          "Texas",
          "Texas",
          "Texas",
          "Texas",
          "Texas",
          "Texas",
          "Texas",
          "Texas",
          "Texas",
          "Texas",
          "Texas",
          "Texas",
          "Texas",
          "Texas",
          "Texas",
          "Texas",
          "Texas",
          "Texas",
          "Texas",
          "Texas",
          "Texas",
          "Texas",
          "Texas",
          "Texas",
          "Texas",
          "Texas",
          "Texas",
          "Texas",
          "Texas",
          "Texas",
          "Texas",
          "Texas",
          "Texas",
          "Utah",
          "Utah",
          "Utah",
          "Utah",
          "Utah",
          "Utah",
          "Utah",
          "Utah",
          "Utah",
          "Utah",
          "Utah",
          "Utah",
          "Utah",
          "Utah",
          "Utah",
          "Utah",
          "Utah",
          "Utah",
          "Utah",
          "Utah",
          "Utah",
          "Utah",
          "Utah",
          "Utah",
          "Vermont",
          "Vermont",
          "Vermont",
          "Vermont",
          "Virginia",
          "Virginia",
          "Virginia",
          "Virginia",
          "Virginia",
          "Virginia",
          "Virginia",
          "Virginia",
          "Virginia",
          "Virginia",
          "Virginia",
          "Virginia",
          "Virginia",
          "Virginia",
          "Virginia",
          "Virginia",
          "Virginia",
          "Virginia",
          "Virginia",
          "Virginia",
          "Virginia",
          "Virginia",
          "Virginia",
          "Virginia",
          "Virginia",
          "Virginia",
          "Virginia",
          "Virginia",
          "Virginia",
          "Virginia",
          "Virginia",
          "Virginia",
          "Virginia",
          "Washington",
          "Washington",
          "Washington",
          "Washington",
          "Washington",
          "Washington",
          "Washington",
          "Washington",
          "Washington",
          "Washington",
          "Washington",
          "Washington",
          "Washington",
          "Washington",
          "Washington",
          "Washington",
          "Washington",
          "Washington",
          "Washington",
          "Washington",
          "Washington",
          "Washington",
          "Washington",
          "Washington",
          "Washington",
          "Washington",
          "Washington",
          "Washington",
          "Washington",
          "Washington",
          "Washington",
          "Washington",
          "Washington",
          "Washington",
          "Washington",
          "Washington",
          "Washington",
          "Washington",
          "Washington",
          "Washington",
          "West Virginia",
          "West Virginia",
          "West Virginia",
          "West Virginia",
          "West Virginia",
          "West Virginia",
          "West Virginia",
          "West Virginia",
          "West Virginia",
          "West Virginia",
          "West Virginia",
          "West Virginia",
          "West Virginia",
          "West Virginia",
          "Wisconsin",
          "Wisconsin",
          "Wisconsin",
          "Wisconsin",
          "Wisconsin",
          "Wisconsin",
          "Wisconsin",
          "Wisconsin",
          "Wisconsin",
          "Wisconsin",
          "Wisconsin",
          "Wisconsin",
          "Wisconsin",
          "Wisconsin",
          "Wisconsin",
          "Wisconsin",
          "Wisconsin",
          "Wisconsin",
          "Wisconsin",
          "Wisconsin",
          "Wisconsin",
          "Wisconsin",
          "Wisconsin",
          "Wisconsin",
          "Wisconsin",
          "Wisconsin",
          "Wisconsin",
          "Wisconsin",
          "Wisconsin",
          "Wisconsin",
          "Wisconsin",
          "Wisconsin",
          "Wisconsin",
          "Wisconsin",
          "Wisconsin",
          "Wisconsin",
          "Wisconsin",
          "Wisconsin",
          "Wisconsin",
          "Wisconsin",
          "Wisconsin",
          "Wisconsin",
          "Wisconsin",
          "Wisconsin",
          "Wisconsin",
          "Wisconsin",
          "Wisconsin",
          "Wisconsin",
          "Wisconsin",
          "Wisconsin",
          "Wisconsin",
          "Wisconsin",
          "Wisconsin",
          "Wisconsin",
          "Wisconsin",
          "Wisconsin",
          "Wisconsin",
          "Wisconsin",
          "Wisconsin",
          "Wisconsin",
          "Wyoming",
          "Wyoming",
          "Wyoming",
          "Wyoming",
          "Wyoming",
          "Wyoming",
          "Wyoming"
         ],
         "lat": [
          34.7650888,
          32.6098566,
          30.6035255,
          33.3503765,
          33.2095614,
          33.4859402,
          32.4078632,
          30.7387998,
          31.8912717,
          34.8045487,
          34.79981,
          33.4717732,
          31.8087678,
          33.1731716,
          32.4709761,
          33.2442813,
          34.729847,
          33.458102999999994,
          32.4240286,
          34.010929,
          33.8312185,
          30.820742,
          34.4435937,
          34.7736807,
          34.1335332,
          32.65232605,
          32.3669656,
          33.6624824,
          34.6240205,
          31.3151708,
          33.4487989,
          32.4640245,
          34.6731323,
          31.2237434,
          33.5019459,
          32.944012,
          33.8069945,
          33.2292976,
          33.5206824,
          34.4442547,
          30.6867339,
          31.4584764,
          33.4017766,
          61.2163129,
          58.3019496,
          64.837845,
          31.3471741,
          32.8795022,
          33.4151005,
          35.1816047,
          33.5386858,
          34.4838502,
          35.1477774,
          34.5399962,
          33.3062031,
          33.4484367,
          31.3402134,
          33.4355977,
          33.4150485,
          33.4942189,
          33.5428006,
          31.5545973,
          33.3527632,
          33.5806115,
          32.2228765,
          33.4255117,
          35.1464797,
          35.2521996,
          36.3456186,
          36.1867442,
          34.2157064,
          35.9288199,
          35.5759086,
          34.5038393,
          33.2115087,
          36.3320197,
          33.4254259,
          35.8272257,
          34.8662005,
          34.7465071,
          35.9018987,
          36.0584021,
          36.3728538,
          35.0081474,
          35.2784173,
          34.5003748,
          35.3784666,
          34.769536,
          34.8150907,
          34.1209292,
          33.2670725,
          37.6624312,
          40.866517,
          37.9621457,
          37.5296593,
          37.6820583,
          37.3688301,
          37.6688205,
          34.1361187,
          37.88687,
          33.7192808,
          38.0171441,
          36.6744117,
          38.7521235,
          37.3790629,
          37.9735346,
          38.545379,
          32.7678288,
          37.6138253,
          33.924831,
          37.5963232,
          34.0686208,
          33.9708782,
          34.0923014,
          34.8957684,
          36.2516475,
          32.6915199,
          33.7085883,
          39.7596061,
          37.226611,
          33.5965685,
          33.9694561,
          37.3477174,
          37.4443293,
          34.1483499,
          34.0286226,
          33.8503463,
          34.0536909,
          37.5164926,
          36.2231079,
          33.8322043,
          33.9480787,
          33.8248235,
          37.130408,
          33.9830688,
          38.4404925,
          34.09751,
          34.8253019,
          34.051522,
          37.598958,
          34.002581,
          37.6535403,
          38.5810606,
          33.1958696,
          37.4519671,
          37.0592253,
          34.1215947,
          33.937517,
          34.0133561,
          34.1998302,
          34.0990733,
          33.4946353,
          40.1784279,
          33.7483311,
          37.1641544,
          37.4946568,
          38.7907339,
          33.870413,
          34.093042,
          36.06523,
          35.120809,
          34.1394513,
          37.7021521,
          37.8225892,
          33.9404441,
          33.894927,
          33.8885217,
          36.6211149,
          34.0877926,
          33.6170092,
          34.0739016,
          37.504936,
          32.6781085,
          37.3228934,
          33.9827043,
          32.7947731,
          39.1404477,
          33.9747806,
          33.8455911,
          34.1362075,
          37.2638324,
          33.9170444,
          33.79410005,
          36.5432837,
          33.4270275,
          33.1216751,
          35.1185869,
          32.6400541,
          37.9357576,
          34.6981064,
          34.1469416,
          33.6633386,
          37.5780965,
          34.1082994,
          37.0065078,
          34.0339031,
          33.8644291,
          34.0854739,
          37.7648021,
          34.1356915,
          36.8524545,
          34.1338751,
          37.8243715,
          33.898917,
          34.0280619,
          37.6090291,
          34.1033192,
          34.0159398,
          37.7385507,
          38.0043667,
          34.3988838,
          33.8708215,
          34.11213,
          33.7746292,
          33.917028,
          34.5793131,
          34.5008311,
          37.8708393,
          35.4894169,
          33.9092802,
          34.1476452,
          36.62593,
          34.0550328,
          37.7790262,
          37.4863239,
          34.9531295,
          32.7174202,
          34.2176371,
          34.3916641,
          33.7578725,
          38.1061979,
          33.7458511,
          32.792,
          34.1705609,
          33.7038145,
          37.81623435,
          34.4221319,
          34.0519548,
          35.6206924,
          34.0553813,
          38.4454641,
          34.5361067,
          34.0211224,
          38.049365,
          38.3565773,
          33.9316066,
          33.6856969,
          37.9154056,
          38.6786109,
          39.7284945,
          33.8901096,
          38.2382474,
          33.9188589,
          33.7872386,
          33.7500378,
          35.3738712,
          34.285558,
          34.6391501,
          34.1477558,
          34.14791,
          33.7494951,
          32.9786566,
          33.86428,
          33.9463456,
          38.1040864,
          38.5804609,
          38.8945939,
          36.5963395,
          37.8044557,
          33.7475203,
          33.9620584,
          33.7810031,
          37.6261715,
          34.1616729,
          34.1812089,
          37.3893889,
          37.5482697,
          34.4263886,
          37.1716264,
          34.2677404,
          33.677474,
          33.7839664,
          37.3361663,
          33.7288179,
          37.9479786,
          37.9020731,
          34.0922335,
          33.8752945,
          37.557252,
          33.7825194,
          34.1976308,
          37.7249296,
          36.098007,
          37.5949316,
          33.8714814,
          37.9577016,
          34.0966764,
          34.28497,
          33.9866807,
          33.8038865,
          33.846404,
          34.1064001,
          37.9060368,
          38.2493581,
          37.4332273,
          34.0676169,
          33.5426975,
          38.9582307,
          34.0775104,
          37.7665947,
          36.3274502,
          33.8036545,
          36.7394421,
          33.77217945,
          38.0138934,
          33.9323307,
          37.4688273,
          37.496904,
          34.3541659,
          38.0049214,
          34.065846,
          37.2333253,
          37.6904826,
          34.1008426,
          33.9255685,
          33.8915985,
          37.5600336,
          34.0537971,
          33.4669721,
          38.3396367,
          34.0194704,
          40.7906871,
          35.3540209,
          40.5863563,
          38.1301968,
          38.0181745,
          34.1066756,
          36.3302284,
          34.0751571,
          33.8825705,
          33.8963593,
          35.7688425,
          38.2325829,
          37.6390972,
          38.2971367,
          34.0696501,
          33.9533546,
          33.1580933,
          36.9092773,
          34.401749499999994,
          39.1501662,
          37.2870626,
          33.7423967,
          37.8771476,
          36.708006,
          39.1457247,
          34.033625,
          36.6900986,
          38.6779591,
          37.9768525,
          33.8358492,
          33.9060971,
          36.5707838,
          33.7690164,
          36.8252277,
          34.1133062,
          33.8690197,
          33.9562003,
          37.8857582,
          39.8005505,
          39.9935959,
          39.9100858,
          39.8083196,
          39.6482059,
          39.063956,
          39.7392364,
          39.7546349,
          39.9403995,
          38.4423644,
          38.8339578,
          40.385549,
          39.977763,
          40.6255415,
          39.7085736,
          40.5508527,
          39.983721,
          37.2395367,
          39.8366528,
          39.613321,
          40.4233142,
          40.1672117,
          38.2544472,
          39.7405111,
          40.0154155,
          41.146763,
          41.8382921,
          41.3325962,
          41.8098209,
          41.7813269,
          41.6720318,
          41.3429922,
          41.358659,
          41.5949942,
          41.5538091,
          41.3223611,
          41.6648216,
          41.7700987,
          41.1414855,
          41.9281305,
          41.7198216,
          41.0534302,
          41.3959287,
          41.3082138,
          41.8525984,
          41.372643,
          41.2756115,
          41.9816944,
          41.2428742,
          41.394817,
          41.6978777,
          41.4989861,
          41.7823216,
          41.2706527,
          41.3359327,
          41.621488,
          41.3943578,
          41.6005435,
          41.5758442,
          41.2889866,
          41.4860186,
          41.0264862,
          41.6711395,
          41.6023196,
          41.2795414,
          41.6062078,
          41.7123218,
          41.6612104,
          41.8759152,
          41.3556187,
          41.1175966,
          41.1953739,
          41.4570418,
          41.2784304,
          41.8489872,
          41.764582,
          41.412387,
          41.826488,
          41.3164856,
          41.8006523,
          41.3275971,
          41.0787079,
          41.3909305,
          41.4825947,
          41.5243537,
          41.2222218,
          41.5381535,
          41.1670412,
          41.7142665,
          41.6764876,
          41.5623178,
          41.1845415,
          41.7620447,
          41.9789387,
          39.158168,
          38.8950368,
          29.6519684,
          29.1871986,
          27.9477595,
          27.3365805,
          26.0031465,
          30.5168639,
          29.2854132,
          26.16715525,
          25.7929198,
          26.4614625,
          26.1223084,
          26.1603626,
          28.8527675,
          26.7050822,
          26.3586885,
          25.8631515,
          28.2441768,
          28.5695186,
          28.0394654,
          26.1666888,
          28.1067315,
          28.5977707,
          26.640628,
          28.0222435,
          24.5625566,
          26.318342,
          28.2918995,
          27.8428025,
          29.0258132,
          28.8117345,
          26.8237944,
          30.1600827,
          29.10162805,
          28.3194741,
          29.2108147,
          26.8233946,
          26.1403635,
          26.5256179,
          29.6487882,
          27.9094665,
          27.9946969,
          26.1275862,
          28.0197404,
          26.0112014,
          26.9297836,
          28.6702526,
          28.148082950000003,
          28.3201553,
          27.6387163,
          29.0283213,
          28.7008496,
          25.7076017,
          26.1421976,
          26.217305,
          28.5421109,
          27.8851866,
          28.6714702,
          28.01633,
          28.106471,
          25.72149,
          27.4467056,
          30.4380832,
          25.9812025,
          25.9873137,
          26.615891,
          26.2128609,
          30.1894252,
          27.7483613,
          26.275636,
          30.3321838,
          27.9658533,
          26.2378597,
          25.7741728,
          25.8223198,
          26.271192,
          27.0999188,
          27.9908529,
          28.0352964,
          25.4718946,
          27.197983,
          27.816415,
          28.810823,
          29.1658158,
          26.1723065,
          26.0628665,
          26.0543154,
          26.2445263,
          26.6059432,
          28.9888754,
          25.8900949,
          32.5404447,
          30.8736613,
          31.4549719,
          32.4610708,
          33.5801103,
          33.3967829,
          32.0723862,
          34.2978794,
          34.257038,
          32.0564572,
          33.6795531,
          31.5782062,
          30.8327022,
          34.1652304,
          33.039291,
          32.6200973,
          33.857328,
          33.6534427,
          34.7691867,
          33.9528472,
          34.0709576,
          33.6220542,
          33.4709714,
          33.5966005,
          30.9038252,
          33.7489924,
          33.6995565,
          32.4490141,
          33.9566391,
          32.8406946,
          31.179998,
          31.1499528,
          34.02332,
          33.883887,
          30.8365815,
          31.8477347,
          31.2135511,
          43.4887907,
          46.4195913,
          42.8620287,
          46.7323875,
          43.8235163,
          42.5704456,
          43.6678736,
          41.4169806,
          40.0455918,
          38.8400395,
          41.0321808,
          39.7855096,
          40.1053196,
          41.6833813,
          39.7042123,
          41.6397857,
          40.7545006,
          41.4789246,
          41.5833658,
          41.0799898,
          39.8286897,
          41.6020962,
          40.8008286,
          39.7683331,
          40.8065352,
          41.534507,
          39.9788017,
          41.5536529,
          40.0401991,
          39.4278253,
          41.6105983,
          38.2856247,
          39.1670396,
          41.4828144,
          38.2967791,
          39.6411589,
          41.5322592,
          39.6136578,
          40.4167022,
          39.7881233,
          41.2381017,
          41.4730948,
          39.7221906,
          41.4942021,
          41.7075394,
          39.9289351,
          41.6012796,
          38.8611619,
          41.5750369,
          37.9747645,
          40.4864444,
          41.5758708,
          39.4667025,
          38.6772691,
          41.5644798,
          41.5910323,
          43.1415519,
          43.1524574,
          41.3604966,
          41.5235808,
          42.5006243,
          42.5044017,
          41.2951037,
          41.6997139,
          42.498275,
          42.4966815,
          41.7320796,
          41.5253792,
          42.0267567,
          41.5644476,
          42.048881,
          42.5361805,
          42.0171798,
          41.6274511,
          40.6311415,
          37.6922361,
          36.8657651,
          39.0889469,
          39.0786242,
          37.0920222,
          38.2000701,
          38.9431183,
          37.6456488,
          38.4784144,
          37.7742152,
          37.990079,
          36.6103334,
          38.2097967,
          36.9903199,
          38.9989499,
          37.693952,
          37.76721,
          37.3280037,
          38.2542376,
          39.0167275,
          38.1942356,
          36.995906,
          37.8403456,
          37.8806341,
          37.0833893,
          39.0836224,
          38.2009055,
          32.5184775,
          30.2751945,
          31.2909782,
          32.5232053,
          29.9759983,
          31.3224044,
          29.9942265,
          31.7606732,
          30.4943669,
          30.0035365,
          30.2140928,
          30.2072293,
          32.5102427,
          29.5957696,
          32.5369356,
          30.2043259,
          32.4707862,
          29.9146493,
          29.9060388,
          30.4507936,
          30.7910204,
          30.2224284,
          43.6610277,
          43.6414716,
          43.9145244,
          44.883607,
          44.5520105,
          44.310545,
          43.7894155,
          44.8011821,
          43.438878,
          44.100351,
          43.4925843,
          43.71559405,
          43.5909038,
          43.5009176,
          46.6832082,
          43.6763036,
          44.0978509,
          39.5752639,
          38.9786401,
          39.2908816,
          39.1044123,
          38.5714624,
          39.004607,
          38.366027,
          39.6526498,
          39.6430455,
          39.5120347,
          39.415779,
          38.9529442,
          42.0558065,
          42.4699241,
          42.4523178,
          42.4141495,
          42.5903661,
          42.7262016,
          42.6414437,
          42.283828,
          41.6220399,
          42.2121887,
          42.6697695,
          42.3020436,
          42.091769,
          42.566751,
          42.5256502,
          42.3875968,
          41.7010642,
          42.4473175,
          42.0245442,
          42.1413353,
          42.2846395,
          42.0714907,
          41.6332267,
          42.1227601,
          42.6159286,
          41.7412166,
          42.6818928,
          42.40843,
          42.2212188,
          42.3834278,
          41.7353872,
          42.1584324,
          41.6718684,
          42.4605189,
          42.1324443,
          41.9426657,
          42.4564323,
          42.3317642,
          42.5464828,
          42.500096,
          42.679273,
          42.6839894,
          42.1589979,
          42.4917301,
          42.2694308,
          42.2000966,
          42.1939754,
          42.4792618,
          42.064906,
          42.3196015,
          42.194543,
          42.5278731,
          41.9903787,
          42.3095704,
          41.6362152,
          42.0869493,
          42.1336307,
          42.1865609,
          42.5876342,
          42.2489143,
          41.9667666,
          42.4250964,
          41.7056656,
          42.1237328,
          41.6862224,
          42.2802645,
          42.5823564,
          42.2836393,
          41.7481575,
          42.0501373,
          41.8946107,
          42.5797194,
          42.4184296,
          42.506484,
          42.4153739,
          42.451302,
          42.3554334,
          42.466763,
          42.5792583,
          42.36790855,
          42.3370414,
          42.2139873,
          42.6990321,
          42.1252079,
          42.2495463,
          42.2205956,
          42.3459271,
          42.1417653,
          42.2417669,
          42.1618005,
          42.2606614,
          42.2368772,
          42.3913088,
          42.5195292,
          42.7777829,
          42.1552232,
          41.7579043,
          42.7070354,
          42.3750997,
          42.3667625,
          42.1390327,
          42.65717,
          42.0334341,
          42.0653768,
          42.5750939,
          42.0504498,
          42.8579536,
          42.596876,
          41.7695463,
          42.2501425,
          42.5896205,
          42.4648183,
          42.5267443,
          42.2509914,
          42.4321064,
          42.3709299,
          42.105237,
          42.3756401,
          42.5584284,
          42.3959296,
          42.0834335,
          45.0460458,
          44.9772995,
          44.8277446,
          44.7980186,
          45.0313156,
          44.9271194,
          44.4582041,
          31.2220381,
          31.5604076,
          33.4503998,
          32.4284761,
          33.772401,
          33.4000633,
          30.3646795,
          33.5162315,
          32.3086744,
          30.3674198,
          30.4112904,
          32.3643098,
          32.3410552,
          34.2576067,
          30.4115881,
          31.3271189,
          32.3528055,
          32.2731475,
          33.4956744,
          38.661953,
          39.017316,
          38.6504352,
          39.2214765,
          40.3460468,
          39.1230777,
          38.5961694,
          38.6282707,
          38.55881599999999,
          37.1765141,
          39.4201137,
          39.0924792,
          38.592339,
          39.7082498,
          36.2381082,
          39.0089226,
          37.0841838,
          38.7011626,
          38.8108097,
          37.1968298,
          38.577359,
          38.7403281,
          38.7566055,
          38.7098314,
          38.7624373,
          38.744707,
          38.4226711,
          38.8898478,
          39.1697626,
          38.7544952,
          37.9509324,
          38.7919683,
          37.3034933,
          38.951883,
          37.9559513,
          39.100105,
          38.6569083,
          38.6613007,
          38.5800713,
          38.8467082,
          38.7761446,
          36.7568327,
          39.5261206,
          35.9787638,
          36.0301134,
          36.1672559,
          39.5404679,
          43.0702223,
          42.7654433,
          43.643032,
          43.020445,
          42.8650869,
          43.377105,
          42.981477,
          43.207178,
          42.933597,
          42.9464737,
          43.1981117,
          43.5278546,
          42.8808677,
          42.8355775,
          43.3260376,
          42.7656251,
          42.7884226,
          43.2625585,
          43.134564,
          44.4688795,
          42.9956397,
          40.9406541,
          39.9028913,
          40.0166151,
          41.0573188,
          40.9275987,
          40.8922694,
          40.8481556,
          40.4417743,
          40.8570442,
          40.8690641,
          39.6365056,
          40.0831714,
          40.8462026,
          40.7959335,
          40.7856117,
          40.9050988,
          40.55418,
          39.8976132,
          40.0278894,
          40.6081591,
          40.3470543,
          39.3820672,
          39.427337,
          39.7765048,
          40.7695457,
          40.8214894,
          39.4101171,
          40.5052296,
          40.3492744,
          39.3898388,
          40.9253766,
          40.2962222,
          40.3892726,
          39.4862777,
          40.9242652,
          40.6834349,
          40.923798,
          40.8602222,
          40.8814882,
          40.5687141,
          40.7433066,
          40.4292165,
          40.092024,
          39.2776156,
          40.7970382,
          40.8584328,
          40.9350986,
          40.5410075,
          40.8823215,
          39.57998605,
          40.9492649,
          40.3334409,
          40.4862174,
          40.2601096,
          40.9012101,
          40.7182356,
          40.6503925,
          39.7342825,
          40.2890734,
          40.4071138,
          39.8973938,
          40.4539249,
          41.05526675,
          39.978734,
          40.9600102,
          40.7312123,
          39.9181686,
          40.5431598,
          39.3176158,
          40.65538,
          39.9448402,
          39.9562238,
          39.6573385,
          40.8409329,
          40.2971798,
          40.4015814,
          39.8381691,
          39.9009472,
          40.8509333,
          39.4020593,
          40.9452911,
          39.9928898,
          41.0053753,
          40.3898188,
          40.9397796,
          40.8174216,
          39.8915022,
          40.8042674,
          40.1743052,
          40.6220478,
          41.0887072,
          40.7706562,
          40.8531553,
          40.8164458,
          40.9332051,
          40.6645469,
          40.7598227,
          40.5200187,
          39.851752,
          40.844265,
          40.3913195,
          40.28538615,
          40.701213,
          39.3405045,
          40.9074237,
          41.0095417,
          40.3818728,
          40.9167654,
          39.8726184,
          40.4278841,
          41.113429,
          39.8271755,
          40.735657,
          39.8918622,
          40.5462553,
          40.567181,
          40.2688105,
          40.3898188,
          40.7899291,
          40.7684342,
          39.81811999999999,
          39.8512162,
          40.7244443,
          40.8860164,
          40.9628758,
          40.70972275,
          40.767323,
          40.0179845,
          41.1312069,
          40.6584358,
          40.6639916,
          40.883988,
          40.6687141,
          39.7267303,
          39.977818,
          40.5742696,
          40.5598127,
          40.2601096,
          39.7940026,
          40.883988,
          39.934002,
          40.3692104,
          40.8126006,
          40.9287098,
          40.788434,
          40.2205944,
          39.7114651,
          39.9734957,
          40.2852895,
          40.6984348,
          40.3492744,
          40.41575205,
          40.5688245,
          39.8676134,
          40.806767,
          40.676207,
          40.8579293,
          40.70972275,
          39.9720138,
          40.3451095,
          40.4959379,
          40.826489,
          40.898988,
          40.7464901,
          40.8689882,
          40.596106,
          39.9526127,
          40.6301025,
          40.8928771,
          40.6337136,
          39.839562,
          39.2194377,
          40.70972275,
          40.8871438,
          40.6233995,
          40.8646542,
          40.6937099,
          40.829822,
          40.518157,
          39.9348351,
          40.5792701,
          40.9148209,
          40.9912087,
          40.9491723,
          38.9739,
          40.596106,
          40.0192445,
          40.6834349,
          40.2682199,
          40.7215682,
          40.6589912,
          39.6502715,
          40.8120247,
          40.7937116,
          40.7451082,
          39.3642852,
          40.7323235,
          40.3042778,
          40.9796683,
          40.8223223,
          40.4635362,
          39.7557459,
          40.8517662,
          39.9670569,
          40.8893288,
          41.0220483,
          39.7027677,
          40.7795455,
          40.446495,
          40.7987113,
          40.2203907,
          34.1861922,
          33.3943282,
          36.7291152,
          32.9046474,
          32.2627416,
          32.8423345,
          32.707667,
          35.21287095,
          35.5283506,
          32.7751371,
          40.9125085,
          40.8993991,
          42.5842136,
          43.4112973,
          41.0461704,
          42.9320202,
          42.8142432,
          43.157285,
          41.7764631,
          42.0987125,
          41.289811,
          41.7065539,
          43.08436,
          41.504879,
          43.0407742,
          43.28243305,
          43.0508945,
          41.0339862,
          40.7127281,
          42.1435257,
          41.5034271,
          41.4447133,
          42.8867166,
          42.4396039,
          43.309941,
          43.2144051,
          42.0774779,
          42.850682,
          40.76639995,
          40.9913216,
          43.2128,
          41.4020382,
          40.6574186,
          40.8397222,
          40.5885508,
          42.7742446,
          42.4636881,
          41.2956496,
          40.9312099,
          42.453492,
          43.1009031,
          42.8690271,
          43.0481221,
          41.9287812,
          43.0821793,
          44.694285,
          35.9556924,
          35.7333312,
          35.7079146,
          34.9854275,
          35.9131542,
          36.4610756,
          35.2590371,
          35.2622654,
          34.8785,
          34.7740495,
          35.6009498,
          35.7454291,
          36.2165362,
          35.9423833,
          35.4094178,
          35.2626635,
          35.3848841,
          35.7059114,
          35.2272086,
          34.6183433,
          35.3501426,
          35.2923513,
          35.9099875,
          35.1084931,
          36.3548586,
          35.7112642,
          35.4798757,
          35.4874708,
          36.2956836,
          34.7494749,
          35.7803977,
          34.2257282,
          35.6709727,
          36.0726355,
          35.996653,
          36.4884715,
          35.8968236,
          35.8831786,
          35.613224,
          35.3389062,
          36.1198589,
          36.0956918,
          35.0525759,
          35.7882893,
          35.8240265,
          35.359542,
          46.8791756,
          48.1465457,
          46.877229,
          47.9078244,
          46.910544,
          46.874967,
          46.808327,
          48.23251,
          40.7399785,
          39.6895036,
          41.024226,
          41.4553232,
          41.5200518,
          40.0581205,
          39.9945084,
          41.497831,
          40.5885271,
          41.1596261,
          41.43535,
          39.2318998,
          41.3144733,
          39.7589478,
          41.5628294,
          41.7189392,
          41.3978217,
          40.875891,
          41.6664781,
          39.2085354,
          41.114485,
          39.9234046,
          40.7965119,
          41.1536674,
          40.3697905,
          39.355589,
          39.6370289,
          40.0394982,
          40.1447732,
          40.7887367,
          41.012833,
          39.9692378,
          39.8814519,
          40.126139,
          39.8775553,
          40.1023909,
          40.75839,
          40.9153362,
          39.2903353,
          41.3894905,
          41.3953304,
          39.9234046,
          39.5589474,
          41.4996574,
          39.9403453,
          41.1014616,
          41.1035786,
          41.4143826,
          41.5571178,
          41.7189392,
          40.0930945,
          41.3197763,
          39.4353373,
          39.4167742,
          39.8868227,
          40.5213381,
          39.0131871,
          39.7200573,
          40.7980976,
          41.3473413,
          39.5150576,
          39.1014537,
          40.0580258,
          41.9440977,
          41.1828353,
          39.8208998,
          40.033814,
          41.4739419,
          40.8083909,
          38.7316375,
          41.4819932,
          41.439754,
          39.7092262,
          40.1083912,
          41.3897764,
          41.4169974,
          40.8014651,
          41.153947,
          39.6847822,
          41.4673238,
          39.6283928,
          39.85902405,
          40.4897871,
          41.2424219,
          41.6529143,
          41.2951563,
          40.3611643,
          41.4219889,
          39.8906122,
          41.0256101,
          40.0992294,
          39.6428362,
          39.287002,
          39.1556149,
          39.2681145,
          39.0950595,
          41.605327,
          39.3600586,
          40.2317686,
          40.7985464,
          40.9008923,
          39.2236694,
          39.4453393,
          41.6436603,
          39.7886111,
          39.9622601,
          39.97974235,
          39.3331197,
          41.0292217,
          35.91537,
          36.1394339,
          34.6086854,
          36.374499,
          36.703647,
          34.9334981,
          34.5023029,
          35.0421234,
          36.1563122,
          36.7421089,
          35.6630196,
          35.384227,
          34.1742611,
          35.3272928,
          35.5186728,
          35.532198,
          36.3126005,
          36.0005035,
          35.2225717,
          35.3383254,
          35.4495097,
          36.8746177,
          35.4729886,
          33.9919761,
          36.3967623,
          35.5067259,
          35.6677078,
          35.5658553,
          35.442007,
          36.2659698,
          34.7743383,
          36.0525993,
          35.6571367,
          34.6381255,
          35.4140081,
          36.1156306,
          44.0462362,
          45.143731,
          45.4871723,
          44.0581728,
          44.5365467,
          45.5197452,
          45.3803261,
          45.5228939,
          45.4206749,
          44.9391565,
          45.3246068,
          42.224867,
          45.4307473,
          45.8404101,
          44.6365071,
          42.4393707,
          42.3264181,
          44.5645659,
          46.1882007,
          45.4440051,
          43.216505,
          45.3656761,
          43.3678937,
          45.3573429,
          45.5202471,
          45.1037582,
          45.4997475,
          44.9969,
          45.300347,
          42.1972487,
          44.0505054,
          40.28386695,
          39.9909398,
          40.4416941,
          39.9527237,
          40.2663107,
          40.3634026,
          40.1799111,
          39.9390017,
          41.2493292,
          41.0602024,
          40.03304205,
          40.610014750000005,
          39.9295406,
          40.5061,
          40.2312713,
          40.319244600000005,
          40.2648377,
          39.9004369,
          41.433948,
          40.7099343,
          39.9597213,
          40.6178915,
          40.1784423,
          41.2620137,
          40.3267407,
          39.84326505,
          40.1303822,
          40.2564778,
          40.6022059,
          40.2154361,
          40.02425075,
          40.7451356,
          40.86108,
          39.9776109,
          40.65747805,
          40.1517741,
          40.1789593,
          40.3732693,
          40.3592589,
          40.0689709,
          40.518681,
          40.2434599,
          40.3100446,
          40.0284452,
          40.86108,
          40.4775681,
          40.2464615,
          41.7967221,
          40.1650973,
          42.1294712,
          40.2142419,
          40.7520097,
          39.9477145,
          40.1612457,
          39.9829308,
          39.9381682,
          39.87265415,
          40.4418068,
          39.9067499,
          40.0131672,
          40.3275697,
          39.8063247,
          40.335345,
          40.03813,
          40.1045549,
          40.4236801,
          40.59782395,
          40.34217545,
          40.3372785,
          40.1229002,
          41.2753589,
          40.1637359,
          40.277883,
          40.047041,
          41.2397997,
          41.4086874,
          41.5695241,
          41.0008319,
          39.9656683,
          41.4198027,
          39.9831616,
          40.1353168,
          40.375713,
          40.0463001,
          39.9284459,
          41.0389186,
          40.328958,
          41.2052654,
          40.5395421,
          40.2492741,
          40.6178915,
          40.6851324,
          40.03813,
          40.20919925,
          40.201499,
          40.65747805,
          40.16495635,
          40.9646867,
          40.226481,
          39.967885,
          40.9999202,
          41.9529237,
          41.8500997,
          41.7000996,
          42.0028761,
          41.454944,
          41.8310404,
          41.878711,
          41.9220433,
          41.7407661,
          41.6257406,
          41.4501021,
          41.5524614,
          41.7303794,
          41.9667652,
          41.9667656,
          41.6603788,
          41.3775996,
          41.7034082,
          41.7809588,
          41.9699753,
          41.5524614,
          41.8906553,
          41.7002024,
          41.5524614,
          41.8239891,
          41.8137116,
          34.9248667,
          34.77873,
          32.9138914,
          34.8269276,
          33.4918203,
          34.5258335,
          34.7370639,
          35.0717945,
          34.1921466,
          32.7940651,
          32.7884363,
          33.0186699,
          33.9934867,
          32.8546197,
          33.8998826,
          32.9961038,
          38.88974405,
          34.08846885,
          33.5723191,
          34.9381361,
          34.1984435,
          34.9498007,
          33.52085,
          34.851354,
          33.9657091,
          33.6956461,
          34.3266879,
          34.6850749,
          42.7795273,
          44.899211,
          44.311461,
          43.5488256,
          44.3683644,
          45.4649805,
          42.8712938,
          43.70953,
          44.0869329,
          35.0867577,
          35.6150716,
          35.042036,
          35.1167484,
          35.483406,
          35.8460396,
          35.2045329,
          35.6144446,
          36.1623886,
          36.3349115,
          35.9824598,
          36.1631575,
          35.1460249,
          36.4242303,
          35.1595182,
          36.2139814,
          36.3049177,
          35.412238,
          35.925206,
          35.3620235,
          36.550238,
          36.5277607,
          35.0457219,
          35.0142412,
          36.0346393,
          35.4428864,
          35.5939671,
          36.3883031,
          35.7564719,
          36.0325687,
          35.9603948,
          36.0103562,
          36.5092119,
          36.3134398,
          35.3414745,
          26.3013982,
          29.4246002,
          31.549333,
          31.124062,
          28.9541368,
          27.7903032,
          34.0924285,
          33.1384488,
          32.5007031,
          31.1171441,
          29.5571825,
          32.9299655,
          33.046233,
          30.5085915,
          27.5236998,
          32.8295183,
          32.9265137,
          29.9913244,
          29.5639758,
          31.5970503,
          32.8457865,
          29.299328,
          32.3512601,
          34.9799429,
          28.9827565,
          29.6196787,
          29.6185669,
          32.2690953,
          32.7180803,
          29.4238472,
          28.8026443,
          33.1384886,
          30.4764878,
          32.673188,
          29.5688411,
          26.1947962,
          32.5447756,
          29.5641617,
          30.2711286,
          32.7287413,
          32.4709519,
          33.0283854,
          31.8457149,
          32.5631924,
          29.7057858,
          30.7235263,
          31.924473,
          30.1313283,
          32.9537349,
          30.3118769,
          32.3944908,
          31.9973662,
          29.6910753,
          32.7762719,
          32.9337381,
          32.3573651,
          32.8809603,
          32.851034,
          30.7857437,
          30.5955289,
          32.8579056,
          29.5074538,
          25.9140277,
          32.3293111,
          34.1513105,
          29.300357,
          30.0860459,
          33.5873164,
          32.5888072,
          33.5634402,
          32.753177,
          32.7666103,
          33.44667445,
          30.6326942,
          32.091299,
          35.536297,
          35.2072185,
          31.7070026,
          30.6743643,
          34.1847936,
          29.8826436,
          32.2044416,
          30.1668828,
          31.098207,
          26.1892409,
          29.3655405,
          32.7357287,
          30.1228634,
          28.6149968,
          31.4649685,
          33.1570582,
          29.663008,
          33.0136764,
          32.3860733,
          29.9482695,
          28.2678746,
          27.8818828,
          32.844017,
          32.6518004,
          29.1966405,
          33.0890094,
          29.7335616,
          26.1326237,
          29.6657838,
          29.16941,
          26.1497977,
          29.7028266,
          32.8342952,
          29.7355047,
          31.963778,
          33.1838787,
          27.7522487,
          31.7621153,
          32.2191836,
          33.7556593,
          27.7635302,
          32.9481789,
          32.8234621,
          29.3685674,
          29.5293998,
          31.0746347,
          32.8923464,
          28.4008319,
          32.7355816,
          36.2452294,
          32.2793121,
          32.8084605,
          32.89782,
          28.7099337,
          29.8988618,
          32.7589648,
          31.3386242,
          33.6617962,
          30.1990738,
          26.2159066,
          32.5897831,
          34.8245521,
          29.9743803,
          32.9029017,
          31.0560132,
          35.6689767,
          26.1702082,
          31.7865623,
          32.5920798,
          26.1594305,
          32.7595737,
          26.1907543,
          29.396013,
          31.4351645,
          29.9988312,
          29.0338575,
          27.5158689,
          33.6258504,
          30.048469,
          29.7052284,
          32.9552598,
          40.1652447,
          40.2337289,
          41.1135837,
          40.2981599,
          40.5584882,
          40.4062872,
          40.9180005,
          40.5710454,
          41.1912782,
          37.6774238,
          41.7313063,
          40.6667841,
          40.3640349,
          41.1715361,
          40.8894611,
          41.5110434,
          41.3048815,
          40.6149174,
          40.3768064,
          40.1150133,
          40.6061337,
          41.2230048,
          40.7596198,
          40.7074741,
          44.4761601,
          44.4671635,
          43.6063341,
          44.5470092,
          38.8051095,
          38.0686668,
          36.7183708,
          37.293378,
          38.4493315,
          37.5385087,
          38.029306,
          36.8320081,
          37.4137536,
          37.1317924,
          37.3043154,
          37.270973,
          38.1495947,
          38.7509488,
          37.1241861,
          39.1852184,
          36.6915262,
          38.9178538,
          37.2296566,
          37.0300969,
          38.9695316,
          36.8448348,
          36.5859718,
          37.2708788,
          39.1154496,
          36.9775016,
          38.3031837,
          37.227928,
          36.8529841,
          37.1298517,
          36.7282096,
          37.2555718,
          38.9013729,
          46.601557,
          47.4799078,
          47.3826903,
          46.2055155,
          47.2495798,
          47.4627356,
          47.7598697,
          47.9673056,
          48.118146,
          48.5020123,
          47.0263876,
          48.4200462,
          47.1301417,
          48.7544012,
          46.1377048,
          47.0451022,
          47.1849009,
          46.2087066,
          47.6038321,
          46.7304268,
          47.6694141,
          47.3075369,
          47.6859573,
          47.4234599,
          48.2931559,
          47.5653663,
          46.3246419,
          46.7204489,
          47.8105738,
          46.2306739,
          46.2804298,
          47.6144219,
          46.9970635,
          47.6571934,
          47.398829,
          46.1421249,
          45.6306954,
          47.5602073,
          46.975371,
          47.8278656,
          39.4850848,
          39.3208866,
          38.4192496,
          39.6296809,
          40.0639616,
          38.3505995,
          38.368429,
          39.4562528,
          40.4189566,
          37.2698395,
          39.920425,
          39.2699565,
          39.2806451,
          37.7781702,
          43.8830606,
          44.0206919,
          43.0578479,
          44.2022293,
          42.905848,
          45.3834983,
          43.0116784,
          42.5846773,
          44.8596498,
          43.2286174,
          44.0998341,
          42.8336422,
          44.3917589,
          43.8122836,
          43.7128967,
          42.7870581,
          44.6688524,
          44.1538845,
          43.1116731,
          42.8858503,
          43.9416755,
          43.4577692,
          43.074761,
          43.0883957,
          42.5083272,
          43.0020919,
          43.0349931,
          43.0166806,
          44.2780432,
          44.5126379,
          43.0962919,
          43.1352881,
          42.959738,
          43.1834579,
          42.6829765,
          43.2219088,
          42.9105722,
          42.7260523,
          44.8755183,
          42.9405711,
          43.0494122,
          43.7533414,
          44.9596017,
          44.9371325,
          44.4752606,
          44.1858193,
          44.2613967,
          43.1948481,
          44.5229223,
          42.9288944,
          43.4252776,
          44.4493584,
          43.1790768,
          42.7292465,
          43.1744352,
          43.1133445,
          44.3039719,
          46.7207737,
          44.811349,
          42.976453,
          41.139981,
          41.5290933,
          44.797194,
          41.2682462,
          44.290635,
          41.311367,
          41.5860557
         ],
         "legendgroup": "",
         "lon": [
          -87.6986407,
          -85.4807825,
          -87.9036047,
          -86.83440279644964,
          -87.5675258,
          -86.9119366,
          -87.0207473,
          -88.0788889,
          -85.1454876,
          -86.9711698,
          -87.677251,
          -86.8008228,
          -85.969951,
          -86.2516406,
          -85.0007653,
          -86.8163773,
          -86.5859011,
          -86.95233276079975,
          -85.6916195,
          -85.9989596,
          -87.2775053,
          -88.0705556,
          -86.9347899,
          -86.5675095,
          -86.8779268,
          -85.45560549441299,
          -86.3006485,
          -85.8283224,
          -87.05791872812708,
          -85.8552161,
          -86.7879492,
          -86.4596966,
          -86.0338765,
          -85.3933906,
          -86.7556834,
          -85.9538532,
          -85.75978290167376,
          -87.5771286,
          -86.8024326,
          -85.7196893,
          -88.0848929,
          -85.6405865,
          -86.954437,
          -149.894852,
          -134.419734,
          -147.716675,
          -109.5383567,
          -111.757352,
          -111.8314552,
          -111.6165953319917,
          -112.185994,
          -114.3224495,
          -114.568298,
          -112.468761,
          -111.8411851,
          -112.074141,
          -110.9360818,
          -112.349602,
          -111.549577,
          -111.9260184,
          -111.9556001,
          -110.2997756,
          -111.789037,
          -112.237294,
          -110.9748477,
          -111.9400164,
          -90.1845388,
          -92.6888936,
          -94.2670404,
          -94.1288142,
          -92.0140402,
          -89.9073557,
          -92.4916144,
          -93.0552437,
          -92.6650144,
          -94.1185366,
          -94.0430937,
          -90.6949871,
          -92.1101458,
          -92.2896267,
          -92.7098744,
          -90.4973286,
          -94.2088172,
          -90.7898342,
          -93.1337856,
          -91.5526281,
          -94.3996456,
          -92.2670941,
          -92.2243153,
          -93.053784,
          -93.2393341,
          -121.8746789,
          -124.08284,
          -122.3455263,
          -122.0402399,
          -121.768053,
          -122.036349,
          -122.080796,
          -117.865339,
          -122.2977475,
          -116.2188054,
          -122.2885808,
          -121.6550372,
          -121.2880059,
          -122.116578,
          -122.5310874,
          -121.744583,
          -117.0230839,
          -122.4869194,
          -118.2024154,
          -122.0816297,
          -117.9389526,
          -118.030839,
          -118.3692894,
          -117.0172077,
          -118.852583,
          -117.1766947,
          -117.7926096,
          -121.6219177,
          -121.9746797,
          -117.659405,
          -118.1503953,
          -120.609084,
          -122.1598465,
          -118.0014517,
          -117.8103367,
          -118.117191,
          -118.242766,
          -122.2941914,
          -121.387742,
          -118.2517547,
          -118.0691499,
          -118.0399368,
          -121.6544974,
          -118.096735,
          -122.7141049,
          -117.6483876,
          -116.0833144,
          -118.129807,
          -122.400941,
          -118.156586,
          -122.4168664,
          -121.493895,
          -117.3794834,
          -122.177992,
          -120.8505342,
          -118.105739,
          -117.2305944,
          -117.690075,
          -118.2005236,
          -118.1085682,
          -117.1473661,
          -122.235923,
          -118.3707683,
          -120.7678602,
          -120.8465941,
          -121.2357828,
          -117.9962165,
          -118.12706,
          -119.0167679,
          -120.6218376,
          -117.9772873,
          -121.9357918,
          -122.0008254,
          -118.1292846,
          -118.226624,
          -118.3531991,
          -121.9177944,
          -117.8891164,
          -117.9294401,
          -117.3136547,
          -122.261823,
          -117.0991967,
          -122.0322895,
          -118.2120343,
          -116.962526,
          -121.6169108,
          -118.1866361,
          -118.3886766,
          -118.0401497,
          -122.0230146,
          -117.888855,
          -117.99510059728792,
          -119.3870656,
          -117.6124179,
          -117.0814849,
          -120.590725,
          -117.0841955,
          -122.347748,
          -118.1366153,
          -118.2478471,
          -117.903317,
          -122.3473099,
          -118.0577568,
          -121.5631723,
          -117.313654,
          -118.0539323,
          -117.9611761,
          -121.9544387,
          -116.0543506,
          -121.4016021,
          -117.9056046,
          -122.231635,
          -118.171005,
          -117.953097,
          -121.899142,
          -117.5751735,
          -118.111975,
          -121.4201395,
          -122.2988587,
          -119.5184564,
          -117.9294165,
          -117.1807973,
          -117.9463717,
          -118.4156337,
          -118.1171108,
          -117.1858759,
          -122.272863,
          -120.6707255,
          -118.0849169,
          -118.1444779,
          -121.8169383456945,
          -117.1827445,
          -122.419906,
          -122.232523,
          -120.435857,
          -117.1627728,
          -119.0383541,
          -118.542586,
          -117.9859054,
          -122.5681191,
          -117.826166,
          -115.563051,
          -118.8375937,
          -117.9627349,
          -121.22178815385232,
          -119.702667,
          -118.0467339,
          -117.6720975,
          -117.7517496,
          -121.8232958,
          -117.2911565,
          -118.396466,
          -122.1585777,
          -121.9877444,
          -117.9454867,
          -117.8259819,
          -122.301411,
          -121.7733285,
          -121.8374777,
          -117.8249705,
          -122.040244,
          -118.3483256,
          -118.401813,
          -117.8704931,
          -119.0194639,
          -118.8820414,
          -120.4579409,
          -119.1951559,
          -118.7657042,
          -117.8732213,
          -115.530267,
          -118.39591,
          -118.200981,
          -122.2566367,
          -121.530234,
          -121.0739897,
          -119.450402,
          -122.271356,
          -116.9719684,
          -118.1835395,
          -116.464076,
          -122.433243,
          -118.052845,
          -118.307201,
          -122.0832101,
          -121.988571,
          -117.3008784,
          -119.7737991,
          -118.7538071,
          -116.2958789,
          -116.9589086,
          -121.890591,
          -116.382571,
          -122.0607963,
          -122.0618702,
          -117.435048,
          -117.5664449,
          -122.362529,
          -117.2286478,
          -119.1803818,
          -122.1560768,
          -119.5604015,
          -120.9577098,
          -117.8617337,
          -121.2907796,
          -117.7197785,
          -118.437652,
          -118.185349,
          -118.0772433,
          -118.0467306,
          -117.3703235,
          -122.5449763,
          -122.039966,
          -121.8989248,
          -118.0879763,
          -117.785366,
          -122.626372,
          -117.6897776,
          -120.8471545,
          -119.6456844,
          -118.3195014,
          -119.7848307,
          -116.49529769683984,
          -122.1338674,
          -117.5508901,
          -122.141075,
          -122.3330573,
          -119.0592705,
          -121.805789,
          -117.6484304,
          -121.6846349,
          -122.47267,
          -117.7678355,
          -116.875289,
          -118.3951241,
          -122.2688522,
          -117.2610925,
          -117.6981075,
          -122.7010984,
          -118.491227,
          -124.1673746,
          -120.3757163,
          -122.391675,
          -121.2724473,
          -121.8901232,
          -117.8067257,
          -119.292058,
          -118.036849,
          -118.1167679,
          -118.3053037,
          -119.2470536,
          -122.636465,
          -120.9968782,
          -122.2855293,
          -118.3963062,
          -117.3961623,
          -117.3505966,
          -121.7529071,
          -118.917766849615,
          -123.2077861,
          -121.9448818,
          -118.1055926,
          -122.1796888,
          -119.5559652,
          -121.5913516,
          -117.0430865,
          -121.80062933026213,
          -121.1760583,
          -122.0335624,
          -118.3406288,
          -118.0107092,
          -119.6120765,
          -118.191604,
          -119.7029194,
          -118.1478291,
          -118.0796195,
          -118.353132,
          -122.1180201,
          -105.0811573,
          -105.0897058,
          -104.987552,
          -104.9338675,
          -104.9879641,
          -108.5507317,
          -104.984862,
          -105.22058,
          -105.05208,
          -105.222494,
          -104.825348,
          -105.04436132094956,
          -105.1319296,
          -103.207709,
          -105.0846694,
          -105.0668085,
          -104.8110775,
          -107.82158179169292,
          -105.0372046,
          -105.016649,
          -104.7091322,
          -105.1019287,
          -104.609141,
          -104.830994,
          -105.270241,
          -73.4948446,
          -72.4663331,
          -73.2073358,
          -72.8306541,
          -72.53047449141525,
          -73.0528893,
          -73.0787468,
          -72.1519367,
          -72.6455665,
          -73.0438362,
          -73.0890324,
          -72.6392587,
          -72.3050803,
          -73.3578955,
          -72.643631,
          -72.8320435,
          -73.5387341,
          -72.8968716,
          -72.9250518,
          -72.6437022,
          -73.412668,
          -72.52853197757256,
          -72.6506604,
          -73.2006687,
          -73.4540111,
          -72.7237063,
          -72.900658,
          -72.6120346,
          -72.9470471,
          -71.9059042,
          -72.7456519,
          -73.0741697,
          -72.8782941,
          -72.5024804,
          -72.6817616,
          -73.0509432,
          -73.6284598,
          -72.8672429,
          -72.9867718,
          -72.8150989,
          -73.1181658,
          -72.608146,
          -72.7795419,
          -72.8012211,
          -72.0997804,
          -73.4078968,
          -73.4378988,
          -72.8231552,
          -73.0256609,
          -72.5717551,
          -72.6908547,
          -73.31153913634024,
          -72.7300945,
          -73.0931641,
          -73.1212214,
          -72.7673198,
          -73.4692873,
          -72.859545,
          -73.4095652,
          -72.0759008,
          -73.0570603,
          -72.8070435,
          -73.2048348,
          -72.6525922,
          -71.915073,
          -72.6509061,
          -73.1331651,
          -72.7420399,
          -72.5755109,
          -75.5243682,
          -77.0365427,
          -82.3249846,
          -82.1400923,
          -82.458444,
          -82.5308545,
          -80.223937,
          -86.482172,
          -81.0557921,
          -80.20493869767097,
          -80.1353006,
          -80.0728201,
          -80.1433786,
          -80.138934,
          -81.6853534,
          -80.2279519,
          -80.0830984,
          -80.1928253,
          -82.7192671,
          -81.544117,
          -81.9498042,
          -80.2787573,
          -81.6287423,
          -81.3510264,
          -81.8723084,
          -81.7328568,
          -81.7724368,
          -80.0996306,
          -81.4075838,
          -82.6995444,
          -80.9271271,
          -81.2680223,
          -80.05592659756701,
          -85.6545729,
          -81.01059617608054,
          -80.6102592,
          -81.0228331,
          -80.1386547,
          -80.2133808,
          -80.0666026,
          -81.6372111,
          -82.7873244,
          -80.6366144,
          -80.2331036,
          -82.7717684,
          -80.1494901,
          -82.0453664,
          -81.2084941,
          -82.74380159717906,
          -80.736647,
          -80.3975399,
          -81.3031098,
          -81.3465575,
          -80.2933846,
          -81.7942944,
          -80.2258811,
          -81.3790304,
          -81.81408775862916,
          -81.3382005,
          -82.1234803,
          -80.6371513,
          -80.2683838,
          -80.3256056,
          -84.2809332,
          -80.148379,
          -80.2322706,
          -80.0691435,
          -80.2497707,
          -82.6394803,
          -82.7034334,
          -80.0872654,
          -81.655651,
          -82.8001026,
          -80.1247667,
          -80.19362,
          -80.289495,
          -80.2706044,
          -82.4543597,
          -82.6931553,
          -82.3892596,
          -80.4759905,
          -80.2519175,
          -80.4706078,
          -81.8778582,
          -81.0044995,
          -80.1319893,
          -80.2331038,
          -80.1457426,
          -80.206436,
          -81.9806771,
          -80.9022758,
          -80.1867138,
          -82.903754,
          -84.5740953,
          -83.5108284,
          -84.9880449,
          -85.0766113,
          -84.5957629,
          -84.2326876,
          -83.8240663,
          -85.1646726,
          -81.0951271,
          -84.4393724,
          -84.1556809,
          -83.2784851,
          -84.7997613,
          -85.0313269,
          -83.606568,
          -84.0199108,
          -84.4493725,
          -84.9702475,
          -84.5496148,
          -84.2747329,
          -84.3690918,
          -81.9748429,
          -83.8598742,
          -84.5754768,
          -84.3902644,
          -84.7622973,
          -81.7832912,
          -83.9890066,
          -83.6324022,
          -83.7887928,
          -81.4914894,
          -84.360022,
          -84.5147454,
          -83.9787808,
          -81.5960705,
          -82.3540178,
          -112.03628,
          -117.0216144,
          -112.450627,
          -117.0001651,
          -111.787022,
          -114.4602554,
          -116.689415,
          -87.3653136,
          -86.0085955,
          -86.4880717,
          -87.1066598,
          -85.7681979,
          -85.6802541,
          -86.2500066,
          -86.3994387,
          -87.4548466,
          -86.3567356,
          -87.4547605,
          -87.500043,
          -85.1386015,
          -84.8898521,
          -87.3370647,
          -85.5018494,
          -86.1583502,
          -85.7833563,
          -87.4255305,
          -86.1189257,
          -87.4520484,
          -86.8990249,
          -86.428328,
          -86.7225227,
          -85.8241312,
          -86.5342881,
          -87.3328139,
          -85.7602087,
          -85.1410748,
          -87.2550353,
          -86.1066526,
          -86.8752869,
          -86.2407144,
          -85.8530544,
          -87.0611412,
          -86.0894158,
          -87.5217068,
          -86.8950297,
          -85.3702477,
          -85.8590603,
          -86.4872149,
          -87.2389246,
          -87.5558483,
          -86.1336351,
          -87.1761455,
          -87.4139119,
          -87.5286325,
          -87.5125412,
          -93.6046655,
          -95.1477536,
          -93.2017941,
          -93.5613292,
          -90.5770967,
          -90.6647985,
          -94.1910044,
          -92.6448451,
          -93.0538852,
          -92.3328743,
          -96.4058782,
          -93.605092,
          -90.5098639,
          -93.6170448,
          -93.7594059,
          -92.9122672,
          -92.447758,
          -93.9254114,
          -93.7380243,
          -91.3084007,
          -97.3375448,
          -87.4889532,
          -84.4919524,
          -84.4483432,
          -84.6041084,
          -85.8227413,
          -84.544109,
          -84.7721823,
          -82.6379387,
          -87.1133304,
          -84.1796503,
          -88.314761,
          -84.5588311,
          -86.4436018,
          -84.6266111,
          -85.8591285,
          -87.5573742,
          -87.4986989,
          -85.759407,
          -84.6007773,
          -85.5644033,
          -85.9124842,
          -85.9491298,
          -84.5729961,
          -88.6000478,
          -84.508371,
          -84.8732836,
          -92.1476353,
          -89.7811745,
          -92.4616292,
          -92.637927,
          -90.0782127,
          -92.4343035,
          -90.2417806,
          -93.0860209,
          -92.4176324,
          -91.8187285,
          -92.3745761,
          -93.2061609,
          -92.1032411,
          -90.7195348,
          -93.6952689,
          -92.0298813,
          -93.7559378,
          -90.0539604,
          -90.1422962,
          -91.1391153,
          -89.8486858,
          -92.657085,
          -70.2548596,
          -70.2408811,
          -69.9653278,
          -68.672791,
          -69.6317121,
          -69.7792759,
          -70.4083434,
          -68.7778138,
          -70.7739832,
          -70.2147764,
          -70.4533844,
          -70.47519593022201,
          -70.3395776,
          -70.4428286,
          -68.0141431,
          -70.3663874,
          -70.2311655,
          -76.9959277,
          -76.492786,
          -76.610759,
          -76.8669233,
          -76.0763177,
          -76.8756838,
          -75.6009964,
          -78.762383,
          -77.7191081,
          -76.1643289,
          -77.4127562,
          -76.9408647,
          -71.6356311,
          -70.9171507,
          -71.1369982,
          -71.6799426,
          -71.8119837,
          -71.1908924,
          -71.3085329,
          -71.7172866,
          -71.0780195,
          -71.6849585,
          -71.6030963,
          -70.9078243,
          -70.7055941,
          -70.9368313,
          -71.0953314,
          -71.0994968,
          -71.1546367,
          -71.2245003,
          -71.1286594,
          -71.5192019,
          -72.399595,
          -70.8092074,
          -70.9879928,
          -72.4286259,
          -70.6619888,
          -70.5989196,
          -71.2963726,
          -71.0536625,
          -70.9391625,
          -71.4161725,
          -70.1939087,
          -71.1447732,
          -70.3499234,
          -71.3488963,
          -71.6498211,
          -70.7618592,
          -71.064182,
          -71.1211635,
          -71.1736669,
          -70.8578253,
          -70.8411583,
          -71.1127065,
          -72.4803259,
          -71.2817947,
          -71.6129907,
          -71.4245049,
          -70.7697128,
          -71.1522766,
          -72.5129296,
          -71.6422408,
          -71.1994976,
          -70.9286609,
          -70.9750426,
          -71.4413097,
          -70.934205,
          -71.4746436,
          -71.8592889,
          -71.30546,
          -72.6002068,
          -71.1755732,
          -71.1869939,
          -71.066163,
          -70.2286314,
          -71.1787282,
          -70.0758508,
          -71.2360624,
          -71.9831716,
          -71.346996,
          -71.1897684,
          -71.8803308,
          -71.11113,
          -72.2159994,
          -71.1061639,
          -71.0728306,
          -71.1564428,
          -73.260018,
          -71.060511,
          -70.9494939,
          -71.4378411,
          -71.12678237443698,
          -71.2092214,
          -71.2244987,
          -73.1118964,
          -71.1022015,
          -72.582258,
          -71.0041229,
          -71.5522874,
          -71.2494985,
          -70.8897676,
          -71.0424838,
          -71.4641337,
          -71.9112404,
          -71.5678236,
          -70.8967226,
          -71.0767724,
          -71.008958,
          -70.4968152,
          -71.1631137,
          -71.1056157,
          -71.3031132,
          -72.7584859,
          -71.1408776,
          -70.9592096,
          -71.2478308,
          -71.0786653,
          -72.5824639,
          -70.9300921,
          -71.3518343,
          -71.128656,
          -71.065573,
          -72.6110645,
          -71.010051,
          -71.7614891,
          -71.0037374,
          -71.4539683,
          -71.1828321,
          -72.6213712,
          -71.2358004,
          -70.8800491,
          -71.1786655,
          -71.0183787,
          -93.2517802,
          -93.2654692,
          -92.9438218,
          -93.5268986,
          -93.3395843,
          -93.4074945,
          -93.161159,
          -90.4605651,
          -91.403171,
          -88.8183872,
          -90.1323087,
          -89.7674875,
          -91.0551312,
          -88.5585995,
          -90.1795281,
          -90.1983063,
          -89.0928155,
          -88.8279165,
          -88.703656,
          -90.3215983,
          -88.7033859,
          -88.5344601,
          -89.2903392,
          -90.8777342,
          -89.9868058,
          -88.4272627,
          -90.5643258,
          -94.282265,
          -90.3362473,
          -94.5719748,
          -94.8723858,
          -93.1968704,
          -90.5387318,
          -90.3191285,
          -90.3757777162534,
          -94.3103412,
          -92.4364298,
          -94.4137923,
          -90.3564329,
          -91.3587413,
          -90.0551598,
          -94.4622103,
          -94.5133385,
          -90.3623381,
          -94.5313502,
          -93.2946576,
          -92.1724265,
          -90.2265001,
          -90.42352,
          -93.2295515,
          -93.7409596,
          -90.3038975,
          -90.3758287,
          -94.5313816,
          -91.8829484,
          -90.3312256,
          -91.7708076,
          -90.3227803,
          -89.5230357,
          -92.3337366,
          -90.879099,
          -94.5781416,
          -90.3103443,
          -90.4423653,
          -90.4069177,
          -91.9479586,
          -90.3715909,
          -90.3957115,
          -119.8126581,
          -114.8337739,
          -114.9826194,
          -115.148516,
          -119.7487235,
          -70.7548621,
          -71.4397167,
          -72.251587,
          -71.600257,
          -71.3739532,
          -72.347031,
          -70.9478343,
          -71.537476,
          -72.2784264,
          -71.5159015,
          -70.8739761,
          -71.470351,
          -71.3264492,
          -71.6495345,
          -71.6854725,
          -71.4677032,
          -71.2008933,
          -70.8645872,
          -70.927048,
          -71.1836547,
          -71.4547891,
          -73.9968051,
          -74.9218327,
          -74.9999754,
          -74.1409771,
          -73.9973608,
          -74.4774255,
          -73.997639,
          -74.1298643,
          -74.0215285,
          -74.12318419903066,
          -74.8023853,
          -74.0681931,
          -74.743241,
          -74.3148713,
          -74.0093129,
          -74.2098679,
          -74.28600076944446,
          -75.0960074,
          -74.8690542,
          -74.2776468,
          -74.0643065,
          -74.6171489,
          -75.2340768,
          -74.8623849,
          -74.0204177,
          -73.9876388,
          -74.3645906,
          -74.6732941,
          -74.6592958,
          -74.5240422,
          -73.9629154,
          -74.0509725,
          -74.7618285,
          -75.0254256,
          -74.3020933,
          -74.442653,
          -74.661105,
          -74.9720493,
          -74.113198,
          -74.7376619,
          -74.0323752,
          -74.1648999,
          -74.21219645621468,
          -74.5746001,
          -74.4809868,
          -74.1637553,
          -74.0190281,
          -74.5875422,
          -74.0831971,
          -74.27891468547114,
          -74.1537549,
          -74.6004341,
          -74.4518173,
          -74.2737573,
          -74.5143232,
          -74.3592296,
          -74.26088332752404,
          -74.9182198,
          -74.0927967,
          -74.2216287,
          -75.0317979,
          -74.476545,
          -74.61166669239594,
          -74.561568,
          -74.2974765,
          -74.2734808,
          -75.071284,
          -74.3632049,
          -74.594601,
          -74.3898732,
          -75.1198911,
          -75.0579502,
          -74.8623868,
          -74.3018154,
          -74.6206496,
          -74.2376067,
          -75.1526774,
          -74.8234961,
          -73.9701382,
          -75.0393368,
          -74.0735899,
          -74.7876624,
          -74.2907042,
          -74.1162152,
          -74.1312504,
          -74.3954057,
          -75.0376707,
          -74.012084,
          -74.0902219,
          -74.2445902,
          -74.1437552,
          -74.2326463,
          -74.1137537,
          -74.2210643,
          -74.6600975,
          -74.2643133,
          -74.417097,
          -74.2745215,
          -74.89174118371643,
          -74.58572175018249,
          -74.3328038,
          -74.79518705108711,
          -74.2301459,
          -74.4773916,
          -74.1183543,
          -74.1729222,
          -74.5317663,
          -74.171811,
          -74.2951444,
          -74.415984,
          -74.2454254,
          -75.1235892,
          -74.1723667,
          -75.1161897,
          -74.4660408,
          -74.634683,
          -74.8006895,
          -74.1162152,
          -74.0566735,
          -74.1454214,
          -74.97996221777835,
          -74.9619779,
          -74.3069069,
          -74.0072568,
          -74.1329208,
          -74.30569336998289,
          -74.2048677,
          -74.94348457116372,
          -74.3673748,
          -74.2995923,
          -74.2107006,
          -74.5621025,
          -74.1143091,
          -75.1535378,
          -74.3319287,
          -74.60988,
          -74.5517146,
          -74.2737573,
          -75.1721232,
          -74.5621025,
          -74.8909988,
          -74.1567618,
          -73.999028,
          -74.0398622,
          -74.1331988,
          -74.7597219,
          -74.2779616,
          -74.3816966,
          -74.333495,
          -74.4015405,
          -74.6592958,
          -74.41303645517515,
          -74.70027388974506,
          -75.0946183,
          -74.1854226,
          -74.56335484708535,
          -74.0816693,
          -74.30569336998289,
          -74.6828841,
          -74.1840322,
          -74.4243178,
          -74.1068091,
          -74.0926418,
          -74.1562551,
          -74.2082011,
          -74.237292,
          -74.9923915,
          -74.4273743,
          -73.9726381,
          -74.4073737,
          -75.19999632858708,
          -74.7125679,
          -74.30569336998289,
          -74.0410865,
          -74.3148279,
          -74.4157768,
          -75.1901761,
          -74.2401466,
          -74.4113926,
          -75.0307264,
          -74.4115401,
          -74.383763,
          -74.0326395,
          -74.2376802,
          -74.9253,
          -74.237292,
          -74.81923825,
          -74.442653,
          -74.5409597,
          -74.047455,
          -74.3473717,
          -75.50833325636759,
          -74.1242816,
          -74.1501438,
          -74.2614099,
          -74.4229351,
          -74.2348684,
          -73.9923596,
          -74.1194403,
          -74.1598663,
          -74.3618499,
          -74.22073950889322,
          -74.229035,
          -74.9426677,
          -74.1969657,
          -74.2430988,
          -75.1119434,
          -74.0237512,
          -74.3859831,
          -74.2390353,
          -74.0120817,
          -103.334397,
          -104.5229518,
          -108.205445,
          -105.941835,
          -107.7581979,
          -104.4032963,
          -103.1311314,
          -106.71324849574629,
          -108.743907,
          -108.2754371,
          -73.8386504,
          -73.8268873,
          -76.0704906,
          -76.1279841,
          -73.7900977,
          -76.5672029,
          -73.9395687,
          -77.615214,
          -72.6810307,
          -75.9125262,
          -73.9204922,
          -73.9283672,
          -79.0614686,
          -73.9696822,
          -78.8660527,
          -78.70764889735142,
          -74.3452991,
          -73.7629097,
          -74.0060152,
          -77.0543408,
          -74.0104179,
          -75.6725673,
          -78.8783922,
          -76.4968019,
          -73.644447,
          -75.4039155,
          -78.4298613,
          -77.31914542488306,
          -73.7738780089654,
          -73.6725625,
          -75.4557,
          -74.3243191,
          -73.6450664,
          -73.8316667,
          -73.6582631,
          -73.7001187,
          -79.3001157,
          -73.80819,
          -73.8987469,
          -75.0629531,
          -75.2326641,
          -76.9786122,
          -76.1474244,
          -74.0023702,
          -73.7853915,
          -75.486374,
          -80.0053176,
          -81.3442915,
          -79.8136446,
          -80.5495112,
          -79.05578,
          -77.6548026,
          -77.6484879,
          -81.1838186,
          -76.9014457,
          -79.4628248,
          -82.5540161,
          -81.6870837,
          -81.6746158,
          -77.7956949,
          -80.5800049,
          -77.5816353,
          -77.9927651,
          -77.9175714,
          -80.8430827,
          -79.0083993,
          -80.2000578,
          -81.5356463,
          -79.0752876,
          -77.0441143,
          -79.6644748,
          -78.6141709,
          -79.1802994,
          -80.621438,
          -76.2247697,
          -77.4208221,
          -78.6390989,
          -77.9447107,
          -80.4742261,
          -79.7919754,
          -78.9018053,
          -79.7667026,
          -77.5358049,
          -80.081817,
          -77.3724593,
          -82.4663918,
          -80.0736533,
          -79.4377991,
          -78.878292,
          -78.7812081,
          -80.2533838,
          -83.8337785,
          -102.7896242,
          -103.621814,
          -96.789821,
          -97.0592028,
          -98.708436,
          -96.900362,
          -100.783739,
          -101.296273,
          -84.105006,
          -84.1688274,
          -80.614795,
          -81.9179174,
          -81.556235,
          -82.4012643,
          -83.0624078,
          -81.537346,
          -83.1895249,
          -81.4406258,
          -81.514824,
          -84.1601458,
          -81.83511,
          -84.1916069,
          -83.6538244,
          -83.7129935,
          -82.2223775,
          -81.4023356,
          -81.3399769,
          -84.5501874,
          -83.1779537,
          -83.810138,
          -81.5231597,
          -81.357886,
          -80.6339638,
          -82.0610404,
          -82.2044367,
          -84.2032767,
          -84.2424449,
          -82.2360391,
          -81.6051221,
          -82.936864,
          -83.0929645,
          -82.9295287,
          -84.3021673,
          -84.6332986,
          -82.5154471,
          -81.1059309,
          -84.5041108,
          -82.0190321,
          -81.6762392,
          -83.810138,
          -84.3041074,
          -81.6936772,
          -82.0131924,
          -81.4417989,
          -80.6520161,
          -81.5061146,
          -83.6279321,
          -83.7129935,
          -83.0179593,
          -81.6267904,
          -84.2029922,
          -81.4548392,
          -83.3937233,
          -81.4741475,
          -82.6089043,
          -84.324944,
          -81.9397733,
          -83.1134972,
          -84.3982763,
          -84.5124602,
          -84.2236524,
          -80.5561011,
          -80.765358,
          -84.0193858,
          -83.1596108,
          -81.5370671,
          -82.9754649,
          -82.9965441,
          -81.7981908,
          -81.7405559,
          -84.0632685,
          -83.7524298,
          -81.4412259,
          -81.6059581,
          -84.600988,
          -80.701466,
          -83.9296526,
          -82.1781904,
          -84.1593818,
          -84.11141951604947,
          -81.4456706,
          -82.6155745,
          -83.5378173,
          -83.1555438,
          -83.7596557,
          -82.3646068,
          -84.1988308,
          -81.7298519,
          -83.1140771,
          -84.2866083,
          -84.4852213,
          -84.4596641,
          -84.4132779,
          -84.6052225,
          -81.453449,
          -84.309939,
          -82.9651045,
          -81.3749508,
          -80.8567502,
          -84.4421641,
          -83.8285375,
          -83.4868768,
          -82.6418883,
          -83.0007065,
          -83.15129585,
          -82.9824019,
          -81.6381795,
          -94.969956,
          -96.1100025,
          -98.3903305,
          -99.2455382,
          -97.081898,
          -95.7697934,
          -97.9578129,
          -97.9440297,
          -95.9927516,
          -95.9528877,
          -95.3927706,
          -97.7244813,
          -97.1436254,
          -96.9253004,
          -97.6322648,
          -97.9550578,
          -95.6160686,
          -96.1049612,
          -97.4394816,
          -97.4867045,
          -97.3967025,
          -94.877374,
          -97.5170536,
          -96.3776762,
          -97.8791341,
          -97.7625386,
          -95.9690122,
          -97.5494185,
          -97.4408709,
          -95.8548557,
          -96.6783651,
          -95.7908195,
          -97.4649038,
          -99.3339754,
          -99.4138648,
          -97.0585717,
          -123.0220289,
          -122.8553725,
          -122.80378,
          -121.3153096,
          -122.906876,
          -123.1114405,
          -122.5945507,
          -122.989827,
          -122.670649,
          -123.033121,
          -118.0878695,
          -121.7816704,
          -122.771933,
          -119.28946,
          -123.1059324,
          -123.3272489,
          -122.8718605,
          -123.2620435,
          -123.8319802,
          -122.6412523,
          -123.3417381,
          -122.612314,
          -124.2174647,
          -122.6067583,
          -122.674194,
          -123.984376,
          -122.4309766,
          -123.0266267,
          -122.972751,
          -122.7153995,
          -123.0950506,
          -75.93718261371077,
          -75.7802235,
          -79.9900861,
          -75.1635262,
          -76.8861122,
          -79.8664375,
          -76.1789242,
          -75.2554605,
          -77.0027671,
          -76.2461259,
          -76.21302410596485,
          -75.55770769383142,
          -77.0583135,
          -80.2082,
          -74.84670236269929,
          -76.78259308545563,
          -75.39131985484991,
          -75.36962439417572,
          -79.706441,
          -80.1060506,
          -75.6059638,
          -75.3786521,
          -74.89305746907641,
          -75.897197,
          -78.9219698,
          -75.43549516346835,
          -75.5149128,
          -76.9880313,
          -75.4712794,
          -75.3702305,
          -75.62432877075015,
          -75.3289302,
          -79.895197,
          -75.378526,
          -75.50746464724347,
          -75.3365695,
          -76.97591945655293,
          -79.9756206,
          -76.2582849,
          -75.46235478363613,
          -78.394736,
          -76.796745,
          -75.1304588,
          -75.1515654,
          -79.895197,
          -79.7589356,
          -75.33259425879342,
          -80.3264521,
          -75.7838155,
          -80.0852695,
          -75.30415601106138,
          -80.3192295,
          -76.7974714733872,
          -80.486567,
          -75.7652424,
          -75.2718507,
          -75.44054729049847,
          -79.8819609,
          -76.7008946,
          -75.2943516,
          -80.0394977,
          -76.9842735,
          -75.9279495,
          -76.3056686,
          -74.951279,
          -79.8828275,
          -75.51061576238621,
          -75.23457505027287,
          -79.74820739087984,
          -74.86447057681232,
          -75.8501955,
          -76.3952429,
          -79.5035993788097,
          -78.642102,
          -77.0527459,
          -75.6621294,
          -75.6321327,
          -75.23153355835147,
          -75.1687892,
          -75.6324112,
          -75.8238355,
          -75.03499300040215,
          -76.4626118,
          -75.3595487,
          -75.2737955,
          -76.4191791,
          -79.6411537,
          -76.0049353,
          -75.4968502,
          -75.1340604,
          -75.3786521,
          -76.1953701,
          -76.3056686,
          -79.83291813611304,
          -77.1890783,
          -75.50746464724347,
          -74.77650662471181,
          -75.9852789,
          -76.9005317,
          -75.5770496072027,
          -80.3471856,
          -71.4663863,
          -71.4661703,
          -71.6828444,
          -71.5147839,
          -71.5394738,
          -71.5412101,
          -71.3825558,
          -71.549507,
          -71.3084633,
          -71.166333,
          -71.4495005,
          -71.27037832834264,
          -71.2825494,
          -71.5495071,
          -71.4328363,
          -71.4558911,
          -71.8272911,
          -71.2844401,
          -71.4371257,
          -71.6977885,
          -71.27037832834264,
          -71.3922785,
          -71.4161108,
          -71.27037832834264,
          -71.4128343,
          -71.3700545,
          -81.0250784,
          -82.310119,
          -80.0088359,
          -82.5817053,
          -80.8556476,
          -82.652962,
          -82.2542834,
          -81.6498195,
          -82.161424452277,
          -79.8625851,
          -79.9399309,
          -80.1762704,
          -81.0739826,
          -79.9748103,
          -80.3237032,
          -80.0387292,
          -77.04086075512475,
          -81.1802101384121,
          -81.6182086,
          -82.2272119,
          -79.7671658,
          -81.9320157,
          -81.96696923114902,
          -82.3984882,
          -81.0739827,
          -78.8900409,
          -81.5830086,
          -82.8364111,
          -96.929101,
          -97.115289,
          -96.79844,
          -96.7307737,
          -100.351136,
          -98.487813,
          -97.3967011,
          -98.025379,
          -103.2274481,
          -89.8100858,
          -87.0352831,
          -89.6645266,
          -85.2925214,
          -86.4602717,
          -86.3921096,
          -89.8739753,
          -88.8177418,
          -85.4997057,
          -86.70533913302022,
          -86.5199492,
          -82.8309861,
          -90.0517638,
          -89.0570096,
          -84.8766115,
          -83.2948923,
          -86.621443,
          -85.569464,
          -86.8689419,
          -86.2094342,
          -82.5594293,
          -87.3588703,
          -85.3094883,
          -85.2519003,
          -89.3857496,
          -84.5930113,
          -89.262291,
          -86.4475898,
          -83.9704593,
          -86.7825235,
          -83.9210261,
          -84.2696449,
          -86.8849984,
          -82.3534728,
          -89.8973084,
          -98.1624501,
          -98.4951405,
          -97.1466695,
          -97.9030785,
          -95.3596617,
          -97.6688843,
          -98.5705336,
          -96.1108066,
          -94.74049,
          -97.727796,
          -95.8085623,
          -97.2271249,
          -96.994174,
          -97.6788056,
          -99.497352,
          -96.9442177,
          -96.8961151,
          -93.9585067,
          -95.2864299,
          -94.5927451,
          -97.0667142473263,
          -94.7945882,
          -95.3010624,
          -101.919197,
          -95.969402,
          -95.6349463,
          -95.5377215,
          -102.6042447,
          -100.918231,
          -95.2441009,
          -96.9766308,
          -95.6010143,
          -96.6353488,
          -97.4605759,
          -97.9647269,
          -98.1836216,
          -94.3661004,
          -98.2695702,
          -97.7436995,
          -96.6227714,
          -100.405938,
          -97.0867203,
          -102.367687,
          -97.1416768,
          -95.4588299,
          -95.5507771,
          -106.415352,
          -94.0148021,
          -96.8902816,
          -95.4560512,
          -96.8439365,
          -102.077948,
          -95.2092076,
          -96.7968559,
          -97.0788754,
          -97.4091216963166,
          -97.155012,
          -96.79257966216876,
          -102.8065415,
          -96.3071042,
          -97.2547371,
          -95.0949303,
          -97.4890879,
          -96.6252679,
          -99.2860857,
          -99.7733181,
          -94.1018461,
          -102.37796,
          -96.9553675,
          -101.8792389,
          -97.3327459,
          -96.599472,
          -94.07714830522016,
          -97.6772311,
          -96.4646821,
          -100.9601552,
          -101.833824,
          -98.9831022,
          -96.3699632,
          -101.7068417,
          -97.9405828,
          -95.854914,
          -96.3977442,
          -97.3427847,
          -98.1552872,
          -100.894698,
          -101.9550202,
          -93.9041169,
          -96.6260892,
          -100.4405094,
          -94.9694007,
          -95.2354902,
          -96.6925096,
          -94.8758518,
          -93.9171155,
          -98.101923,
          -97.3188666,
          -97.1430671,
          -96.9083366,
          -96.2696867,
          -96.8863922,
          -95.2302123,
          -97.630791,
          -95.0193729,
          -95.4318847,
          -97.9136112,
          -98.1257348,
          -97.2289029,
          -94.9774274,
          -95.2705042,
          -97.1413417,
          -98.0697249,
          -95.6307891,
          -98.2130634,
          -96.536658,
          -97.4033191,
          -96.7297206,
          -97.1705678,
          -94.9713134,
          -95.2010447,
          -97.6590473,
          -96.4066987,
          -97.7483312,
          -97.1071186,
          -101.8858689,
          -99.8812612,
          -98.1128223,
          -94.554864,
          -100.493813,
          -93.9288723,
          -97.7970748,
          -94.7288558,
          -95.555513,
          -102.0974881,
          -98.3252932,
          -96.8570183,
          -102.398778,
          -93.9923965,
          -96.56388,
          -97.464453,
          -101.3919481,
          -98.0522376,
          -106.441207,
          -96.7561083,
          -97.9907362,
          -97.4583538,
          -97.6960599,
          -94.9175485,
          -97.743911,
          -95.2621553,
          -95.4343859,
          -97.856109,
          -97.1332963,
          -99.1399464,
          -95.1238204,
          -97.0155703,
          -111.6114726,
          -111.6587085,
          -112.0244841,
          -111.6944313,
          -111.9367107,
          -113.1966394,
          -111.8721601,
          -111.8953815,
          -111.9678627,
          -113.061827,
          -111.8349145,
          -111.888417,
          -111.7386884,
          -112.0273739,
          -111.8804817,
          -112.0154991,
          -111.9650256,
          -111.9106607,
          -111.7959146,
          -111.6547774,
          -111.9395211,
          -111.9738429,
          -111.886797,
          -111.8882709,
          -73.212906,
          -73.1715669,
          -72.9802826,
          -73.15461,
          -77.0470229,
          -78.8893999,
          -76.2466798,
          -80.054667,
          -78.8688833,
          -77.43428,
          -78.4766781,
          -76.297699,
          -79.1422464,
          -80.5764477,
          -77.2872001,
          -79.9414313,
          -79.072557,
          -77.4752667,
          -76.3921461,
          -78.1652404,
          -79.8725386,
          -78.1917718,
          -80.4136767,
          -76.3452057,
          -77.3859479,
          -76.2863999,
          -79.3950228,
          -76.7074042,
          -77.5645446,
          -76.42977,
          -77.4605399,
          -77.4019268,
          -75.9774183,
          -80.4089389,
          -76.5835703,
          -77.4112016,
          -77.2651762,
          -120.510842,
          -122.2034496,
          -122.2270272,
          -118.5174284,
          -122.439874,
          -122.2559156,
          -122.2068288,
          -122.201399,
          -123.430741,
          -122.623735,
          -122.8072257,
          -122.32642,
          -119.278077,
          -122.478836,
          -122.934462,
          -122.8950075,
          -122.29214,
          -119.119919,
          -122.330062,
          -117.173895,
          -122.1238767,
          -122.2301808,
          -122.1920249,
          -120.310349,
          -122.643224,
          -122.6246836,
          -120.0081898,
          -122.96143,
          -122.3774952,
          -119.0921,
          -119.275205,
          -122.192337,
          -120.545122,
          -117.42351,
          -122.3099093,
          -122.905299,
          -122.6744557,
          -122.22014226861953,
          -123.815722,
          -122.3053932,
          -80.1425781,
          -81.5512639,
          -82.445154,
          -79.9559437,
          -80.7209149,
          -81.6332812,
          -81.69957,
          -77.9639604,
          -80.5895167,
          -81.2223195,
          -80.7432124,
          -81.5506916,
          -80.3445341,
          -81.1881557,
          -91.2343539,
          -88.5408574,
          -88.1261984,
          -88.4465361,
          -88.1389779,
          -88.0409574,
          -88.2314813,
          -87.8212263,
          -92.6255075,
          -88.1103691,
          -87.827992,
          -88.7292679,
          -89.8228767,
          -91.2514355,
          -87.9370433,
          -87.8043925,
          -90.1717987,
          -87.5692479,
          -88.4992659,
          -87.8631362,
          -90.6397264,
          -88.837329,
          -89.3837613,
          -87.8881302,
          -89.031784,
          -89.423817,
          -87.922497,
          -88.0070315,
          -88.2720503,
          -88.0125794,
          -89.5119565,
          -87.9356423,
          -87.861471,
          -89.2134359,
          -89.0226793,
          -87.9822969,
          -87.8606367,
          -87.7825242,
          -91.9193422,
          -87.9959191,
          -88.0079271,
          -88.4493796,
          -89.6298239,
          -91.3932118,
          -88.060735,
          -88.462609,
          -88.4069744,
          -88.7286352,
          -89.574111,
          -88.8370509,
          -88.1834277,
          -88.0599986,
          -88.1170784,
          -87.851473,
          -87.972722,
          -87.9000856,
          -88.4406674,
          -92.1040796,
          -91.4984941,
          -88.1090391,
          -104.820246,
          -109.466473,
          -106.956179,
          -110.963758,
          -105.501876,
          -105.591101,
          -109.2194544
         ],
         "marker": {
          "color": [
           0.1,
           0.15,
           0.05,
           0.09,
           0.51,
           0.8,
           1,
           1,
           0.28,
           0.23,
           0.25,
           0.15,
           0.03,
           0.31,
           0.34,
           0.06,
           0.55,
           0.22,
           0.53,
           0.9,
           0.53,
           0.65,
           0.01,
           0.08,
           0.16,
           1,
           0.35,
           1,
           0.22,
           0.41,
           0.01,
           0.5,
           0.15,
           0.52,
           0.02,
           0.14,
           0.19,
           0.35,
           1,
           0.03,
           0.44,
           0.62,
           1,
           0.36,
           0.05,
           0.31,
           0.07,
           0.57,
           0.3,
           0.2,
           0.34,
           0.08,
           0.33,
           0.18,
           0.09,
           0.45,
           0.34,
           0.32,
           0.16,
           0.1,
           0.06,
           0.05,
           0.1,
           0.17,
           0.4,
           0.23,
           0.3,
           0.11,
           0.19,
           0.07,
           0.61,
           0.9,
           0.04,
           0.36,
           0.21,
           0.08,
           0.57,
           0.24,
           0.34,
           1,
           0.03,
           0.04,
           0.05,
           0.54,
           0.09,
           0.24,
           0.29,
           0.42,
           0.11,
           0.02,
           0.2,
           0.06,
           0.16,
           1,
           0.33,
           0.13,
           0.1,
           0.46,
           0.12,
           0.25,
           0.39,
           0.13,
           0.5,
           0.22,
           0.04,
           0.23,
           0.06,
           0.2,
           0.26,
           1,
           0.23,
           0.26,
           0.19,
           1,
           0.43,
           0.36,
           0.14,
           0.2,
           0.1,
           0.11,
           0.09,
           0.54,
           0.29,
           0.1,
           0.39,
           0.19,
           0.41,
           1,
           0.07,
           0.36,
           0.52,
           0.86,
           0.13,
           0.2,
           0.56,
           0.22,
           0.41,
           1,
           0.37,
           0.12,
           1,
           0.16,
           0.53,
           0.42,
           0.25,
           0.68,
           0.08,
           0.5,
           0.39,
           0.83,
           0.34,
           0.22,
           0.4,
           0.13,
           0.23,
           0.35,
           0.07,
           0.24,
           0.22,
           0.24,
           0.19,
           0.33,
           0.1,
           0.01,
           0.21,
           0.9,
           0.82,
           0.23,
           0.28,
           0.16,
           0.45,
           0.08,
           0.61,
           0.14,
           0.62,
           0.37,
           0.27,
           0.36,
           0.25,
           0.16,
           0.07,
           0.15,
           0.41,
           0.24,
           0.13,
           0.26,
           0.29,
           0.3,
           1,
           0.5,
           0.15,
           0.19,
           0.11,
           0.22,
           0.33,
           0.13,
           0.37,
           0.25,
           0.03,
           0.42,
           0.38,
           0.27,
           0.06,
           0.81,
           0.69,
           0.25,
           0.14,
           0.53,
           0.29,
           0.33,
           0.2,
           0.22,
           0.36,
           0.25,
           0.18,
           0.49,
           0.28,
           0.67,
           0.14,
           0.48,
           0.53,
           0.45,
           0.3,
           0.75,
           0.3,
           0.32,
           0.48,
           0.11,
           0.26,
           0.2,
           0.16,
           0.14,
           0.29,
           0.13,
           0.11,
           0.25,
           0.32,
           0.63,
           0.29,
           0.67,
           0.16,
           0.36,
           0.38,
           0.11,
           0.18,
           0.37,
           0.05,
           0.38,
           0.24,
           0.19,
           0.06,
           0.16,
           1,
           0.04,
           0.2,
           0.4,
           0.1,
           0.19,
           0.2,
           0.15,
           0.45,
           0.41,
           0.22,
           0.45,
           0.6,
           0.38,
           0.16,
           0.3,
           1,
           0.38,
           0.66,
           0.51,
           0.12,
           0.06,
           0.2,
           0.17,
           0.2,
           0.16,
           0.51,
           0.1,
           0.31,
           0.26,
           0.27,
           0.31,
           0.22,
           0.12,
           0.55,
           0.21,
           0.03,
           0.57,
           0.41,
           0.37,
           0.32,
           0.25,
           0.14,
           0.65,
           0.15,
           0.47,
           0.36,
           0.15,
           0.15,
           0.57,
           0.12,
           0.39,
           0.14,
           0.52,
           0.33,
           0.7,
           0.54,
           0.14,
           0.28,
           0.53,
           0.59,
           0.52,
           0.14,
           0.25,
           0.97,
           0.18,
           0.36,
           0.3,
           0.48,
           0.2,
           0.24,
           0.11,
           0.37,
           0.14,
           0.08,
           0.14,
           0.21,
           0.4,
           0.68,
           0.45,
           0.24,
           0.26,
           0.49,
           0.36,
           0.25,
           0.32,
           0.54,
           0.7,
           0.84,
           0.31,
           0.21,
           0.34,
           0.25,
           0.45,
           0.68,
           0.22,
           0.62,
           0.29,
           0.18,
           0.16,
           0.1,
           0.02,
           0.31,
           0.51,
           0.15,
           0.27,
           0.08,
           0.22,
           0.26,
           0.27,
           0.55,
           0.67,
           0.17,
           0.14,
           0.68,
           0.86,
           0.03,
           0.11,
           0.15,
           0.14,
           0.62,
           0.32,
           0.24,
           0.43,
           0.12,
           0.11,
           0.09,
           0.21,
           0.15,
           0.12,
           0.07,
           0.2,
           0.16,
           0.11,
           0.15,
           0.13,
           0.11,
           0.08,
           0.07,
           0.7,
           0.75,
           0.09,
           0.02,
           0.08,
           0.04,
           0.02,
           0.19,
           0.04,
           0.14,
           0.14,
           0.06,
           0.23,
           0.08,
           0.04,
           0.04,
           0.05,
           0.06,
           0.03,
           0.21,
           0.07,
           0.88,
           0.03,
           0.04,
           0.03,
           0.02,
           0.03,
           0.11,
           0.03,
           0.01,
           0.16,
           0.12,
           0.02,
           0.03,
           0.09,
           0.02,
           0.02,
           0.02,
           0.03,
           0.02,
           0.04,
           0.09,
           0.03,
           0.08,
           0.02,
           0.3,
           0,
           0.29,
           0.17,
           0.02,
           0.04,
           0.06,
           0.04,
           0.94,
           0.01,
           0.18,
           0.02,
           0.1,
           0.02,
           0.01,
           0.03,
           0.02,
           0.22,
           0.06,
           0.14,
           0.79,
           0.09,
           0.05,
           0.09,
           0.08,
           0.09,
           0.04,
           0.37,
           1,
           0.65,
           0.67,
           1,
           0.76,
           0.13,
           0.08,
           0.06,
           0.54,
           0.82,
           0.58,
           0.59,
           0.35,
           0.21,
           0.1,
           0.15,
           0.59,
           0.22,
           0.26,
           0.63,
           0.21,
           0.45,
           0.36,
           1,
           0.59,
           0.63,
           0.34,
           0.5,
           0.18,
           0.23,
           0.59,
           0.11,
           0.39,
           0.08,
           0.26,
           0.86,
           0.14,
           0.48,
           0.56,
           1,
           0.26,
           0.25,
           0.21,
           0.21,
           0.34,
           0.17,
           0.34,
           0.41,
           0.23,
           0.27,
           0.81,
           0.2,
           0.73,
           0.22,
           0.18,
           0.95,
           0.63,
           0.24,
           1,
           0.6,
           0.4,
           1,
           0.82,
           0.8,
           0.31,
           0.69,
           0.14,
           0.87,
           0.54,
           0.07,
           0.69,
           0.48,
           1,
           1,
           0.39,
           0.12,
           0.15,
           0.17,
           0.09,
           1,
           0.45,
           0.14,
           0.83,
           0.19,
           0.66,
           0.22,
           1,
           0.15,
           0.13,
           0.4,
           0.75,
           0.34,
           0.42,
           0.46,
           0.25,
           0.33,
           0,
           0.25,
           0.51,
           0.78,
           0.41,
           0.65,
           0.56,
           0.4,
           0.3,
           0.47,
           0.11,
           0.03,
           0.77,
           0.25,
           0.35,
           0.03,
           0.56,
           0.35,
           0.55,
           0.41,
           1,
           0.71,
           0.15,
           0.15,
           0.34,
           0.53,
           0.86,
           0.08,
           0.18,
           0.24,
           0.13,
           0.3,
           0.14,
           0.1,
           0.14,
           0.07,
           0.02,
           0.18,
           0.13,
           0.02,
           0.28,
           0.11,
           0.1,
           0.01,
           0.18,
           0.45,
           0.08,
           1,
           0.03,
           0.01,
           0.58,
           0.23,
           0.07,
           0.89,
           0.41,
           0.69,
           0.08,
           0.17,
           0.05,
           0.13,
           0.03,
           0.09,
           0.53,
           0.53,
           0.34,
           0.18,
           0.09,
           0.12,
           0.07,
           0.01,
           0.08,
           0.08,
           0.01,
           0.15,
           0.07,
           0.03,
           0.27,
           0.05,
           0.21,
           0.22,
           0.29,
           0.24,
           0.2,
           0.11,
           0.13,
           0.06,
           0.08,
           0.19,
           0,
           0.45,
           0.01,
           0.65,
           0.13,
           0.3,
           0.07,
           0.04,
           0.27,
           0.63,
           0.03,
           0.19,
           0.04,
           0.06,
           0.16,
           0.05,
           0.05,
           0.01,
           0.04,
           0.36,
           0.36,
           0.45,
           0.03,
           0.23,
           0.26,
           0.04,
           0.32,
           0.21,
           0.11,
           0.21,
           0.14,
           0.48,
           0.33,
           0.19,
           0.19,
           0.53,
           0.43,
           0.41,
           0.24,
           0.16,
           0.03,
           0.15,
           0.19,
           0.69,
           0.66,
           0.27,
           0.25,
           0.39,
           1,
           0.53,
           0.84,
           0.05,
           0.5,
           0.33,
           0.61,
           0.14,
           0.42,
           0.37,
           0.81,
           0.6,
           0.44,
           0.36,
           0.53,
           0.66,
           0.33,
           1,
           0.44,
           0.5,
           0.28,
           0.06,
           0.01,
           0.01,
           0.09,
           0.07,
           0.04,
           0.09,
           0.01,
           0.15,
           0.07,
           0.01,
           0.05,
           0.03,
           0.04,
           0.03,
           0.03,
           0.2,
           0.59,
           1,
           0.26,
           0.62,
           0.23,
           0.91,
           0.46,
           0.26,
           0.43,
           0.51,
           0.29,
           0.27,
           0.04,
           0.02,
           0.21,
           0.7,
           0.15,
           0.53,
           0.17,
           0.09,
           0.15,
           0.09,
           0.37,
           0.07,
           0.11,
           0.04,
           0.1,
           0.26,
           0.01,
           0.06,
           0.01,
           0.15,
           0.13,
           0.12,
           0.09,
           0.49,
           0.16,
           0.12,
           0.69,
           0.18,
           0.1,
           0.12,
           0.05,
           0.75,
           0.02,
           0.28,
           0.37,
           0.03,
           0.2,
           0.18,
           0.05,
           0.06,
           0.07,
           0.14,
           0.06,
           0.13,
           0.02,
           0.02,
           0.1,
           0.11,
           0.09,
           0.09,
           0.06,
           0.07,
           0.4,
           0.59,
           0.08,
           0.18,
           0.01,
           0.69,
           0.11,
           0.08,
           0.37,
           0.18,
           0.05,
           0.15,
           0.06,
           0.34,
           0.08,
           0.08,
           0.14,
           0.28,
           0.44,
           0.32,
           0.03,
           0.08,
           0.22,
           0.81,
           0.73,
           0.04,
           0,
           0.11,
           0.03,
           0.24,
           0.11,
           0.08,
           0.17,
           0.21,
           0.12,
           0.02,
           0.09,
           0.15,
           0.13,
           0.06,
           0.1,
           0.24,
           0.09,
           0.22,
           0.88,
           0.41,
           0.05,
           0.37,
           0.04,
           0.13,
           0.08,
           0.03,
           0.02,
           0.23,
           0.15,
           0.04,
           0.08,
           0.03,
           0.2,
           0.17,
           0.15,
           0.11,
           0.31,
           0.25,
           0.19,
           0.04,
           0.02,
           0.54,
           0.2,
           0.75,
           0.08,
           0.11,
           0.15,
           0.12,
           0.04,
           0.31,
           0.23,
           0.29,
           0.1,
           0.96,
           0.23,
           0.45,
           0.2,
           0.59,
           0.16,
           0.13,
           0.18,
           0.05,
           0.12,
           0.32,
           0.3,
           0.29,
           0.09,
           0.19,
           0.04,
           0.09,
           0.15,
           0.11,
           0.05,
           0.02,
           0.03,
           0.31,
           0.05,
           0.06,
           0.41,
           0.24,
           0.05,
           0.27,
           0.54,
           0.11,
           0.22,
           0.17,
           0.08,
           0.18,
           0.09,
           0.14,
           0.32,
           0.24,
           0.09,
           0.22,
           0.16,
           0.17,
           0.06,
           0.35,
           0.07,
           0.07,
           0.14,
           0.24,
           0.21,
           1,
           0.26,
           0.06,
           0.1,
           0.16,
           0.17,
           0.19,
           0.28,
           0.12,
           0.11,
           0.42,
           0.2,
           0.16,
           0.04,
           0.06,
           0.06,
           0.02,
           0.12,
           0.03,
           0.06,
           0.17,
           0.01,
           0.04,
           0.26,
           0.09,
           0.1,
           0.01,
           0.03,
           0.09,
           0.03,
           0.04,
           0.06,
           0.09,
           0.02,
           0.07,
           0.1,
           0.08,
           0.06,
           0.07,
           0.05,
           0.26,
           0.03,
           0.44,
           0.1,
           0.04,
           0.08,
           0.04,
           0.23,
           0.08,
           0.17,
           0.13,
           0.12,
           0.16,
           0.19,
           0.17,
           0.93,
           0.03,
           0.24,
           0.05,
           0.14,
           0.01,
           0.03,
           0.71,
           0.02,
           0.09,
           0.18,
           0.37,
           0.04,
           0.04,
           0.11,
           0.04,
           0.12,
           0.02,
           0.32,
           0.03,
           0.24,
           0.12,
           0.33,
           0.08,
           0.06,
           0.05,
           0.09,
           0.11,
           0.03,
           0.07,
           0.62,
           0.28,
           0.07,
           0.04,
           0.2,
           0.12,
           0.1,
           0.12,
           0.05,
           0.12,
           0.02,
           0.04,
           0.05,
           0.19,
           0.17,
           0.08,
           0.09,
           0.05,
           1,
           0.23,
           0.2,
           0.04,
           0.04,
           0.05,
           0.21,
           0.05,
           0.18,
           0.39,
           0.17,
           0.6,
           0.02,
           0.1,
           0.03,
           0.04,
           0.03,
           0.12,
           0.03,
           0.22,
           0.03,
           1,
           0.02,
           0.21,
           0.05,
           0.06,
           0.02,
           0.5,
           0.08,
           0.02,
           0.06,
           0.03,
           0.38,
           0.13,
           0.05,
           0.02,
           0.06,
           0.65,
           0.03,
           0.06,
           0.01,
           0.16,
           1,
           0.07,
           0.13,
           0.02,
           0.09,
           0.03,
           0.11,
           0.18,
           0.25,
           0.11,
           0.05,
           0.11,
           0.03,
           0.05,
           1,
           0.16,
           0.04,
           0.04,
           0.54,
           0.08,
           0.2,
           0.12,
           0.09,
           0.09,
           0.04,
           0.04,
           0.07,
           0.1,
           0.04,
           0.1,
           0.13,
           0.03,
           0.06,
           0.85,
           0.1,
           0.04,
           0.04,
           0.02,
           0.03,
           0.05,
           0.03,
           0.03,
           0.15,
           0.03,
           0.04,
           0.04,
           0.16,
           0.04,
           0.04,
           0.05,
           0.04,
           0.24,
           0.13,
           0.06,
           0.12,
           0.18,
           0.26,
           0.65,
           0.06,
           0.27,
           0.17,
           0.18,
           0.04,
           0.06,
           0.1,
           0.08,
           0.06,
           0.09,
           0.1,
           0.02,
           0.04,
           0.05,
           0.1,
           0.19,
           0.18,
           0.02,
           0.04,
           0.83,
           0.04,
           0.04,
           0.07,
           0.2,
           0.28,
           1,
           1,
           0.51,
           0.03,
           0.12,
           0.12,
           0.04,
           0.16,
           0.08,
           0.1,
           0.01,
           0.17,
           0.36,
           0.11,
           0.12,
           0.85,
           0.12,
           0.34,
           0.34,
           0.2,
           0.22,
           0.12,
           0.54,
           0.66,
           0.66,
           0.25,
           0.6,
           0.07,
           0.08,
           0,
           0.1,
           0.08,
           0.43,
           0.48,
           0.49,
           0.12,
           0.31,
           0.45,
           0.3,
           0.27,
           0.04,
           0.38,
           0.13,
           0.15,
           0.87,
           0.23,
           0.64,
           0.59,
           0.8,
           0.15,
           0.82,
           0.05,
           0.2,
           0.04,
           0.02,
           0.01,
           0.06,
           0.01,
           0.08,
           0.2,
           0.16,
           0.28,
           0.11,
           0.02,
           0.3,
           0.05,
           0.18,
           0.28,
           0.35,
           0.14,
           0.55,
           0,
           0.52,
           0.46,
           0.26,
           0.37,
           0.28,
           0.26,
           0.4,
           0.61,
           0.11,
           0.39,
           0.29,
           0.21,
           0.06,
           0.53,
           0.3,
           0.55,
           0.61,
           0.6,
           0.74,
           0.4,
           0.37,
           0.59,
           0.24,
           0.91,
           0.21,
           0.12,
           0.51,
           0.2,
           0.34,
           0.22,
           0.35,
           0.5,
           0.46,
           0.36,
           0.48,
           0.2,
           0.52,
           0.36,
           0.65,
           0.73,
           0.19,
           0.23,
           0.86,
           0.07,
           0.42,
           0.45,
           0.02,
           0.02,
           0.05,
           0.05,
           0.05,
           0.02,
           0.03,
           0.04,
           0.97,
           0.06,
           0,
           0.03,
           0.02,
           0.45,
           0.06,
           0.1,
           0.09,
           0.04,
           0.38,
           0.03,
           0.02,
           0.67,
           0.14,
           0.03,
           0.05,
           0.04,
           0.03,
           0.59,
           0.07,
           0.62,
           0.11,
           0.16,
           0.79,
           0.1,
           0.1,
           0.05,
           0.09,
           0.01,
           0.3,
           0.12,
           0.05,
           0.05,
           0.04,
           0.04,
           1,
           0.42,
           0.13,
           0.1,
           0.02,
           0.19,
           0.1,
           0.69,
           0.32,
           0.09,
           0.95,
           0.14,
           0.01,
           0.05,
           0.05,
           0.02,
           0.16,
           0.09,
           0.1,
           0.03,
           0.08,
           0.1,
           0.08,
           0.14,
           0.15,
           0.64,
           0.06,
           0.04,
           0.18,
           0.05,
           0.06,
           0.17,
           0.07,
           0.27,
           0.05,
           0.04,
           0.04,
           0.12,
           0.02,
           0.15,
           0.19,
           0.03,
           0.18,
           0.13,
           0.05,
           0.07,
           0.07,
           0.01,
           0.41,
           0.12,
           0.11,
           0.03,
           0.05,
           0.03,
           0.03,
           0.08,
           0.12,
           0.2,
           0.07,
           0.03,
           0.05,
           0.06,
           0.11,
           0.51,
           0.02,
           0.05,
           0.17,
           0.17,
           0.2,
           0.46,
           0.1,
           0.17,
           0.07,
           0.12,
           0.16,
           0.39,
           0.19,
           0.1,
           0.18,
           0.09,
           0.47,
           0.54,
           0.21,
           0.48,
           0.07,
           0.3,
           0.18,
           0.06,
           0.21,
           0.09,
           0.12,
           0.09,
           0.14,
           0.21,
           0.17,
           0.57,
           0.15,
           0.37,
           0.05,
           0.41,
           0.25,
           0.12,
           0.06,
           0.22,
           0.07,
           0.07,
           0.13,
           0.1,
           0.11,
           0.21,
           0.22,
           0.13,
           0.21,
           0.27,
           0.05,
           0.12,
           0.09,
           0.06,
           0.14,
           0.07,
           0.21,
           0.09,
           0.07,
           0.1,
           0.09,
           0.22,
           0.09,
           0.12,
           0.1,
           0.13,
           0.12,
           0.08,
           0.19,
           0.76,
           0.11,
           0.14,
           0.06,
           0.1,
           0.06,
           0.16,
           0.13,
           0.19,
           0.52,
           0.53,
           0.87,
           0.19,
           0.05,
           0.15,
           0.13,
           0.03,
           0.06,
           0.05,
           0.04,
           0.03,
           0.01,
           0.17,
           0.09,
           0.06,
           0.05,
           0,
           0.19,
           0.03,
           0.04,
           0.05,
           0.29,
           0.12,
           0.09,
           0.07,
           0.28,
           0.02,
           0.03,
           0.02,
           0.09,
           0.05,
           0.02,
           0.03,
           0.03,
           0.1,
           0.22,
           0.04,
           0.13,
           0.22,
           0.12,
           0.06,
           0.02,
           0.03,
           0.03,
           0.03,
           0.01,
           0.32,
           0.02,
           0.19,
           0.05,
           0.03,
           1,
           0.1,
           0.11,
           1,
           0.03,
           0.03,
           0.02,
           0.06,
           0.49,
           0.03,
           0.15,
           0.17,
           0.06,
           0.02,
           0.04,
           0.35,
           0.07,
           0.05,
           0.07,
           0.01,
           0.02,
           0.12,
           0.02,
           0.08,
           0.03,
           0.06,
           0.44,
           0.03,
           0.12,
           0.02,
           0.12,
           0.21,
           0.04,
           0.06,
           0.06,
           0.02,
           0.13,
           0.05,
           0.36,
           0.03,
           0.15,
           0.08,
           0.06,
           0.05,
           0.04,
           0.09,
           0.21,
           0.03,
           0.1,
           0.05,
           0.15,
           0.04,
           0.04,
           0.19,
           0.03,
           0.03,
           0.02,
           0.18,
           0.49,
           0,
           0.22,
           0.26,
           0.03,
           0.03,
           0.05,
           0.07,
           0.04,
           0.06,
           0.61,
           0.17,
           0.32,
           0.38,
           0.06,
           0.85,
           0.09,
           0.2,
           0.23,
           0.74,
           0.76,
           0.06,
           0.16,
           1,
           0.06,
           0.53,
           0.29,
           0.78,
           0.93,
           0.6,
           0.1,
           0.87,
           0.07,
           0.21,
           0.55,
           0.69,
           1,
           0.23,
           0.72,
           0.53,
           0.6,
           0.63,
           0.15,
           0.03,
           0.07,
           0.02,
           0.18,
           0.12,
           0.08,
           0.08,
           0.08,
           0.18,
           0.01,
           0.35,
           0.03,
           0.3,
           0.24,
           0.33,
           0.08,
           0.7,
           0.1,
           0.26,
           0.12,
           0.17,
           0.67,
           0.38,
           0.36,
           0.16,
           0.17,
           0.41,
           0.21,
           0.06,
           0.24,
           0.47,
           0.81,
           0.12,
           0.4,
           0.28,
           0.63,
           0.38,
           0.25,
           0.03,
           0.7,
           0.14,
           0.57,
           0.1,
           0.24,
           0.2,
           0.28,
           0.64,
           0.17,
           0.24,
           0.17,
           0.06,
           0.59,
           0.34,
           0.27,
           0.49,
           0.13,
           0.12,
           0.08,
           0.28,
           0.17,
           0.16,
           0.14,
           0.08,
           0.28,
           0.11,
           0.72,
           0.47,
           0.03,
           0.24,
           0.09,
           0.09,
           0.07,
           0.31,
           0.14,
           0.39,
           0.5,
           0.07,
           0.06,
           0.32,
           0.36,
           0.39,
           0.11,
           0.25,
           0.83,
           0.39,
           0.18,
           0.33,
           0.27,
           0.14,
           0.31,
           0.31,
           0.11,
           0.09,
           0.58,
           0.27,
           0.19,
           0.51,
           0.72,
           0.12,
           0.14,
           0.01,
           0.06,
           0.1,
           0.09,
           0.07,
           0.05,
           0.39,
           0.11,
           1,
           0.14,
           0.52,
           0.1,
           0.04,
           0.27,
           0.63,
           0.23,
           0.6,
           0.12,
           0.28,
           0.2,
           0.28,
           0.29,
           0.34,
           0.23,
           0.19,
           0.54,
           0.31,
           0.48,
           0.13,
           0.12,
           0.29,
           0.52,
           0.51,
           0.21,
           0.15,
           0.13,
           0.13,
           0.43,
           0.06,
           0.11,
           0.04,
           0.08,
           0.19,
           0.26,
           0.06,
           0.21,
           0.22,
           0.16,
           0.23,
           0.52,
           0.71,
           0.11,
           0.23,
           0.25,
           0.29,
           0.28,
           0.48,
           0.03,
           0.33,
           0.33,
           0.11,
           0.35,
           0.14,
           0.08,
           0.34,
           0.16,
           0.29,
           0.32,
           0.3,
           0.3,
           0.28,
           0.5,
           0.29,
           0.68,
           0.15,
           0.33,
           0.74,
           0.35,
           0.07,
           0.11,
           0.19,
           0.06,
           0.14,
           0.12,
           0.1,
           0.12,
           0.43,
           0.2,
           0.2,
           0.16,
           0.31,
           0.28,
           0.05,
           0.32,
           0.03,
           0.34,
           0.11,
           0.1,
           0.09,
           0.02,
           0.1,
           0.07,
           0.07,
           0.03,
           0.08,
           0.08,
           0.05,
           0.05,
           0.07,
           0.04,
           0.04,
           0.11,
           0.04,
           0.15,
           0.06,
           0.04,
           0.02,
           0.2,
           0.08,
           0.04,
           0.04,
           0.24,
           0.33,
           0.25,
           0.07,
           0.05,
           0.06,
           0.01,
           0.27,
           0.14,
           0.18,
           0.04,
           0.06,
           0.67,
           0.29,
           0.54,
           0.31,
           0.15,
           0.29,
           0.24,
           0.07,
           0.12,
           0.15,
           0.29,
           0.28,
           0.07,
           0.05,
           0.19,
           0.05,
           0.47,
           0.16,
           0.09,
           0.06,
           0.35,
           0.18,
           0.55,
           0.12,
           0.05,
           0.38,
           0.1,
           0.04,
           0.5,
           0.25,
           0.22,
           0.37,
           0.76,
           0.67,
           0.09,
           0.22,
           0.1,
           0.03,
           0.12,
           0.09,
           0.47,
           0.14,
           0.14,
           0.13,
           0.12,
           0.16,
           0.58,
           0.09,
           0.06,
           0.18,
           0.09,
           0.2,
           0.04,
           0.26,
           0.39,
           0.22,
           0.08,
           0.36,
           0.1,
           0.09,
           0.08,
           0.33,
           0.23,
           0.31,
           0.36,
           0.04,
           0.22,
           0.15,
           0.22,
           0.01,
           0.23,
           0.15,
           0.22,
           0.56,
           0.09,
           0.16,
           0.1,
           0.13,
           0.02,
           0.09,
           0.03,
           0.49,
           0.02,
           0.06,
           0.07,
           0.02,
           0.01,
           0.05,
           0.06,
           0.22,
           0.04,
           0.03,
           0.05,
           0.06,
           0.11,
           0.03,
           0.06,
           0.02,
           0.06,
           0.02,
           0.07,
           0.05,
           0.03,
           0.11,
           0.13,
           0.07,
           0.14,
           0.1,
           0.4,
           0.1,
           0.03,
           0.18,
           0.03,
           0.17,
           0.09,
           0.03,
           0.08,
           0,
           0.05,
           0.34,
           0.02,
           0.03,
           0.07,
           0.16,
           0.02,
           0.02,
           0.06,
           0.07,
           0.03,
           0.04,
           0.1,
           0.03,
           0.05,
           0.07,
           0.04,
           0.09,
           0.06,
           0.01,
           0.09,
           0.11,
           0.06,
           0.05,
           0.08,
           0.06,
           0.06,
           0.11,
           0.15,
           0.12,
           0.27
          ],
          "coloraxis": "coloraxis",
          "size": [
           0.1,
           0.15,
           0.05,
           0.09,
           0.51,
           0.8,
           1,
           1,
           0.28,
           0.23,
           0.25,
           0.15,
           0.03,
           0.31,
           0.34,
           0.06,
           0.55,
           0.22,
           0.53,
           0.9,
           0.53,
           0.65,
           0.01,
           0.08,
           0.16,
           1,
           0.35,
           1,
           0.22,
           0.41,
           0.01,
           0.5,
           0.15,
           0.52,
           0.02,
           0.14,
           0.19,
           0.35,
           1,
           0.03,
           0.44,
           0.62,
           1,
           0.36,
           0.05,
           0.31,
           0.07,
           0.57,
           0.3,
           0.2,
           0.34,
           0.08,
           0.33,
           0.18,
           0.09,
           0.45,
           0.34,
           0.32,
           0.16,
           0.1,
           0.06,
           0.05,
           0.1,
           0.17,
           0.4,
           0.23,
           0.3,
           0.11,
           0.19,
           0.07,
           0.61,
           0.9,
           0.04,
           0.36,
           0.21,
           0.08,
           0.57,
           0.24,
           0.34,
           1,
           0.03,
           0.04,
           0.05,
           0.54,
           0.09,
           0.24,
           0.29,
           0.42,
           0.11,
           0.02,
           0.2,
           0.06,
           0.16,
           1,
           0.33,
           0.13,
           0.1,
           0.46,
           0.12,
           0.25,
           0.39,
           0.13,
           0.5,
           0.22,
           0.04,
           0.23,
           0.06,
           0.2,
           0.26,
           1,
           0.23,
           0.26,
           0.19,
           1,
           0.43,
           0.36,
           0.14,
           0.2,
           0.1,
           0.11,
           0.09,
           0.54,
           0.29,
           0.1,
           0.39,
           0.19,
           0.41,
           1,
           0.07,
           0.36,
           0.52,
           0.86,
           0.13,
           0.2,
           0.56,
           0.22,
           0.41,
           1,
           0.37,
           0.12,
           1,
           0.16,
           0.53,
           0.42,
           0.25,
           0.68,
           0.08,
           0.5,
           0.39,
           0.83,
           0.34,
           0.22,
           0.4,
           0.13,
           0.23,
           0.35,
           0.07,
           0.24,
           0.22,
           0.24,
           0.19,
           0.33,
           0.1,
           0.01,
           0.21,
           0.9,
           0.82,
           0.23,
           0.28,
           0.16,
           0.45,
           0.08,
           0.61,
           0.14,
           0.62,
           0.37,
           0.27,
           0.36,
           0.25,
           0.16,
           0.07,
           0.15,
           0.41,
           0.24,
           0.13,
           0.26,
           0.29,
           0.3,
           1,
           0.5,
           0.15,
           0.19,
           0.11,
           0.22,
           0.33,
           0.13,
           0.37,
           0.25,
           0.03,
           0.42,
           0.38,
           0.27,
           0.06,
           0.81,
           0.69,
           0.25,
           0.14,
           0.53,
           0.29,
           0.33,
           0.2,
           0.22,
           0.36,
           0.25,
           0.18,
           0.49,
           0.28,
           0.67,
           0.14,
           0.48,
           0.53,
           0.45,
           0.3,
           0.75,
           0.3,
           0.32,
           0.48,
           0.11,
           0.26,
           0.2,
           0.16,
           0.14,
           0.29,
           0.13,
           0.11,
           0.25,
           0.32,
           0.63,
           0.29,
           0.67,
           0.16,
           0.36,
           0.38,
           0.11,
           0.18,
           0.37,
           0.05,
           0.38,
           0.24,
           0.19,
           0.06,
           0.16,
           1,
           0.04,
           0.2,
           0.4,
           0.1,
           0.19,
           0.2,
           0.15,
           0.45,
           0.41,
           0.22,
           0.45,
           0.6,
           0.38,
           0.16,
           0.3,
           1,
           0.38,
           0.66,
           0.51,
           0.12,
           0.06,
           0.2,
           0.17,
           0.2,
           0.16,
           0.51,
           0.1,
           0.31,
           0.26,
           0.27,
           0.31,
           0.22,
           0.12,
           0.55,
           0.21,
           0.03,
           0.57,
           0.41,
           0.37,
           0.32,
           0.25,
           0.14,
           0.65,
           0.15,
           0.47,
           0.36,
           0.15,
           0.15,
           0.57,
           0.12,
           0.39,
           0.14,
           0.52,
           0.33,
           0.7,
           0.54,
           0.14,
           0.28,
           0.53,
           0.59,
           0.52,
           0.14,
           0.25,
           0.97,
           0.18,
           0.36,
           0.3,
           0.48,
           0.2,
           0.24,
           0.11,
           0.37,
           0.14,
           0.08,
           0.14,
           0.21,
           0.4,
           0.68,
           0.45,
           0.24,
           0.26,
           0.49,
           0.36,
           0.25,
           0.32,
           0.54,
           0.7,
           0.84,
           0.31,
           0.21,
           0.34,
           0.25,
           0.45,
           0.68,
           0.22,
           0.62,
           0.29,
           0.18,
           0.16,
           0.1,
           0.02,
           0.31,
           0.51,
           0.15,
           0.27,
           0.08,
           0.22,
           0.26,
           0.27,
           0.55,
           0.67,
           0.17,
           0.14,
           0.68,
           0.86,
           0.03,
           0.11,
           0.15,
           0.14,
           0.62,
           0.32,
           0.24,
           0.43,
           0.12,
           0.11,
           0.09,
           0.21,
           0.15,
           0.12,
           0.07,
           0.2,
           0.16,
           0.11,
           0.15,
           0.13,
           0.11,
           0.08,
           0.07,
           0.7,
           0.75,
           0.09,
           0.02,
           0.08,
           0.04,
           0.02,
           0.19,
           0.04,
           0.14,
           0.14,
           0.06,
           0.23,
           0.08,
           0.04,
           0.04,
           0.05,
           0.06,
           0.03,
           0.21,
           0.07,
           0.88,
           0.03,
           0.04,
           0.03,
           0.02,
           0.03,
           0.11,
           0.03,
           0.01,
           0.16,
           0.12,
           0.02,
           0.03,
           0.09,
           0.02,
           0.02,
           0.02,
           0.03,
           0.02,
           0.04,
           0.09,
           0.03,
           0.08,
           0.02,
           0.3,
           0,
           0.29,
           0.17,
           0.02,
           0.04,
           0.06,
           0.04,
           0.94,
           0.01,
           0.18,
           0.02,
           0.1,
           0.02,
           0.01,
           0.03,
           0.02,
           0.22,
           0.06,
           0.14,
           0.79,
           0.09,
           0.05,
           0.09,
           0.08,
           0.09,
           0.04,
           0.37,
           1,
           0.65,
           0.67,
           1,
           0.76,
           0.13,
           0.08,
           0.06,
           0.54,
           0.82,
           0.58,
           0.59,
           0.35,
           0.21,
           0.1,
           0.15,
           0.59,
           0.22,
           0.26,
           0.63,
           0.21,
           0.45,
           0.36,
           1,
           0.59,
           0.63,
           0.34,
           0.5,
           0.18,
           0.23,
           0.59,
           0.11,
           0.39,
           0.08,
           0.26,
           0.86,
           0.14,
           0.48,
           0.56,
           1,
           0.26,
           0.25,
           0.21,
           0.21,
           0.34,
           0.17,
           0.34,
           0.41,
           0.23,
           0.27,
           0.81,
           0.2,
           0.73,
           0.22,
           0.18,
           0.95,
           0.63,
           0.24,
           1,
           0.6,
           0.4,
           1,
           0.82,
           0.8,
           0.31,
           0.69,
           0.14,
           0.87,
           0.54,
           0.07,
           0.69,
           0.48,
           1,
           1,
           0.39,
           0.12,
           0.15,
           0.17,
           0.09,
           1,
           0.45,
           0.14,
           0.83,
           0.19,
           0.66,
           0.22,
           1,
           0.15,
           0.13,
           0.4,
           0.75,
           0.34,
           0.42,
           0.46,
           0.25,
           0.33,
           0,
           0.25,
           0.51,
           0.78,
           0.41,
           0.65,
           0.56,
           0.4,
           0.3,
           0.47,
           0.11,
           0.03,
           0.77,
           0.25,
           0.35,
           0.03,
           0.56,
           0.35,
           0.55,
           0.41,
           1,
           0.71,
           0.15,
           0.15,
           0.34,
           0.53,
           0.86,
           0.08,
           0.18,
           0.24,
           0.13,
           0.3,
           0.14,
           0.1,
           0.14,
           0.07,
           0.02,
           0.18,
           0.13,
           0.02,
           0.28,
           0.11,
           0.1,
           0.01,
           0.18,
           0.45,
           0.08,
           1,
           0.03,
           0.01,
           0.58,
           0.23,
           0.07,
           0.89,
           0.41,
           0.69,
           0.08,
           0.17,
           0.05,
           0.13,
           0.03,
           0.09,
           0.53,
           0.53,
           0.34,
           0.18,
           0.09,
           0.12,
           0.07,
           0.01,
           0.08,
           0.08,
           0.01,
           0.15,
           0.07,
           0.03,
           0.27,
           0.05,
           0.21,
           0.22,
           0.29,
           0.24,
           0.2,
           0.11,
           0.13,
           0.06,
           0.08,
           0.19,
           0,
           0.45,
           0.01,
           0.65,
           0.13,
           0.3,
           0.07,
           0.04,
           0.27,
           0.63,
           0.03,
           0.19,
           0.04,
           0.06,
           0.16,
           0.05,
           0.05,
           0.01,
           0.04,
           0.36,
           0.36,
           0.45,
           0.03,
           0.23,
           0.26,
           0.04,
           0.32,
           0.21,
           0.11,
           0.21,
           0.14,
           0.48,
           0.33,
           0.19,
           0.19,
           0.53,
           0.43,
           0.41,
           0.24,
           0.16,
           0.03,
           0.15,
           0.19,
           0.69,
           0.66,
           0.27,
           0.25,
           0.39,
           1,
           0.53,
           0.84,
           0.05,
           0.5,
           0.33,
           0.61,
           0.14,
           0.42,
           0.37,
           0.81,
           0.6,
           0.44,
           0.36,
           0.53,
           0.66,
           0.33,
           1,
           0.44,
           0.5,
           0.28,
           0.06,
           0.01,
           0.01,
           0.09,
           0.07,
           0.04,
           0.09,
           0.01,
           0.15,
           0.07,
           0.01,
           0.05,
           0.03,
           0.04,
           0.03,
           0.03,
           0.2,
           0.59,
           1,
           0.26,
           0.62,
           0.23,
           0.91,
           0.46,
           0.26,
           0.43,
           0.51,
           0.29,
           0.27,
           0.04,
           0.02,
           0.21,
           0.7,
           0.15,
           0.53,
           0.17,
           0.09,
           0.15,
           0.09,
           0.37,
           0.07,
           0.11,
           0.04,
           0.1,
           0.26,
           0.01,
           0.06,
           0.01,
           0.15,
           0.13,
           0.12,
           0.09,
           0.49,
           0.16,
           0.12,
           0.69,
           0.18,
           0.1,
           0.12,
           0.05,
           0.75,
           0.02,
           0.28,
           0.37,
           0.03,
           0.2,
           0.18,
           0.05,
           0.06,
           0.07,
           0.14,
           0.06,
           0.13,
           0.02,
           0.02,
           0.1,
           0.11,
           0.09,
           0.09,
           0.06,
           0.07,
           0.4,
           0.59,
           0.08,
           0.18,
           0.01,
           0.69,
           0.11,
           0.08,
           0.37,
           0.18,
           0.05,
           0.15,
           0.06,
           0.34,
           0.08,
           0.08,
           0.14,
           0.28,
           0.44,
           0.32,
           0.03,
           0.08,
           0.22,
           0.81,
           0.73,
           0.04,
           0,
           0.11,
           0.03,
           0.24,
           0.11,
           0.08,
           0.17,
           0.21,
           0.12,
           0.02,
           0.09,
           0.15,
           0.13,
           0.06,
           0.1,
           0.24,
           0.09,
           0.22,
           0.88,
           0.41,
           0.05,
           0.37,
           0.04,
           0.13,
           0.08,
           0.03,
           0.02,
           0.23,
           0.15,
           0.04,
           0.08,
           0.03,
           0.2,
           0.17,
           0.15,
           0.11,
           0.31,
           0.25,
           0.19,
           0.04,
           0.02,
           0.54,
           0.2,
           0.75,
           0.08,
           0.11,
           0.15,
           0.12,
           0.04,
           0.31,
           0.23,
           0.29,
           0.1,
           0.96,
           0.23,
           0.45,
           0.2,
           0.59,
           0.16,
           0.13,
           0.18,
           0.05,
           0.12,
           0.32,
           0.3,
           0.29,
           0.09,
           0.19,
           0.04,
           0.09,
           0.15,
           0.11,
           0.05,
           0.02,
           0.03,
           0.31,
           0.05,
           0.06,
           0.41,
           0.24,
           0.05,
           0.27,
           0.54,
           0.11,
           0.22,
           0.17,
           0.08,
           0.18,
           0.09,
           0.14,
           0.32,
           0.24,
           0.09,
           0.22,
           0.16,
           0.17,
           0.06,
           0.35,
           0.07,
           0.07,
           0.14,
           0.24,
           0.21,
           1,
           0.26,
           0.06,
           0.1,
           0.16,
           0.17,
           0.19,
           0.28,
           0.12,
           0.11,
           0.42,
           0.2,
           0.16,
           0.04,
           0.06,
           0.06,
           0.02,
           0.12,
           0.03,
           0.06,
           0.17,
           0.01,
           0.04,
           0.26,
           0.09,
           0.1,
           0.01,
           0.03,
           0.09,
           0.03,
           0.04,
           0.06,
           0.09,
           0.02,
           0.07,
           0.1,
           0.08,
           0.06,
           0.07,
           0.05,
           0.26,
           0.03,
           0.44,
           0.1,
           0.04,
           0.08,
           0.04,
           0.23,
           0.08,
           0.17,
           0.13,
           0.12,
           0.16,
           0.19,
           0.17,
           0.93,
           0.03,
           0.24,
           0.05,
           0.14,
           0.01,
           0.03,
           0.71,
           0.02,
           0.09,
           0.18,
           0.37,
           0.04,
           0.04,
           0.11,
           0.04,
           0.12,
           0.02,
           0.32,
           0.03,
           0.24,
           0.12,
           0.33,
           0.08,
           0.06,
           0.05,
           0.09,
           0.11,
           0.03,
           0.07,
           0.62,
           0.28,
           0.07,
           0.04,
           0.2,
           0.12,
           0.1,
           0.12,
           0.05,
           0.12,
           0.02,
           0.04,
           0.05,
           0.19,
           0.17,
           0.08,
           0.09,
           0.05,
           1,
           0.23,
           0.2,
           0.04,
           0.04,
           0.05,
           0.21,
           0.05,
           0.18,
           0.39,
           0.17,
           0.6,
           0.02,
           0.1,
           0.03,
           0.04,
           0.03,
           0.12,
           0.03,
           0.22,
           0.03,
           1,
           0.02,
           0.21,
           0.05,
           0.06,
           0.02,
           0.5,
           0.08,
           0.02,
           0.06,
           0.03,
           0.38,
           0.13,
           0.05,
           0.02,
           0.06,
           0.65,
           0.03,
           0.06,
           0.01,
           0.16,
           1,
           0.07,
           0.13,
           0.02,
           0.09,
           0.03,
           0.11,
           0.18,
           0.25,
           0.11,
           0.05,
           0.11,
           0.03,
           0.05,
           1,
           0.16,
           0.04,
           0.04,
           0.54,
           0.08,
           0.2,
           0.12,
           0.09,
           0.09,
           0.04,
           0.04,
           0.07,
           0.1,
           0.04,
           0.1,
           0.13,
           0.03,
           0.06,
           0.85,
           0.1,
           0.04,
           0.04,
           0.02,
           0.03,
           0.05,
           0.03,
           0.03,
           0.15,
           0.03,
           0.04,
           0.04,
           0.16,
           0.04,
           0.04,
           0.05,
           0.04,
           0.24,
           0.13,
           0.06,
           0.12,
           0.18,
           0.26,
           0.65,
           0.06,
           0.27,
           0.17,
           0.18,
           0.04,
           0.06,
           0.1,
           0.08,
           0.06,
           0.09,
           0.1,
           0.02,
           0.04,
           0.05,
           0.1,
           0.19,
           0.18,
           0.02,
           0.04,
           0.83,
           0.04,
           0.04,
           0.07,
           0.2,
           0.28,
           1,
           1,
           0.51,
           0.03,
           0.12,
           0.12,
           0.04,
           0.16,
           0.08,
           0.1,
           0.01,
           0.17,
           0.36,
           0.11,
           0.12,
           0.85,
           0.12,
           0.34,
           0.34,
           0.2,
           0.22,
           0.12,
           0.54,
           0.66,
           0.66,
           0.25,
           0.6,
           0.07,
           0.08,
           0,
           0.1,
           0.08,
           0.43,
           0.48,
           0.49,
           0.12,
           0.31,
           0.45,
           0.3,
           0.27,
           0.04,
           0.38,
           0.13,
           0.15,
           0.87,
           0.23,
           0.64,
           0.59,
           0.8,
           0.15,
           0.82,
           0.05,
           0.2,
           0.04,
           0.02,
           0.01,
           0.06,
           0.01,
           0.08,
           0.2,
           0.16,
           0.28,
           0.11,
           0.02,
           0.3,
           0.05,
           0.18,
           0.28,
           0.35,
           0.14,
           0.55,
           0,
           0.52,
           0.46,
           0.26,
           0.37,
           0.28,
           0.26,
           0.4,
           0.61,
           0.11,
           0.39,
           0.29,
           0.21,
           0.06,
           0.53,
           0.3,
           0.55,
           0.61,
           0.6,
           0.74,
           0.4,
           0.37,
           0.59,
           0.24,
           0.91,
           0.21,
           0.12,
           0.51,
           0.2,
           0.34,
           0.22,
           0.35,
           0.5,
           0.46,
           0.36,
           0.48,
           0.2,
           0.52,
           0.36,
           0.65,
           0.73,
           0.19,
           0.23,
           0.86,
           0.07,
           0.42,
           0.45,
           0.02,
           0.02,
           0.05,
           0.05,
           0.05,
           0.02,
           0.03,
           0.04,
           0.97,
           0.06,
           0,
           0.03,
           0.02,
           0.45,
           0.06,
           0.1,
           0.09,
           0.04,
           0.38,
           0.03,
           0.02,
           0.67,
           0.14,
           0.03,
           0.05,
           0.04,
           0.03,
           0.59,
           0.07,
           0.62,
           0.11,
           0.16,
           0.79,
           0.1,
           0.1,
           0.05,
           0.09,
           0.01,
           0.3,
           0.12,
           0.05,
           0.05,
           0.04,
           0.04,
           1,
           0.42,
           0.13,
           0.1,
           0.02,
           0.19,
           0.1,
           0.69,
           0.32,
           0.09,
           0.95,
           0.14,
           0.01,
           0.05,
           0.05,
           0.02,
           0.16,
           0.09,
           0.1,
           0.03,
           0.08,
           0.1,
           0.08,
           0.14,
           0.15,
           0.64,
           0.06,
           0.04,
           0.18,
           0.05,
           0.06,
           0.17,
           0.07,
           0.27,
           0.05,
           0.04,
           0.04,
           0.12,
           0.02,
           0.15,
           0.19,
           0.03,
           0.18,
           0.13,
           0.05,
           0.07,
           0.07,
           0.01,
           0.41,
           0.12,
           0.11,
           0.03,
           0.05,
           0.03,
           0.03,
           0.08,
           0.12,
           0.2,
           0.07,
           0.03,
           0.05,
           0.06,
           0.11,
           0.51,
           0.02,
           0.05,
           0.17,
           0.17,
           0.2,
           0.46,
           0.1,
           0.17,
           0.07,
           0.12,
           0.16,
           0.39,
           0.19,
           0.1,
           0.18,
           0.09,
           0.47,
           0.54,
           0.21,
           0.48,
           0.07,
           0.3,
           0.18,
           0.06,
           0.21,
           0.09,
           0.12,
           0.09,
           0.14,
           0.21,
           0.17,
           0.57,
           0.15,
           0.37,
           0.05,
           0.41,
           0.25,
           0.12,
           0.06,
           0.22,
           0.07,
           0.07,
           0.13,
           0.1,
           0.11,
           0.21,
           0.22,
           0.13,
           0.21,
           0.27,
           0.05,
           0.12,
           0.09,
           0.06,
           0.14,
           0.07,
           0.21,
           0.09,
           0.07,
           0.1,
           0.09,
           0.22,
           0.09,
           0.12,
           0.1,
           0.13,
           0.12,
           0.08,
           0.19,
           0.76,
           0.11,
           0.14,
           0.06,
           0.1,
           0.06,
           0.16,
           0.13,
           0.19,
           0.52,
           0.53,
           0.87,
           0.19,
           0.05,
           0.15,
           0.13,
           0.03,
           0.06,
           0.05,
           0.04,
           0.03,
           0.01,
           0.17,
           0.09,
           0.06,
           0.05,
           0,
           0.19,
           0.03,
           0.04,
           0.05,
           0.29,
           0.12,
           0.09,
           0.07,
           0.28,
           0.02,
           0.03,
           0.02,
           0.09,
           0.05,
           0.02,
           0.03,
           0.03,
           0.1,
           0.22,
           0.04,
           0.13,
           0.22,
           0.12,
           0.06,
           0.02,
           0.03,
           0.03,
           0.03,
           0.01,
           0.32,
           0.02,
           0.19,
           0.05,
           0.03,
           1,
           0.1,
           0.11,
           1,
           0.03,
           0.03,
           0.02,
           0.06,
           0.49,
           0.03,
           0.15,
           0.17,
           0.06,
           0.02,
           0.04,
           0.35,
           0.07,
           0.05,
           0.07,
           0.01,
           0.02,
           0.12,
           0.02,
           0.08,
           0.03,
           0.06,
           0.44,
           0.03,
           0.12,
           0.02,
           0.12,
           0.21,
           0.04,
           0.06,
           0.06,
           0.02,
           0.13,
           0.05,
           0.36,
           0.03,
           0.15,
           0.08,
           0.06,
           0.05,
           0.04,
           0.09,
           0.21,
           0.03,
           0.1,
           0.05,
           0.15,
           0.04,
           0.04,
           0.19,
           0.03,
           0.03,
           0.02,
           0.18,
           0.49,
           0,
           0.22,
           0.26,
           0.03,
           0.03,
           0.05,
           0.07,
           0.04,
           0.06,
           0.61,
           0.17,
           0.32,
           0.38,
           0.06,
           0.85,
           0.09,
           0.2,
           0.23,
           0.74,
           0.76,
           0.06,
           0.16,
           1,
           0.06,
           0.53,
           0.29,
           0.78,
           0.93,
           0.6,
           0.1,
           0.87,
           0.07,
           0.21,
           0.55,
           0.69,
           1,
           0.23,
           0.72,
           0.53,
           0.6,
           0.63,
           0.15,
           0.03,
           0.07,
           0.02,
           0.18,
           0.12,
           0.08,
           0.08,
           0.08,
           0.18,
           0.01,
           0.35,
           0.03,
           0.3,
           0.24,
           0.33,
           0.08,
           0.7,
           0.1,
           0.26,
           0.12,
           0.17,
           0.67,
           0.38,
           0.36,
           0.16,
           0.17,
           0.41,
           0.21,
           0.06,
           0.24,
           0.47,
           0.81,
           0.12,
           0.4,
           0.28,
           0.63,
           0.38,
           0.25,
           0.03,
           0.7,
           0.14,
           0.57,
           0.1,
           0.24,
           0.2,
           0.28,
           0.64,
           0.17,
           0.24,
           0.17,
           0.06,
           0.59,
           0.34,
           0.27,
           0.49,
           0.13,
           0.12,
           0.08,
           0.28,
           0.17,
           0.16,
           0.14,
           0.08,
           0.28,
           0.11,
           0.72,
           0.47,
           0.03,
           0.24,
           0.09,
           0.09,
           0.07,
           0.31,
           0.14,
           0.39,
           0.5,
           0.07,
           0.06,
           0.32,
           0.36,
           0.39,
           0.11,
           0.25,
           0.83,
           0.39,
           0.18,
           0.33,
           0.27,
           0.14,
           0.31,
           0.31,
           0.11,
           0.09,
           0.58,
           0.27,
           0.19,
           0.51,
           0.72,
           0.12,
           0.14,
           0.01,
           0.06,
           0.1,
           0.09,
           0.07,
           0.05,
           0.39,
           0.11,
           1,
           0.14,
           0.52,
           0.1,
           0.04,
           0.27,
           0.63,
           0.23,
           0.6,
           0.12,
           0.28,
           0.2,
           0.28,
           0.29,
           0.34,
           0.23,
           0.19,
           0.54,
           0.31,
           0.48,
           0.13,
           0.12,
           0.29,
           0.52,
           0.51,
           0.21,
           0.15,
           0.13,
           0.13,
           0.43,
           0.06,
           0.11,
           0.04,
           0.08,
           0.19,
           0.26,
           0.06,
           0.21,
           0.22,
           0.16,
           0.23,
           0.52,
           0.71,
           0.11,
           0.23,
           0.25,
           0.29,
           0.28,
           0.48,
           0.03,
           0.33,
           0.33,
           0.11,
           0.35,
           0.14,
           0.08,
           0.34,
           0.16,
           0.29,
           0.32,
           0.3,
           0.3,
           0.28,
           0.5,
           0.29,
           0.68,
           0.15,
           0.33,
           0.74,
           0.35,
           0.07,
           0.11,
           0.19,
           0.06,
           0.14,
           0.12,
           0.1,
           0.12,
           0.43,
           0.2,
           0.2,
           0.16,
           0.31,
           0.28,
           0.05,
           0.32,
           0.03,
           0.34,
           0.11,
           0.1,
           0.09,
           0.02,
           0.1,
           0.07,
           0.07,
           0.03,
           0.08,
           0.08,
           0.05,
           0.05,
           0.07,
           0.04,
           0.04,
           0.11,
           0.04,
           0.15,
           0.06,
           0.04,
           0.02,
           0.2,
           0.08,
           0.04,
           0.04,
           0.24,
           0.33,
           0.25,
           0.07,
           0.05,
           0.06,
           0.01,
           0.27,
           0.14,
           0.18,
           0.04,
           0.06,
           0.67,
           0.29,
           0.54,
           0.31,
           0.15,
           0.29,
           0.24,
           0.07,
           0.12,
           0.15,
           0.29,
           0.28,
           0.07,
           0.05,
           0.19,
           0.05,
           0.47,
           0.16,
           0.09,
           0.06,
           0.35,
           0.18,
           0.55,
           0.12,
           0.05,
           0.38,
           0.1,
           0.04,
           0.5,
           0.25,
           0.22,
           0.37,
           0.76,
           0.67,
           0.09,
           0.22,
           0.1,
           0.03,
           0.12,
           0.09,
           0.47,
           0.14,
           0.14,
           0.13,
           0.12,
           0.16,
           0.58,
           0.09,
           0.06,
           0.18,
           0.09,
           0.2,
           0.04,
           0.26,
           0.39,
           0.22,
           0.08,
           0.36,
           0.1,
           0.09,
           0.08,
           0.33,
           0.23,
           0.31,
           0.36,
           0.04,
           0.22,
           0.15,
           0.22,
           0.01,
           0.23,
           0.15,
           0.22,
           0.56,
           0.09,
           0.16,
           0.1,
           0.13,
           0.02,
           0.09,
           0.03,
           0.49,
           0.02,
           0.06,
           0.07,
           0.02,
           0.01,
           0.05,
           0.06,
           0.22,
           0.04,
           0.03,
           0.05,
           0.06,
           0.11,
           0.03,
           0.06,
           0.02,
           0.06,
           0.02,
           0.07,
           0.05,
           0.03,
           0.11,
           0.13,
           0.07,
           0.14,
           0.1,
           0.4,
           0.1,
           0.03,
           0.18,
           0.03,
           0.17,
           0.09,
           0.03,
           0.08,
           0,
           0.05,
           0.34,
           0.02,
           0.03,
           0.07,
           0.16,
           0.02,
           0.02,
           0.06,
           0.07,
           0.03,
           0.04,
           0.1,
           0.03,
           0.05,
           0.07,
           0.04,
           0.09,
           0.06,
           0.01,
           0.09,
           0.11,
           0.06,
           0.05,
           0.08,
           0.06,
           0.06,
           0.11,
           0.15,
           0.12,
           0.27
          ],
          "sizemode": "area",
          "sizeref": 0.0025
         },
         "mode": "markers",
         "name": "",
         "showlegend": false,
         "subplot": "mapbox",
         "type": "scattermapbox"
        }
       ],
       "layout": {
        "coloraxis": {
         "colorbar": {
          "title": {
           "text": "violent_crime_rate"
          }
         },
         "colorscale": [
          [
           0,
           "orange"
          ],
          [
           1,
           "red"
          ]
         ]
        },
        "height": 800,
        "legend": {
         "itemsizing": "constant",
         "tracegroupgap": 0
        },
        "mapbox": {
         "bearing": 0,
         "center": {
          "lat": 17.73109811109134,
          "lon": -110.90191044179466
         },
         "domain": {
          "x": [
           0,
           1
          ],
          "y": [
           0,
           1
          ]
         },
         "pitch": 0,
         "style": "open-street-map",
         "zoom": 16.41532850989454
        },
        "margin": {
         "b": 0,
         "l": 0,
         "r": 0,
         "t": 0
        },
        "template": {
         "data": {
          "bar": [
           {
            "error_x": {
             "color": "#2a3f5f"
            },
            "error_y": {
             "color": "#2a3f5f"
            },
            "marker": {
             "line": {
              "color": "#E5ECF6",
              "width": 0.5
             },
             "pattern": {
              "fillmode": "overlay",
              "size": 10,
              "solidity": 0.2
             }
            },
            "type": "bar"
           }
          ],
          "barpolar": [
           {
            "marker": {
             "line": {
              "color": "#E5ECF6",
              "width": 0.5
             },
             "pattern": {
              "fillmode": "overlay",
              "size": 10,
              "solidity": 0.2
             }
            },
            "type": "barpolar"
           }
          ],
          "carpet": [
           {
            "aaxis": {
             "endlinecolor": "#2a3f5f",
             "gridcolor": "white",
             "linecolor": "white",
             "minorgridcolor": "white",
             "startlinecolor": "#2a3f5f"
            },
            "baxis": {
             "endlinecolor": "#2a3f5f",
             "gridcolor": "white",
             "linecolor": "white",
             "minorgridcolor": "white",
             "startlinecolor": "#2a3f5f"
            },
            "type": "carpet"
           }
          ],
          "choropleth": [
           {
            "colorbar": {
             "outlinewidth": 0,
             "ticks": ""
            },
            "type": "choropleth"
           }
          ],
          "contour": [
           {
            "colorbar": {
             "outlinewidth": 0,
             "ticks": ""
            },
            "colorscale": [
             [
              0,
              "#0d0887"
             ],
             [
              0.1111111111111111,
              "#46039f"
             ],
             [
              0.2222222222222222,
              "#7201a8"
             ],
             [
              0.3333333333333333,
              "#9c179e"
             ],
             [
              0.4444444444444444,
              "#bd3786"
             ],
             [
              0.5555555555555556,
              "#d8576b"
             ],
             [
              0.6666666666666666,
              "#ed7953"
             ],
             [
              0.7777777777777778,
              "#fb9f3a"
             ],
             [
              0.8888888888888888,
              "#fdca26"
             ],
             [
              1,
              "#f0f921"
             ]
            ],
            "type": "contour"
           }
          ],
          "contourcarpet": [
           {
            "colorbar": {
             "outlinewidth": 0,
             "ticks": ""
            },
            "type": "contourcarpet"
           }
          ],
          "heatmap": [
           {
            "colorbar": {
             "outlinewidth": 0,
             "ticks": ""
            },
            "colorscale": [
             [
              0,
              "#0d0887"
             ],
             [
              0.1111111111111111,
              "#46039f"
             ],
             [
              0.2222222222222222,
              "#7201a8"
             ],
             [
              0.3333333333333333,
              "#9c179e"
             ],
             [
              0.4444444444444444,
              "#bd3786"
             ],
             [
              0.5555555555555556,
              "#d8576b"
             ],
             [
              0.6666666666666666,
              "#ed7953"
             ],
             [
              0.7777777777777778,
              "#fb9f3a"
             ],
             [
              0.8888888888888888,
              "#fdca26"
             ],
             [
              1,
              "#f0f921"
             ]
            ],
            "type": "heatmap"
           }
          ],
          "heatmapgl": [
           {
            "colorbar": {
             "outlinewidth": 0,
             "ticks": ""
            },
            "colorscale": [
             [
              0,
              "#0d0887"
             ],
             [
              0.1111111111111111,
              "#46039f"
             ],
             [
              0.2222222222222222,
              "#7201a8"
             ],
             [
              0.3333333333333333,
              "#9c179e"
             ],
             [
              0.4444444444444444,
              "#bd3786"
             ],
             [
              0.5555555555555556,
              "#d8576b"
             ],
             [
              0.6666666666666666,
              "#ed7953"
             ],
             [
              0.7777777777777778,
              "#fb9f3a"
             ],
             [
              0.8888888888888888,
              "#fdca26"
             ],
             [
              1,
              "#f0f921"
             ]
            ],
            "type": "heatmapgl"
           }
          ],
          "histogram": [
           {
            "marker": {
             "pattern": {
              "fillmode": "overlay",
              "size": 10,
              "solidity": 0.2
             }
            },
            "type": "histogram"
           }
          ],
          "histogram2d": [
           {
            "colorbar": {
             "outlinewidth": 0,
             "ticks": ""
            },
            "colorscale": [
             [
              0,
              "#0d0887"
             ],
             [
              0.1111111111111111,
              "#46039f"
             ],
             [
              0.2222222222222222,
              "#7201a8"
             ],
             [
              0.3333333333333333,
              "#9c179e"
             ],
             [
              0.4444444444444444,
              "#bd3786"
             ],
             [
              0.5555555555555556,
              "#d8576b"
             ],
             [
              0.6666666666666666,
              "#ed7953"
             ],
             [
              0.7777777777777778,
              "#fb9f3a"
             ],
             [
              0.8888888888888888,
              "#fdca26"
             ],
             [
              1,
              "#f0f921"
             ]
            ],
            "type": "histogram2d"
           }
          ],
          "histogram2dcontour": [
           {
            "colorbar": {
             "outlinewidth": 0,
             "ticks": ""
            },
            "colorscale": [
             [
              0,
              "#0d0887"
             ],
             [
              0.1111111111111111,
              "#46039f"
             ],
             [
              0.2222222222222222,
              "#7201a8"
             ],
             [
              0.3333333333333333,
              "#9c179e"
             ],
             [
              0.4444444444444444,
              "#bd3786"
             ],
             [
              0.5555555555555556,
              "#d8576b"
             ],
             [
              0.6666666666666666,
              "#ed7953"
             ],
             [
              0.7777777777777778,
              "#fb9f3a"
             ],
             [
              0.8888888888888888,
              "#fdca26"
             ],
             [
              1,
              "#f0f921"
             ]
            ],
            "type": "histogram2dcontour"
           }
          ],
          "mesh3d": [
           {
            "colorbar": {
             "outlinewidth": 0,
             "ticks": ""
            },
            "type": "mesh3d"
           }
          ],
          "parcoords": [
           {
            "line": {
             "colorbar": {
              "outlinewidth": 0,
              "ticks": ""
             }
            },
            "type": "parcoords"
           }
          ],
          "pie": [
           {
            "automargin": true,
            "type": "pie"
           }
          ],
          "scatter": [
           {
            "fillpattern": {
             "fillmode": "overlay",
             "size": 10,
             "solidity": 0.2
            },
            "type": "scatter"
           }
          ],
          "scatter3d": [
           {
            "line": {
             "colorbar": {
              "outlinewidth": 0,
              "ticks": ""
             }
            },
            "marker": {
             "colorbar": {
              "outlinewidth": 0,
              "ticks": ""
             }
            },
            "type": "scatter3d"
           }
          ],
          "scattercarpet": [
           {
            "marker": {
             "colorbar": {
              "outlinewidth": 0,
              "ticks": ""
             }
            },
            "type": "scattercarpet"
           }
          ],
          "scattergeo": [
           {
            "marker": {
             "colorbar": {
              "outlinewidth": 0,
              "ticks": ""
             }
            },
            "type": "scattergeo"
           }
          ],
          "scattergl": [
           {
            "marker": {
             "colorbar": {
              "outlinewidth": 0,
              "ticks": ""
             }
            },
            "type": "scattergl"
           }
          ],
          "scattermapbox": [
           {
            "marker": {
             "colorbar": {
              "outlinewidth": 0,
              "ticks": ""
             }
            },
            "type": "scattermapbox"
           }
          ],
          "scatterpolar": [
           {
            "marker": {
             "colorbar": {
              "outlinewidth": 0,
              "ticks": ""
             }
            },
            "type": "scatterpolar"
           }
          ],
          "scatterpolargl": [
           {
            "marker": {
             "colorbar": {
              "outlinewidth": 0,
              "ticks": ""
             }
            },
            "type": "scatterpolargl"
           }
          ],
          "scatterternary": [
           {
            "marker": {
             "colorbar": {
              "outlinewidth": 0,
              "ticks": ""
             }
            },
            "type": "scatterternary"
           }
          ],
          "surface": [
           {
            "colorbar": {
             "outlinewidth": 0,
             "ticks": ""
            },
            "colorscale": [
             [
              0,
              "#0d0887"
             ],
             [
              0.1111111111111111,
              "#46039f"
             ],
             [
              0.2222222222222222,
              "#7201a8"
             ],
             [
              0.3333333333333333,
              "#9c179e"
             ],
             [
              0.4444444444444444,
              "#bd3786"
             ],
             [
              0.5555555555555556,
              "#d8576b"
             ],
             [
              0.6666666666666666,
              "#ed7953"
             ],
             [
              0.7777777777777778,
              "#fb9f3a"
             ],
             [
              0.8888888888888888,
              "#fdca26"
             ],
             [
              1,
              "#f0f921"
             ]
            ],
            "type": "surface"
           }
          ],
          "table": [
           {
            "cells": {
             "fill": {
              "color": "#EBF0F8"
             },
             "line": {
              "color": "white"
             }
            },
            "header": {
             "fill": {
              "color": "#C8D4E3"
             },
             "line": {
              "color": "white"
             }
            },
            "type": "table"
           }
          ]
         },
         "layout": {
          "annotationdefaults": {
           "arrowcolor": "#2a3f5f",
           "arrowhead": 0,
           "arrowwidth": 1
          },
          "autotypenumbers": "strict",
          "coloraxis": {
           "colorbar": {
            "outlinewidth": 0,
            "ticks": ""
           }
          },
          "colorscale": {
           "diverging": [
            [
             0,
             "#8e0152"
            ],
            [
             0.1,
             "#c51b7d"
            ],
            [
             0.2,
             "#de77ae"
            ],
            [
             0.3,
             "#f1b6da"
            ],
            [
             0.4,
             "#fde0ef"
            ],
            [
             0.5,
             "#f7f7f7"
            ],
            [
             0.6,
             "#e6f5d0"
            ],
            [
             0.7,
             "#b8e186"
            ],
            [
             0.8,
             "#7fbc41"
            ],
            [
             0.9,
             "#4d9221"
            ],
            [
             1,
             "#276419"
            ]
           ],
           "sequential": [
            [
             0,
             "#0d0887"
            ],
            [
             0.1111111111111111,
             "#46039f"
            ],
            [
             0.2222222222222222,
             "#7201a8"
            ],
            [
             0.3333333333333333,
             "#9c179e"
            ],
            [
             0.4444444444444444,
             "#bd3786"
            ],
            [
             0.5555555555555556,
             "#d8576b"
            ],
            [
             0.6666666666666666,
             "#ed7953"
            ],
            [
             0.7777777777777778,
             "#fb9f3a"
            ],
            [
             0.8888888888888888,
             "#fdca26"
            ],
            [
             1,
             "#f0f921"
            ]
           ],
           "sequentialminus": [
            [
             0,
             "#0d0887"
            ],
            [
             0.1111111111111111,
             "#46039f"
            ],
            [
             0.2222222222222222,
             "#7201a8"
            ],
            [
             0.3333333333333333,
             "#9c179e"
            ],
            [
             0.4444444444444444,
             "#bd3786"
            ],
            [
             0.5555555555555556,
             "#d8576b"
            ],
            [
             0.6666666666666666,
             "#ed7953"
            ],
            [
             0.7777777777777778,
             "#fb9f3a"
            ],
            [
             0.8888888888888888,
             "#fdca26"
            ],
            [
             1,
             "#f0f921"
            ]
           ]
          },
          "colorway": [
           "#636efa",
           "#EF553B",
           "#00cc96",
           "#ab63fa",
           "#FFA15A",
           "#19d3f3",
           "#FF6692",
           "#B6E880",
           "#FF97FF",
           "#FECB52"
          ],
          "font": {
           "color": "#2a3f5f"
          },
          "geo": {
           "bgcolor": "white",
           "lakecolor": "white",
           "landcolor": "#E5ECF6",
           "showlakes": true,
           "showland": true,
           "subunitcolor": "white"
          },
          "hoverlabel": {
           "align": "left"
          },
          "hovermode": "closest",
          "mapbox": {
           "style": "light"
          },
          "paper_bgcolor": "white",
          "plot_bgcolor": "#E5ECF6",
          "polar": {
           "angularaxis": {
            "gridcolor": "white",
            "linecolor": "white",
            "ticks": ""
           },
           "bgcolor": "#E5ECF6",
           "radialaxis": {
            "gridcolor": "white",
            "linecolor": "white",
            "ticks": ""
           }
          },
          "scene": {
           "xaxis": {
            "backgroundcolor": "#E5ECF6",
            "gridcolor": "white",
            "gridwidth": 2,
            "linecolor": "white",
            "showbackground": true,
            "ticks": "",
            "zerolinecolor": "white"
           },
           "yaxis": {
            "backgroundcolor": "#E5ECF6",
            "gridcolor": "white",
            "gridwidth": 2,
            "linecolor": "white",
            "showbackground": true,
            "ticks": "",
            "zerolinecolor": "white"
           },
           "zaxis": {
            "backgroundcolor": "#E5ECF6",
            "gridcolor": "white",
            "gridwidth": 2,
            "linecolor": "white",
            "showbackground": true,
            "ticks": "",
            "zerolinecolor": "white"
           }
          },
          "shapedefaults": {
           "line": {
            "color": "#2a3f5f"
           }
          },
          "ternary": {
           "aaxis": {
            "gridcolor": "white",
            "linecolor": "white",
            "ticks": ""
           },
           "baxis": {
            "gridcolor": "white",
            "linecolor": "white",
            "ticks": ""
           },
           "bgcolor": "#E5ECF6",
           "caxis": {
            "gridcolor": "white",
            "linecolor": "white",
            "ticks": ""
           }
          },
          "title": {
           "x": 0.05
          },
          "xaxis": {
           "automargin": true,
           "gridcolor": "white",
           "linecolor": "white",
           "ticks": "",
           "title": {
            "standoff": 15
           },
           "zerolinecolor": "white",
           "zerolinewidth": 2
          },
          "yaxis": {
           "automargin": true,
           "gridcolor": "white",
           "linecolor": "white",
           "ticks": "",
           "title": {
            "standoff": 15
           },
           "zerolinecolor": "white",
           "zerolinewidth": 2
          }
         }
        },
        "width": 800
       }
      },
      "image/png": "[encoded data removed]",
      "text/html": [
       "<div>                            <div id=\"e34cbe4f-6cb5-4e2e-8345-e76f1e3888cb\" class=\"plotly-graph-div\" style=\"height:800px; width:800px;\"></div>            <script type=\"text/javascript\">                require([\"plotly\"], function(Plotly) {                    window.PLOTLYENV=window.PLOTLYENV || {};                                    if (document.getElementById(\"e34cbe4f-6cb5-4e2e-8345-e76f1e3888cb\")) {                    Plotly.newPlot(                        \"e34cbe4f-6cb5-4e2e-8345-e76f1e3888cb\",                        [{\"customdata\":[[\"Alabama\",\"Sheffield\"],[\"Alabama\",\"Auburn\"],[\"Alabama\",\"Daphne\"],[\"Alabama\",\"Hoover\"],[\"Alabama\",\"Tuscaloosa\"],[\"Alabama\",\"Fairfield\"],[\"Alabama\",\"Selma\"],[\"Alabama\",\"Prichard\"],[\"Alabama\",\"Eufaula\"],[\"Alabama\",\"Athens\"],[\"Alabama\",\"Florence\"],[\"Alabama\",\"Homewood\"],[\"Alabama\",\"Troy\"],[\"Alabama\",\"Sylacauga\"],[\"Alabama\",\"Phenix City\"],[\"Alabama\",\"Alabaster\"],[\"Alabama\",\"Huntsville\"],[\"Alabama\",\"Hueytown\"],[\"Alabama\",\"Tuskegee\"],[\"Alabama\",\"Gadsden\"],[\"Alabama\",\"Jasper\"],[\"Alabama\",\"Saraland\"],[\"Alabama\",\"Hartselle\"],[\"Alabama\",\"Madison\"],[\"Alabama\",\"Cullman\"],[\"Alabama\",\"Opelika\"],[\"Alabama\",\"Montgomery\"],[\"Alabama\",\"Anniston\"],[\"Alabama\",\"Decatur\"],[\"Alabama\",\"Enterprise\"],[\"Alabama\",\"Vestavia Hills\"],[\"Alabama\",\"Prattville\"],[\"Alabama\",\"Scottsboro\"],[\"Alabama\",\"Dothan\"],[\"Alabama\",\"Mountain Brook\"],[\"Alabama\",\"Alexander City\"],[\"Alabama\",\"Jacksonville\"],[\"Alabama\",\"Northport\"],[\"Alabama\",\"Birmingham\"],[\"Alabama\",\"Fort Payne\"],[\"Alabama\",\"Mobile\"],[\"Alabama\",\"Ozark\"],[\"Alabama\",\"Bessemer\"],[\"Alaska\",\"Anchorage\"],[\"Alaska\",\"Juneau\"],[\"Alaska\",\"Fairbanks\"],[\"Arizona\",\"Douglas\"],[\"Arizona\",\"Casa Grande\"],[\"Arizona\",\"Mesa\"],[\"Arizona\",\"Flagstaff\"],[\"Arizona\",\"Glendale\"],[\"Arizona\",\"Lake Havasu City\"],[\"Arizona\",\"Bullhead City\"],[\"Arizona\",\"Prescott\"],[\"Arizona\",\"Chandler\"],[\"Arizona\",\"Phoenix\"],[\"Arizona\",\"Nogales\"],[\"Arizona\",\"Avondale\"],[\"Arizona\",\"Apache Junction\"],[\"Arizona\",\"Scottsdale\"],[\"Arizona\",\"Paradise Valley\"],[\"Arizona\",\"Sierra Vista\"],[\"Arizona\",\"Gilbert\"],[\"Arizona\",\"Peoria\"],[\"Arizona\",\"Tucson\"],[\"Arizona\",\"Tempe\"],[\"Arkansas\",\"West Memphis\"],[\"Arkansas\",\"Conway\"],[\"Arkansas\",\"Benton\"],[\"Arkansas\",\"Springdale\"],[\"Arkansas\",\"Pine Bluff\"],[\"Arkansas\",\"Blytheville\"],[\"Arkansas\",\"Van Buren\"],[\"Arkansas\",\"Hot Springs\"],[\"Arkansas\",\"El Dorado\"],[\"Arkansas\",\"Rogers\"],[\"Arkansas\",\"Texarkana\"],[\"Arkansas\",\"Jonesboro\"],[\"Arkansas\",\"Jacksonville\"],[\"Arkansas\",\"Little Rock\"],[\"Arkansas\",\"Searcy\"],[\"Arkansas\",\"Paragould\"],[\"Arkansas\",\"Bentonville\"],[\"Arkansas\",\"Forrest City\"],[\"Arkansas\",\"Russellville\"],[\"Arkansas\",\"Stuttgart\"],[\"Arkansas\",\"Fort Smith\"],[\"Arkansas\",\"North Little Rock\"],[\"Arkansas\",\"Sherwood\"],[\"Arkansas\",\"Arkadelphia\"],[\"Arkansas\",\"Magnolia\"],[\"California\",\"Pleasanton\"],[\"California\",\"Arcata\"],[\"California\",\"San Pablo\"],[\"California\",\"Newark\"],[\"California\",\"Livermore\"],[\"California\",\"Sunnyvale\"],[\"California\",\"Hayward\"],[\"California\",\"Glendora\"],[\"California\",\"Albany\"],[\"California\",\"Indio\"],[\"California\",\"Hercules\"],[\"California\",\"Salinas\"],[\"California\",\"Roseville\"],[\"California\",\"Los Altos\"],[\"California\",\"San Rafael\"],[\"California\",\"Davis\"],[\"California\",\"La Mesa\"],[\"California\",\"Pacifica\"],[\"California\",\"Lynwood\"],[\"California\",\"Union City\"],[\"California\",\"West Covina\"],[\"California\",\"Whittier\"],[\"California\",\"West Hollywood\"],[\"California\",\"Barstow\"],[\"California\",\"Tulare\"],[\"California\",\"Coronado\"],[\"California\",\"Walnut\"],[\"California\",\"Paradise\"],[\"California\",\"Los Gatos\"],[\"California\",\"Mission Viejo\"],[\"California\",\"Bell Gardens\"],[\"California\",\"Atwater\"],[\"California\",\"Palo Alto\"],[\"California\",\"Monrovia\"],[\"California\",\"Diamond Bar\"],[\"California\",\"Lakewood\"],[\"California\",\"Los Angeles\"],[\"California\",\"Belmont\"],[\"California\",\"Monterey\"],[\"California\",\"Carson\"],[\"California\",\"Santa Fe Springs\"],[\"California\",\"Cypress\"],[\"California\",\"Morgan Hill\"],[\"California\",\"Pico Rivera\"],[\"California\",\"Santa Rosa\"],[\"California\",\"Upland\"],[\"California\",\"San Bernardino\"],[\"California\",\"Monterey Park\"],[\"California\",\"Millbrae\"],[\"California\",\"Commerce\"],[\"California\",\"South San Francisco\"],[\"California\",\"Sacramento\"],[\"California\",\"Oceanside\"],[\"California\",\"Menlo Park\"],[\"California\",\"Los Banos\"],[\"California\",\"San Marino\"],[\"California\",\"Moreno Valley\"],[\"California\",\"Chino\"],[\"California\",\"La Canada Flintridge\"],[\"California\",\"San Gabriel\"],[\"California\",\"Temecula\"],[\"California\",\"Red Bluff\"],[\"California\",\"Rancho Palos Verdes\"],[\"California\",\"Merced\"],[\"California\",\"Turlock\"],[\"California\",\"Rocklin\"],[\"California\",\"Buena Park\"],[\"California\",\"Alhambra\"],[\"California\",\"Porterville\"],[\"California\",\"Grover City\"],[\"California\",\"Duarte\"],[\"California\",\"Dublin\"],[\"California\",\"Danville\"],[\"California\",\"Downey\"],[\"California\",\"Compton\"],[\"California\",\"Lawndale\"],[\"California\",\"Pacific Grove\"],[\"California\",\"Covina\"],[\"California\",\"Newport Beach\"],[\"California\",\"Colton\"],[\"California\",\"San Carlos\"],[\"California\",\"National City\"],[\"California\",\"Cupertino\"],[\"California\",\"Huntington Park\"],[\"California\",\"El Cajon\"],[\"California\",\"Yuba City\"],[\"California\",\"Bell\"],[\"California\",\"Redondo Beach\"],[\"California\",\"Arcadia\"],[\"California\",\"Saratoga\"],[\"California\",\"Brea\"],[\"California\",\"Stanton\"],[\"California\",\"Dinuba\"],[\"California\",\"San Clemente\"],[\"California\",\"Escondido\"],[\"California\",\"Arroyo Grande\"],[\"California\",\"Chula Vista\"],[\"California\",\"Richmond\"],[\"California\",\"Lancaster\"],[\"California\",\"Glendale\"],[\"California\",\"Costa Mesa\"],[\"California\",\"Burlingame\"],[\"California\",\"Temple City\"],[\"California\",\"Gilroy\"],[\"California\",\"Grand Terrace\"],[\"California\",\"Cerritos\"],[\"California\",\"Baldwin Park\"],[\"California\",\"San Ramon\"],[\"California\",\"Twentynine Palms\"],[\"California\",\"Hollister\"],[\"California\",\"Azusa\"],[\"California\",\"Piedmont\"],[\"California\",\"Paramount\"],[\"California\",\"La Puente\"],[\"California\",\"Alameda\"],[\"California\",\"Rancho Cucamonga\"],[\"California\",\"Montebello\"],[\"California\",\"Tracy\"],[\"California\",\"Pinole\"],[\"California\",\"Carpinteria\"],[\"California\",\"Fullerton\"],[\"California\",\"Highland\"],[\"California\",\"Garden Grove\"],[\"California\",\"El Segundo\"],[\"California\",\"Palmdale\"],[\"California\",\"Apple Valley\"],[\"California\",\"Berkeley\"],[\"California\",\"Atascadero\"],[\"California\",\"Norwalk\"],[\"California\",\"Pasadena\"],[\"California\",\"Seaside\"],[\"California\",\"Redlands\"],[\"California\",\"San Francisco\"],[\"California\",\"Redwood City\"],[\"California\",\"Santa Maria\"],[\"California\",\"San Diego\"],[\"California\",\"Camarillo\"],[\"California\",\"Santa Clarita\"],[\"California\",\"Westminster\"],[\"California\",\"Novato\"],[\"California\",\"Tustin\"],[\"California\",\"El Centro\"],[\"California\",\"Thousand Oaks\"],[\"California\",\"Fountain Valley\"],[\"California\",\"Manteca\"],[\"California\",\"Santa Barbara\"],[\"California\",\"South El Monte\"],[\"California\",\"Ridgecrest\"],[\"California\",\"Pomona\"],[\"California\",\"Dixon\"],[\"California\",\"Victorville\"],[\"California\",\"Culver City\"],[\"California\",\"Benicia\"],[\"California\",\"Vacaville\"],[\"California\",\"La Habra\"],[\"California\",\"Irvine\"],[\"California\",\"El Cerrito\"],[\"California\",\"Woodland\"],[\"California\",\"Chico\"],[\"California\",\"Yorba Linda\"],[\"California\",\"Suisun City\"],[\"California\",\"Hawthorne\"],[\"California\",\"Palos Verdes Estates\"],[\"California\",\"Orange\"],[\"California\",\"Bakersfield\"],[\"California\",\"Moorpark\"],[\"California\",\"Lompoc\"],[\"California\",\"Port Hueneme\"],[\"California\",\"Agoura Hills\"],[\"California\",\"Santa Ana\"],[\"California\",\"Brawley\"],[\"California\",\"Hermosa Beach\"],[\"California\",\"South Gate\"],[\"California\",\"Vallejo\"],[\"California\",\"West Sacramento\"],[\"California\",\"Auburn\"],[\"California\",\"Reedley\"],[\"California\",\"Oakland\"],[\"California\",\"Hemet\"],[\"California\",\"Cudahy\"],[\"California\",\"Cathedral City\"],[\"California\",\"San Bruno\"],[\"California\",\"Sierra Madre\"],[\"California\",\"Burbank\"],[\"California\",\"Mountain View\"],[\"California\",\"Fremont\"],[\"California\",\"Hesperia\"],[\"California\",\"Madera\"],[\"California\",\"Simi Valley\"],[\"California\",\"La Quinta\"],[\"California\",\"San Jacinto\"],[\"California\",\"San Jose\"],[\"California\",\"Palm Desert\"],[\"California\",\"Pleasant Hill\"],[\"California\",\"Walnut Creek\"],[\"California\",\"Fontana\"],[\"California\",\"Corona\"],[\"California\",\"Hillsborough\"],[\"California\",\"Perris\"],[\"California\",\"Oxnard\"],[\"California\",\"San Leandro\"],[\"California\",\"Corcoran\"],[\"California\",\"Ceres\"],[\"California\",\"Placentia\"],[\"California\",\"Stockton\"],[\"California\",\"Claremont\"],[\"California\",\"San Fernando\"],[\"California\",\"Maywood\"],[\"California\",\"Los Alamitos\"],[\"California\",\"Eatontown\"],[\"California\",\"Rialto\"],[\"California\",\"Mill Valley\"],[\"California\",\"Fairfield\"],[\"California\",\"Milpitas\"],[\"California\",\"Rosemead\"],[\"California\",\"Laguna Beach\"],[\"California\",\"Clearlake\"],[\"California\",\"Montclair\"],[\"California\",\"Oakdale\"],[\"California\",\"Hanford\"],[\"California\",\"Lomita\"],[\"California\",\"Fresno\"],[\"California\",\"Palm Springs\"],[\"California\",\"Martinez\"],[\"California\",\"Norco\"],[\"California\",\"East Palo Alto\"],[\"California\",\"San Mateo\"],[\"California\",\"Santa Paula\"],[\"California\",\"Antioch\"],[\"California\",\"Ontario\"],[\"California\",\"Santa Clara\"],[\"California\",\"Daly City\"],[\"California\",\"La Verne\"],[\"California\",\"Banning\"],[\"California\",\"Manhattan Beach\"],[\"California\",\"Foster City\"],[\"California\",\"Loma Linda\"],[\"California\",\"Dana Point\"],[\"California\",\"Rohnert Park\"],[\"California\",\"Santa Monica\"],[\"California\",\"Eureka\"],[\"California\",\"San Luis Obispo\"],[\"California\",\"Redding\"],[\"California\",\"Lodi\"],[\"California\",\"Pittsburg\"],[\"California\",\"San Dimas\"],[\"California\",\"Visalia\"],[\"California\",\"El Monte\"],[\"California\",\"Bellflower\"],[\"California\",\"Gardena\"],[\"California\",\"Delano\"],[\"California\",\"Petaluma\"],[\"California\",\"Modesto\"],[\"California\",\"Napa\"],[\"California\",\"Beverly Hills\"],[\"California\",\"Riverside\"],[\"California\",\"Carlsbad\"],[\"California\",\"Watsonville\"],[\"California\",\"Fillmore\"],[\"California\",\"Ukiah\"],[\"California\",\"Campbell\"],[\"California\",\"Seal Beach\"],[\"California\",\"Orinda\"],[\"California\",\"Sanger\"],[\"California\",\"Marysville\"],[\"California\",\"Yucaipa\"],[\"California\",\"Marina\"],[\"California\",\"Folsom\"],[\"California\",\"Concord\"],[\"California\",\"Torrance\"],[\"California\",\"La Mirada\"],[\"California\",\"Selma\"],[\"California\",\"Long Beach\"],[\"California\",\"Clovis\"],[\"California\",\"South Pasadena\"],[\"California\",\"Artesia\"],[\"California\",\"Inglewood\"],[\"California\",\"Lafayette\"],[\"Colorado\",\"Arvada\"],[\"Colorado\",\"Lafayette\"],[\"Colorado\",\"Northglenn\"],[\"Colorado\",\"Commerce City\"],[\"Colorado\",\"Englewood\"],[\"Colorado\",\"Grand Junction\"],[\"Colorado\",\"Denver\"],[\"Colorado\",\"Golden\"],[\"Colorado\",\"Broomfield\"],[\"Colorado\",\"Canon City\"],[\"Colorado\",\"Colorado Springs\"],[\"Colorado\",\"Loveland\"],[\"Colorado\",\"Louisville\"],[\"Colorado\",\"Sterling\"],[\"Colorado\",\"Lakewood\"],[\"Colorado\",\"Fort Collins\"],[\"Colorado\",\"Brighton\"],[\"Colorado\",\"Durango\"],[\"Colorado\",\"Westminster\"],[\"Colorado\",\"Littleton\"],[\"Colorado\",\"Greeley\"],[\"Colorado\",\"Longmont\"],[\"Colorado\",\"Pueblo\"],[\"Colorado\",\"Aurora\"],[\"Colorado\",\"Boulder\"],[\"Connecticut\",\"New Canaan\"],[\"Connecticut\",\"Vernon\"],[\"Connecticut\",\"Monroe\"],[\"Connecticut\",\"Avon\"],[\"Connecticut\",\"Manchester\"],[\"Connecticut\",\"Plymouth\"],[\"Connecticut\",\"Ansonia\"],[\"Connecticut\",\"Waterford\"],[\"Connecticut\",\"Cromwell\"],[\"Connecticut\",\"Waterbury\"],[\"Connecticut\",\"Derby\"],[\"Connecticut\",\"Rocky Hill\"],[\"Connecticut\",\"Coventry\"],[\"Connecticut\",\"Westport\"],[\"Connecticut\",\"Windsor Locks\"],[\"Connecticut\",\"Farmington\"],[\"Connecticut\",\"Stamford\"],[\"Connecticut\",\"Hamden\"],[\"Connecticut\",\"New Haven\"],[\"Connecticut\",\"Windsor\"],[\"Connecticut\",\"Bethel\"],[\"Connecticut\",\"Clinton\"],[\"Connecticut\",\"Suffield\"],[\"Connecticut\",\"Trumbull\"],[\"Connecticut\",\"Danbury\"],[\"Connecticut\",\"Newington\"],[\"Connecticut\",\"Cheshire\"],[\"Connecticut\",\"East Hartford\"],[\"Connecticut\",\"West Haven\"],[\"Connecticut\",\"Stonington\"],[\"Connecticut\",\"Berlin\"],[\"Connecticut\",\"Seymour\"],[\"Connecticut\",\"Southington\"],[\"Connecticut\",\"East Hampton\"],[\"Connecticut\",\"Guilford\"],[\"Connecticut\",\"Naugatuck\"],[\"Connecticut\",\"Greenwich\"],[\"Connecticut\",\"Plainville\"],[\"Connecticut\",\"Wolcott\"],[\"Connecticut\",\"Branford\"],[\"Connecticut\",\"Watertown\"],[\"Connecticut\",\"Glastonbury\"],[\"Connecticut\",\"New Britain\"],[\"Connecticut\",\"Simsbury\"],[\"Connecticut\",\"New London\"],[\"Connecticut\",\"Norwalk\"],[\"Connecticut\",\"Wilton\"],[\"Connecticut\",\"Wallingford\"],[\"Connecticut\",\"Orange\"],[\"Connecticut\",\"South Windsor\"],[\"Connecticut\",\"Hartford\"],[\"Connecticut\",\"Newtown\"],[\"Connecticut\",\"Bloomfield\"],[\"Connecticut\",\"Shelton\"],[\"Connecticut\",\"Torrington\"],[\"Connecticut\",\"North Branford\"],[\"Connecticut\",\"Darien\"],[\"Connecticut\",\"North Haven\"],[\"Connecticut\",\"Brookfield\"],[\"Connecticut\",\"Norwich\"],[\"Connecticut\",\"Milford\"],[\"Connecticut\",\"Meriden\"],[\"Connecticut\",\"Bridgeport\"],[\"Connecticut\",\"Wethersfield\"],[\"Connecticut\",\"Plainfield\"],[\"Connecticut\",\"Middletown\"],[\"Connecticut\",\"Stratford\"],[\"Connecticut\",\"West Hartford\"],[\"Connecticut\",\"Enfield\"],[\"Delaware\",\"Dover\"],[\"District of Columbia\",\"Washington\"],[\"Florida\",\"Gainesville\"],[\"Florida\",\"Ocala\"],[\"Florida\",\"Tampa\"],[\"Florida\",\"Sarasota\"],[\"Florida\",\"Pembroke Pines\"],[\"Florida\",\"Niceville\"],[\"Florida\",\"Ormond Beach\"],[\"Florida\",\"Lauderdale Lakes\"],[\"Florida\",\"Miami Beach\"],[\"Florida\",\"Delray Beach\"],[\"Florida\",\"Fort Lauderdale\"],[\"Florida\",\"Wilton Manors\"],[\"Florida\",\"Eustis\"],[\"Florida\",\"Royal Palm Beach\"],[\"Florida\",\"Boca Raton\"],[\"Florida\",\"Miami Shores\"],[\"Florida\",\"New Port Richey\"],[\"Florida\",\"Ocoee\"],[\"Florida\",\"Lakeland\"],[\"Florida\",\"Sunrise\"],[\"Florida\",\"Haines City\"],[\"Florida\",\"Winter Park\"],[\"Florida\",\"Fort Myers\"],[\"Florida\",\"Winter Haven\"],[\"Florida\",\"Key West\"],[\"Florida\",\"Deerfield Beach\"],[\"Florida\",\"Kissimmee\"],[\"Florida\",\"Pinellas Park\"],[\"Florida\",\"New Smyrna Beach\"],[\"Florida\",\"Sanford\"],[\"Florida\",\"North Palm Beach\"],[\"Florida\",\"Panama City\"],[\"Florida\",\"Port Orange\"],[\"Florida\",\"Cocoa Beach\"],[\"Florida\",\"Daytona Beach\"],[\"Florida\",\"Palm Beach Gardens\"],[\"Florida\",\"Lauderhill\"],[\"Florida\",\"Boynton Beach\"],[\"Florida\",\"Palatka\"],[\"Florida\",\"Largo\"],[\"Florida\",\"Palm Bay\"],[\"Florida\",\"Plantation\"],[\"Florida\",\"Dunedin\"],[\"Florida\",\"Hollywood\"],[\"Florida\",\"Punta Gorda\"],[\"Florida\",\"Oviedo\"],[\"Florida\",\"Tarpon Springs\"],[\"Florida\",\"Rockledge\"],[\"Florida\",\"Vero Beach\"],[\"Florida\",\"DeLand\"],[\"Florida\",\"Longwood\"],[\"Florida\",\"South Miami\"],[\"Florida\",\"Naples\"],[\"Florida\",\"North Lauderdale\"],[\"Florida\",\"Orlando\"],[\"Florida\",\"Bartow\"],[\"Florida\",\"Casselberry\"],[\"Florida\",\"Plant City\"],[\"Florida\",\"Melbourne\"],[\"Florida\",\"Coral Gables\"],[\"Florida\",\"Fort Pierce\"],[\"Florida\",\"Tallahassee\"],[\"Florida\",\"Hallandale\"],[\"Florida\",\"Miramar\"],[\"Florida\",\"Lake Worth\"],[\"Florida\",\"Tamarac\"],[\"Florida\",\"Lake City\"],[\"Florida\",\"Gulfport\"],[\"Florida\",\"Lighthouse Point\"],[\"Florida\",\"Jacksonville\"],[\"Florida\",\"Clearwater\"],[\"Florida\",\"Pompano Beach\"],[\"Florida\",\"Miami\"],[\"Florida\",\"Miami Springs\"],[\"Florida\",\"Coral Springs\"],[\"Florida\",\"Venice\"],[\"Florida\",\"Safety Harbor\"],[\"Florida\",\"Temple Terrace\"],[\"Florida\",\"Homestead\"],[\"Florida\",\"Stuart\"],[\"Florida\",\"Sebastian\"],[\"Florida\",\"Leesburg\"],[\"Florida\",\"South Daytona\"],[\"Florida\",\"Oakland Park\"],[\"Florida\",\"Davie\"],[\"Florida\",\"Dania\"],[\"Florida\",\"Margate\"],[\"Florida\",\"Cape Coral\"],[\"Florida\",\"Edgewater\"],[\"Florida\",\"North Miami\"],[\"Georgia\",\"Dublin\"],[\"Georgia\",\"Decatur\"],[\"Georgia\",\"Tifton\"],[\"Georgia\",\"Columbus\"],[\"Georgia\",\"Carrollton\"],[\"Georgia\",\"Peachtree City\"],[\"Georgia\",\"Americus\"],[\"Georgia\",\"Gainesville\"],[\"Georgia\",\"Rome\"],[\"Georgia\",\"Savannah\"],[\"Georgia\",\"East Point\"],[\"Georgia\",\"Albany\"],[\"Georgia\",\"Valdosta\"],[\"Georgia\",\"Cartersville\"],[\"Georgia\",\"LaGrange\"],[\"Georgia\",\"Warner Robins\"],[\"Georgia\",\"Snellville\"],[\"Georgia\",\"College Park\"],[\"Georgia\",\"Dalton\"],[\"Georgia\",\"Marietta\"],[\"Georgia\",\"Alpharetta\"],[\"Georgia\",\"Forest Park\"],[\"Georgia\",\"Augusta\"],[\"Georgia\",\"Covington\"],[\"Georgia\",\"Bainbridge\"],[\"Georgia\",\"Atlanta\"],[\"Georgia\",\"Douglas\"],[\"Georgia\",\"Statesboro\"],[\"Georgia\",\"Lawrenceville\"],[\"Georgia\",\"Macon\"],[\"Georgia\",\"Moultrie\"],[\"Georgia\",\"Brunswick\"],[\"Georgia\",\"Roswell\"],[\"Georgia\",\"Smyrna\"],[\"Georgia\",\"Thomasville\"],[\"Georgia\",\"Hinesville\"],[\"Georgia\",\"Waycross\"],[\"Idaho\",\"Idaho Falls\"],[\"Idaho\",\"Lewiston\"],[\"Idaho\",\"Pocatello\"],[\"Idaho\",\"Moscow\"],[\"Idaho\",\"Rexburg\"],[\"Idaho\",\"Twin Falls\"],[\"Idaho\",\"Caldwell\"],[\"Indiana\",\"Crown Point\"],[\"Indiana\",\"Noblesville\"],[\"Indiana\",\"Lawrence\"],[\"Indiana\",\"Jasper\"],[\"Indiana\",\"Greenfield\"],[\"Indiana\",\"Anderson\"],[\"Indiana\",\"South Bend\"],[\"Indiana\",\"Plainfield\"],[\"Indiana\",\"East Chicago\"],[\"Indiana\",\"Logansport\"],[\"Indiana\",\"Schererville\"],[\"Indiana\",\"Hammond\"],[\"Indiana\",\"Fort Wayne\"],[\"Indiana\",\"Richmond\"],[\"Indiana\",\"Gary\"],[\"Indiana\",\"Huntington\"],[\"Indiana\",\"Indianapolis\"],[\"Indiana\",\"Wabash\"],[\"Indiana\",\"Griffith\"],[\"Indiana\",\"Carmel\"],[\"Indiana\",\"Highland\"],[\"Indiana\",\"Crawfordsville\"],[\"Indiana\",\"Martinsville\"],[\"Indiana\",\"La Porte\"],[\"Indiana\",\"New Albany\"],[\"Indiana\",\"Bloomington\"],[\"Indiana\",\"Merrillville\"],[\"Indiana\",\"Clarksville\"],[\"Indiana\",\"Connersville\"],[\"Indiana\",\"Hobart\"],[\"Indiana\",\"Greenwood\"],[\"Indiana\",\"Lafayette\"],[\"Indiana\",\"Speedway\"],[\"Indiana\",\"Warsaw\"],[\"Indiana\",\"Valparaiso\"],[\"Indiana\",\"Beech Grove\"],[\"Indiana\",\"Dyer\"],[\"Indiana\",\"Michigan City\"],[\"Indiana\",\"New Castle\"],[\"Indiana\",\"Elkhart\"],[\"Indiana\",\"Bedford\"],[\"Indiana\",\"Lake Station\"],[\"Indiana\",\"Evansville\"],[\"Indiana\",\"Kokomo\"],[\"Indiana\",\"Portage\"],[\"Indiana\",\"Terre Haute\"],[\"Indiana\",\"Vincennes\"],[\"Indiana\",\"Munster\"],[\"Iowa\",\"Des Moines\"],[\"Iowa\",\"Spencer\"],[\"Iowa\",\"Mason City\"],[\"Iowa\",\"Indianola\"],[\"Iowa\",\"Davenport\"],[\"Iowa\",\"Dubuque\"],[\"Iowa\",\"Fort Dodge\"],[\"Iowa\",\"Oskaloosa\"],[\"Iowa\",\"Newton\"],[\"Iowa\",\"Waterloo\"],[\"Iowa\",\"Sioux City\"],[\"Iowa\",\"Ankeny\"],[\"Iowa\",\"Bettendorf\"],[\"Iowa\",\"Ames\"],[\"Iowa\",\"West Des Moines\"],[\"Iowa\",\"Marshalltown\"],[\"Iowa\",\"Cedar Falls\"],[\"Iowa\",\"Boone\"],[\"Iowa\",\"Urbandale\"],[\"Iowa\",\"Fort Madison\"],[\"Kansas\",\"Wichita\"],[\"Kentucky\",\"Hopkinsville\"],[\"Kentucky\",\"Newport\"],[\"Kentucky\",\"Fort Thomas\"],[\"Kentucky\",\"Somerset\"],[\"Kentucky\",\"Shively\"],[\"Kentucky\",\"Independence\"],[\"Kentucky\",\"Danville\"],[\"Kentucky\",\"Ashland\"],[\"Kentucky\",\"Owensboro\"],[\"Kentucky\",\"Winchester\"],[\"Kentucky\",\"Murray\"],[\"Kentucky\",\"Georgetown\"],[\"Kentucky\",\"Bowling Green\"],[\"Kentucky\",\"Florence\"],[\"Kentucky\",\"Elizabethtown\"],[\"Kentucky\",\"Henderson\"],[\"Kentucky\",\"Madisonville\"],[\"Kentucky\",\"Louisville\"],[\"Kentucky\",\"Erlanger\"],[\"Kentucky\",\"Jeffersontown\"],[\"Kentucky\",\"Glasgow\"],[\"Kentucky\",\"Radcliff\"],[\"Kentucky\",\"Nicholasville\"],[\"Kentucky\",\"Paducah\"],[\"Kentucky\",\"Covington\"],[\"Kentucky\",\"Frankfort\"],[\"Louisiana\",\"West Monroe\"],[\"Louisiana\",\"Slidell\"],[\"Louisiana\",\"Alexandria\"],[\"Louisiana\",\"Ruston\"],[\"Louisiana\",\"New Orleans\"],[\"Louisiana\",\"Pineville\"],[\"Louisiana\",\"Kenner\"],[\"Louisiana\",\"Natchitoches\"],[\"Louisiana\",\"Eunice\"],[\"Louisiana\",\"New Iberia\"],[\"Louisiana\",\"Crowley\"],[\"Louisiana\",\"Lake Charles\"],[\"Louisiana\",\"Monroe\"],[\"Louisiana\",\"Houma\"],[\"Louisiana\",\"Bossier City\"],[\"Louisiana\",\"Lafayette\"],[\"Louisiana\",\"Shreveport\"],[\"Louisiana\",\"Gretna\"],[\"Louisiana\",\"Westwego\"],[\"Louisiana\",\"Baton Rouge\"],[\"Louisiana\",\"Bogalusa\"],[\"Louisiana\",\"Jennings\"],[\"Maine\",\"Portland\"],[\"Maine\",\"South Portland\"],[\"Maine\",\"Brunswick\"],[\"Maine\",\"Orono\"],[\"Maine\",\"Waterville\"],[\"Maine\",\"Augusta\"],[\"Maine\",\"Windham\"],[\"Maine\",\"Bangor\"],[\"Maine\",\"Sanford\"],[\"Maine\",\"Lewiston\"],[\"Maine\",\"Biddeford\"],[\"Maine\",\"Gorham\"],[\"Maine\",\"Scarborough\"],[\"Maine\",\"Saco\"],[\"Maine\",\"Presque Isle\"],[\"Maine\",\"Westbrook\"],[\"Maine\",\"Auburn\"],[\"Maryland\",\"Westminster\"],[\"Maryland\",\"Annapolis\"],[\"Maryland\",\"Baltimore\"],[\"Maryland\",\"Laurel\"],[\"Maryland\",\"Cambridge\"],[\"Maryland\",\"Greenbelt\"],[\"Maryland\",\"Salisbury\"],[\"Maryland\",\"Cumberland\"],[\"Maryland\",\"Hagerstown\"],[\"Maryland\",\"Aberdeen\"],[\"Maryland\",\"Frederick\"],[\"Maryland\",\"Hyattsville\"],[\"Massachusetts\",\"Uxbridge\"],[\"Massachusetts\",\"Swampscott\"],[\"Massachusetts\",\"Winchester\"],[\"Massachusetts\",\"Clinton\"],[\"Massachusetts\",\"Fitchburg\"],[\"Massachusetts\",\"Methuen\"],[\"Massachusetts\",\"Lowell\"],[\"Massachusetts\",\"Shrewsbury\"],[\"Massachusetts\",\"Westport\"],[\"Massachusetts\",\"Grafton\"],[\"Massachusetts\",\"Pepperell\"],[\"Massachusetts\",\"Hull\"],[\"Massachusetts\",\"Marshfield\"],[\"Massachusetts\",\"Danvers\"],[\"Massachusetts\",\"Reading\"],[\"Massachusetts\",\"Somerville\"],[\"Massachusetts\",\"Fall River\"],[\"Massachusetts\",\"Lexington\"],[\"Massachusetts\",\"Easton\"],[\"Massachusetts\",\"Milford\"],[\"Massachusetts\",\"Belchertown\"],[\"Massachusetts\",\"Pembroke\"],[\"Massachusetts\",\"Dartmouth\"],[\"Massachusetts\",\"Wilbraham\"],[\"Massachusetts\",\"Gloucester\"],[\"Massachusetts\",\"Bourne\"],[\"Massachusetts\",\"Dracut\"],[\"Massachusetts\",\"Everett\"],[\"Massachusetts\",\"Weymouth\"],[\"Massachusetts\",\"Sudbury\"],[\"Massachusetts\",\"Dennis\"],[\"Massachusetts\",\"Canton\"],[\"Massachusetts\",\"Barnstable\"],[\"Massachusetts\",\"Concord\"],[\"Massachusetts\",\"Northbridge\"],[\"Massachusetts\",\"Plymouth\"],[\"Massachusetts\",\"Melrose\"],[\"Massachusetts\",\"Brookline\"],[\"Massachusetts\",\"Wilmington\"],[\"Massachusetts\",\"Marblehead\"],[\"Massachusetts\",\"Ipswich\"],[\"Massachusetts\",\"North Andover\"],[\"Massachusetts\",\"Ludlow\"],[\"Massachusetts\",\"Bedford\"],[\"Massachusetts\",\"Westborough\"],[\"Massachusetts\",\"Holliston\"],[\"Massachusetts\",\"Scituate\"],[\"Massachusetts\",\"Woburn\"],[\"Massachusetts\",\"East Longmeadow\"],[\"Massachusetts\",\"Northborough\"],[\"Massachusetts\",\"Norwood\"],[\"Massachusetts\",\"Peabody\"],[\"Massachusetts\",\"Bridgewater\"],[\"Massachusetts\",\"Framingham\"],[\"Massachusetts\",\"New Bedford\"],[\"Massachusetts\",\"Bellingham\"],[\"Massachusetts\",\"Oxford\"],[\"Massachusetts\",\"Medfield\"],[\"Massachusetts\",\"Greenfield\"],[\"Massachusetts\",\"Dedham\"],[\"Massachusetts\",\"Norton\"],[\"Massachusetts\",\"Malden\"],[\"Massachusetts\",\"Yarmouth\"],[\"Massachusetts\",\"Sharon\"],[\"Massachusetts\",\"Harwich\"],[\"Massachusetts\",\"Needham\"],[\"Massachusetts\",\"Gardner\"],[\"Massachusetts\",\"Natick\"],[\"Massachusetts\",\"Swansea\"],[\"Massachusetts\",\"Webster\"],[\"Massachusetts\",\"Taunton\"],[\"Massachusetts\",\"Athol\"],[\"Massachusetts\",\"Medford\"],[\"Massachusetts\",\"Wakefield\"],[\"Massachusetts\",\"Arlington\"],[\"Massachusetts\",\"Pittsfield\"],[\"Massachusetts\",\"Boston\"],[\"Massachusetts\",\"Lynn\"],[\"Massachusetts\",\"Westford\"],[\"Massachusetts\",\"Harvard\"],[\"Massachusetts\",\"Newton\"],[\"Massachusetts\",\"Westwood\"],[\"Massachusetts\",\"North Adams\"],[\"Massachusetts\",\"Stoughton\"],[\"Massachusetts\",\"South Hadley\"],[\"Massachusetts\",\"Braintree\"],[\"Massachusetts\",\"Marlborough\"],[\"Massachusetts\",\"Walpole\"],[\"Massachusetts\",\"Hingham\"],[\"Massachusetts\",\"Randolph\"],[\"Massachusetts\",\"Ashland\"],[\"Massachusetts\",\"Leicester\"],[\"Massachusetts\",\"Hudson\"],[\"Massachusetts\",\"Salem\"],[\"Massachusetts\",\"Haverhill\"],[\"Massachusetts\",\"Holbrook\"],[\"Massachusetts\",\"Sandwich\"],[\"Massachusetts\",\"Lawrence\"],[\"Massachusetts\",\"Cambridge\"],[\"Massachusetts\",\"Weston\"],[\"Massachusetts\",\"Westfield\"],[\"Massachusetts\",\"Andover\"],[\"Massachusetts\",\"East Bridgewater\"],[\"Massachusetts\",\"Foxborough\"],[\"Massachusetts\",\"North Reading\"],[\"Massachusetts\",\"Longmeadow\"],[\"Massachusetts\",\"Amesbury\"],[\"Massachusetts\",\"Chelmsford\"],[\"Massachusetts\",\"Somerset\"],[\"Massachusetts\",\"Milton\"],[\"Massachusetts\",\"Franklin\"],[\"Massachusetts\",\"Saugus\"],[\"Massachusetts\",\"Leominster\"],[\"Massachusetts\",\"Quincy\"],[\"Massachusetts\",\"Maynard\"],[\"Massachusetts\",\"Watertown\"],[\"Massachusetts\",\"West Springfield\"],[\"Massachusetts\",\"Waltham\"],[\"Massachusetts\",\"Beverly\"],[\"Massachusetts\",\"Belmont\"],[\"Massachusetts\",\"Brockton\"],[\"Minnesota\",\"Columbia Heights\"],[\"Minnesota\",\"Minneapolis\"],[\"Minnesota\",\"Cottage Grove\"],[\"Minnesota\",\"Shakopee\"],[\"Minnesota\",\"Robbinsdale\"],[\"Minnesota\",\"Hopkins\"],[\"Minnesota\",\"Northfield\"],[\"Mississippi\",\"Mc Comb\"],[\"Mississippi\",\"Natchez\"],[\"Mississippi\",\"Starkville\"],[\"Mississippi\",\"Ridgeland\"],[\"Mississippi\",\"Grenada\"],[\"Mississippi\",\"Greenville\"],[\"Mississippi\",\"Pascagoula\"],[\"Mississippi\",\"Greenwood\"],[\"Mississippi\",\"Jackson\"],[\"Mississippi\",\"Gulfport\"],[\"Mississippi\",\"Ocean Springs\"],[\"Mississippi\",\"Meridian\"],[\"Mississippi\",\"Clinton\"],[\"Mississippi\",\"Tupelo\"],[\"Mississippi\",\"Moss Point\"],[\"Mississippi\",\"Hattiesburg\"],[\"Mississippi\",\"Vicksburg\"],[\"Mississippi\",\"Brandon\"],[\"Mississippi\",\"Columbus\"],[\"Missouri\",\"Chesterfield\"],[\"Missouri\",\"Blue Springs\"],[\"Missouri\",\"Clayton\"],[\"Missouri\",\"Gladstone\"],[\"Missouri\",\"Maryville\"],[\"Missouri\",\"Marshall\"],[\"Missouri\",\"Ballwin\"],[\"Missouri\",\"Richmond Heights\"],[\"Missouri\",\"Crestwood\"],[\"Missouri\",\"Carthage\"],[\"Missouri\",\"Moberly\"],[\"Missouri\",\"Independence\"],[\"Missouri\",\"Webster Groves\"],[\"Missouri\",\"Hannibal\"],[\"Missouri\",\"Kennett\"],[\"Missouri\",\"Raytown\"],[\"Missouri\",\"Joplin\"],[\"Missouri\",\"Overland\"],[\"Missouri\",\"Belton\"],[\"Missouri\",\"Springfield\"],[\"Missouri\",\"Jefferson City\"],[\"Missouri\",\"Bellefontaine Neighbors\"],[\"Missouri\",\"Bridgeton\"],[\"Missouri\",\"Sedalia\"],[\"Missouri\",\"Warrensburg\"],[\"Missouri\",\"Ferguson\"],[\"Missouri\",\"Arnold\"],[\"Missouri\",\"Grandview\"],[\"Missouri\",\"Mexico\"],[\"Missouri\",\"Berkeley\"],[\"Missouri\",\"Rolla\"],[\"Missouri\",\"Florissant\"],[\"Missouri\",\"Cape Girardeau\"],[\"Missouri\",\"Columbia\"],[\"Missouri\",\"Washington\"],[\"Missouri\",\"Kansas City\"],[\"Missouri\",\"University City\"],[\"Missouri\",\"Creve Coeur\"],[\"Missouri\",\"Kirkwood\"],[\"Missouri\",\"Fulton\"],[\"Missouri\",\"Hazelwood\"],[\"Missouri\",\"Poplar Bluff\"],[\"Nevada\",\"Reno\"],[\"Nevada\",\"Boulder City\"],[\"Nevada\",\"Henderson\"],[\"Nevada\",\"Las Vegas\"],[\"Nevada\",\"Sparks\"],[\"New Hampshire\",\"Portsmouth\"],[\"New Hampshire\",\"Hudson\"],[\"New Hampshire\",\"Lebanon\"],[\"New Hampshire\",\"Goffstown\"],[\"New Hampshire\",\"Londonderry\"],[\"New Hampshire\",\"Claremont\"],[\"New Hampshire\",\"Exeter\"],[\"New Hampshire\",\"Concord\"],[\"New Hampshire\",\"Keene\"],[\"New Hampshire\",\"Bedford\"],[\"New Hampshire\",\"Dover\"],[\"New Hampshire\",\"Laconia\"],[\"New Hampshire\",\"Derry\"],[\"New Hampshire\",\"Milford\"],[\"New Hampshire\",\"Merrimack\"],[\"New Hampshire\",\"Nashua\"],[\"New Hampshire\",\"Salem\"],[\"New Hampshire\",\"Somersworth\"],[\"New Hampshire\",\"Durham\"],[\"New Hampshire\",\"Berlin\"],[\"New Hampshire\",\"Manchester\"],[\"New Jersey\",\"Dumont\"],[\"New Jersey\",\"Marlboro\"],[\"New Jersey\",\"Cinnaminson\"],[\"New Jersey\",\"Ramsey\"],[\"New Jersey\",\"Bergenfield\"],[\"New Jersey\",\"Denville\"],[\"New Jersey\",\"Palisades Park\"],[\"New Jersey\",\"Keansburg\"],[\"New Jersey\",\"Ridgefield Park\"],[\"New Jersey\",\"Passaic\"],[\"New Jersey\",\"Hammonton\"],[\"New Jersey\",\"Point Pleasant\"],[\"New Jersey\",\"Mount Olive\"],[\"New Jersey\",\"Livingston\"],[\"New Jersey\",\"West New York\"],[\"New Jersey\",\"Totowa\"],[\"New Jersey\",\"Woodbridge\"],[\"New Jersey\",\"Haddon\"],[\"New Jersey\",\"Willingboro\"],[\"New Jersey\",\"Rahway\"],[\"New Jersey\",\"Red Bank\"],[\"New Jersey\",\"Egg Harbor\"],[\"New Jersey\",\"Bridgeton\"],[\"New Jersey\",\"Jackson\"],[\"New Jersey\",\"Weehawken\"],[\"New Jersey\",\"Cliffside Park\"],[\"New Jersey\",\"Brigantine\"],[\"New Jersey\",\"Hillsborough\"],[\"New Jersey\",\"Princeton\"],[\"New Jersey\",\"Pleasantville\"],[\"New Jersey\",\"Tenafly\"],[\"New Jersey\",\"Eatontown\"],[\"New Jersey\",\"Hopewell\"],[\"New Jersey\",\"Vineland\"],[\"New Jersey\",\"Lincoln Park\"],[\"New Jersey\",\"Berkeley\"],[\"New Jersey\",\"Lawrence\"],[\"New Jersey\",\"Warren\"],[\"New Jersey\",\"Garfield\"],[\"New Jersey\",\"Readington\"],[\"New Jersey\",\"Hoboken\"],[\"New Jersey\",\"Hazlet\"],[\"New Jersey\",\"Lakewood\"],[\"New Jersey\",\"Ocean City\"],[\"New Jersey\",\"Morristown\"],[\"New Jersey\",\"Clifton\"],[\"New Jersey\",\"New Milford\"],[\"New Jersey\",\"Manville\"],[\"New Jersey\",\"Lodi\"],[\"New Jersey\",\"Little Egg Harbor\"],[\"New Jersey\",\"Hawthorne\"],[\"New Jersey\",\"Plainsboro\"],[\"New Jersey\",\"New Brunswick\"],[\"New Jersey\",\"Freehold\"],[\"New Jersey\",\"Rockaway\"],[\"New Jersey\",\"Summit\"],[\"New Jersey\",\"Roselle\"],[\"New Jersey\",\"Florence\"],[\"New Jersey\",\"Tinton Falls\"],[\"New Jersey\",\"Aberdeen\"],[\"New Jersey\",\"Vernon\"],[\"New Jersey\",\"North Brunswick\"],[\"New Jersey\",\"Sparta\"],[\"New Jersey\",\"Roxbury\"],[\"New Jersey\",\"Pequannock\"],[\"New Jersey\",\"Maplewood\"],[\"New Jersey\",\"Collingswood\"],[\"New Jersey\",\"Metuchen\"],[\"New Jersey\",\"Somers Point\"],[\"New Jersey\",\"Scotch Plains\"],[\"New Jersey\",\"Camden\"],[\"New Jersey\",\"Pennsauken\"],[\"New Jersey\",\"Winslow\"],[\"New Jersey\",\"West Caldwell\"],[\"New Jersey\",\"West Windsor\"],[\"New Jersey\",\"Brick\"],[\"New Jersey\",\"Woodbury\"],[\"New Jersey\",\"Medford\"],[\"New Jersey\",\"Fort Lee\"],[\"New Jersey\",\"Millville\"],[\"New Jersey\",\"Paramus\"],[\"New Jersey\",\"Mount Holly\"],[\"New Jersey\",\"Pompton Lakes\"],[\"New Jersey\",\"Middletown\"],[\"New Jersey\",\"Fair Lawn\"],[\"New Jersey\",\"Hanover\"],[\"New Jersey\",\"Haddonfield\"],[\"New Jersey\",\"North Bergen\"],[\"New Jersey\",\"Wall\"],[\"New Jersey\",\"Linden\"],[\"New Jersey\",\"Mahwah\"],[\"New Jersey\",\"City of Orange\"],[\"New Jersey\",\"Wallington\"],[\"New Jersey\",\"Montclair\"],[\"New Jersey\",\"Hopatcong\"],[\"New Jersey\",\"Roselle Park\"],[\"New Jersey\",\"Madison\"],[\"New Jersey\",\"Perth Amboy\"],[\"New Jersey\",\"Evesham\"],[\"New Jersey\",\"Randolph\"],[\"New Jersey\",\"Old Bridge\"],[\"New Jersey\",\"Jefferson\"],[\"New Jersey\",\"Hillside\"],[\"New Jersey\",\"Ventnor City\"],[\"New Jersey\",\"Elmwood Park\"],[\"New Jersey\",\"Wyckoff\"],[\"New Jersey\",\"South Brunswick\"],[\"New Jersey\",\"Paterson\"],[\"New Jersey\",\"Lacey\"],[\"New Jersey\",\"East Brunswick\"],[\"New Jersey\",\"Ringwood\"],[\"New Jersey\",\"Deptford\"],[\"New Jersey\",\"Newark\"],[\"New Jersey\",\"Gloucester City\"],[\"New Jersey\",\"Piscataway\"],[\"New Jersey\",\"Raritan\"],[\"New Jersey\",\"Ewing\"],[\"New Jersey\",\"Middletown\"],[\"New Jersey\",\"Secaucus\"],[\"New Jersey\",\"Kearny\"],[\"New Jersey\",\"Lindenwold\"],[\"New Jersey\",\"Voorhees\"],[\"New Jersey\",\"Millburn\"],[\"New Jersey\",\"Teaneck\"],[\"New Jersey\",\"Glen Rock\"],[\"New Jersey\",\"Springfield\"],[\"New Jersey\",\"East Orange\"],[\"New Jersey\",\"Delran\"],[\"New Jersey\",\"West Milford\"],[\"New Jersey\",\"Cranford\"],[\"New Jersey\",\"Elizabeth\"],[\"New Jersey\",\"Dover\"],[\"New Jersey\",\"Bayonne\"],[\"New Jersey\",\"Gloucester\"],[\"New Jersey\",\"Ocean\"],[\"New Jersey\",\"Somerville\"],[\"New Jersey\",\"Bridgewater\"],[\"New Jersey\",\"Freehold\"],[\"New Jersey\",\"Mantua\"],[\"New Jersey\",\"Dover\"],[\"New Jersey\",\"Mount Laurel\"],[\"New Jersey\",\"Galloway\"],[\"New Jersey\",\"Fairview\"],[\"New Jersey\",\"River Edge\"],[\"New Jersey\",\"North Arlington\"],[\"New Jersey\",\"Trenton\"],[\"New Jersey\",\"Stafford\"],[\"New Jersey\",\"Manchester\"],[\"New Jersey\",\"Manalapan\"],[\"New Jersey\",\"New Providence\"],[\"New Jersey\",\"Princeton\"],[\"New Jersey\",\"Waterford\"],[\"New Jersey\",\"Branchburg\"],[\"New Jersey\",\"Bellmawr\"],[\"New Jersey\",\"Bloomfield\"],[\"New Jersey\",\"Bernards\"],[\"New Jersey\",\"Hasbrouck Heights\"],[\"New Jersey\",\"Morris\"],[\"New Jersey\",\"Pemberton\"],[\"New Jersey\",\"Holmdel\"],[\"New Jersey\",\"Highland Park\"],[\"New Jersey\",\"Rutherford\"],[\"New Jersey\",\"Saddle Brook\"],[\"New Jersey\",\"Harrison\"],[\"New Jersey\",\"Little Falls\"],[\"New Jersey\",\"Middlesex\"],[\"New Jersey\",\"Maple Shade\"],[\"New Jersey\",\"North Plainfield\"],[\"New Jersey\",\"Englewood\"],[\"New Jersey\",\"Plainfield\"],[\"New Jersey\",\"West Deptford\"],[\"New Jersey\",\"Neptune\"],[\"New Jersey\",\"Union\"],[\"New Jersey\",\"Hackensack\"],[\"New Jersey\",\"Clark\"],[\"New Jersey\",\"Parsippany- Troy Hills\"],[\"New Jersey\",\"Phillipsburg\"],[\"New Jersey\",\"Verona\"],[\"New Jersey\",\"Edison\"],[\"New Jersey\",\"Cherry Hill\"],[\"New Jersey\",\"South Plainfield\"],[\"New Jersey\",\"Montville\"],[\"New Jersey\",\"Westwood\"],[\"New Jersey\",\"Wayne\"],[\"New Jersey\",\"Lower\"],[\"New Jersey\",\"Carteret\"],[\"New Jersey\",\"Burlington\"],[\"New Jersey\",\"Berkeley Heights\"],[\"New Jersey\",\"East Windsor\"],[\"New Jersey\",\"Jersey City\"],[\"New Jersey\",\"Westfield\"],[\"New Jersey\",\"Pennsville\"],[\"New Jersey\",\"Lyndhurst\"],[\"New Jersey\",\"Belleville\"],[\"New Jersey\",\"South Orange Village\"],[\"New Jersey\",\"Atlantic City\"],[\"New Jersey\",\"Irvington\"],[\"New Jersey\",\"Long Branch\"],[\"New Jersey\",\"Ridgewood\"],[\"New Jersey\",\"Nutley\"],[\"New Jersey\",\"Sayreville\"],[\"New Jersey\",\"Barnegat\"],[\"New Jersey\",\"Cedar Grove\"],[\"New Jersey\",\"Moorestown\"],[\"New Jersey\",\"West Paterson\"],[\"New Jersey\",\"Oakland\"],[\"New Jersey\",\"Glassboro\"],[\"New Jersey\",\"Union City\"],[\"New Jersey\",\"South River\"],[\"New Jersey\",\"West Orange\"],[\"New Jersey\",\"Asbury Park\"],[\"New Mexico\",\"Portales\"],[\"New Mexico\",\"Roswell\"],[\"New Mexico\",\"Farmington\"],[\"New Mexico\",\"Alamogordo\"],[\"New Mexico\",\"Deming\"],[\"New Mexico\",\"Artesia\"],[\"New Mexico\",\"Hobbs\"],[\"New Mexico\",\"Albuquerque\"],[\"New Mexico\",\"Gallup\"],[\"New Mexico\",\"Silver City\"],[\"New York\",\"Mount Vernon\"],[\"New York\",\"Fulton\"],[\"New York\",\"Cortland\"],[\"New York\",\"Oswego\"],[\"New York\",\"Greenburgh\"],[\"New York\",\"Auburn\"],[\"New York\",\"Schenectady\"],[\"New York\",\"Rochester\"],[\"New York\",\"Albany\"],[\"New York\",\"Binghamton\"],[\"New York\",\"Peekskill\"],[\"New York\",\"Poughkeepsie\"],[\"New York\",\"Niagara Falls\"],[\"New York\",\"Beacon\"],[\"New York\",\"North Tonawanda\"],[\"New York\",\"Lockport\"],[\"New York\",\"Gloversville\"],[\"New York\",\"White Plains\"],[\"New York\",\"New York\"],[\"New York\",\"Corning\"],[\"New York\",\"Newburgh\"],[\"New York\",\"Lackawanna\"],[\"New York\",\"Buffalo\"],[\"New York\",\"Ithaca\"],[\"New York\",\"Glens Falls\"],[\"New York\",\"Oneida\"],[\"New York\",\"Olean\"],[\"New York\",\"Canandaigua\"],[\"New York\",\"Amsterdam\"],[\"New York\",\"Rye\"],[\"New York\",\"Rome\"],[\"New York\",\"Goshen\"],[\"New York\",\"Rockville Centre\"],[\"New York\",\"Middletown\"],[\"New York\",\"Long Beach\"],[\"New York\",\"Cohoes\"],[\"New York\",\"Dunkirk\"],[\"New York\",\"Yorktown\"],[\"New York\",\"Yonkers\"],[\"New York\",\"Oneonta\"],[\"New York\",\"Utica\"],[\"New York\",\"Geneva\"],[\"New York\",\"Syracuse\"],[\"New York\",\"Kingston\"],[\"New York\",\"Saratoga Springs\"],[\"New York\",\"Ogdensburg\"],[\"North Carolina\",\"High Point\"],[\"North Carolina\",\"Hickory\"],[\"North Carolina\",\"Asheboro\"],[\"North Carolina\",\"Monroe\"],[\"North Carolina\",\"Chapel Hill\"],[\"North Carolina\",\"Roanoke Rapids\"],[\"North Carolina\",\"Lenoir\"],[\"North Carolina\",\"Gastonia\"],[\"North Carolina\",\"Havelock\"],[\"North Carolina\",\"Laurinburg\"],[\"North Carolina\",\"Asheville\"],[\"North Carolina\",\"Morganton\"],[\"North Carolina\",\"Boone\"],[\"North Carolina\",\"Rocky Mount\"],[\"North Carolina\",\"Concord\"],[\"North Carolina\",\"Kinston\"],[\"North Carolina\",\"Goldsboro\"],[\"North Carolina\",\"Wilson\"],[\"North Carolina\",\"Charlotte\"],[\"North Carolina\",\"Lumberton\"],[\"North Carolina\",\"Albemarle\"],[\"North Carolina\",\"Shelby\"],[\"North Carolina\",\"Carrboro\"],[\"North Carolina\",\"New Bern\"],[\"North Carolina\",\"Reidsville\"],[\"North Carolina\",\"Garner\"],[\"North Carolina\",\"Sanford\"],[\"North Carolina\",\"Kannapolis\"],[\"North Carolina\",\"Elizabeth City\"],[\"North Carolina\",\"Jacksonville\"],[\"North Carolina\",\"Raleigh\"],[\"North Carolina\",\"Wilmington\"],[\"North Carolina\",\"Salisbury\"],[\"North Carolina\",\"Greensboro\"],[\"North Carolina\",\"Durham\"],[\"North Carolina\",\"Eden\"],[\"North Carolina\",\"Tarboro\"],[\"North Carolina\",\"Thomasville\"],[\"North Carolina\",\"Greenville\"],[\"North Carolina\",\"Henderson\"],[\"North Carolina\",\"Kernersville\"],[\"North Carolina\",\"Burlington\"],[\"North Carolina\",\"Fayetteville\"],[\"North Carolina\",\"Cary\"],[\"North Carolina\",\"Lexington\"],[\"North Carolina\",\"Graham\"],[\"North Dakota\",\"Dickinson\"],[\"North Dakota\",\"Williston\"],[\"North Dakota\",\"Fargo\"],[\"North Dakota\",\"Grand Forks\"],[\"North Dakota\",\"Jamestown\"],[\"North Dakota\",\"West Fargo\"],[\"North Dakota\",\"Bismarck\"],[\"North Dakota\",\"Minot\"],[\"Ohio\",\"Lima\"],[\"Ohio\",\"Kettering\"],[\"Ohio\",\"Poland\"],[\"Ohio\",\"Westlake\"],[\"Ohio\",\"Cleveland Heights\"],[\"Ohio\",\"Newark\"],[\"Ohio\",\"Upper Arlington\"],[\"Ohio\",\"University Heights\"],[\"Ohio\",\"Marion\"],[\"Ohio\",\"Stow\"],[\"Ohio\",\"Warrensville Heights\"],[\"Ohio\",\"Goshen\"],[\"Ohio\",\"Strongsville\"],[\"Ohio\",\"Dayton\"],[\"Ohio\",\"Maumee\"],[\"Ohio\",\"Sylvania\"],[\"Ohio\",\"Amherst\"],[\"Ohio\",\"North Canton\"],[\"Ohio\",\"Mentor\"],[\"Ohio\",\"Hamilton\"],[\"Ohio\",\"Tiffin\"],[\"Ohio\",\"Springfield\"],[\"Ohio\",\"Massillon\"],[\"Ohio\",\"Kent\"],[\"Ohio\",\"Steubenville\"],[\"Ohio\",\"Athens\"],[\"Ohio\",\"Perry\"],[\"Ohio\",\"Troy\"],[\"Ohio\",\"Piqua\"],[\"Ohio\",\"Ashland\"],[\"Ohio\",\"Barberton\"],[\"Ohio\",\"Bexley\"],[\"Ohio\",\"Grove City\"],[\"Ohio\",\"Westerville\"],[\"Ohio\",\"Englewood\"],[\"Ohio\",\"Greenville\"],[\"Ohio\",\"Mansfield\"],[\"Ohio\",\"Alliance\"],[\"Ohio\",\"Forest Park\"],[\"Ohio\",\"North Ridgeville\"],[\"Ohio\",\"Seven Hills\"],[\"Ohio\",\"Springfield\"],[\"Ohio\",\"Franklin\"],[\"Ohio\",\"Cleveland\"],[\"Ohio\",\"Zanesville\"],[\"Ohio\",\"Tallmadge\"],[\"Ohio\",\"Youngstown\"],[\"Ohio\",\"Bedford Heights\"],[\"Ohio\",\"Perrysburg\"],[\"Ohio\",\"Sylvania\"],[\"Ohio\",\"Worthington\"],[\"Ohio\",\"Brecksville\"],[\"Ohio\",\"Lebanon\"],[\"Ohio\",\"Marietta\"],[\"Ohio\",\"Madison\"],[\"Ohio\",\"Dover\"],[\"Ohio\",\"Jackson\"],[\"Ohio\",\"Liberty\"],[\"Ohio\",\"Wooster\"],[\"Ohio\",\"Fremont\"],[\"Ohio\",\"Middletown\"],[\"Ohio\",\"Cincinnati\"],[\"Ohio\",\"Miami\"],[\"Ohio\",\"Conneaut\"],[\"Ohio\",\"Niles\"],[\"Ohio\",\"Fairborn\"],[\"Ohio\",\"Hilliard\"],[\"Ohio\",\"Shaker Heights\"],[\"Ohio\",\"Bucyrus\"],[\"Ohio\",\"Portsmouth\"],[\"Ohio\",\"Lakewood\"],[\"Ohio\",\"Brooklyn\"],[\"Ohio\",\"Beavercreek\"],[\"Ohio\",\"Urbana\"],[\"Ohio\",\"Solon\"],[\"Ohio\",\"Garfield Heights\"],[\"Ohio\",\"Van Wert\"],[\"Ohio\",\"Girard\"],[\"Ohio\",\"Xenia\"],[\"Ohio\",\"Lorain\"],[\"Ohio\",\"Centerville\"],[\"Ohio\",\"Huber Heights\"],[\"Ohio\",\"New Philadelphia\"],[\"Ohio\",\"Norwalk\"],[\"Ohio\",\"Toledo\"],[\"Ohio\",\"Sandusky\"],[\"Ohio\",\"Bellefontaine\"],[\"Ohio\",\"Vermilion\"],[\"Ohio\",\"Vandalia\"],[\"Ohio\",\"Wadsworth\"],[\"Ohio\",\"Dublin\"],[\"Ohio\",\"Miamisburg\"],[\"Ohio\",\"Springdale\"],[\"Ohio\",\"Norwood\"],[\"Ohio\",\"Sharonville\"],[\"Ohio\",\"Delhi\"],[\"Ohio\",\"Wickliffe\"],[\"Ohio\",\"Mason\"],[\"Ohio\",\"Delaware\"],[\"Ohio\",\"Canton\"],[\"Ohio\",\"Salem\"],[\"Ohio\",\"Reading\"],[\"Ohio\",\"Wilmington\"],[\"Ohio\",\"Oregon\"],[\"Ohio\",\"Fairfield\"],[\"Ohio\",\"Columbus\"],[\"Ohio\",\"Perkins\"],[\"Ohio\",\"Chillicothe\"],[\"Ohio\",\"Norton\"],[\"Oklahoma\",\"Tahlequah\"],[\"Oklahoma\",\"Sand Springs\"],[\"Oklahoma\",\"Lawton\"],[\"Oklahoma\",\"Woodward\"],[\"Oklahoma\",\"Ponca City\"],[\"Oklahoma\",\"McAlester\"],[\"Oklahoma\",\"Duncan\"],[\"Oklahoma\",\"Chickasha\"],[\"Oklahoma\",\"Tulsa\"],[\"Oklahoma\",\"Bartlesville\"],[\"Oklahoma\",\"Muskogee\"],[\"Oklahoma\",\"Mustang\"],[\"Oklahoma\",\"Ardmore\"],[\"Oklahoma\",\"Shawnee\"],[\"Oklahoma\",\"Bethany\"],[\"Oklahoma\",\"El Reno\"],[\"Oklahoma\",\"Claremore\"],[\"Oklahoma\",\"Sapulpa\"],[\"Oklahoma\",\"Norman\"],[\"Oklahoma\",\"Moore\"],[\"Oklahoma\",\"Midwest City\"],[\"Oklahoma\",\"Miami\"],[\"Oklahoma\",\"Oklahoma City\"],[\"Oklahoma\",\"Durant\"],[\"Oklahoma\",\"Enid\"],[\"Oklahoma\",\"Yukon\"],[\"Oklahoma\",\"Okmulgee\"],[\"Oklahoma\",\"The Village\"],[\"Oklahoma\",\"Del City\"],[\"Oklahoma\",\"Owasso\"],[\"Oklahoma\",\"Ada\"],[\"Oklahoma\",\"Broken Arrow\"],[\"Oklahoma\",\"Edmond\"],[\"Oklahoma\",\"Altus\"],[\"Oklahoma\",\"Elk City\"],[\"Oklahoma\",\"Stillwater\"],[\"Oregon\",\"Springfield\"],[\"Oregon\",\"Woodburn\"],[\"Oregon\",\"Beaverton\"],[\"Oregon\",\"Bend\"],[\"Oregon\",\"Lebanon\"],[\"Oregon\",\"Forest Grove\"],[\"Oregon\",\"Gladstone\"],[\"Oregon\",\"Hillsboro\"],[\"Oregon\",\"Lake Oswego\"],[\"Oregon\",\"Salem\"],[\"Oregon\",\"La Grande\"],[\"Oregon\",\"Klamath Falls\"],[\"Oregon\",\"Tigard\"],[\"Oregon\",\"Hermiston\"],[\"Oregon\",\"Albany\"],[\"Oregon\",\"Grants Pass\"],[\"Oregon\",\"Medford\"],[\"Oregon\",\"Corvallis\"],[\"Oregon\",\"Astoria\"],[\"Oregon\",\"Milwaukie\"],[\"Oregon\",\"Roseburg\"],[\"Oregon\",\"West Linn\"],[\"Oregon\",\"Coos Bay\"],[\"Oregon\",\"Oregon City\"],[\"Oregon\",\"Portland\"],[\"Oregon\",\"Mc Minnville\"],[\"Oregon\",\"Gresham\"],[\"Oregon\",\"Keizer\"],[\"Oregon\",\"Newberg\"],[\"Oregon\",\"Ashland\"],[\"Oregon\",\"Eugene\"],[\"Pennsylvania\",\"Cumru\"],[\"Pennsylvania\",\"Caln\"],[\"Pennsylvania\",\"Pittsburgh\"],[\"Pennsylvania\",\"Philadelphia\"],[\"Pennsylvania\",\"Harrisburg\"],[\"Pennsylvania\",\"West Mifflin\"],[\"Pennsylvania\",\"Ephrata\"],[\"Pennsylvania\",\"Yeadon\"],[\"Pennsylvania\",\"Williamsport\"],[\"Pennsylvania\",\"Berwick\"],[\"Pennsylvania\",\"East Lampeter\"],[\"Pennsylvania\",\"South Whitehall\"],[\"Pennsylvania\",\"Hampton\"],[\"Pennsylvania\",\"Moon\"],[\"Pennsylvania\",\"Lower Makefield\"],[\"Pennsylvania\",\"Lower Paxton\"],[\"Pennsylvania\",\"Lower Salford\"],[\"Pennsylvania\",\"Nether Providence\"],[\"Pennsylvania\",\"Oil City\"],[\"Pennsylvania\",\"Cranberry\"],[\"Pennsylvania\",\"West Chester\"],[\"Pennsylvania\",\"Bethlehem\"],[\"Pennsylvania\",\"Middletown\"],[\"Pennsylvania\",\"Kingston\"],[\"Pennsylvania\",\"Johnstown\"],[\"Pennsylvania\",\"Upper Chichester\"],[\"Pennsylvania\",\"Phoenixville\"],[\"Pennsylvania\",\"Hampden\"],[\"Pennsylvania\",\"Allentown\"],[\"Pennsylvania\",\"Montgomery\"],[\"Pennsylvania\",\"West Whiteland\"],[\"Pennsylvania\",\"Northampton\"],[\"Pennsylvania\",\"Butler\"],[\"Pennsylvania\",\"Marple\"],[\"Pennsylvania\",\"Whitehall\"],[\"Pennsylvania\",\"East Norriton\"],[\"Pennsylvania\",\"Upper Allen\"],[\"Pennsylvania\",\"Brentwood\"],[\"Pennsylvania\",\"Richland\"],[\"Pennsylvania\",\"Tredyffrin\"],[\"Pennsylvania\",\"Altoona\"],[\"Pennsylvania\",\"Swatara\"],[\"Pennsylvania\",\"Doylestown\"],[\"Pennsylvania\",\"Logan\"],[\"Pennsylvania\",\"Butler\"],[\"Pennsylvania\",\"Center\"],[\"Pennsylvania\",\"Towamencin\"],[\"Pennsylvania\",\"Spring\"],[\"Pennsylvania\",\"Warwick\"],[\"Pennsylvania\",\"Erie\"],[\"Pennsylvania\",\"Upper Gwynedd\"],[\"Pennsylvania\",\"Beaver Falls\"],[\"Pennsylvania\",\"West Manchester\"],[\"Pennsylvania\",\"Shaler\"],[\"Pennsylvania\",\"Chester\"],[\"Pennsylvania\",\"Lansdowne\"],[\"Pennsylvania\",\"Aston\"],[\"Pennsylvania\",\"Wilkinsburg\"],[\"Pennsylvania\",\"York\"],[\"Pennsylvania\",\"Haverford\"],[\"Pennsylvania\",\"Bethel Park\"],[\"Pennsylvania\",\"Hanover\"],[\"Pennsylvania\",\"Reading\"],[\"Pennsylvania\",\"Lancaster\"],[\"Pennsylvania\",\"Bensalem\"],[\"Pennsylvania\",\"Swissvale\"],[\"Pennsylvania\",\"Muhlenberg\"],[\"Pennsylvania\",\"Hilltown\"],[\"Pennsylvania\",\"North Huntingdon\"],[\"Pennsylvania\",\"Bristol\"],[\"Pennsylvania\",\"Plains\"],[\"Pennsylvania\",\"Manheim\"],[\"Pennsylvania\",\"West Hempfield\"],[\"Pennsylvania\",\"Peters\"],[\"Pennsylvania\",\"Newberry\"],[\"Pennsylvania\",\"Scranton\"],[\"Pennsylvania\",\"Scott\"],[\"Pennsylvania\",\"Stroud\"],[\"Pennsylvania\",\"Spring Garden\"],[\"Pennsylvania\",\"Dunmore\"],[\"Pennsylvania\",\"Coatesville\"],[\"Pennsylvania\",\"Lower Moreland\"],[\"Pennsylvania\",\"Lebanon\"],[\"Pennsylvania\",\"Radnor\"],[\"Pennsylvania\",\"Upper Darby\"],[\"Pennsylvania\",\"Columbia\"],[\"Pennsylvania\",\"Penn\"],[\"Pennsylvania\",\"Nanticoke\"],[\"Pennsylvania\",\"Emmaus\"],[\"Pennsylvania\",\"Warrington\"],[\"Pennsylvania\",\"Bethlehem\"],[\"Pennsylvania\",\"Pottsville\"],[\"Pennsylvania\",\"Lancaster\"],[\"Pennsylvania\",\"Rostraver\"],[\"Pennsylvania\",\"Carlisle\"],[\"Pennsylvania\",\"Whitehall\"],[\"Pennsylvania\",\"Falls\"],[\"Pennsylvania\",\"Hazleton\"],[\"Pennsylvania\",\"Lower Allen\"],[\"Pennsylvania\",\"West Goshen\"],[\"Pennsylvania\",\"New Castle\"],[\"Rhode Island\",\"Lincoln\"],[\"Rhode Island\",\"North Providence\"],[\"Rhode Island\",\"Coventry\"],[\"Rhode Island\",\"Woonsocket\"],[\"Rhode Island\",\"South Kingstown\"],[\"Rhode Island\",\"Johnston\"],[\"Rhode Island\",\"Pawtucket\"],[\"Rhode Island\",\"Smithfield\"],[\"Rhode Island\",\"Barrington\"],[\"Rhode Island\",\"Tiverton\"],[\"Rhode Island\",\"Narragansett\"],[\"Rhode Island\",\"Newport\"],[\"Rhode Island\",\"Warren\"],[\"Rhode Island\",\"North Smithfield\"],[\"Rhode Island\",\"Cumberland\"],[\"Rhode Island\",\"East Greenwich\"],[\"Rhode Island\",\"Westerly\"],[\"Rhode Island\",\"Bristol\"],[\"Rhode Island\",\"Cranston\"],[\"Rhode Island\",\"Burrillville\"],[\"Rhode Island\",\"Portsmouth\"],[\"Rhode Island\",\"Central Falls\"],[\"Rhode Island\",\"Warwick\"],[\"Rhode Island\",\"Middletown\"],[\"Rhode Island\",\"Providence\"],[\"Rhode Island\",\"East Providence\"],[\"South Carolina\",\"Rock Hill\"],[\"South Carolina\",\"Mauldin\"],[\"South Carolina\",\"Hanahan\"],[\"South Carolina\",\"Easley\"],[\"South Carolina\",\"Orangeburg\"],[\"South Carolina\",\"Anderson\"],[\"South Carolina\",\"Simpsonville\"],[\"South Carolina\",\"Gaffney\"],[\"South Carolina\",\"Greenwood\"],[\"South Carolina\",\"Mount Pleasant\"],[\"South Carolina\",\"Charleston\"],[\"South Carolina\",\"Summerville\"],[\"South Carolina\",\"West Columbia\"],[\"South Carolina\",\"North Charleston\"],[\"South Carolina\",\"Sumter\"],[\"South Carolina\",\"Goose Creek\"],[\"South Carolina\",\"Columbia\"],[\"South Carolina\",\"Irmo\"],[\"South Carolina\",\"Aiken\"],[\"South Carolina\",\"Greer\"],[\"South Carolina\",\"Florence\"],[\"South Carolina\",\"Spartanburg\"],[\"South Carolina\",\"North Augusta\"],[\"South Carolina\",\"Greenville\"],[\"South Carolina\",\"Cayce\"],[\"South Carolina\",\"Myrtle Beach\"],[\"South Carolina\",\"Newberry\"],[\"South Carolina\",\"Clemson\"],[\"South Dakota\",\"Vermillion\"],[\"South Dakota\",\"Watertown\"],[\"South Dakota\",\"Brookings\"],[\"South Dakota\",\"Sioux Falls\"],[\"South Dakota\",\"Pierre\"],[\"South Dakota\",\"Aberdeen\"],[\"South Dakota\",\"Yankton\"],[\"South Dakota\",\"Mitchell\"],[\"South Dakota\",\"Rapid City\"],[\"Tennessee\",\"Germantown\"],[\"Tennessee\",\"Columbia\"],[\"Tennessee\",\"Collierville\"],[\"Tennessee\",\"Red Bank\"],[\"Tennessee\",\"Shelbyville\"],[\"Tennessee\",\"Murfreesboro\"],[\"Tennessee\",\"Bartlett\"],[\"Tennessee\",\"Jackson\"],[\"Tennessee\",\"Cookeville\"],[\"Tennessee\",\"Goodlettsville\"],[\"Tennessee\",\"Smyrna\"],[\"Tennessee\",\"Greeneville\"],[\"Tennessee\",\"Memphis\"],[\"Tennessee\",\"Union City\"],[\"Tennessee\",\"Cleveland\"],[\"Tennessee\",\"Morristown\"],[\"Tennessee\",\"Hendersonville\"],[\"Tennessee\",\"Mc Minnville\"],[\"Tennessee\",\"Franklin\"],[\"Tennessee\",\"Tullahoma\"],[\"Tennessee\",\"Kingsport\"],[\"Tennessee\",\"Clarksville\"],[\"Tennessee\",\"Chattanooga\"],[\"Tennessee\",\"East Ridge\"],[\"Tennessee\",\"Dyersburg\"],[\"Tennessee\",\"Athens\"],[\"Tennessee\",\"Brownsville\"],[\"Tennessee\",\"Gallatin\"],[\"Tennessee\",\"Maryville\"],[\"Tennessee\",\"Brentwood\"],[\"Tennessee\",\"Knoxville\"],[\"Tennessee\",\"Oak Ridge\"],[\"Tennessee\",\"Springfield\"],[\"Tennessee\",\"Johnson City\"],[\"Tennessee\",\"Millington\"],[\"Texas\",\"Edinburg\"],[\"Texas\",\"San Antonio\"],[\"Texas\",\"Waco\"],[\"Texas\",\"Copperas Cove\"],[\"Texas\",\"Freeport\"],[\"Texas\",\"Robstown\"],[\"Texas\",\"Burkburnett\"],[\"Texas\",\"Greenville\"],[\"Texas\",\"Longview\"],[\"Texas\",\"Killeen\"],[\"Texas\",\"Rosenberg\"],[\"Texas\",\"Keller\"],[\"Texas\",\"Lewisville\"],[\"Texas\",\"Round Rock\"],[\"Texas\",\"Laredo\"],[\"Texas\",\"Irving\"],[\"Texas\",\"Farmers Branch\"],[\"Texas\",\"Port Neches\"],[\"Texas\",\"Pearland\"],[\"Texas\",\"Nacogdoches\"],[\"Texas\",\"Euless\"],[\"Texas\",\"Galveston\"],[\"Texas\",\"Tyler\"],[\"Texas\",\"Canyon\"],[\"Texas\",\"Bay City\"],[\"Texas\",\"Sugar Land\"],[\"Texas\",\"Missouri City\"],[\"Texas\",\"Andrews\"],[\"Texas\",\"Snyder\"],[\"Texas\",\"Alvin\"],[\"Texas\",\"Victoria\"],[\"Texas\",\"Sulphur Springs\"],[\"Texas\",\"Burleson\"],[\"Texas\",\"Benbrook\"],[\"Texas\",\"Seguin\"],[\"Texas\",\"Pharr\"],[\"Texas\",\"Marshall\"],[\"Texas\",\"Schertz\"],[\"Texas\",\"Austin\"],[\"Texas\",\"Balch Springs\"],[\"Texas\",\"Sweetwater\"],[\"Texas\",\"Flower Mound\"],[\"Texas\",\"Odessa\"],[\"Texas\",\"Mansfield\"],[\"Texas\",\"Bellaire\"],[\"Texas\",\"Huntsville\"],[\"Texas\",\"Mc Allen\"],[\"Texas\",\"Vidor\"],[\"Texas\",\"Carrollton\"],[\"Texas\",\"Conroe\"],[\"Texas\",\"Waxahachie\"],[\"Texas\",\"Midland\"],[\"Texas\",\"Pasadena\"],[\"Texas\",\"Dallas\"],[\"Texas\",\"Grapevine\"],[\"Texas\",\"Cleburne\"],[\"Texas\",\"Colleyville\"],[\"Texas\",\"University Park\"],[\"Texas\",\"Pecos\"],[\"Texas\",\"College Station\"],[\"Texas\",\"Watauga\"],[\"Texas\",\"League City\"],[\"Texas\",\"Brownsville\"],[\"Texas\",\"Ennis\"],[\"Texas\",\"Vernon\"],[\"Texas\",\"Uvalde\"],[\"Texas\",\"Beaumont\"],[\"Texas\",\"Levelland\"],[\"Texas\",\"Cedar Hill\"],[\"Texas\",\"Lubbock\"],[\"Texas\",\"Fort Worth\"],[\"Texas\",\"Mesquite\"],[\"Texas\",\"Texarkana\"],[\"Texas\",\"Georgetown\"],[\"Texas\",\"Corsicana\"],[\"Texas\",\"Pampa\"],[\"Texas\",\"Amarillo\"],[\"Texas\",\"Brownwood\"],[\"Texas\",\"Bryan\"],[\"Texas\",\"Plainview\"],[\"Texas\",\"San Marcos\"],[\"Texas\",\"Athens\"],[\"Texas\",\"Brenham\"],[\"Texas\",\"Temple\"],[\"Texas\",\"San Juan\"],[\"Texas\",\"Del Rio\"],[\"Texas\",\"Lamesa\"],[\"Texas\",\"Orange\"],[\"Texas\",\"Port Lavaca\"],[\"Texas\",\"San Angelo\"],[\"Texas\",\"Mount Pleasant\"],[\"Texas\",\"South Houston\"],[\"Texas\",\"Plano\"],[\"Texas\",\"Kilgore\"],[\"Texas\",\"Groves\"],[\"Texas\",\"Live Oak\"],[\"Texas\",\"Portland\"],[\"Texas\",\"Bedford\"],[\"Texas\",\"Duncanville\"],[\"Texas\",\"El Campo\"],[\"Texas\",\"The Colony\"],[\"Texas\",\"Galena Park\"],[\"Texas\",\"San Benito\"],[\"Texas\",\"La Porte\"],[\"Texas\",\"Angleton\"],[\"Texas\",\"Mercedes\"],[\"Texas\",\"New Braunfels\"],[\"Texas\",\"North Richland Hills\"],[\"Texas\",\"Baytown\"],[\"Texas\",\"Jacksonville\"],[\"Texas\",\"Denton\"],[\"Texas\",\"Alice\"],[\"Texas\",\"Palestine\"],[\"Texas\",\"Stephenville\"],[\"Texas\",\"Denison\"],[\"Texas\",\"Corpus Christi\"],[\"Texas\",\"Richardson\"],[\"Texas\",\"Hurst\"],[\"Texas\",\"La Marque\"],[\"Texas\",\"Friendswood\"],[\"Texas\",\"Harker Heights\"],[\"Texas\",\"Rockwall\"],[\"Texas\",\"Beeville\"],[\"Texas\",\"Arlington\"],[\"Texas\",\"Sherman\"],[\"Texas\",\"Taylor\"],[\"Texas\",\"Mineral Wells\"],[\"Texas\",\"Mc Kinney\"],[\"Texas\",\"Eagle Pass\"],[\"Texas\",\"Port Arthur\"],[\"Texas\",\"Weatherford\"],[\"Texas\",\"Lufkin\"],[\"Texas\",\"Paris\"],[\"Texas\",\"Terrell\"],[\"Texas\",\"Mission\"],[\"Texas\",\"De Soto\"],[\"Texas\",\"Hereford\"],[\"Texas\",\"Nederland\"],[\"Texas\",\"Rowlett\"],[\"Texas\",\"Belton\"],[\"Texas\",\"Borger\"],[\"Texas\",\"Donna\"],[\"Texas\",\"El Paso\"],[\"Texas\",\"Lancaster\"],[\"Texas\",\"Weslaco\"],[\"Texas\",\"White Settlement\"],[\"Texas\",\"Harlingen\"],[\"Texas\",\"Texas City\"],[\"Texas\",\"Gatesville\"],[\"Texas\",\"Humble\"],[\"Texas\",\"Lake Jackson\"],[\"Texas\",\"Kingsville\"],[\"Texas\",\"Gainesville\"],[\"Texas\",\"Kerrville\"],[\"Texas\",\"Deer Park\"],[\"Texas\",\"Coppell\"],[\"Utah\",\"Springville\"],[\"Utah\",\"Provo\"],[\"Utah\",\"Clearfield\"],[\"Utah\",\"Orem\"],[\"Utah\",\"South Jordan\"],[\"Utah\",\"Tooele\"],[\"Utah\",\"Centerville\"],[\"Utah\",\"Sandy\"],[\"Utah\",\"South Ogden\"],[\"Utah\",\"Cedar City\"],[\"Utah\",\"Logan\"],[\"Utah\",\"Murray\"],[\"Utah\",\"Pleasant Grove\"],[\"Utah\",\"Roy\"],[\"Utah\",\"Bountiful\"],[\"Utah\",\"Brigham City\"],[\"Utah\",\"North Ogden\"],[\"Utah\",\"Midvale\"],[\"Utah\",\"American Fork\"],[\"Utah\",\"Spanish Fork\"],[\"Utah\",\"West Jordan\"],[\"Utah\",\"Ogden\"],[\"Utah\",\"Salt Lake City\"],[\"Utah\",\"South Salt Lake\"],[\"Vermont\",\"Burlington\"],[\"Vermont\",\"South Burlington\"],[\"Vermont\",\"Rutland\"],[\"Vermont\",\"Colchester\"],[\"Virginia\",\"Alexandria\"],[\"Virginia\",\"Waynesboro\"],[\"Virginia\",\"Chesapeake\"],[\"Virginia\",\"Salem\"],[\"Virginia\",\"Harrisonburg\"],[\"Virginia\",\"Richmond\"],[\"Virginia\",\"Charlottesville\"],[\"Virginia\",\"Portsmouth\"],[\"Virginia\",\"Lynchburg\"],[\"Virginia\",\"Radford\"],[\"Virginia\",\"Hopewell\"],[\"Virginia\",\"Roanoke\"],[\"Virginia\",\"Staunton\"],[\"Virginia\",\"Manassas\"],[\"Virginia\",\"Poquoson\"],[\"Virginia\",\"Winchester\"],[\"Virginia\",\"Martinsville\"],[\"Virginia\",\"Front Royal\"],[\"Virginia\",\"Blacksburg\"],[\"Virginia\",\"Hampton\"],[\"Virginia\",\"Herndon\"],[\"Virginia\",\"Norfolk\"],[\"Virginia\",\"Danville\"],[\"Virginia\",\"Williamsburg\"],[\"Virginia\",\"Leesburg\"],[\"Virginia\",\"Newport News\"],[\"Virginia\",\"Fredericksburg\"],[\"Virginia\",\"Petersburg\"],[\"Virginia\",\"Virginia Beach\"],[\"Virginia\",\"Christiansburg\"],[\"Virginia\",\"Suffolk\"],[\"Virginia\",\"Colonial Heights\"],[\"Virginia\",\"Vienna\"],[\"Washington\",\"Yakima\"],[\"Washington\",\"Renton\"],[\"Washington\",\"Kent\"],[\"Washington\",\"Walla Walla\"],[\"Washington\",\"Tacoma\"],[\"Washington\",\"Tukwila\"],[\"Washington\",\"Bothell\"],[\"Washington\",\"Everett\"],[\"Washington\",\"Port Angeles\"],[\"Washington\",\"Anacortes\"],[\"Washington\",\"Lacey\"],[\"Washington\",\"Mount Vernon\"],[\"Washington\",\"Moses Lake\"],[\"Washington\",\"Bellingham\"],[\"Washington\",\"Longview\"],[\"Washington\",\"Olympia\"],[\"Washington\",\"Puyallup\"],[\"Washington\",\"Kennewick\"],[\"Washington\",\"Seattle\"],[\"Washington\",\"Pullman\"],[\"Washington\",\"Redmond\"],[\"Washington\",\"Auburn\"],[\"Washington\",\"Kirkland\"],[\"Washington\",\"Wenatchee\"],[\"Washington\",\"Oak Harbor\"],[\"Washington\",\"Bremerton\"],[\"Washington\",\"Sunnyside\"],[\"Washington\",\"Centralia\"],[\"Washington\",\"Edmonds\"],[\"Washington\",\"Pasco\"],[\"Washington\",\"Richland\"],[\"Washington\",\"Bellevue\"],[\"Washington\",\"Ellensburg\"],[\"Washington\",\"Spokane\"],[\"Washington\",\"Des Moines\"],[\"Washington\",\"Kelso\"],[\"Washington\",\"Vancouver\"],[\"Washington\",\"Mercer Island\"],[\"Washington\",\"Aberdeen\"],[\"Washington\",\"Lynnwood\"],[\"West Virginia\",\"Fairmont\"],[\"West Virginia\",\"Vienna\"],[\"West Virginia\",\"Huntington\"],[\"West Virginia\",\"Morgantown\"],[\"West Virginia\",\"Wheeling\"],[\"West Virginia\",\"Charleston\"],[\"West Virginia\",\"South Charleston\"],[\"West Virginia\",\"Martinsburg\"],[\"West Virginia\",\"Weirton\"],[\"West Virginia\",\"Bluefield\"],[\"West Virginia\",\"Moundsville\"],[\"West Virginia\",\"Parkersburg\"],[\"West Virginia\",\"Clarksburg\"],[\"West Virginia\",\"Beckley\"],[\"Wisconsin\",\"Onalaska\"],[\"Wisconsin\",\"Oshkosh\"],[\"Wisconsin\",\"Brookfield\"],[\"Wisconsin\",\"Menasha\"],[\"Wisconsin\",\"Muskego\"],[\"Wisconsin\",\"Marinette\"],[\"Wisconsin\",\"Waukesha\"],[\"Wisconsin\",\"Kenosha\"],[\"Wisconsin\",\"River Falls\"],[\"Wisconsin\",\"Germantown\"],[\"Wisconsin\",\"Manitowoc\"],[\"Wisconsin\",\"Whitewater\"],[\"Wisconsin\",\"Wisconsin Rapids\"],[\"Wisconsin\",\"La Crosse\"],[\"Wisconsin\",\"Sheboygan\"],[\"Wisconsin\",\"Caledonia\"],[\"Wisconsin\",\"Marshfield\"],[\"Wisconsin\",\"Two Rivers\"],[\"Wisconsin\",\"Oconomowoc\"],[\"Wisconsin\",\"Oak Creek\"],[\"Wisconsin\",\"Monroe\"],[\"Wisconsin\",\"Beaver Dam\"],[\"Wisconsin\",\"Madison\"],[\"Wisconsin\",\"Shorewood\"],[\"Wisconsin\",\"Beloit\"],[\"Wisconsin\",\"Fitchburg\"],[\"Wisconsin\",\"Milwaukee\"],[\"Wisconsin\",\"West Allis\"],[\"Wisconsin\",\"Kaukauna\"],[\"Wisconsin\",\"Green Bay\"],[\"Wisconsin\",\"Middleton\"],[\"Wisconsin\",\"Glendale\"],[\"Wisconsin\",\"Cudahy\"],[\"Wisconsin\",\"Sun Prairie\"],[\"Wisconsin\",\"Janesville\"],[\"Wisconsin\",\"Mequon\"],[\"Wisconsin\",\"South Milwaukee\"],[\"Wisconsin\",\"Racine\"],[\"Wisconsin\",\"Menomonie\"],[\"Wisconsin\",\"Greendale\"],[\"Wisconsin\",\"Wauwatosa\"],[\"Wisconsin\",\"Fond Du Lac\"],[\"Wisconsin\",\"Wausau\"],[\"Wisconsin\",\"Chippewa Falls\"],[\"Wisconsin\",\"Ashwaubenon\"],[\"Wisconsin\",\"Neenah\"],[\"Wisconsin\",\"Appleton\"],[\"Wisconsin\",\"Watertown\"],[\"Wisconsin\",\"Stevens Point\"],[\"Wisconsin\",\"Fort Atkinson\"],[\"Wisconsin\",\"West Bend\"],[\"Wisconsin\",\"De Pere\"],[\"Wisconsin\",\"Menomonee Falls\"],[\"Wisconsin\",\"Mount Pleasant\"],[\"Wisconsin\",\"Brown Deer\"],[\"Wisconsin\",\"Whitefish Bay\"],[\"Wisconsin\",\"Grand Chute\"],[\"Wisconsin\",\"Superior\"],[\"Wisconsin\",\"Eau Claire\"],[\"Wisconsin\",\"New Berlin\"],[\"Wyoming\",\"Cheyenne\"],[\"Wyoming\",\"Green River\"],[\"Wyoming\",\"Sheridan\"],[\"Wyoming\",\"Evanston\"],[\"Wyoming\",\"Gillette\"],[\"Wyoming\",\"Laramie\"],[\"Wyoming\",\"Rock Springs\"]],\"hovertemplate\":\"<b>%{hovertext}</b><br><br>violent_crime_rate=%{marker.color}<br>latitude=%{lat}<br>longitude=%{lon}<br>state=%{customdata[0]}<br>area=%{customdata[1]}<extra></extra>\",\"hovertext\":[\"Alabama\",\"Alabama\",\"Alabama\",\"Alabama\",\"Alabama\",\"Alabama\",\"Alabama\",\"Alabama\",\"Alabama\",\"Alabama\",\"Alabama\",\"Alabama\",\"Alabama\",\"Alabama\",\"Alabama\",\"Alabama\",\"Alabama\",\"Alabama\",\"Alabama\",\"Alabama\",\"Alabama\",\"Alabama\",\"Alabama\",\"Alabama\",\"Alabama\",\"Alabama\",\"Alabama\",\"Alabama\",\"Alabama\",\"Alabama\",\"Alabama\",\"Alabama\",\"Alabama\",\"Alabama\",\"Alabama\",\"Alabama\",\"Alabama\",\"Alabama\",\"Alabama\",\"Alabama\",\"Alabama\",\"Alabama\",\"Alabama\",\"Alaska\",\"Alaska\",\"Alaska\",\"Arizona\",\"Arizona\",\"Arizona\",\"Arizona\",\"Arizona\",\"Arizona\",\"Arizona\",\"Arizona\",\"Arizona\",\"Arizona\",\"Arizona\",\"Arizona\",\"Arizona\",\"Arizona\",\"Arizona\",\"Arizona\",\"Arizona\",\"Arizona\",\"Arizona\",\"Arizona\",\"Arkansas\",\"Arkansas\",\"Arkansas\",\"Arkansas\",\"Arkansas\",\"Arkansas\",\"Arkansas\",\"Arkansas\",\"Arkansas\",\"Arkansas\",\"Arkansas\",\"Arkansas\",\"Arkansas\",\"Arkansas\",\"Arkansas\",\"Arkansas\",\"Arkansas\",\"Arkansas\",\"Arkansas\",\"Arkansas\",\"Arkansas\",\"Arkansas\",\"Arkansas\",\"Arkansas\",\"Arkansas\",\"California\",\"California\",\"California\",\"California\",\"California\",\"California\",\"California\",\"California\",\"California\",\"California\",\"California\",\"California\",\"California\",\"California\",\"California\",\"California\",\"California\",\"California\",\"California\",\"California\",\"California\",\"California\",\"California\",\"California\",\"California\",\"California\",\"California\",\"California\",\"California\",\"California\",\"California\",\"California\",\"California\",\"California\",\"California\",\"California\",\"California\",\"California\",\"California\",\"California\",\"California\",\"California\",\"California\",\"California\",\"California\",\"California\",\"California\",\"California\",\"California\",\"California\",\"California\",\"California\",\"California\",\"California\",\"California\",\"California\",\"California\",\"California\",\"California\",\"California\",\"California\",\"California\",\"California\",\"California\",\"California\",\"California\",\"California\",\"California\",\"California\",\"California\",\"California\",\"California\",\"California\",\"California\",\"California\",\"California\",\"California\",\"California\",\"California\",\"California\",\"California\",\"California\",\"California\",\"California\",\"California\",\"California\",\"California\",\"California\",\"California\",\"California\",\"California\",\"California\",\"California\",\"California\",\"California\",\"California\",\"California\",\"California\",\"California\",\"California\",\"California\",\"California\",\"California\",\"California\",\"California\",\"California\",\"California\",\"California\",\"California\",\"California\",\"California\",\"California\",\"California\",\"California\",\"California\",\"California\",\"California\",\"California\",\"California\",\"California\",\"California\",\"California\",\"California\",\"California\",\"California\",\"California\",\"California\",\"California\",\"California\",\"California\",\"California\",\"California\",\"California\",\"California\",\"California\",\"California\",\"California\",\"California\",\"California\",\"California\",\"California\",\"California\",\"California\",\"California\",\"California\",\"California\",\"California\",\"California\",\"California\",\"California\",\"California\",\"California\",\"California\",\"California\",\"California\",\"California\",\"California\",\"California\",\"California\",\"California\",\"California\",\"California\",\"California\",\"California\",\"California\",\"California\",\"California\",\"California\",\"California\",\"California\",\"California\",\"California\",\"California\",\"California\",\"California\",\"California\",\"California\",\"California\",\"California\",\"California\",\"California\",\"California\",\"California\",\"California\",\"California\",\"California\",\"California\",\"California\",\"California\",\"California\",\"California\",\"California\",\"California\",\"California\",\"California\",\"California\",\"California\",\"California\",\"California\",\"California\",\"California\",\"California\",\"California\",\"California\",\"California\",\"California\",\"California\",\"California\",\"California\",\"California\",\"California\",\"California\",\"California\",\"California\",\"California\",\"California\",\"California\",\"California\",\"California\",\"California\",\"California\",\"California\",\"California\",\"California\",\"California\",\"California\",\"California\",\"California\",\"California\",\"California\",\"California\",\"California\",\"California\",\"California\",\"California\",\"California\",\"California\",\"California\",\"California\",\"California\",\"California\",\"California\",\"California\",\"California\",\"California\",\"California\",\"California\",\"California\",\"California\",\"California\",\"California\",\"California\",\"California\",\"California\",\"California\",\"California\",\"California\",\"California\",\"California\",\"California\",\"California\",\"California\",\"California\",\"California\",\"California\",\"California\",\"California\",\"California\",\"California\",\"California\",\"California\",\"California\",\"California\",\"California\",\"California\",\"California\",\"California\",\"California\",\"Colorado\",\"Colorado\",\"Colorado\",\"Colorado\",\"Colorado\",\"Colorado\",\"Colorado\",\"Colorado\",\"Colorado\",\"Colorado\",\"Colorado\",\"Colorado\",\"Colorado\",\"Colorado\",\"Colorado\",\"Colorado\",\"Colorado\",\"Colorado\",\"Colorado\",\"Colorado\",\"Colorado\",\"Colorado\",\"Colorado\",\"Colorado\",\"Colorado\",\"Connecticut\",\"Connecticut\",\"Connecticut\",\"Connecticut\",\"Connecticut\",\"Connecticut\",\"Connecticut\",\"Connecticut\",\"Connecticut\",\"Connecticut\",\"Connecticut\",\"Connecticut\",\"Connecticut\",\"Connecticut\",\"Connecticut\",\"Connecticut\",\"Connecticut\",\"Connecticut\",\"Connecticut\",\"Connecticut\",\"Connecticut\",\"Connecticut\",\"Connecticut\",\"Connecticut\",\"Connecticut\",\"Connecticut\",\"Connecticut\",\"Connecticut\",\"Connecticut\",\"Connecticut\",\"Connecticut\",\"Connecticut\",\"Connecticut\",\"Connecticut\",\"Connecticut\",\"Connecticut\",\"Connecticut\",\"Connecticut\",\"Connecticut\",\"Connecticut\",\"Connecticut\",\"Connecticut\",\"Connecticut\",\"Connecticut\",\"Connecticut\",\"Connecticut\",\"Connecticut\",\"Connecticut\",\"Connecticut\",\"Connecticut\",\"Connecticut\",\"Connecticut\",\"Connecticut\",\"Connecticut\",\"Connecticut\",\"Connecticut\",\"Connecticut\",\"Connecticut\",\"Connecticut\",\"Connecticut\",\"Connecticut\",\"Connecticut\",\"Connecticut\",\"Connecticut\",\"Connecticut\",\"Connecticut\",\"Connecticut\",\"Connecticut\",\"Connecticut\",\"Delaware\",\"District of Columbia\",\"Florida\",\"Florida\",\"Florida\",\"Florida\",\"Florida\",\"Florida\",\"Florida\",\"Florida\",\"Florida\",\"Florida\",\"Florida\",\"Florida\",\"Florida\",\"Florida\",\"Florida\",\"Florida\",\"Florida\",\"Florida\",\"Florida\",\"Florida\",\"Florida\",\"Florida\",\"Florida\",\"Florida\",\"Florida\",\"Florida\",\"Florida\",\"Florida\",\"Florida\",\"Florida\",\"Florida\",\"Florida\",\"Florida\",\"Florida\",\"Florida\",\"Florida\",\"Florida\",\"Florida\",\"Florida\",\"Florida\",\"Florida\",\"Florida\",\"Florida\",\"Florida\",\"Florida\",\"Florida\",\"Florida\",\"Florida\",\"Florida\",\"Florida\",\"Florida\",\"Florida\",\"Florida\",\"Florida\",\"Florida\",\"Florida\",\"Florida\",\"Florida\",\"Florida\",\"Florida\",\"Florida\",\"Florida\",\"Florida\",\"Florida\",\"Florida\",\"Florida\",\"Florida\",\"Florida\",\"Florida\",\"Florida\",\"Florida\",\"Florida\",\"Florida\",\"Florida\",\"Florida\",\"Florida\",\"Florida\",\"Florida\",\"Florida\",\"Florida\",\"Florida\",\"Florida\",\"Florida\",\"Florida\",\"Florida\",\"Florida\",\"Florida\",\"Florida\",\"Florida\",\"Florida\",\"Georgia\",\"Georgia\",\"Georgia\",\"Georgia\",\"Georgia\",\"Georgia\",\"Georgia\",\"Georgia\",\"Georgia\",\"Georgia\",\"Georgia\",\"Georgia\",\"Georgia\",\"Georgia\",\"Georgia\",\"Georgia\",\"Georgia\",\"Georgia\",\"Georgia\",\"Georgia\",\"Georgia\",\"Georgia\",\"Georgia\",\"Georgia\",\"Georgia\",\"Georgia\",\"Georgia\",\"Georgia\",\"Georgia\",\"Georgia\",\"Georgia\",\"Georgia\",\"Georgia\",\"Georgia\",\"Georgia\",\"Georgia\",\"Georgia\",\"Idaho\",\"Idaho\",\"Idaho\",\"Idaho\",\"Idaho\",\"Idaho\",\"Idaho\",\"Indiana\",\"Indiana\",\"Indiana\",\"Indiana\",\"Indiana\",\"Indiana\",\"Indiana\",\"Indiana\",\"Indiana\",\"Indiana\",\"Indiana\",\"Indiana\",\"Indiana\",\"Indiana\",\"Indiana\",\"Indiana\",\"Indiana\",\"Indiana\",\"Indiana\",\"Indiana\",\"Indiana\",\"Indiana\",\"Indiana\",\"Indiana\",\"Indiana\",\"Indiana\",\"Indiana\",\"Indiana\",\"Indiana\",\"Indiana\",\"Indiana\",\"Indiana\",\"Indiana\",\"Indiana\",\"Indiana\",\"Indiana\",\"Indiana\",\"Indiana\",\"Indiana\",\"Indiana\",\"Indiana\",\"Indiana\",\"Indiana\",\"Indiana\",\"Indiana\",\"Indiana\",\"Indiana\",\"Indiana\",\"Iowa\",\"Iowa\",\"Iowa\",\"Iowa\",\"Iowa\",\"Iowa\",\"Iowa\",\"Iowa\",\"Iowa\",\"Iowa\",\"Iowa\",\"Iowa\",\"Iowa\",\"Iowa\",\"Iowa\",\"Iowa\",\"Iowa\",\"Iowa\",\"Iowa\",\"Iowa\",\"Kansas\",\"Kentucky\",\"Kentucky\",\"Kentucky\",\"Kentucky\",\"Kentucky\",\"Kentucky\",\"Kentucky\",\"Kentucky\",\"Kentucky\",\"Kentucky\",\"Kentucky\",\"Kentucky\",\"Kentucky\",\"Kentucky\",\"Kentucky\",\"Kentucky\",\"Kentucky\",\"Kentucky\",\"Kentucky\",\"Kentucky\",\"Kentucky\",\"Kentucky\",\"Kentucky\",\"Kentucky\",\"Kentucky\",\"Kentucky\",\"Louisiana\",\"Louisiana\",\"Louisiana\",\"Louisiana\",\"Louisiana\",\"Louisiana\",\"Louisiana\",\"Louisiana\",\"Louisiana\",\"Louisiana\",\"Louisiana\",\"Louisiana\",\"Louisiana\",\"Louisiana\",\"Louisiana\",\"Louisiana\",\"Louisiana\",\"Louisiana\",\"Louisiana\",\"Louisiana\",\"Louisiana\",\"Louisiana\",\"Maine\",\"Maine\",\"Maine\",\"Maine\",\"Maine\",\"Maine\",\"Maine\",\"Maine\",\"Maine\",\"Maine\",\"Maine\",\"Maine\",\"Maine\",\"Maine\",\"Maine\",\"Maine\",\"Maine\",\"Maryland\",\"Maryland\",\"Maryland\",\"Maryland\",\"Maryland\",\"Maryland\",\"Maryland\",\"Maryland\",\"Maryland\",\"Maryland\",\"Maryland\",\"Maryland\",\"Massachusetts\",\"Massachusetts\",\"Massachusetts\",\"Massachusetts\",\"Massachusetts\",\"Massachusetts\",\"Massachusetts\",\"Massachusetts\",\"Massachusetts\",\"Massachusetts\",\"Massachusetts\",\"Massachusetts\",\"Massachusetts\",\"Massachusetts\",\"Massachusetts\",\"Massachusetts\",\"Massachusetts\",\"Massachusetts\",\"Massachusetts\",\"Massachusetts\",\"Massachusetts\",\"Massachusetts\",\"Massachusetts\",\"Massachusetts\",\"Massachusetts\",\"Massachusetts\",\"Massachusetts\",\"Massachusetts\",\"Massachusetts\",\"Massachusetts\",\"Massachusetts\",\"Massachusetts\",\"Massachusetts\",\"Massachusetts\",\"Massachusetts\",\"Massachusetts\",\"Massachusetts\",\"Massachusetts\",\"Massachusetts\",\"Massachusetts\",\"Massachusetts\",\"Massachusetts\",\"Massachusetts\",\"Massachusetts\",\"Massachusetts\",\"Massachusetts\",\"Massachusetts\",\"Massachusetts\",\"Massachusetts\",\"Massachusetts\",\"Massachusetts\",\"Massachusetts\",\"Massachusetts\",\"Massachusetts\",\"Massachusetts\",\"Massachusetts\",\"Massachusetts\",\"Massachusetts\",\"Massachusetts\",\"Massachusetts\",\"Massachusetts\",\"Massachusetts\",\"Massachusetts\",\"Massachusetts\",\"Massachusetts\",\"Massachusetts\",\"Massachusetts\",\"Massachusetts\",\"Massachusetts\",\"Massachusetts\",\"Massachusetts\",\"Massachusetts\",\"Massachusetts\",\"Massachusetts\",\"Massachusetts\",\"Massachusetts\",\"Massachusetts\",\"Massachusetts\",\"Massachusetts\",\"Massachusetts\",\"Massachusetts\",\"Massachusetts\",\"Massachusetts\",\"Massachusetts\",\"Massachusetts\",\"Massachusetts\",\"Massachusetts\",\"Massachusetts\",\"Massachusetts\",\"Massachusetts\",\"Massachusetts\",\"Massachusetts\",\"Massachusetts\",\"Massachusetts\",\"Massachusetts\",\"Massachusetts\",\"Massachusetts\",\"Massachusetts\",\"Massachusetts\",\"Massachusetts\",\"Massachusetts\",\"Massachusetts\",\"Massachusetts\",\"Massachusetts\",\"Massachusetts\",\"Massachusetts\",\"Massachusetts\",\"Massachusetts\",\"Massachusetts\",\"Massachusetts\",\"Massachusetts\",\"Massachusetts\",\"Massachusetts\",\"Massachusetts\",\"Massachusetts\",\"Massachusetts\",\"Massachusetts\",\"Massachusetts\",\"Massachusetts\",\"Massachusetts\",\"Massachusetts\",\"Minnesota\",\"Minnesota\",\"Minnesota\",\"Minnesota\",\"Minnesota\",\"Minnesota\",\"Minnesota\",\"Mississippi\",\"Mississippi\",\"Mississippi\",\"Mississippi\",\"Mississippi\",\"Mississippi\",\"Mississippi\",\"Mississippi\",\"Mississippi\",\"Mississippi\",\"Mississippi\",\"Mississippi\",\"Mississippi\",\"Mississippi\",\"Mississippi\",\"Mississippi\",\"Mississippi\",\"Mississippi\",\"Mississippi\",\"Missouri\",\"Missouri\",\"Missouri\",\"Missouri\",\"Missouri\",\"Missouri\",\"Missouri\",\"Missouri\",\"Missouri\",\"Missouri\",\"Missouri\",\"Missouri\",\"Missouri\",\"Missouri\",\"Missouri\",\"Missouri\",\"Missouri\",\"Missouri\",\"Missouri\",\"Missouri\",\"Missouri\",\"Missouri\",\"Missouri\",\"Missouri\",\"Missouri\",\"Missouri\",\"Missouri\",\"Missouri\",\"Missouri\",\"Missouri\",\"Missouri\",\"Missouri\",\"Missouri\",\"Missouri\",\"Missouri\",\"Missouri\",\"Missouri\",\"Missouri\",\"Missouri\",\"Missouri\",\"Missouri\",\"Missouri\",\"Nevada\",\"Nevada\",\"Nevada\",\"Nevada\",\"Nevada\",\"New Hampshire\",\"New Hampshire\",\"New Hampshire\",\"New Hampshire\",\"New Hampshire\",\"New Hampshire\",\"New Hampshire\",\"New Hampshire\",\"New Hampshire\",\"New Hampshire\",\"New Hampshire\",\"New Hampshire\",\"New Hampshire\",\"New Hampshire\",\"New Hampshire\",\"New Hampshire\",\"New Hampshire\",\"New Hampshire\",\"New Hampshire\",\"New Hampshire\",\"New Hampshire\",\"New Jersey\",\"New Jersey\",\"New Jersey\",\"New Jersey\",\"New Jersey\",\"New Jersey\",\"New Jersey\",\"New Jersey\",\"New Jersey\",\"New Jersey\",\"New Jersey\",\"New Jersey\",\"New Jersey\",\"New Jersey\",\"New Jersey\",\"New Jersey\",\"New Jersey\",\"New Jersey\",\"New Jersey\",\"New Jersey\",\"New Jersey\",\"New Jersey\",\"New Jersey\",\"New Jersey\",\"New Jersey\",\"New Jersey\",\"New Jersey\",\"New Jersey\",\"New Jersey\",\"New Jersey\",\"New Jersey\",\"New Jersey\",\"New Jersey\",\"New Jersey\",\"New Jersey\",\"New Jersey\",\"New Jersey\",\"New Jersey\",\"New Jersey\",\"New Jersey\",\"New Jersey\",\"New Jersey\",\"New Jersey\",\"New Jersey\",\"New Jersey\",\"New Jersey\",\"New Jersey\",\"New Jersey\",\"New Jersey\",\"New Jersey\",\"New Jersey\",\"New Jersey\",\"New Jersey\",\"New Jersey\",\"New Jersey\",\"New Jersey\",\"New Jersey\",\"New Jersey\",\"New Jersey\",\"New Jersey\",\"New Jersey\",\"New Jersey\",\"New Jersey\",\"New Jersey\",\"New Jersey\",\"New Jersey\",\"New Jersey\",\"New Jersey\",\"New Jersey\",\"New Jersey\",\"New Jersey\",\"New Jersey\",\"New Jersey\",\"New Jersey\",\"New Jersey\",\"New Jersey\",\"New Jersey\",\"New Jersey\",\"New Jersey\",\"New Jersey\",\"New Jersey\",\"New Jersey\",\"New Jersey\",\"New Jersey\",\"New Jersey\",\"New Jersey\",\"New Jersey\",\"New Jersey\",\"New Jersey\",\"New Jersey\",\"New Jersey\",\"New Jersey\",\"New Jersey\",\"New Jersey\",\"New Jersey\",\"New Jersey\",\"New Jersey\",\"New Jersey\",\"New Jersey\",\"New Jersey\",\"New Jersey\",\"New Jersey\",\"New Jersey\",\"New Jersey\",\"New Jersey\",\"New Jersey\",\"New Jersey\",\"New Jersey\",\"New Jersey\",\"New Jersey\",\"New Jersey\",\"New Jersey\",\"New Jersey\",\"New Jersey\",\"New Jersey\",\"New Jersey\",\"New Jersey\",\"New Jersey\",\"New Jersey\",\"New Jersey\",\"New Jersey\",\"New Jersey\",\"New Jersey\",\"New Jersey\",\"New Jersey\",\"New Jersey\",\"New Jersey\",\"New Jersey\",\"New Jersey\",\"New Jersey\",\"New Jersey\",\"New Jersey\",\"New Jersey\",\"New Jersey\",\"New Jersey\",\"New Jersey\",\"New Jersey\",\"New Jersey\",\"New Jersey\",\"New Jersey\",\"New Jersey\",\"New Jersey\",\"New Jersey\",\"New Jersey\",\"New Jersey\",\"New Jersey\",\"New Jersey\",\"New Jersey\",\"New Jersey\",\"New Jersey\",\"New Jersey\",\"New Jersey\",\"New Jersey\",\"New Jersey\",\"New Jersey\",\"New Jersey\",\"New Jersey\",\"New Jersey\",\"New Jersey\",\"New Jersey\",\"New Jersey\",\"New Jersey\",\"New Jersey\",\"New Jersey\",\"New Jersey\",\"New Jersey\",\"New Jersey\",\"New Jersey\",\"New Jersey\",\"New Jersey\",\"New Jersey\",\"New Jersey\",\"New Jersey\",\"New Jersey\",\"New Jersey\",\"New Jersey\",\"New Jersey\",\"New Jersey\",\"New Jersey\",\"New Jersey\",\"New Jersey\",\"New Jersey\",\"New Jersey\",\"New Jersey\",\"New Jersey\",\"New Jersey\",\"New Jersey\",\"New Jersey\",\"New Jersey\",\"New Jersey\",\"New Jersey\",\"New Jersey\",\"New Jersey\",\"New Jersey\",\"New Jersey\",\"New Jersey\",\"New Jersey\",\"New Jersey\",\"New Jersey\",\"New Jersey\",\"New Jersey\",\"New Jersey\",\"New Jersey\",\"New Jersey\",\"New Jersey\",\"New Jersey\",\"New Jersey\",\"New Jersey\",\"New Jersey\",\"New Jersey\",\"New Jersey\",\"New Mexico\",\"New Mexico\",\"New Mexico\",\"New Mexico\",\"New Mexico\",\"New Mexico\",\"New Mexico\",\"New Mexico\",\"New Mexico\",\"New Mexico\",\"New York\",\"New York\",\"New York\",\"New York\",\"New York\",\"New York\",\"New York\",\"New York\",\"New York\",\"New York\",\"New York\",\"New York\",\"New York\",\"New York\",\"New York\",\"New York\",\"New York\",\"New York\",\"New York\",\"New York\",\"New York\",\"New York\",\"New York\",\"New York\",\"New York\",\"New York\",\"New York\",\"New York\",\"New York\",\"New York\",\"New York\",\"New York\",\"New York\",\"New York\",\"New York\",\"New York\",\"New York\",\"New York\",\"New York\",\"New York\",\"New York\",\"New York\",\"New York\",\"New York\",\"New York\",\"New York\",\"North Carolina\",\"North Carolina\",\"North Carolina\",\"North Carolina\",\"North Carolina\",\"North Carolina\",\"North Carolina\",\"North Carolina\",\"North Carolina\",\"North Carolina\",\"North Carolina\",\"North Carolina\",\"North Carolina\",\"North Carolina\",\"North Carolina\",\"North Carolina\",\"North Carolina\",\"North Carolina\",\"North Carolina\",\"North Carolina\",\"North Carolina\",\"North Carolina\",\"North Carolina\",\"North Carolina\",\"North Carolina\",\"North Carolina\",\"North Carolina\",\"North Carolina\",\"North Carolina\",\"North Carolina\",\"North Carolina\",\"North Carolina\",\"North Carolina\",\"North Carolina\",\"North Carolina\",\"North Carolina\",\"North Carolina\",\"North Carolina\",\"North Carolina\",\"North Carolina\",\"North Carolina\",\"North Carolina\",\"North Carolina\",\"North Carolina\",\"North Carolina\",\"North Carolina\",\"North Dakota\",\"North Dakota\",\"North Dakota\",\"North Dakota\",\"North Dakota\",\"North Dakota\",\"North Dakota\",\"North Dakota\",\"Ohio\",\"Ohio\",\"Ohio\",\"Ohio\",\"Ohio\",\"Ohio\",\"Ohio\",\"Ohio\",\"Ohio\",\"Ohio\",\"Ohio\",\"Ohio\",\"Ohio\",\"Ohio\",\"Ohio\",\"Ohio\",\"Ohio\",\"Ohio\",\"Ohio\",\"Ohio\",\"Ohio\",\"Ohio\",\"Ohio\",\"Ohio\",\"Ohio\",\"Ohio\",\"Ohio\",\"Ohio\",\"Ohio\",\"Ohio\",\"Ohio\",\"Ohio\",\"Ohio\",\"Ohio\",\"Ohio\",\"Ohio\",\"Ohio\",\"Ohio\",\"Ohio\",\"Ohio\",\"Ohio\",\"Ohio\",\"Ohio\",\"Ohio\",\"Ohio\",\"Ohio\",\"Ohio\",\"Ohio\",\"Ohio\",\"Ohio\",\"Ohio\",\"Ohio\",\"Ohio\",\"Ohio\",\"Ohio\",\"Ohio\",\"Ohio\",\"Ohio\",\"Ohio\",\"Ohio\",\"Ohio\",\"Ohio\",\"Ohio\",\"Ohio\",\"Ohio\",\"Ohio\",\"Ohio\",\"Ohio\",\"Ohio\",\"Ohio\",\"Ohio\",\"Ohio\",\"Ohio\",\"Ohio\",\"Ohio\",\"Ohio\",\"Ohio\",\"Ohio\",\"Ohio\",\"Ohio\",\"Ohio\",\"Ohio\",\"Ohio\",\"Ohio\",\"Ohio\",\"Ohio\",\"Ohio\",\"Ohio\",\"Ohio\",\"Ohio\",\"Ohio\",\"Ohio\",\"Ohio\",\"Ohio\",\"Ohio\",\"Ohio\",\"Ohio\",\"Ohio\",\"Ohio\",\"Ohio\",\"Ohio\",\"Ohio\",\"Ohio\",\"Ohio\",\"Ohio\",\"Ohio\",\"Ohio\",\"Ohio\",\"Ohio\",\"Oklahoma\",\"Oklahoma\",\"Oklahoma\",\"Oklahoma\",\"Oklahoma\",\"Oklahoma\",\"Oklahoma\",\"Oklahoma\",\"Oklahoma\",\"Oklahoma\",\"Oklahoma\",\"Oklahoma\",\"Oklahoma\",\"Oklahoma\",\"Oklahoma\",\"Oklahoma\",\"Oklahoma\",\"Oklahoma\",\"Oklahoma\",\"Oklahoma\",\"Oklahoma\",\"Oklahoma\",\"Oklahoma\",\"Oklahoma\",\"Oklahoma\",\"Oklahoma\",\"Oklahoma\",\"Oklahoma\",\"Oklahoma\",\"Oklahoma\",\"Oklahoma\",\"Oklahoma\",\"Oklahoma\",\"Oklahoma\",\"Oklahoma\",\"Oklahoma\",\"Oregon\",\"Oregon\",\"Oregon\",\"Oregon\",\"Oregon\",\"Oregon\",\"Oregon\",\"Oregon\",\"Oregon\",\"Oregon\",\"Oregon\",\"Oregon\",\"Oregon\",\"Oregon\",\"Oregon\",\"Oregon\",\"Oregon\",\"Oregon\",\"Oregon\",\"Oregon\",\"Oregon\",\"Oregon\",\"Oregon\",\"Oregon\",\"Oregon\",\"Oregon\",\"Oregon\",\"Oregon\",\"Oregon\",\"Oregon\",\"Oregon\",\"Pennsylvania\",\"Pennsylvania\",\"Pennsylvania\",\"Pennsylvania\",\"Pennsylvania\",\"Pennsylvania\",\"Pennsylvania\",\"Pennsylvania\",\"Pennsylvania\",\"Pennsylvania\",\"Pennsylvania\",\"Pennsylvania\",\"Pennsylvania\",\"Pennsylvania\",\"Pennsylvania\",\"Pennsylvania\",\"Pennsylvania\",\"Pennsylvania\",\"Pennsylvania\",\"Pennsylvania\",\"Pennsylvania\",\"Pennsylvania\",\"Pennsylvania\",\"Pennsylvania\",\"Pennsylvania\",\"Pennsylvania\",\"Pennsylvania\",\"Pennsylvania\",\"Pennsylvania\",\"Pennsylvania\",\"Pennsylvania\",\"Pennsylvania\",\"Pennsylvania\",\"Pennsylvania\",\"Pennsylvania\",\"Pennsylvania\",\"Pennsylvania\",\"Pennsylvania\",\"Pennsylvania\",\"Pennsylvania\",\"Pennsylvania\",\"Pennsylvania\",\"Pennsylvania\",\"Pennsylvania\",\"Pennsylvania\",\"Pennsylvania\",\"Pennsylvania\",\"Pennsylvania\",\"Pennsylvania\",\"Pennsylvania\",\"Pennsylvania\",\"Pennsylvania\",\"Pennsylvania\",\"Pennsylvania\",\"Pennsylvania\",\"Pennsylvania\",\"Pennsylvania\",\"Pennsylvania\",\"Pennsylvania\",\"Pennsylvania\",\"Pennsylvania\",\"Pennsylvania\",\"Pennsylvania\",\"Pennsylvania\",\"Pennsylvania\",\"Pennsylvania\",\"Pennsylvania\",\"Pennsylvania\",\"Pennsylvania\",\"Pennsylvania\",\"Pennsylvania\",\"Pennsylvania\",\"Pennsylvania\",\"Pennsylvania\",\"Pennsylvania\",\"Pennsylvania\",\"Pennsylvania\",\"Pennsylvania\",\"Pennsylvania\",\"Pennsylvania\",\"Pennsylvania\",\"Pennsylvania\",\"Pennsylvania\",\"Pennsylvania\",\"Pennsylvania\",\"Pennsylvania\",\"Pennsylvania\",\"Pennsylvania\",\"Pennsylvania\",\"Pennsylvania\",\"Pennsylvania\",\"Pennsylvania\",\"Pennsylvania\",\"Pennsylvania\",\"Pennsylvania\",\"Pennsylvania\",\"Pennsylvania\",\"Pennsylvania\",\"Pennsylvania\",\"Pennsylvania\",\"Pennsylvania\",\"Rhode Island\",\"Rhode Island\",\"Rhode Island\",\"Rhode Island\",\"Rhode Island\",\"Rhode Island\",\"Rhode Island\",\"Rhode Island\",\"Rhode Island\",\"Rhode Island\",\"Rhode Island\",\"Rhode Island\",\"Rhode Island\",\"Rhode Island\",\"Rhode Island\",\"Rhode Island\",\"Rhode Island\",\"Rhode Island\",\"Rhode Island\",\"Rhode Island\",\"Rhode Island\",\"Rhode Island\",\"Rhode Island\",\"Rhode Island\",\"Rhode Island\",\"Rhode Island\",\"South Carolina\",\"South Carolina\",\"South Carolina\",\"South Carolina\",\"South Carolina\",\"South Carolina\",\"South Carolina\",\"South Carolina\",\"South Carolina\",\"South Carolina\",\"South Carolina\",\"South Carolina\",\"South Carolina\",\"South Carolina\",\"South Carolina\",\"South Carolina\",\"South Carolina\",\"South Carolina\",\"South Carolina\",\"South Carolina\",\"South Carolina\",\"South Carolina\",\"South Carolina\",\"South Carolina\",\"South Carolina\",\"South Carolina\",\"South Carolina\",\"South Carolina\",\"South Dakota\",\"South Dakota\",\"South Dakota\",\"South Dakota\",\"South Dakota\",\"South Dakota\",\"South Dakota\",\"South Dakota\",\"South Dakota\",\"Tennessee\",\"Tennessee\",\"Tennessee\",\"Tennessee\",\"Tennessee\",\"Tennessee\",\"Tennessee\",\"Tennessee\",\"Tennessee\",\"Tennessee\",\"Tennessee\",\"Tennessee\",\"Tennessee\",\"Tennessee\",\"Tennessee\",\"Tennessee\",\"Tennessee\",\"Tennessee\",\"Tennessee\",\"Tennessee\",\"Tennessee\",\"Tennessee\",\"Tennessee\",\"Tennessee\",\"Tennessee\",\"Tennessee\",\"Tennessee\",\"Tennessee\",\"Tennessee\",\"Tennessee\",\"Tennessee\",\"Tennessee\",\"Tennessee\",\"Tennessee\",\"Tennessee\",\"Texas\",\"Texas\",\"Texas\",\"Texas\",\"Texas\",\"Texas\",\"Texas\",\"Texas\",\"Texas\",\"Texas\",\"Texas\",\"Texas\",\"Texas\",\"Texas\",\"Texas\",\"Texas\",\"Texas\",\"Texas\",\"Texas\",\"Texas\",\"Texas\",\"Texas\",\"Texas\",\"Texas\",\"Texas\",\"Texas\",\"Texas\",\"Texas\",\"Texas\",\"Texas\",\"Texas\",\"Texas\",\"Texas\",\"Texas\",\"Texas\",\"Texas\",\"Texas\",\"Texas\",\"Texas\",\"Texas\",\"Texas\",\"Texas\",\"Texas\",\"Texas\",\"Texas\",\"Texas\",\"Texas\",\"Texas\",\"Texas\",\"Texas\",\"Texas\",\"Texas\",\"Texas\",\"Texas\",\"Texas\",\"Texas\",\"Texas\",\"Texas\",\"Texas\",\"Texas\",\"Texas\",\"Texas\",\"Texas\",\"Texas\",\"Texas\",\"Texas\",\"Texas\",\"Texas\",\"Texas\",\"Texas\",\"Texas\",\"Texas\",\"Texas\",\"Texas\",\"Texas\",\"Texas\",\"Texas\",\"Texas\",\"Texas\",\"Texas\",\"Texas\",\"Texas\",\"Texas\",\"Texas\",\"Texas\",\"Texas\",\"Texas\",\"Texas\",\"Texas\",\"Texas\",\"Texas\",\"Texas\",\"Texas\",\"Texas\",\"Texas\",\"Texas\",\"Texas\",\"Texas\",\"Texas\",\"Texas\",\"Texas\",\"Texas\",\"Texas\",\"Texas\",\"Texas\",\"Texas\",\"Texas\",\"Texas\",\"Texas\",\"Texas\",\"Texas\",\"Texas\",\"Texas\",\"Texas\",\"Texas\",\"Texas\",\"Texas\",\"Texas\",\"Texas\",\"Texas\",\"Texas\",\"Texas\",\"Texas\",\"Texas\",\"Texas\",\"Texas\",\"Texas\",\"Texas\",\"Texas\",\"Texas\",\"Texas\",\"Texas\",\"Texas\",\"Texas\",\"Texas\",\"Texas\",\"Texas\",\"Texas\",\"Texas\",\"Texas\",\"Texas\",\"Texas\",\"Texas\",\"Texas\",\"Texas\",\"Texas\",\"Texas\",\"Texas\",\"Texas\",\"Texas\",\"Texas\",\"Texas\",\"Texas\",\"Texas\",\"Texas\",\"Texas\",\"Utah\",\"Utah\",\"Utah\",\"Utah\",\"Utah\",\"Utah\",\"Utah\",\"Utah\",\"Utah\",\"Utah\",\"Utah\",\"Utah\",\"Utah\",\"Utah\",\"Utah\",\"Utah\",\"Utah\",\"Utah\",\"Utah\",\"Utah\",\"Utah\",\"Utah\",\"Utah\",\"Utah\",\"Vermont\",\"Vermont\",\"Vermont\",\"Vermont\",\"Virginia\",\"Virginia\",\"Virginia\",\"Virginia\",\"Virginia\",\"Virginia\",\"Virginia\",\"Virginia\",\"Virginia\",\"Virginia\",\"Virginia\",\"Virginia\",\"Virginia\",\"Virginia\",\"Virginia\",\"Virginia\",\"Virginia\",\"Virginia\",\"Virginia\",\"Virginia\",\"Virginia\",\"Virginia\",\"Virginia\",\"Virginia\",\"Virginia\",\"Virginia\",\"Virginia\",\"Virginia\",\"Virginia\",\"Virginia\",\"Virginia\",\"Virginia\",\"Virginia\",\"Washington\",\"Washington\",\"Washington\",\"Washington\",\"Washington\",\"Washington\",\"Washington\",\"Washington\",\"Washington\",\"Washington\",\"Washington\",\"Washington\",\"Washington\",\"Washington\",\"Washington\",\"Washington\",\"Washington\",\"Washington\",\"Washington\",\"Washington\",\"Washington\",\"Washington\",\"Washington\",\"Washington\",\"Washington\",\"Washington\",\"Washington\",\"Washington\",\"Washington\",\"Washington\",\"Washington\",\"Washington\",\"Washington\",\"Washington\",\"Washington\",\"Washington\",\"Washington\",\"Washington\",\"Washington\",\"Washington\",\"West Virginia\",\"West Virginia\",\"West Virginia\",\"West Virginia\",\"West Virginia\",\"West Virginia\",\"West Virginia\",\"West Virginia\",\"West Virginia\",\"West Virginia\",\"West Virginia\",\"West Virginia\",\"West Virginia\",\"West Virginia\",\"Wisconsin\",\"Wisconsin\",\"Wisconsin\",\"Wisconsin\",\"Wisconsin\",\"Wisconsin\",\"Wisconsin\",\"Wisconsin\",\"Wisconsin\",\"Wisconsin\",\"Wisconsin\",\"Wisconsin\",\"Wisconsin\",\"Wisconsin\",\"Wisconsin\",\"Wisconsin\",\"Wisconsin\",\"Wisconsin\",\"Wisconsin\",\"Wisconsin\",\"Wisconsin\",\"Wisconsin\",\"Wisconsin\",\"Wisconsin\",\"Wisconsin\",\"Wisconsin\",\"Wisconsin\",\"Wisconsin\",\"Wisconsin\",\"Wisconsin\",\"Wisconsin\",\"Wisconsin\",\"Wisconsin\",\"Wisconsin\",\"Wisconsin\",\"Wisconsin\",\"Wisconsin\",\"Wisconsin\",\"Wisconsin\",\"Wisconsin\",\"Wisconsin\",\"Wisconsin\",\"Wisconsin\",\"Wisconsin\",\"Wisconsin\",\"Wisconsin\",\"Wisconsin\",\"Wisconsin\",\"Wisconsin\",\"Wisconsin\",\"Wisconsin\",\"Wisconsin\",\"Wisconsin\",\"Wisconsin\",\"Wisconsin\",\"Wisconsin\",\"Wisconsin\",\"Wisconsin\",\"Wisconsin\",\"Wisconsin\",\"Wyoming\",\"Wyoming\",\"Wyoming\",\"Wyoming\",\"Wyoming\",\"Wyoming\",\"Wyoming\"],\"lat\":[34.7650888,32.6098566,30.6035255,33.3503765,33.2095614,33.4859402,32.4078632,30.7387998,31.8912717,34.8045487,34.79981,33.4717732,31.8087678,33.1731716,32.4709761,33.2442813,34.729847,33.458102999999994,32.4240286,34.010929,33.8312185,30.820742,34.4435937,34.7736807,34.1335332,32.65232605,32.3669656,33.6624824,34.6240205,31.3151708,33.4487989,32.4640245,34.6731323,31.2237434,33.5019459,32.944012,33.8069945,33.2292976,33.5206824,34.4442547,30.6867339,31.4584764,33.4017766,61.2163129,58.3019496,64.837845,31.3471741,32.8795022,33.4151005,35.1816047,33.5386858,34.4838502,35.1477774,34.5399962,33.3062031,33.4484367,31.3402134,33.4355977,33.4150485,33.4942189,33.5428006,31.5545973,33.3527632,33.5806115,32.2228765,33.4255117,35.1464797,35.2521996,36.3456186,36.1867442,34.2157064,35.9288199,35.5759086,34.5038393,33.2115087,36.3320197,33.4254259,35.8272257,34.8662005,34.7465071,35.9018987,36.0584021,36.3728538,35.0081474,35.2784173,34.5003748,35.3784666,34.769536,34.8150907,34.1209292,33.2670725,37.6624312,40.866517,37.9621457,37.5296593,37.6820583,37.3688301,37.6688205,34.1361187,37.88687,33.7192808,38.0171441,36.6744117,38.7521235,37.3790629,37.9735346,38.545379,32.7678288,37.6138253,33.924831,37.5963232,34.0686208,33.9708782,34.0923014,34.8957684,36.2516475,32.6915199,33.7085883,39.7596061,37.226611,33.5965685,33.9694561,37.3477174,37.4443293,34.1483499,34.0286226,33.8503463,34.0536909,37.5164926,36.2231079,33.8322043,33.9480787,33.8248235,37.130408,33.9830688,38.4404925,34.09751,34.8253019,34.051522,37.598958,34.002581,37.6535403,38.5810606,33.1958696,37.4519671,37.0592253,34.1215947,33.937517,34.0133561,34.1998302,34.0990733,33.4946353,40.1784279,33.7483311,37.1641544,37.4946568,38.7907339,33.870413,34.093042,36.06523,35.120809,34.1394513,37.7021521,37.8225892,33.9404441,33.894927,33.8885217,36.6211149,34.0877926,33.6170092,34.0739016,37.504936,32.6781085,37.3228934,33.9827043,32.7947731,39.1404477,33.9747806,33.8455911,34.1362075,37.2638324,33.9170444,33.79410005,36.5432837,33.4270275,33.1216751,35.1185869,32.6400541,37.9357576,34.6981064,34.1469416,33.6633386,37.5780965,34.1082994,37.0065078,34.0339031,33.8644291,34.0854739,37.7648021,34.1356915,36.8524545,34.1338751,37.8243715,33.898917,34.0280619,37.6090291,34.1033192,34.0159398,37.7385507,38.0043667,34.3988838,33.8708215,34.11213,33.7746292,33.917028,34.5793131,34.5008311,37.8708393,35.4894169,33.9092802,34.1476452,36.62593,34.0550328,37.7790262,37.4863239,34.9531295,32.7174202,34.2176371,34.3916641,33.7578725,38.1061979,33.7458511,32.792,34.1705609,33.7038145,37.81623435,34.4221319,34.0519548,35.6206924,34.0553813,38.4454641,34.5361067,34.0211224,38.049365,38.3565773,33.9316066,33.6856969,37.9154056,38.6786109,39.7284945,33.8901096,38.2382474,33.9188589,33.7872386,33.7500378,35.3738712,34.285558,34.6391501,34.1477558,34.14791,33.7494951,32.9786566,33.86428,33.9463456,38.1040864,38.5804609,38.8945939,36.5963395,37.8044557,33.7475203,33.9620584,33.7810031,37.6261715,34.1616729,34.1812089,37.3893889,37.5482697,34.4263886,37.1716264,34.2677404,33.677474,33.7839664,37.3361663,33.7288179,37.9479786,37.9020731,34.0922335,33.8752945,37.557252,33.7825194,34.1976308,37.7249296,36.098007,37.5949316,33.8714814,37.9577016,34.0966764,34.28497,33.9866807,33.8038865,33.846404,34.1064001,37.9060368,38.2493581,37.4332273,34.0676169,33.5426975,38.9582307,34.0775104,37.7665947,36.3274502,33.8036545,36.7394421,33.77217945,38.0138934,33.9323307,37.4688273,37.496904,34.3541659,38.0049214,34.065846,37.2333253,37.6904826,34.1008426,33.9255685,33.8915985,37.5600336,34.0537971,33.4669721,38.3396367,34.0194704,40.7906871,35.3540209,40.5863563,38.1301968,38.0181745,34.1066756,36.3302284,34.0751571,33.8825705,33.8963593,35.7688425,38.2325829,37.6390972,38.2971367,34.0696501,33.9533546,33.1580933,36.9092773,34.401749499999994,39.1501662,37.2870626,33.7423967,37.8771476,36.708006,39.1457247,34.033625,36.6900986,38.6779591,37.9768525,33.8358492,33.9060971,36.5707838,33.7690164,36.8252277,34.1133062,33.8690197,33.9562003,37.8857582,39.8005505,39.9935959,39.9100858,39.8083196,39.6482059,39.063956,39.7392364,39.7546349,39.9403995,38.4423644,38.8339578,40.385549,39.977763,40.6255415,39.7085736,40.5508527,39.983721,37.2395367,39.8366528,39.613321,40.4233142,40.1672117,38.2544472,39.7405111,40.0154155,41.146763,41.8382921,41.3325962,41.8098209,41.7813269,41.6720318,41.3429922,41.358659,41.5949942,41.5538091,41.3223611,41.6648216,41.7700987,41.1414855,41.9281305,41.7198216,41.0534302,41.3959287,41.3082138,41.8525984,41.372643,41.2756115,41.9816944,41.2428742,41.394817,41.6978777,41.4989861,41.7823216,41.2706527,41.3359327,41.621488,41.3943578,41.6005435,41.5758442,41.2889866,41.4860186,41.0264862,41.6711395,41.6023196,41.2795414,41.6062078,41.7123218,41.6612104,41.8759152,41.3556187,41.1175966,41.1953739,41.4570418,41.2784304,41.8489872,41.764582,41.412387,41.826488,41.3164856,41.8006523,41.3275971,41.0787079,41.3909305,41.4825947,41.5243537,41.2222218,41.5381535,41.1670412,41.7142665,41.6764876,41.5623178,41.1845415,41.7620447,41.9789387,39.158168,38.8950368,29.6519684,29.1871986,27.9477595,27.3365805,26.0031465,30.5168639,29.2854132,26.16715525,25.7929198,26.4614625,26.1223084,26.1603626,28.8527675,26.7050822,26.3586885,25.8631515,28.2441768,28.5695186,28.0394654,26.1666888,28.1067315,28.5977707,26.640628,28.0222435,24.5625566,26.318342,28.2918995,27.8428025,29.0258132,28.8117345,26.8237944,30.1600827,29.10162805,28.3194741,29.2108147,26.8233946,26.1403635,26.5256179,29.6487882,27.9094665,27.9946969,26.1275862,28.0197404,26.0112014,26.9297836,28.6702526,28.148082950000003,28.3201553,27.6387163,29.0283213,28.7008496,25.7076017,26.1421976,26.217305,28.5421109,27.8851866,28.6714702,28.01633,28.106471,25.72149,27.4467056,30.4380832,25.9812025,25.9873137,26.615891,26.2128609,30.1894252,27.7483613,26.275636,30.3321838,27.9658533,26.2378597,25.7741728,25.8223198,26.271192,27.0999188,27.9908529,28.0352964,25.4718946,27.197983,27.816415,28.810823,29.1658158,26.1723065,26.0628665,26.0543154,26.2445263,26.6059432,28.9888754,25.8900949,32.5404447,30.8736613,31.4549719,32.4610708,33.5801103,33.3967829,32.0723862,34.2978794,34.257038,32.0564572,33.6795531,31.5782062,30.8327022,34.1652304,33.039291,32.6200973,33.857328,33.6534427,34.7691867,33.9528472,34.0709576,33.6220542,33.4709714,33.5966005,30.9038252,33.7489924,33.6995565,32.4490141,33.9566391,32.8406946,31.179998,31.1499528,34.02332,33.883887,30.8365815,31.8477347,31.2135511,43.4887907,46.4195913,42.8620287,46.7323875,43.8235163,42.5704456,43.6678736,41.4169806,40.0455918,38.8400395,41.0321808,39.7855096,40.1053196,41.6833813,39.7042123,41.6397857,40.7545006,41.4789246,41.5833658,41.0799898,39.8286897,41.6020962,40.8008286,39.7683331,40.8065352,41.534507,39.9788017,41.5536529,40.0401991,39.4278253,41.6105983,38.2856247,39.1670396,41.4828144,38.2967791,39.6411589,41.5322592,39.6136578,40.4167022,39.7881233,41.2381017,41.4730948,39.7221906,41.4942021,41.7075394,39.9289351,41.6012796,38.8611619,41.5750369,37.9747645,40.4864444,41.5758708,39.4667025,38.6772691,41.5644798,41.5910323,43.1415519,43.1524574,41.3604966,41.5235808,42.5006243,42.5044017,41.2951037,41.6997139,42.498275,42.4966815,41.7320796,41.5253792,42.0267567,41.5644476,42.048881,42.5361805,42.0171798,41.6274511,40.6311415,37.6922361,36.8657651,39.0889469,39.0786242,37.0920222,38.2000701,38.9431183,37.6456488,38.4784144,37.7742152,37.990079,36.6103334,38.2097967,36.9903199,38.9989499,37.693952,37.76721,37.3280037,38.2542376,39.0167275,38.1942356,36.995906,37.8403456,37.8806341,37.0833893,39.0836224,38.2009055,32.5184775,30.2751945,31.2909782,32.5232053,29.9759983,31.3224044,29.9942265,31.7606732,30.4943669,30.0035365,30.2140928,30.2072293,32.5102427,29.5957696,32.5369356,30.2043259,32.4707862,29.9146493,29.9060388,30.4507936,30.7910204,30.2224284,43.6610277,43.6414716,43.9145244,44.883607,44.5520105,44.310545,43.7894155,44.8011821,43.438878,44.100351,43.4925843,43.71559405,43.5909038,43.5009176,46.6832082,43.6763036,44.0978509,39.5752639,38.9786401,39.2908816,39.1044123,38.5714624,39.004607,38.366027,39.6526498,39.6430455,39.5120347,39.415779,38.9529442,42.0558065,42.4699241,42.4523178,42.4141495,42.5903661,42.7262016,42.6414437,42.283828,41.6220399,42.2121887,42.6697695,42.3020436,42.091769,42.566751,42.5256502,42.3875968,41.7010642,42.4473175,42.0245442,42.1413353,42.2846395,42.0714907,41.6332267,42.1227601,42.6159286,41.7412166,42.6818928,42.40843,42.2212188,42.3834278,41.7353872,42.1584324,41.6718684,42.4605189,42.1324443,41.9426657,42.4564323,42.3317642,42.5464828,42.500096,42.679273,42.6839894,42.1589979,42.4917301,42.2694308,42.2000966,42.1939754,42.4792618,42.064906,42.3196015,42.194543,42.5278731,41.9903787,42.3095704,41.6362152,42.0869493,42.1336307,42.1865609,42.5876342,42.2489143,41.9667666,42.4250964,41.7056656,42.1237328,41.6862224,42.2802645,42.5823564,42.2836393,41.7481575,42.0501373,41.8946107,42.5797194,42.4184296,42.506484,42.4153739,42.451302,42.3554334,42.466763,42.5792583,42.36790855,42.3370414,42.2139873,42.6990321,42.1252079,42.2495463,42.2205956,42.3459271,42.1417653,42.2417669,42.1618005,42.2606614,42.2368772,42.3913088,42.5195292,42.7777829,42.1552232,41.7579043,42.7070354,42.3750997,42.3667625,42.1390327,42.65717,42.0334341,42.0653768,42.5750939,42.0504498,42.8579536,42.596876,41.7695463,42.2501425,42.5896205,42.4648183,42.5267443,42.2509914,42.4321064,42.3709299,42.105237,42.3756401,42.5584284,42.3959296,42.0834335,45.0460458,44.9772995,44.8277446,44.7980186,45.0313156,44.9271194,44.4582041,31.2220381,31.5604076,33.4503998,32.4284761,33.772401,33.4000633,30.3646795,33.5162315,32.3086744,30.3674198,30.4112904,32.3643098,32.3410552,34.2576067,30.4115881,31.3271189,32.3528055,32.2731475,33.4956744,38.661953,39.017316,38.6504352,39.2214765,40.3460468,39.1230777,38.5961694,38.6282707,38.55881599999999,37.1765141,39.4201137,39.0924792,38.592339,39.7082498,36.2381082,39.0089226,37.0841838,38.7011626,38.8108097,37.1968298,38.577359,38.7403281,38.7566055,38.7098314,38.7624373,38.744707,38.4226711,38.8898478,39.1697626,38.7544952,37.9509324,38.7919683,37.3034933,38.951883,37.9559513,39.100105,38.6569083,38.6613007,38.5800713,38.8467082,38.7761446,36.7568327,39.5261206,35.9787638,36.0301134,36.1672559,39.5404679,43.0702223,42.7654433,43.643032,43.020445,42.8650869,43.377105,42.981477,43.207178,42.933597,42.9464737,43.1981117,43.5278546,42.8808677,42.8355775,43.3260376,42.7656251,42.7884226,43.2625585,43.134564,44.4688795,42.9956397,40.9406541,39.9028913,40.0166151,41.0573188,40.9275987,40.8922694,40.8481556,40.4417743,40.8570442,40.8690641,39.6365056,40.0831714,40.8462026,40.7959335,40.7856117,40.9050988,40.55418,39.8976132,40.0278894,40.6081591,40.3470543,39.3820672,39.427337,39.7765048,40.7695457,40.8214894,39.4101171,40.5052296,40.3492744,39.3898388,40.9253766,40.2962222,40.3892726,39.4862777,40.9242652,40.6834349,40.923798,40.8602222,40.8814882,40.5687141,40.7433066,40.4292165,40.092024,39.2776156,40.7970382,40.8584328,40.9350986,40.5410075,40.8823215,39.57998605,40.9492649,40.3334409,40.4862174,40.2601096,40.9012101,40.7182356,40.6503925,39.7342825,40.2890734,40.4071138,39.8973938,40.4539249,41.05526675,39.978734,40.9600102,40.7312123,39.9181686,40.5431598,39.3176158,40.65538,39.9448402,39.9562238,39.6573385,40.8409329,40.2971798,40.4015814,39.8381691,39.9009472,40.8509333,39.4020593,40.9452911,39.9928898,41.0053753,40.3898188,40.9397796,40.8174216,39.8915022,40.8042674,40.1743052,40.6220478,41.0887072,40.7706562,40.8531553,40.8164458,40.9332051,40.6645469,40.7598227,40.5200187,39.851752,40.844265,40.3913195,40.28538615,40.701213,39.3405045,40.9074237,41.0095417,40.3818728,40.9167654,39.8726184,40.4278841,41.113429,39.8271755,40.735657,39.8918622,40.5462553,40.567181,40.2688105,40.3898188,40.7899291,40.7684342,39.81811999999999,39.8512162,40.7244443,40.8860164,40.9628758,40.70972275,40.767323,40.0179845,41.1312069,40.6584358,40.6639916,40.883988,40.6687141,39.7267303,39.977818,40.5742696,40.5598127,40.2601096,39.7940026,40.883988,39.934002,40.3692104,40.8126006,40.9287098,40.788434,40.2205944,39.7114651,39.9734957,40.2852895,40.6984348,40.3492744,40.41575205,40.5688245,39.8676134,40.806767,40.676207,40.8579293,40.70972275,39.9720138,40.3451095,40.4959379,40.826489,40.898988,40.7464901,40.8689882,40.596106,39.9526127,40.6301025,40.8928771,40.6337136,39.839562,39.2194377,40.70972275,40.8871438,40.6233995,40.8646542,40.6937099,40.829822,40.518157,39.9348351,40.5792701,40.9148209,40.9912087,40.9491723,38.9739,40.596106,40.0192445,40.6834349,40.2682199,40.7215682,40.6589912,39.6502715,40.8120247,40.7937116,40.7451082,39.3642852,40.7323235,40.3042778,40.9796683,40.8223223,40.4635362,39.7557459,40.8517662,39.9670569,40.8893288,41.0220483,39.7027677,40.7795455,40.446495,40.7987113,40.2203907,34.1861922,33.3943282,36.7291152,32.9046474,32.2627416,32.8423345,32.707667,35.21287095,35.5283506,32.7751371,40.9125085,40.8993991,42.5842136,43.4112973,41.0461704,42.9320202,42.8142432,43.157285,41.7764631,42.0987125,41.289811,41.7065539,43.08436,41.504879,43.0407742,43.28243305,43.0508945,41.0339862,40.7127281,42.1435257,41.5034271,41.4447133,42.8867166,42.4396039,43.309941,43.2144051,42.0774779,42.850682,40.76639995,40.9913216,43.2128,41.4020382,40.6574186,40.8397222,40.5885508,42.7742446,42.4636881,41.2956496,40.9312099,42.453492,43.1009031,42.8690271,43.0481221,41.9287812,43.0821793,44.694285,35.9556924,35.7333312,35.7079146,34.9854275,35.9131542,36.4610756,35.2590371,35.2622654,34.8785,34.7740495,35.6009498,35.7454291,36.2165362,35.9423833,35.4094178,35.2626635,35.3848841,35.7059114,35.2272086,34.6183433,35.3501426,35.2923513,35.9099875,35.1084931,36.3548586,35.7112642,35.4798757,35.4874708,36.2956836,34.7494749,35.7803977,34.2257282,35.6709727,36.0726355,35.996653,36.4884715,35.8968236,35.8831786,35.613224,35.3389062,36.1198589,36.0956918,35.0525759,35.7882893,35.8240265,35.359542,46.8791756,48.1465457,46.877229,47.9078244,46.910544,46.874967,46.808327,48.23251,40.7399785,39.6895036,41.024226,41.4553232,41.5200518,40.0581205,39.9945084,41.497831,40.5885271,41.1596261,41.43535,39.2318998,41.3144733,39.7589478,41.5628294,41.7189392,41.3978217,40.875891,41.6664781,39.2085354,41.114485,39.9234046,40.7965119,41.1536674,40.3697905,39.355589,39.6370289,40.0394982,40.1447732,40.7887367,41.012833,39.9692378,39.8814519,40.126139,39.8775553,40.1023909,40.75839,40.9153362,39.2903353,41.3894905,41.3953304,39.9234046,39.5589474,41.4996574,39.9403453,41.1014616,41.1035786,41.4143826,41.5571178,41.7189392,40.0930945,41.3197763,39.4353373,39.4167742,39.8868227,40.5213381,39.0131871,39.7200573,40.7980976,41.3473413,39.5150576,39.1014537,40.0580258,41.9440977,41.1828353,39.8208998,40.033814,41.4739419,40.8083909,38.7316375,41.4819932,41.439754,39.7092262,40.1083912,41.3897764,41.4169974,40.8014651,41.153947,39.6847822,41.4673238,39.6283928,39.85902405,40.4897871,41.2424219,41.6529143,41.2951563,40.3611643,41.4219889,39.8906122,41.0256101,40.0992294,39.6428362,39.287002,39.1556149,39.2681145,39.0950595,41.605327,39.3600586,40.2317686,40.7985464,40.9008923,39.2236694,39.4453393,41.6436603,39.7886111,39.9622601,39.97974235,39.3331197,41.0292217,35.91537,36.1394339,34.6086854,36.374499,36.703647,34.9334981,34.5023029,35.0421234,36.1563122,36.7421089,35.6630196,35.384227,34.1742611,35.3272928,35.5186728,35.532198,36.3126005,36.0005035,35.2225717,35.3383254,35.4495097,36.8746177,35.4729886,33.9919761,36.3967623,35.5067259,35.6677078,35.5658553,35.442007,36.2659698,34.7743383,36.0525993,35.6571367,34.6381255,35.4140081,36.1156306,44.0462362,45.143731,45.4871723,44.0581728,44.5365467,45.5197452,45.3803261,45.5228939,45.4206749,44.9391565,45.3246068,42.224867,45.4307473,45.8404101,44.6365071,42.4393707,42.3264181,44.5645659,46.1882007,45.4440051,43.216505,45.3656761,43.3678937,45.3573429,45.5202471,45.1037582,45.4997475,44.9969,45.300347,42.1972487,44.0505054,40.28386695,39.9909398,40.4416941,39.9527237,40.2663107,40.3634026,40.1799111,39.9390017,41.2493292,41.0602024,40.03304205,40.610014750000005,39.9295406,40.5061,40.2312713,40.319244600000005,40.2648377,39.9004369,41.433948,40.7099343,39.9597213,40.6178915,40.1784423,41.2620137,40.3267407,39.84326505,40.1303822,40.2564778,40.6022059,40.2154361,40.02425075,40.7451356,40.86108,39.9776109,40.65747805,40.1517741,40.1789593,40.3732693,40.3592589,40.0689709,40.518681,40.2434599,40.3100446,40.0284452,40.86108,40.4775681,40.2464615,41.7967221,40.1650973,42.1294712,40.2142419,40.7520097,39.9477145,40.1612457,39.9829308,39.9381682,39.87265415,40.4418068,39.9067499,40.0131672,40.3275697,39.8063247,40.335345,40.03813,40.1045549,40.4236801,40.59782395,40.34217545,40.3372785,40.1229002,41.2753589,40.1637359,40.277883,40.047041,41.2397997,41.4086874,41.5695241,41.0008319,39.9656683,41.4198027,39.9831616,40.1353168,40.375713,40.0463001,39.9284459,41.0389186,40.328958,41.2052654,40.5395421,40.2492741,40.6178915,40.6851324,40.03813,40.20919925,40.201499,40.65747805,40.16495635,40.9646867,40.226481,39.967885,40.9999202,41.9529237,41.8500997,41.7000996,42.0028761,41.454944,41.8310404,41.878711,41.9220433,41.7407661,41.6257406,41.4501021,41.5524614,41.7303794,41.9667652,41.9667656,41.6603788,41.3775996,41.7034082,41.7809588,41.9699753,41.5524614,41.8906553,41.7002024,41.5524614,41.8239891,41.8137116,34.9248667,34.77873,32.9138914,34.8269276,33.4918203,34.5258335,34.7370639,35.0717945,34.1921466,32.7940651,32.7884363,33.0186699,33.9934867,32.8546197,33.8998826,32.9961038,38.88974405,34.08846885,33.5723191,34.9381361,34.1984435,34.9498007,33.52085,34.851354,33.9657091,33.6956461,34.3266879,34.6850749,42.7795273,44.899211,44.311461,43.5488256,44.3683644,45.4649805,42.8712938,43.70953,44.0869329,35.0867577,35.6150716,35.042036,35.1167484,35.483406,35.8460396,35.2045329,35.6144446,36.1623886,36.3349115,35.9824598,36.1631575,35.1460249,36.4242303,35.1595182,36.2139814,36.3049177,35.412238,35.925206,35.3620235,36.550238,36.5277607,35.0457219,35.0142412,36.0346393,35.4428864,35.5939671,36.3883031,35.7564719,36.0325687,35.9603948,36.0103562,36.5092119,36.3134398,35.3414745,26.3013982,29.4246002,31.549333,31.124062,28.9541368,27.7903032,34.0924285,33.1384488,32.5007031,31.1171441,29.5571825,32.9299655,33.046233,30.5085915,27.5236998,32.8295183,32.9265137,29.9913244,29.5639758,31.5970503,32.8457865,29.299328,32.3512601,34.9799429,28.9827565,29.6196787,29.6185669,32.2690953,32.7180803,29.4238472,28.8026443,33.1384886,30.4764878,32.673188,29.5688411,26.1947962,32.5447756,29.5641617,30.2711286,32.7287413,32.4709519,33.0283854,31.8457149,32.5631924,29.7057858,30.7235263,31.924473,30.1313283,32.9537349,30.3118769,32.3944908,31.9973662,29.6910753,32.7762719,32.9337381,32.3573651,32.8809603,32.851034,30.7857437,30.5955289,32.8579056,29.5074538,25.9140277,32.3293111,34.1513105,29.300357,30.0860459,33.5873164,32.5888072,33.5634402,32.753177,32.7666103,33.44667445,30.6326942,32.091299,35.536297,35.2072185,31.7070026,30.6743643,34.1847936,29.8826436,32.2044416,30.1668828,31.098207,26.1892409,29.3655405,32.7357287,30.1228634,28.6149968,31.4649685,33.1570582,29.663008,33.0136764,32.3860733,29.9482695,28.2678746,27.8818828,32.844017,32.6518004,29.1966405,33.0890094,29.7335616,26.1326237,29.6657838,29.16941,26.1497977,29.7028266,32.8342952,29.7355047,31.963778,33.1838787,27.7522487,31.7621153,32.2191836,33.7556593,27.7635302,32.9481789,32.8234621,29.3685674,29.5293998,31.0746347,32.8923464,28.4008319,32.7355816,36.2452294,32.2793121,32.8084605,32.89782,28.7099337,29.8988618,32.7589648,31.3386242,33.6617962,30.1990738,26.2159066,32.5897831,34.8245521,29.9743803,32.9029017,31.0560132,35.6689767,26.1702082,31.7865623,32.5920798,26.1594305,32.7595737,26.1907543,29.396013,31.4351645,29.9988312,29.0338575,27.5158689,33.6258504,30.048469,29.7052284,32.9552598,40.1652447,40.2337289,41.1135837,40.2981599,40.5584882,40.4062872,40.9180005,40.5710454,41.1912782,37.6774238,41.7313063,40.6667841,40.3640349,41.1715361,40.8894611,41.5110434,41.3048815,40.6149174,40.3768064,40.1150133,40.6061337,41.2230048,40.7596198,40.7074741,44.4761601,44.4671635,43.6063341,44.5470092,38.8051095,38.0686668,36.7183708,37.293378,38.4493315,37.5385087,38.029306,36.8320081,37.4137536,37.1317924,37.3043154,37.270973,38.1495947,38.7509488,37.1241861,39.1852184,36.6915262,38.9178538,37.2296566,37.0300969,38.9695316,36.8448348,36.5859718,37.2708788,39.1154496,36.9775016,38.3031837,37.227928,36.8529841,37.1298517,36.7282096,37.2555718,38.9013729,46.601557,47.4799078,47.3826903,46.2055155,47.2495798,47.4627356,47.7598697,47.9673056,48.118146,48.5020123,47.0263876,48.4200462,47.1301417,48.7544012,46.1377048,47.0451022,47.1849009,46.2087066,47.6038321,46.7304268,47.6694141,47.3075369,47.6859573,47.4234599,48.2931559,47.5653663,46.3246419,46.7204489,47.8105738,46.2306739,46.2804298,47.6144219,46.9970635,47.6571934,47.398829,46.1421249,45.6306954,47.5602073,46.975371,47.8278656,39.4850848,39.3208866,38.4192496,39.6296809,40.0639616,38.3505995,38.368429,39.4562528,40.4189566,37.2698395,39.920425,39.2699565,39.2806451,37.7781702,43.8830606,44.0206919,43.0578479,44.2022293,42.905848,45.3834983,43.0116784,42.5846773,44.8596498,43.2286174,44.0998341,42.8336422,44.3917589,43.8122836,43.7128967,42.7870581,44.6688524,44.1538845,43.1116731,42.8858503,43.9416755,43.4577692,43.074761,43.0883957,42.5083272,43.0020919,43.0349931,43.0166806,44.2780432,44.5126379,43.0962919,43.1352881,42.959738,43.1834579,42.6829765,43.2219088,42.9105722,42.7260523,44.8755183,42.9405711,43.0494122,43.7533414,44.9596017,44.9371325,44.4752606,44.1858193,44.2613967,43.1948481,44.5229223,42.9288944,43.4252776,44.4493584,43.1790768,42.7292465,43.1744352,43.1133445,44.3039719,46.7207737,44.811349,42.976453,41.139981,41.5290933,44.797194,41.2682462,44.290635,41.311367,41.5860557],\"legendgroup\":\"\",\"lon\":[-87.6986407,-85.4807825,-87.9036047,-86.83440279644964,-87.5675258,-86.9119366,-87.0207473,-88.0788889,-85.1454876,-86.9711698,-87.677251,-86.8008228,-85.969951,-86.2516406,-85.0007653,-86.8163773,-86.5859011,-86.95233276079975,-85.6916195,-85.9989596,-87.2775053,-88.0705556,-86.9347899,-86.5675095,-86.8779268,-85.45560549441299,-86.3006485,-85.8283224,-87.05791872812708,-85.8552161,-86.7879492,-86.4596966,-86.0338765,-85.3933906,-86.7556834,-85.9538532,-85.75978290167376,-87.5771286,-86.8024326,-85.7196893,-88.0848929,-85.6405865,-86.954437,-149.894852,-134.419734,-147.716675,-109.5383567,-111.757352,-111.8314552,-111.6165953319917,-112.185994,-114.3224495,-114.568298,-112.468761,-111.8411851,-112.074141,-110.9360818,-112.349602,-111.549577,-111.9260184,-111.9556001,-110.2997756,-111.789037,-112.237294,-110.9748477,-111.9400164,-90.1845388,-92.6888936,-94.2670404,-94.1288142,-92.0140402,-89.9073557,-92.4916144,-93.0552437,-92.6650144,-94.1185366,-94.0430937,-90.6949871,-92.1101458,-92.2896267,-92.7098744,-90.4973286,-94.2088172,-90.7898342,-93.1337856,-91.5526281,-94.3996456,-92.2670941,-92.2243153,-93.053784,-93.2393341,-121.8746789,-124.08284,-122.3455263,-122.0402399,-121.768053,-122.036349,-122.080796,-117.865339,-122.2977475,-116.2188054,-122.2885808,-121.6550372,-121.2880059,-122.116578,-122.5310874,-121.744583,-117.0230839,-122.4869194,-118.2024154,-122.0816297,-117.9389526,-118.030839,-118.3692894,-117.0172077,-118.852583,-117.1766947,-117.7926096,-121.6219177,-121.9746797,-117.659405,-118.1503953,-120.609084,-122.1598465,-118.0014517,-117.8103367,-118.117191,-118.242766,-122.2941914,-121.387742,-118.2517547,-118.0691499,-118.0399368,-121.6544974,-118.096735,-122.7141049,-117.6483876,-116.0833144,-118.129807,-122.400941,-118.156586,-122.4168664,-121.493895,-117.3794834,-122.177992,-120.8505342,-118.105739,-117.2305944,-117.690075,-118.2005236,-118.1085682,-117.1473661,-122.235923,-118.3707683,-120.7678602,-120.8465941,-121.2357828,-117.9962165,-118.12706,-119.0167679,-120.6218376,-117.9772873,-121.9357918,-122.0008254,-118.1292846,-118.226624,-118.3531991,-121.9177944,-117.8891164,-117.9294401,-117.3136547,-122.261823,-117.0991967,-122.0322895,-118.2120343,-116.962526,-121.6169108,-118.1866361,-118.3886766,-118.0401497,-122.0230146,-117.888855,-117.99510059728792,-119.3870656,-117.6124179,-117.0814849,-120.590725,-117.0841955,-122.347748,-118.1366153,-118.2478471,-117.903317,-122.3473099,-118.0577568,-121.5631723,-117.313654,-118.0539323,-117.9611761,-121.9544387,-116.0543506,-121.4016021,-117.9056046,-122.231635,-118.171005,-117.953097,-121.899142,-117.5751735,-118.111975,-121.4201395,-122.2988587,-119.5184564,-117.9294165,-117.1807973,-117.9463717,-118.4156337,-118.1171108,-117.1858759,-122.272863,-120.6707255,-118.0849169,-118.1444779,-121.8169383456945,-117.1827445,-122.419906,-122.232523,-120.435857,-117.1627728,-119.0383541,-118.542586,-117.9859054,-122.5681191,-117.826166,-115.563051,-118.8375937,-117.9627349,-121.22178815385232,-119.702667,-118.0467339,-117.6720975,-117.7517496,-121.8232958,-117.2911565,-118.396466,-122.1585777,-121.9877444,-117.9454867,-117.8259819,-122.301411,-121.7733285,-121.8374777,-117.8249705,-122.040244,-118.3483256,-118.401813,-117.8704931,-119.0194639,-118.8820414,-120.4579409,-119.1951559,-118.7657042,-117.8732213,-115.530267,-118.39591,-118.200981,-122.2566367,-121.530234,-121.0739897,-119.450402,-122.271356,-116.9719684,-118.1835395,-116.464076,-122.433243,-118.052845,-118.307201,-122.0832101,-121.988571,-117.3008784,-119.7737991,-118.7538071,-116.2958789,-116.9589086,-121.890591,-116.382571,-122.0607963,-122.0618702,-117.435048,-117.5664449,-122.362529,-117.2286478,-119.1803818,-122.1560768,-119.5604015,-120.9577098,-117.8617337,-121.2907796,-117.7197785,-118.437652,-118.185349,-118.0772433,-118.0467306,-117.3703235,-122.5449763,-122.039966,-121.8989248,-118.0879763,-117.785366,-122.626372,-117.6897776,-120.8471545,-119.6456844,-118.3195014,-119.7848307,-116.49529769683984,-122.1338674,-117.5508901,-122.141075,-122.3330573,-119.0592705,-121.805789,-117.6484304,-121.6846349,-122.47267,-117.7678355,-116.875289,-118.3951241,-122.2688522,-117.2610925,-117.6981075,-122.7010984,-118.491227,-124.1673746,-120.3757163,-122.391675,-121.2724473,-121.8901232,-117.8067257,-119.292058,-118.036849,-118.1167679,-118.3053037,-119.2470536,-122.636465,-120.9968782,-122.2855293,-118.3963062,-117.3961623,-117.3505966,-121.7529071,-118.917766849615,-123.2077861,-121.9448818,-118.1055926,-122.1796888,-119.5559652,-121.5913516,-117.0430865,-121.80062933026213,-121.1760583,-122.0335624,-118.3406288,-118.0107092,-119.6120765,-118.191604,-119.7029194,-118.1478291,-118.0796195,-118.353132,-122.1180201,-105.0811573,-105.0897058,-104.987552,-104.9338675,-104.9879641,-108.5507317,-104.984862,-105.22058,-105.05208,-105.222494,-104.825348,-105.04436132094956,-105.1319296,-103.207709,-105.0846694,-105.0668085,-104.8110775,-107.82158179169292,-105.0372046,-105.016649,-104.7091322,-105.1019287,-104.609141,-104.830994,-105.270241,-73.4948446,-72.4663331,-73.2073358,-72.8306541,-72.53047449141525,-73.0528893,-73.0787468,-72.1519367,-72.6455665,-73.0438362,-73.0890324,-72.6392587,-72.3050803,-73.3578955,-72.643631,-72.8320435,-73.5387341,-72.8968716,-72.9250518,-72.6437022,-73.412668,-72.52853197757256,-72.6506604,-73.2006687,-73.4540111,-72.7237063,-72.900658,-72.6120346,-72.9470471,-71.9059042,-72.7456519,-73.0741697,-72.8782941,-72.5024804,-72.6817616,-73.0509432,-73.6284598,-72.8672429,-72.9867718,-72.8150989,-73.1181658,-72.608146,-72.7795419,-72.8012211,-72.0997804,-73.4078968,-73.4378988,-72.8231552,-73.0256609,-72.5717551,-72.6908547,-73.31153913634024,-72.7300945,-73.0931641,-73.1212214,-72.7673198,-73.4692873,-72.859545,-73.4095652,-72.0759008,-73.0570603,-72.8070435,-73.2048348,-72.6525922,-71.915073,-72.6509061,-73.1331651,-72.7420399,-72.5755109,-75.5243682,-77.0365427,-82.3249846,-82.1400923,-82.458444,-82.5308545,-80.223937,-86.482172,-81.0557921,-80.20493869767097,-80.1353006,-80.0728201,-80.1433786,-80.138934,-81.6853534,-80.2279519,-80.0830984,-80.1928253,-82.7192671,-81.544117,-81.9498042,-80.2787573,-81.6287423,-81.3510264,-81.8723084,-81.7328568,-81.7724368,-80.0996306,-81.4075838,-82.6995444,-80.9271271,-81.2680223,-80.05592659756701,-85.6545729,-81.01059617608054,-80.6102592,-81.0228331,-80.1386547,-80.2133808,-80.0666026,-81.6372111,-82.7873244,-80.6366144,-80.2331036,-82.7717684,-80.1494901,-82.0453664,-81.2084941,-82.74380159717906,-80.736647,-80.3975399,-81.3031098,-81.3465575,-80.2933846,-81.7942944,-80.2258811,-81.3790304,-81.81408775862916,-81.3382005,-82.1234803,-80.6371513,-80.2683838,-80.3256056,-84.2809332,-80.148379,-80.2322706,-80.0691435,-80.2497707,-82.6394803,-82.7034334,-80.0872654,-81.655651,-82.8001026,-80.1247667,-80.19362,-80.289495,-80.2706044,-82.4543597,-82.6931553,-82.3892596,-80.4759905,-80.2519175,-80.4706078,-81.8778582,-81.0044995,-80.1319893,-80.2331038,-80.1457426,-80.206436,-81.9806771,-80.9022758,-80.1867138,-82.903754,-84.5740953,-83.5108284,-84.9880449,-85.0766113,-84.5957629,-84.2326876,-83.8240663,-85.1646726,-81.0951271,-84.4393724,-84.1556809,-83.2784851,-84.7997613,-85.0313269,-83.606568,-84.0199108,-84.4493725,-84.9702475,-84.5496148,-84.2747329,-84.3690918,-81.9748429,-83.8598742,-84.5754768,-84.3902644,-84.7622973,-81.7832912,-83.9890066,-83.6324022,-83.7887928,-81.4914894,-84.360022,-84.5147454,-83.9787808,-81.5960705,-82.3540178,-112.03628,-117.0216144,-112.450627,-117.0001651,-111.787022,-114.4602554,-116.689415,-87.3653136,-86.0085955,-86.4880717,-87.1066598,-85.7681979,-85.6802541,-86.2500066,-86.3994387,-87.4548466,-86.3567356,-87.4547605,-87.500043,-85.1386015,-84.8898521,-87.3370647,-85.5018494,-86.1583502,-85.7833563,-87.4255305,-86.1189257,-87.4520484,-86.8990249,-86.428328,-86.7225227,-85.8241312,-86.5342881,-87.3328139,-85.7602087,-85.1410748,-87.2550353,-86.1066526,-86.8752869,-86.2407144,-85.8530544,-87.0611412,-86.0894158,-87.5217068,-86.8950297,-85.3702477,-85.8590603,-86.4872149,-87.2389246,-87.5558483,-86.1336351,-87.1761455,-87.4139119,-87.5286325,-87.5125412,-93.6046655,-95.1477536,-93.2017941,-93.5613292,-90.5770967,-90.6647985,-94.1910044,-92.6448451,-93.0538852,-92.3328743,-96.4058782,-93.605092,-90.5098639,-93.6170448,-93.7594059,-92.9122672,-92.447758,-93.9254114,-93.7380243,-91.3084007,-97.3375448,-87.4889532,-84.4919524,-84.4483432,-84.6041084,-85.8227413,-84.544109,-84.7721823,-82.6379387,-87.1133304,-84.1796503,-88.314761,-84.5588311,-86.4436018,-84.6266111,-85.8591285,-87.5573742,-87.4986989,-85.759407,-84.6007773,-85.5644033,-85.9124842,-85.9491298,-84.5729961,-88.6000478,-84.508371,-84.8732836,-92.1476353,-89.7811745,-92.4616292,-92.637927,-90.0782127,-92.4343035,-90.2417806,-93.0860209,-92.4176324,-91.8187285,-92.3745761,-93.2061609,-92.1032411,-90.7195348,-93.6952689,-92.0298813,-93.7559378,-90.0539604,-90.1422962,-91.1391153,-89.8486858,-92.657085,-70.2548596,-70.2408811,-69.9653278,-68.672791,-69.6317121,-69.7792759,-70.4083434,-68.7778138,-70.7739832,-70.2147764,-70.4533844,-70.47519593022201,-70.3395776,-70.4428286,-68.0141431,-70.3663874,-70.2311655,-76.9959277,-76.492786,-76.610759,-76.8669233,-76.0763177,-76.8756838,-75.6009964,-78.762383,-77.7191081,-76.1643289,-77.4127562,-76.9408647,-71.6356311,-70.9171507,-71.1369982,-71.6799426,-71.8119837,-71.1908924,-71.3085329,-71.7172866,-71.0780195,-71.6849585,-71.6030963,-70.9078243,-70.7055941,-70.9368313,-71.0953314,-71.0994968,-71.1546367,-71.2245003,-71.1286594,-71.5192019,-72.399595,-70.8092074,-70.9879928,-72.4286259,-70.6619888,-70.5989196,-71.2963726,-71.0536625,-70.9391625,-71.4161725,-70.1939087,-71.1447732,-70.3499234,-71.3488963,-71.6498211,-70.7618592,-71.064182,-71.1211635,-71.1736669,-70.8578253,-70.8411583,-71.1127065,-72.4803259,-71.2817947,-71.6129907,-71.4245049,-70.7697128,-71.1522766,-72.5129296,-71.6422408,-71.1994976,-70.9286609,-70.9750426,-71.4413097,-70.934205,-71.4746436,-71.8592889,-71.30546,-72.6002068,-71.1755732,-71.1869939,-71.066163,-70.2286314,-71.1787282,-70.0758508,-71.2360624,-71.9831716,-71.346996,-71.1897684,-71.8803308,-71.11113,-72.2159994,-71.1061639,-71.0728306,-71.1564428,-73.260018,-71.060511,-70.9494939,-71.4378411,-71.12678237443698,-71.2092214,-71.2244987,-73.1118964,-71.1022015,-72.582258,-71.0041229,-71.5522874,-71.2494985,-70.8897676,-71.0424838,-71.4641337,-71.9112404,-71.5678236,-70.8967226,-71.0767724,-71.008958,-70.4968152,-71.1631137,-71.1056157,-71.3031132,-72.7584859,-71.1408776,-70.9592096,-71.2478308,-71.0786653,-72.5824639,-70.9300921,-71.3518343,-71.128656,-71.065573,-72.6110645,-71.010051,-71.7614891,-71.0037374,-71.4539683,-71.1828321,-72.6213712,-71.2358004,-70.8800491,-71.1786655,-71.0183787,-93.2517802,-93.2654692,-92.9438218,-93.5268986,-93.3395843,-93.4074945,-93.161159,-90.4605651,-91.403171,-88.8183872,-90.1323087,-89.7674875,-91.0551312,-88.5585995,-90.1795281,-90.1983063,-89.0928155,-88.8279165,-88.703656,-90.3215983,-88.7033859,-88.5344601,-89.2903392,-90.8777342,-89.9868058,-88.4272627,-90.5643258,-94.282265,-90.3362473,-94.5719748,-94.8723858,-93.1968704,-90.5387318,-90.3191285,-90.3757777162534,-94.3103412,-92.4364298,-94.4137923,-90.3564329,-91.3587413,-90.0551598,-94.4622103,-94.5133385,-90.3623381,-94.5313502,-93.2946576,-92.1724265,-90.2265001,-90.42352,-93.2295515,-93.7409596,-90.3038975,-90.3758287,-94.5313816,-91.8829484,-90.3312256,-91.7708076,-90.3227803,-89.5230357,-92.3337366,-90.879099,-94.5781416,-90.3103443,-90.4423653,-90.4069177,-91.9479586,-90.3715909,-90.3957115,-119.8126581,-114.8337739,-114.9826194,-115.148516,-119.7487235,-70.7548621,-71.4397167,-72.251587,-71.600257,-71.3739532,-72.347031,-70.9478343,-71.537476,-72.2784264,-71.5159015,-70.8739761,-71.470351,-71.3264492,-71.6495345,-71.6854725,-71.4677032,-71.2008933,-70.8645872,-70.927048,-71.1836547,-71.4547891,-73.9968051,-74.9218327,-74.9999754,-74.1409771,-73.9973608,-74.4774255,-73.997639,-74.1298643,-74.0215285,-74.12318419903066,-74.8023853,-74.0681931,-74.743241,-74.3148713,-74.0093129,-74.2098679,-74.28600076944446,-75.0960074,-74.8690542,-74.2776468,-74.0643065,-74.6171489,-75.2340768,-74.8623849,-74.0204177,-73.9876388,-74.3645906,-74.6732941,-74.6592958,-74.5240422,-73.9629154,-74.0509725,-74.7618285,-75.0254256,-74.3020933,-74.442653,-74.661105,-74.9720493,-74.113198,-74.7376619,-74.0323752,-74.1648999,-74.21219645621468,-74.5746001,-74.4809868,-74.1637553,-74.0190281,-74.5875422,-74.0831971,-74.27891468547114,-74.1537549,-74.6004341,-74.4518173,-74.2737573,-74.5143232,-74.3592296,-74.26088332752404,-74.9182198,-74.0927967,-74.2216287,-75.0317979,-74.476545,-74.61166669239594,-74.561568,-74.2974765,-74.2734808,-75.071284,-74.3632049,-74.594601,-74.3898732,-75.1198911,-75.0579502,-74.8623868,-74.3018154,-74.6206496,-74.2376067,-75.1526774,-74.8234961,-73.9701382,-75.0393368,-74.0735899,-74.7876624,-74.2907042,-74.1162152,-74.1312504,-74.3954057,-75.0376707,-74.012084,-74.0902219,-74.2445902,-74.1437552,-74.2326463,-74.1137537,-74.2210643,-74.6600975,-74.2643133,-74.417097,-74.2745215,-74.89174118371643,-74.58572175018249,-74.3328038,-74.79518705108711,-74.2301459,-74.4773916,-74.1183543,-74.1729222,-74.5317663,-74.171811,-74.2951444,-74.415984,-74.2454254,-75.1235892,-74.1723667,-75.1161897,-74.4660408,-74.634683,-74.8006895,-74.1162152,-74.0566735,-74.1454214,-74.97996221777835,-74.9619779,-74.3069069,-74.0072568,-74.1329208,-74.30569336998289,-74.2048677,-74.94348457116372,-74.3673748,-74.2995923,-74.2107006,-74.5621025,-74.1143091,-75.1535378,-74.3319287,-74.60988,-74.5517146,-74.2737573,-75.1721232,-74.5621025,-74.8909988,-74.1567618,-73.999028,-74.0398622,-74.1331988,-74.7597219,-74.2779616,-74.3816966,-74.333495,-74.4015405,-74.6592958,-74.41303645517515,-74.70027388974506,-75.0946183,-74.1854226,-74.56335484708535,-74.0816693,-74.30569336998289,-74.6828841,-74.1840322,-74.4243178,-74.1068091,-74.0926418,-74.1562551,-74.2082011,-74.237292,-74.9923915,-74.4273743,-73.9726381,-74.4073737,-75.19999632858708,-74.7125679,-74.30569336998289,-74.0410865,-74.3148279,-74.4157768,-75.1901761,-74.2401466,-74.4113926,-75.0307264,-74.4115401,-74.383763,-74.0326395,-74.2376802,-74.9253,-74.237292,-74.81923825,-74.442653,-74.5409597,-74.047455,-74.3473717,-75.50833325636759,-74.1242816,-74.1501438,-74.2614099,-74.4229351,-74.2348684,-73.9923596,-74.1194403,-74.1598663,-74.3618499,-74.22073950889322,-74.229035,-74.9426677,-74.1969657,-74.2430988,-75.1119434,-74.0237512,-74.3859831,-74.2390353,-74.0120817,-103.334397,-104.5229518,-108.205445,-105.941835,-107.7581979,-104.4032963,-103.1311314,-106.71324849574629,-108.743907,-108.2754371,-73.8386504,-73.8268873,-76.0704906,-76.1279841,-73.7900977,-76.5672029,-73.9395687,-77.615214,-72.6810307,-75.9125262,-73.9204922,-73.9283672,-79.0614686,-73.9696822,-78.8660527,-78.70764889735142,-74.3452991,-73.7629097,-74.0060152,-77.0543408,-74.0104179,-75.6725673,-78.8783922,-76.4968019,-73.644447,-75.4039155,-78.4298613,-77.31914542488306,-73.7738780089654,-73.6725625,-75.4557,-74.3243191,-73.6450664,-73.8316667,-73.6582631,-73.7001187,-79.3001157,-73.80819,-73.8987469,-75.0629531,-75.2326641,-76.9786122,-76.1474244,-74.0023702,-73.7853915,-75.486374,-80.0053176,-81.3442915,-79.8136446,-80.5495112,-79.05578,-77.6548026,-77.6484879,-81.1838186,-76.9014457,-79.4628248,-82.5540161,-81.6870837,-81.6746158,-77.7956949,-80.5800049,-77.5816353,-77.9927651,-77.9175714,-80.8430827,-79.0083993,-80.2000578,-81.5356463,-79.0752876,-77.0441143,-79.6644748,-78.6141709,-79.1802994,-80.621438,-76.2247697,-77.4208221,-78.6390989,-77.9447107,-80.4742261,-79.7919754,-78.9018053,-79.7667026,-77.5358049,-80.081817,-77.3724593,-82.4663918,-80.0736533,-79.4377991,-78.878292,-78.7812081,-80.2533838,-83.8337785,-102.7896242,-103.621814,-96.789821,-97.0592028,-98.708436,-96.900362,-100.783739,-101.296273,-84.105006,-84.1688274,-80.614795,-81.9179174,-81.556235,-82.4012643,-83.0624078,-81.537346,-83.1895249,-81.4406258,-81.514824,-84.1601458,-81.83511,-84.1916069,-83.6538244,-83.7129935,-82.2223775,-81.4023356,-81.3399769,-84.5501874,-83.1779537,-83.810138,-81.5231597,-81.357886,-80.6339638,-82.0610404,-82.2044367,-84.2032767,-84.2424449,-82.2360391,-81.6051221,-82.936864,-83.0929645,-82.9295287,-84.3021673,-84.6332986,-82.5154471,-81.1059309,-84.5041108,-82.0190321,-81.6762392,-83.810138,-84.3041074,-81.6936772,-82.0131924,-81.4417989,-80.6520161,-81.5061146,-83.6279321,-83.7129935,-83.0179593,-81.6267904,-84.2029922,-81.4548392,-83.3937233,-81.4741475,-82.6089043,-84.324944,-81.9397733,-83.1134972,-84.3982763,-84.5124602,-84.2236524,-80.5561011,-80.765358,-84.0193858,-83.1596108,-81.5370671,-82.9754649,-82.9965441,-81.7981908,-81.7405559,-84.0632685,-83.7524298,-81.4412259,-81.6059581,-84.600988,-80.701466,-83.9296526,-82.1781904,-84.1593818,-84.11141951604947,-81.4456706,-82.6155745,-83.5378173,-83.1555438,-83.7596557,-82.3646068,-84.1988308,-81.7298519,-83.1140771,-84.2866083,-84.4852213,-84.4596641,-84.4132779,-84.6052225,-81.453449,-84.309939,-82.9651045,-81.3749508,-80.8567502,-84.4421641,-83.8285375,-83.4868768,-82.6418883,-83.0007065,-83.15129585,-82.9824019,-81.6381795,-94.969956,-96.1100025,-98.3903305,-99.2455382,-97.081898,-95.7697934,-97.9578129,-97.9440297,-95.9927516,-95.9528877,-95.3927706,-97.7244813,-97.1436254,-96.9253004,-97.6322648,-97.9550578,-95.6160686,-96.1049612,-97.4394816,-97.4867045,-97.3967025,-94.877374,-97.5170536,-96.3776762,-97.8791341,-97.7625386,-95.9690122,-97.5494185,-97.4408709,-95.8548557,-96.6783651,-95.7908195,-97.4649038,-99.3339754,-99.4138648,-97.0585717,-123.0220289,-122.8553725,-122.80378,-121.3153096,-122.906876,-123.1114405,-122.5945507,-122.989827,-122.670649,-123.033121,-118.0878695,-121.7816704,-122.771933,-119.28946,-123.1059324,-123.3272489,-122.8718605,-123.2620435,-123.8319802,-122.6412523,-123.3417381,-122.612314,-124.2174647,-122.6067583,-122.674194,-123.984376,-122.4309766,-123.0266267,-122.972751,-122.7153995,-123.0950506,-75.93718261371077,-75.7802235,-79.9900861,-75.1635262,-76.8861122,-79.8664375,-76.1789242,-75.2554605,-77.0027671,-76.2461259,-76.21302410596485,-75.55770769383142,-77.0583135,-80.2082,-74.84670236269929,-76.78259308545563,-75.39131985484991,-75.36962439417572,-79.706441,-80.1060506,-75.6059638,-75.3786521,-74.89305746907641,-75.897197,-78.9219698,-75.43549516346835,-75.5149128,-76.9880313,-75.4712794,-75.3702305,-75.62432877075015,-75.3289302,-79.895197,-75.378526,-75.50746464724347,-75.3365695,-76.97591945655293,-79.9756206,-76.2582849,-75.46235478363613,-78.394736,-76.796745,-75.1304588,-75.1515654,-79.895197,-79.7589356,-75.33259425879342,-80.3264521,-75.7838155,-80.0852695,-75.30415601106138,-80.3192295,-76.7974714733872,-80.486567,-75.7652424,-75.2718507,-75.44054729049847,-79.8819609,-76.7008946,-75.2943516,-80.0394977,-76.9842735,-75.9279495,-76.3056686,-74.951279,-79.8828275,-75.51061576238621,-75.23457505027287,-79.74820739087984,-74.86447057681232,-75.8501955,-76.3952429,-79.5035993788097,-78.642102,-77.0527459,-75.6621294,-75.6321327,-75.23153355835147,-75.1687892,-75.6324112,-75.8238355,-75.03499300040215,-76.4626118,-75.3595487,-75.2737955,-76.4191791,-79.6411537,-76.0049353,-75.4968502,-75.1340604,-75.3786521,-76.1953701,-76.3056686,-79.83291813611304,-77.1890783,-75.50746464724347,-74.77650662471181,-75.9852789,-76.9005317,-75.5770496072027,-80.3471856,-71.4663863,-71.4661703,-71.6828444,-71.5147839,-71.5394738,-71.5412101,-71.3825558,-71.549507,-71.3084633,-71.166333,-71.4495005,-71.27037832834264,-71.2825494,-71.5495071,-71.4328363,-71.4558911,-71.8272911,-71.2844401,-71.4371257,-71.6977885,-71.27037832834264,-71.3922785,-71.4161108,-71.27037832834264,-71.4128343,-71.3700545,-81.0250784,-82.310119,-80.0088359,-82.5817053,-80.8556476,-82.652962,-82.2542834,-81.6498195,-82.161424452277,-79.8625851,-79.9399309,-80.1762704,-81.0739826,-79.9748103,-80.3237032,-80.0387292,-77.04086075512475,-81.1802101384121,-81.6182086,-82.2272119,-79.7671658,-81.9320157,-81.96696923114902,-82.3984882,-81.0739827,-78.8900409,-81.5830086,-82.8364111,-96.929101,-97.115289,-96.79844,-96.7307737,-100.351136,-98.487813,-97.3967011,-98.025379,-103.2274481,-89.8100858,-87.0352831,-89.6645266,-85.2925214,-86.4602717,-86.3921096,-89.8739753,-88.8177418,-85.4997057,-86.70533913302022,-86.5199492,-82.8309861,-90.0517638,-89.0570096,-84.8766115,-83.2948923,-86.621443,-85.569464,-86.8689419,-86.2094342,-82.5594293,-87.3588703,-85.3094883,-85.2519003,-89.3857496,-84.5930113,-89.262291,-86.4475898,-83.9704593,-86.7825235,-83.9210261,-84.2696449,-86.8849984,-82.3534728,-89.8973084,-98.1624501,-98.4951405,-97.1466695,-97.9030785,-95.3596617,-97.6688843,-98.5705336,-96.1108066,-94.74049,-97.727796,-95.8085623,-97.2271249,-96.994174,-97.6788056,-99.497352,-96.9442177,-96.8961151,-93.9585067,-95.2864299,-94.5927451,-97.0667142473263,-94.7945882,-95.3010624,-101.919197,-95.969402,-95.6349463,-95.5377215,-102.6042447,-100.918231,-95.2441009,-96.9766308,-95.6010143,-96.6353488,-97.4605759,-97.9647269,-98.1836216,-94.3661004,-98.2695702,-97.7436995,-96.6227714,-100.405938,-97.0867203,-102.367687,-97.1416768,-95.4588299,-95.5507771,-106.415352,-94.0148021,-96.8902816,-95.4560512,-96.8439365,-102.077948,-95.2092076,-96.7968559,-97.0788754,-97.4091216963166,-97.155012,-96.79257966216876,-102.8065415,-96.3071042,-97.2547371,-95.0949303,-97.4890879,-96.6252679,-99.2860857,-99.7733181,-94.1018461,-102.37796,-96.9553675,-101.8792389,-97.3327459,-96.599472,-94.07714830522016,-97.6772311,-96.4646821,-100.9601552,-101.833824,-98.9831022,-96.3699632,-101.7068417,-97.9405828,-95.854914,-96.3977442,-97.3427847,-98.1552872,-100.894698,-101.9550202,-93.9041169,-96.6260892,-100.4405094,-94.9694007,-95.2354902,-96.6925096,-94.8758518,-93.9171155,-98.101923,-97.3188666,-97.1430671,-96.9083366,-96.2696867,-96.8863922,-95.2302123,-97.630791,-95.0193729,-95.4318847,-97.9136112,-98.1257348,-97.2289029,-94.9774274,-95.2705042,-97.1413417,-98.0697249,-95.6307891,-98.2130634,-96.536658,-97.4033191,-96.7297206,-97.1705678,-94.9713134,-95.2010447,-97.6590473,-96.4066987,-97.7483312,-97.1071186,-101.8858689,-99.8812612,-98.1128223,-94.554864,-100.493813,-93.9288723,-97.7970748,-94.7288558,-95.555513,-102.0974881,-98.3252932,-96.8570183,-102.398778,-93.9923965,-96.56388,-97.464453,-101.3919481,-98.0522376,-106.441207,-96.7561083,-97.9907362,-97.4583538,-97.6960599,-94.9175485,-97.743911,-95.2621553,-95.4343859,-97.856109,-97.1332963,-99.1399464,-95.1238204,-97.0155703,-111.6114726,-111.6587085,-112.0244841,-111.6944313,-111.9367107,-113.1966394,-111.8721601,-111.8953815,-111.9678627,-113.061827,-111.8349145,-111.888417,-111.7386884,-112.0273739,-111.8804817,-112.0154991,-111.9650256,-111.9106607,-111.7959146,-111.6547774,-111.9395211,-111.9738429,-111.886797,-111.8882709,-73.212906,-73.1715669,-72.9802826,-73.15461,-77.0470229,-78.8893999,-76.2466798,-80.054667,-78.8688833,-77.43428,-78.4766781,-76.297699,-79.1422464,-80.5764477,-77.2872001,-79.9414313,-79.072557,-77.4752667,-76.3921461,-78.1652404,-79.8725386,-78.1917718,-80.4136767,-76.3452057,-77.3859479,-76.2863999,-79.3950228,-76.7074042,-77.5645446,-76.42977,-77.4605399,-77.4019268,-75.9774183,-80.4089389,-76.5835703,-77.4112016,-77.2651762,-120.510842,-122.2034496,-122.2270272,-118.5174284,-122.439874,-122.2559156,-122.2068288,-122.201399,-123.430741,-122.623735,-122.8072257,-122.32642,-119.278077,-122.478836,-122.934462,-122.8950075,-122.29214,-119.119919,-122.330062,-117.173895,-122.1238767,-122.2301808,-122.1920249,-120.310349,-122.643224,-122.6246836,-120.0081898,-122.96143,-122.3774952,-119.0921,-119.275205,-122.192337,-120.545122,-117.42351,-122.3099093,-122.905299,-122.6744557,-122.22014226861953,-123.815722,-122.3053932,-80.1425781,-81.5512639,-82.445154,-79.9559437,-80.7209149,-81.6332812,-81.69957,-77.9639604,-80.5895167,-81.2223195,-80.7432124,-81.5506916,-80.3445341,-81.1881557,-91.2343539,-88.5408574,-88.1261984,-88.4465361,-88.1389779,-88.0409574,-88.2314813,-87.8212263,-92.6255075,-88.1103691,-87.827992,-88.7292679,-89.8228767,-91.2514355,-87.9370433,-87.8043925,-90.1717987,-87.5692479,-88.4992659,-87.8631362,-90.6397264,-88.837329,-89.3837613,-87.8881302,-89.031784,-89.423817,-87.922497,-88.0070315,-88.2720503,-88.0125794,-89.5119565,-87.9356423,-87.861471,-89.2134359,-89.0226793,-87.9822969,-87.8606367,-87.7825242,-91.9193422,-87.9959191,-88.0079271,-88.4493796,-89.6298239,-91.3932118,-88.060735,-88.462609,-88.4069744,-88.7286352,-89.574111,-88.8370509,-88.1834277,-88.0599986,-88.1170784,-87.851473,-87.972722,-87.9000856,-88.4406674,-92.1040796,-91.4984941,-88.1090391,-104.820246,-109.466473,-106.956179,-110.963758,-105.501876,-105.591101,-109.2194544],\"marker\":{\"color\":[0.1,0.15,0.05,0.09,0.51,0.8,1.0,1.0,0.28,0.23,0.25,0.15,0.03,0.31,0.34,0.06,0.55,0.22,0.53,0.9,0.53,0.65,0.01,0.08,0.16,1.0,0.35,1.0,0.22,0.41,0.01,0.5,0.15,0.52,0.02,0.14,0.19,0.35,1.0,0.03,0.44,0.62,1.0,0.36,0.05,0.31,0.07,0.57,0.3,0.2,0.34,0.08,0.33,0.18,0.09,0.45,0.34,0.32,0.16,0.1,0.06,0.05,0.1,0.17,0.4,0.23,0.3,0.11,0.19,0.07,0.61,0.9,0.04,0.36,0.21,0.08,0.57,0.24,0.34,1.0,0.03,0.04,0.05,0.54,0.09,0.24,0.29,0.42,0.11,0.02,0.2,0.06,0.16,1.0,0.33,0.13,0.1,0.46,0.12,0.25,0.39,0.13,0.5,0.22,0.04,0.23,0.06,0.2,0.26,1.0,0.23,0.26,0.19,1.0,0.43,0.36,0.14,0.2,0.1,0.11,0.09,0.54,0.29,0.1,0.39,0.19,0.41,1.0,0.07,0.36,0.52,0.86,0.13,0.2,0.56,0.22,0.41,1.0,0.37,0.12,1.0,0.16,0.53,0.42,0.25,0.68,0.08,0.5,0.39,0.83,0.34,0.22,0.4,0.13,0.23,0.35,0.07,0.24,0.22,0.24,0.19,0.33,0.1,0.01,0.21,0.9,0.82,0.23,0.28,0.16,0.45,0.08,0.61,0.14,0.62,0.37,0.27,0.36,0.25,0.16,0.07,0.15,0.41,0.24,0.13,0.26,0.29,0.3,1.0,0.5,0.15,0.19,0.11,0.22,0.33,0.13,0.37,0.25,0.03,0.42,0.38,0.27,0.06,0.81,0.69,0.25,0.14,0.53,0.29,0.33,0.2,0.22,0.36,0.25,0.18,0.49,0.28,0.67,0.14,0.48,0.53,0.45,0.3,0.75,0.3,0.32,0.48,0.11,0.26,0.2,0.16,0.14,0.29,0.13,0.11,0.25,0.32,0.63,0.29,0.67,0.16,0.36,0.38,0.11,0.18,0.37,0.05,0.38,0.24,0.19,0.06,0.16,1.0,0.04,0.2,0.4,0.1,0.19,0.2,0.15,0.45,0.41,0.22,0.45,0.6,0.38,0.16,0.3,1.0,0.38,0.66,0.51,0.12,0.06,0.2,0.17,0.2,0.16,0.51,0.1,0.31,0.26,0.27,0.31,0.22,0.12,0.55,0.21,0.03,0.57,0.41,0.37,0.32,0.25,0.14,0.65,0.15,0.47,0.36,0.15,0.15,0.57,0.12,0.39,0.14,0.52,0.33,0.7,0.54,0.14,0.28,0.53,0.59,0.52,0.14,0.25,0.97,0.18,0.36,0.3,0.48,0.2,0.24,0.11,0.37,0.14,0.08,0.14,0.21,0.4,0.68,0.45,0.24,0.26,0.49,0.36,0.25,0.32,0.54,0.7,0.84,0.31,0.21,0.34,0.25,0.45,0.68,0.22,0.62,0.29,0.18,0.16,0.1,0.02,0.31,0.51,0.15,0.27,0.08,0.22,0.26,0.27,0.55,0.67,0.17,0.14,0.68,0.86,0.03,0.11,0.15,0.14,0.62,0.32,0.24,0.43,0.12,0.11,0.09,0.21,0.15,0.12,0.07,0.2,0.16,0.11,0.15,0.13,0.11,0.08,0.07,0.7,0.75,0.09,0.02,0.08,0.04,0.02,0.19,0.04,0.14,0.14,0.06,0.23,0.08,0.04,0.04,0.05,0.06,0.03,0.21,0.07,0.88,0.03,0.04,0.03,0.02,0.03,0.11,0.03,0.01,0.16,0.12,0.02,0.03,0.09,0.02,0.02,0.02,0.03,0.02,0.04,0.09,0.03,0.08,0.02,0.3,0.0,0.29,0.17,0.02,0.04,0.06,0.04,0.94,0.01,0.18,0.02,0.1,0.02,0.01,0.03,0.02,0.22,0.06,0.14,0.79,0.09,0.05,0.09,0.08,0.09,0.04,0.37,1.0,0.65,0.67,1.0,0.76,0.13,0.08,0.06,0.54,0.82,0.58,0.59,0.35,0.21,0.1,0.15,0.59,0.22,0.26,0.63,0.21,0.45,0.36,1.0,0.59,0.63,0.34,0.5,0.18,0.23,0.59,0.11,0.39,0.08,0.26,0.86,0.14,0.48,0.56,1.0,0.26,0.25,0.21,0.21,0.34,0.17,0.34,0.41,0.23,0.27,0.81,0.2,0.73,0.22,0.18,0.95,0.63,0.24,1.0,0.6,0.4,1.0,0.82,0.8,0.31,0.69,0.14,0.87,0.54,0.07,0.69,0.48,1.0,1.0,0.39,0.12,0.15,0.17,0.09,1.0,0.45,0.14,0.83,0.19,0.66,0.22,1.0,0.15,0.13,0.4,0.75,0.34,0.42,0.46,0.25,0.33,0.0,0.25,0.51,0.78,0.41,0.65,0.56,0.4,0.3,0.47,0.11,0.03,0.77,0.25,0.35,0.03,0.56,0.35,0.55,0.41,1.0,0.71,0.15,0.15,0.34,0.53,0.86,0.08,0.18,0.24,0.13,0.3,0.14,0.1,0.14,0.07,0.02,0.18,0.13,0.02,0.28,0.11,0.1,0.01,0.18,0.45,0.08,1.0,0.03,0.01,0.58,0.23,0.07,0.89,0.41,0.69,0.08,0.17,0.05,0.13,0.03,0.09,0.53,0.53,0.34,0.18,0.09,0.12,0.07,0.01,0.08,0.08,0.01,0.15,0.07,0.03,0.27,0.05,0.21,0.22,0.29,0.24,0.2,0.11,0.13,0.06,0.08,0.19,0.0,0.45,0.01,0.65,0.13,0.3,0.07,0.04,0.27,0.63,0.03,0.19,0.04,0.06,0.16,0.05,0.05,0.01,0.04,0.36,0.36,0.45,0.03,0.23,0.26,0.04,0.32,0.21,0.11,0.21,0.14,0.48,0.33,0.19,0.19,0.53,0.43,0.41,0.24,0.16,0.03,0.15,0.19,0.69,0.66,0.27,0.25,0.39,1.0,0.53,0.84,0.05,0.5,0.33,0.61,0.14,0.42,0.37,0.81,0.6,0.44,0.36,0.53,0.66,0.33,1.0,0.44,0.5,0.28,0.06,0.01,0.01,0.09,0.07,0.04,0.09,0.01,0.15,0.07,0.01,0.05,0.03,0.04,0.03,0.03,0.2,0.59,1.0,0.26,0.62,0.23,0.91,0.46,0.26,0.43,0.51,0.29,0.27,0.04,0.02,0.21,0.7,0.15,0.53,0.17,0.09,0.15,0.09,0.37,0.07,0.11,0.04,0.1,0.26,0.01,0.06,0.01,0.15,0.13,0.12,0.09,0.49,0.16,0.12,0.69,0.18,0.1,0.12,0.05,0.75,0.02,0.28,0.37,0.03,0.2,0.18,0.05,0.06,0.07,0.14,0.06,0.13,0.02,0.02,0.1,0.11,0.09,0.09,0.06,0.07,0.4,0.59,0.08,0.18,0.01,0.69,0.11,0.08,0.37,0.18,0.05,0.15,0.06,0.34,0.08,0.08,0.14,0.28,0.44,0.32,0.03,0.08,0.22,0.81,0.73,0.04,0.0,0.11,0.03,0.24,0.11,0.08,0.17,0.21,0.12,0.02,0.09,0.15,0.13,0.06,0.1,0.24,0.09,0.22,0.88,0.41,0.05,0.37,0.04,0.13,0.08,0.03,0.02,0.23,0.15,0.04,0.08,0.03,0.2,0.17,0.15,0.11,0.31,0.25,0.19,0.04,0.02,0.54,0.2,0.75,0.08,0.11,0.15,0.12,0.04,0.31,0.23,0.29,0.1,0.96,0.23,0.45,0.2,0.59,0.16,0.13,0.18,0.05,0.12,0.32,0.3,0.29,0.09,0.19,0.04,0.09,0.15,0.11,0.05,0.02,0.03,0.31,0.05,0.06,0.41,0.24,0.05,0.27,0.54,0.11,0.22,0.17,0.08,0.18,0.09,0.14,0.32,0.24,0.09,0.22,0.16,0.17,0.06,0.35,0.07,0.07,0.14,0.24,0.21,1.0,0.26,0.06,0.1,0.16,0.17,0.19,0.28,0.12,0.11,0.42,0.2,0.16,0.04,0.06,0.06,0.02,0.12,0.03,0.06,0.17,0.01,0.04,0.26,0.09,0.1,0.01,0.03,0.09,0.03,0.04,0.06,0.09,0.02,0.07,0.1,0.08,0.06,0.07,0.05,0.26,0.03,0.44,0.1,0.04,0.08,0.04,0.23,0.08,0.17,0.13,0.12,0.16,0.19,0.17,0.93,0.03,0.24,0.05,0.14,0.01,0.03,0.71,0.02,0.09,0.18,0.37,0.04,0.04,0.11,0.04,0.12,0.02,0.32,0.03,0.24,0.12,0.33,0.08,0.06,0.05,0.09,0.11,0.03,0.07,0.62,0.28,0.07,0.04,0.2,0.12,0.1,0.12,0.05,0.12,0.02,0.04,0.05,0.19,0.17,0.08,0.09,0.05,1.0,0.23,0.2,0.04,0.04,0.05,0.21,0.05,0.18,0.39,0.17,0.6,0.02,0.1,0.03,0.04,0.03,0.12,0.03,0.22,0.03,1.0,0.02,0.21,0.05,0.06,0.02,0.5,0.08,0.02,0.06,0.03,0.38,0.13,0.05,0.02,0.06,0.65,0.03,0.06,0.01,0.16,1.0,0.07,0.13,0.02,0.09,0.03,0.11,0.18,0.25,0.11,0.05,0.11,0.03,0.05,1.0,0.16,0.04,0.04,0.54,0.08,0.2,0.12,0.09,0.09,0.04,0.04,0.07,0.1,0.04,0.1,0.13,0.03,0.06,0.85,0.1,0.04,0.04,0.02,0.03,0.05,0.03,0.03,0.15,0.03,0.04,0.04,0.16,0.04,0.04,0.05,0.04,0.24,0.13,0.06,0.12,0.18,0.26,0.65,0.06,0.27,0.17,0.18,0.04,0.06,0.1,0.08,0.06,0.09,0.1,0.02,0.04,0.05,0.1,0.19,0.18,0.02,0.04,0.83,0.04,0.04,0.07,0.2,0.28,1.0,1.0,0.51,0.03,0.12,0.12,0.04,0.16,0.08,0.1,0.01,0.17,0.36,0.11,0.12,0.85,0.12,0.34,0.34,0.2,0.22,0.12,0.54,0.66,0.66,0.25,0.6,0.07,0.08,0.0,0.1,0.08,0.43,0.48,0.49,0.12,0.31,0.45,0.3,0.27,0.04,0.38,0.13,0.15,0.87,0.23,0.64,0.59,0.8,0.15,0.82,0.05,0.2,0.04,0.02,0.01,0.06,0.01,0.08,0.2,0.16,0.28,0.11,0.02,0.3,0.05,0.18,0.28,0.35,0.14,0.55,0.0,0.52,0.46,0.26,0.37,0.28,0.26,0.4,0.61,0.11,0.39,0.29,0.21,0.06,0.53,0.3,0.55,0.61,0.6,0.74,0.4,0.37,0.59,0.24,0.91,0.21,0.12,0.51,0.2,0.34,0.22,0.35,0.5,0.46,0.36,0.48,0.2,0.52,0.36,0.65,0.73,0.19,0.23,0.86,0.07,0.42,0.45,0.02,0.02,0.05,0.05,0.05,0.02,0.03,0.04,0.97,0.06,0.0,0.03,0.02,0.45,0.06,0.1,0.09,0.04,0.38,0.03,0.02,0.67,0.14,0.03,0.05,0.04,0.03,0.59,0.07,0.62,0.11,0.16,0.79,0.1,0.1,0.05,0.09,0.01,0.3,0.12,0.05,0.05,0.04,0.04,1.0,0.42,0.13,0.1,0.02,0.19,0.1,0.69,0.32,0.09,0.95,0.14,0.01,0.05,0.05,0.02,0.16,0.09,0.1,0.03,0.08,0.1,0.08,0.14,0.15,0.64,0.06,0.04,0.18,0.05,0.06,0.17,0.07,0.27,0.05,0.04,0.04,0.12,0.02,0.15,0.19,0.03,0.18,0.13,0.05,0.07,0.07,0.01,0.41,0.12,0.11,0.03,0.05,0.03,0.03,0.08,0.12,0.2,0.07,0.03,0.05,0.06,0.11,0.51,0.02,0.05,0.17,0.17,0.2,0.46,0.1,0.17,0.07,0.12,0.16,0.39,0.19,0.1,0.18,0.09,0.47,0.54,0.21,0.48,0.07,0.3,0.18,0.06,0.21,0.09,0.12,0.09,0.14,0.21,0.17,0.57,0.15,0.37,0.05,0.41,0.25,0.12,0.06,0.22,0.07,0.07,0.13,0.1,0.11,0.21,0.22,0.13,0.21,0.27,0.05,0.12,0.09,0.06,0.14,0.07,0.21,0.09,0.07,0.1,0.09,0.22,0.09,0.12,0.1,0.13,0.12,0.08,0.19,0.76,0.11,0.14,0.06,0.1,0.06,0.16,0.13,0.19,0.52,0.53,0.87,0.19,0.05,0.15,0.13,0.03,0.06,0.05,0.04,0.03,0.01,0.17,0.09,0.06,0.05,0.0,0.19,0.03,0.04,0.05,0.29,0.12,0.09,0.07,0.28,0.02,0.03,0.02,0.09,0.05,0.02,0.03,0.03,0.1,0.22,0.04,0.13,0.22,0.12,0.06,0.02,0.03,0.03,0.03,0.01,0.32,0.02,0.19,0.05,0.03,1.0,0.1,0.11,1.0,0.03,0.03,0.02,0.06,0.49,0.03,0.15,0.17,0.06,0.02,0.04,0.35,0.07,0.05,0.07,0.01,0.02,0.12,0.02,0.08,0.03,0.06,0.44,0.03,0.12,0.02,0.12,0.21,0.04,0.06,0.06,0.02,0.13,0.05,0.36,0.03,0.15,0.08,0.06,0.05,0.04,0.09,0.21,0.03,0.1,0.05,0.15,0.04,0.04,0.19,0.03,0.03,0.02,0.18,0.49,0.0,0.22,0.26,0.03,0.03,0.05,0.07,0.04,0.06,0.61,0.17,0.32,0.38,0.06,0.85,0.09,0.2,0.23,0.74,0.76,0.06,0.16,1.0,0.06,0.53,0.29,0.78,0.93,0.6,0.1,0.87,0.07,0.21,0.55,0.69,1.0,0.23,0.72,0.53,0.6,0.63,0.15,0.03,0.07,0.02,0.18,0.12,0.08,0.08,0.08,0.18,0.01,0.35,0.03,0.3,0.24,0.33,0.08,0.7,0.1,0.26,0.12,0.17,0.67,0.38,0.36,0.16,0.17,0.41,0.21,0.06,0.24,0.47,0.81,0.12,0.4,0.28,0.63,0.38,0.25,0.03,0.7,0.14,0.57,0.1,0.24,0.2,0.28,0.64,0.17,0.24,0.17,0.06,0.59,0.34,0.27,0.49,0.13,0.12,0.08,0.28,0.17,0.16,0.14,0.08,0.28,0.11,0.72,0.47,0.03,0.24,0.09,0.09,0.07,0.31,0.14,0.39,0.5,0.07,0.06,0.32,0.36,0.39,0.11,0.25,0.83,0.39,0.18,0.33,0.27,0.14,0.31,0.31,0.11,0.09,0.58,0.27,0.19,0.51,0.72,0.12,0.14,0.01,0.06,0.1,0.09,0.07,0.05,0.39,0.11,1.0,0.14,0.52,0.1,0.04,0.27,0.63,0.23,0.6,0.12,0.28,0.2,0.28,0.29,0.34,0.23,0.19,0.54,0.31,0.48,0.13,0.12,0.29,0.52,0.51,0.21,0.15,0.13,0.13,0.43,0.06,0.11,0.04,0.08,0.19,0.26,0.06,0.21,0.22,0.16,0.23,0.52,0.71,0.11,0.23,0.25,0.29,0.28,0.48,0.03,0.33,0.33,0.11,0.35,0.14,0.08,0.34,0.16,0.29,0.32,0.3,0.3,0.28,0.5,0.29,0.68,0.15,0.33,0.74,0.35,0.07,0.11,0.19,0.06,0.14,0.12,0.1,0.12,0.43,0.2,0.2,0.16,0.31,0.28,0.05,0.32,0.03,0.34,0.11,0.1,0.09,0.02,0.1,0.07,0.07,0.03,0.08,0.08,0.05,0.05,0.07,0.04,0.04,0.11,0.04,0.15,0.06,0.04,0.02,0.2,0.08,0.04,0.04,0.24,0.33,0.25,0.07,0.05,0.06,0.01,0.27,0.14,0.18,0.04,0.06,0.67,0.29,0.54,0.31,0.15,0.29,0.24,0.07,0.12,0.15,0.29,0.28,0.07,0.05,0.19,0.05,0.47,0.16,0.09,0.06,0.35,0.18,0.55,0.12,0.05,0.38,0.1,0.04,0.5,0.25,0.22,0.37,0.76,0.67,0.09,0.22,0.1,0.03,0.12,0.09,0.47,0.14,0.14,0.13,0.12,0.16,0.58,0.09,0.06,0.18,0.09,0.2,0.04,0.26,0.39,0.22,0.08,0.36,0.1,0.09,0.08,0.33,0.23,0.31,0.36,0.04,0.22,0.15,0.22,0.01,0.23,0.15,0.22,0.56,0.09,0.16,0.1,0.13,0.02,0.09,0.03,0.49,0.02,0.06,0.07,0.02,0.01,0.05,0.06,0.22,0.04,0.03,0.05,0.06,0.11,0.03,0.06,0.02,0.06,0.02,0.07,0.05,0.03,0.11,0.13,0.07,0.14,0.1,0.4,0.1,0.03,0.18,0.03,0.17,0.09,0.03,0.08,0.0,0.05,0.34,0.02,0.03,0.07,0.16,0.02,0.02,0.06,0.07,0.03,0.04,0.1,0.03,0.05,0.07,0.04,0.09,0.06,0.01,0.09,0.11,0.06,0.05,0.08,0.06,0.06,0.11,0.15,0.12,0.27],\"coloraxis\":\"coloraxis\",\"size\":[0.1,0.15,0.05,0.09,0.51,0.8,1.0,1.0,0.28,0.23,0.25,0.15,0.03,0.31,0.34,0.06,0.55,0.22,0.53,0.9,0.53,0.65,0.01,0.08,0.16,1.0,0.35,1.0,0.22,0.41,0.01,0.5,0.15,0.52,0.02,0.14,0.19,0.35,1.0,0.03,0.44,0.62,1.0,0.36,0.05,0.31,0.07,0.57,0.3,0.2,0.34,0.08,0.33,0.18,0.09,0.45,0.34,0.32,0.16,0.1,0.06,0.05,0.1,0.17,0.4,0.23,0.3,0.11,0.19,0.07,0.61,0.9,0.04,0.36,0.21,0.08,0.57,0.24,0.34,1.0,0.03,0.04,0.05,0.54,0.09,0.24,0.29,0.42,0.11,0.02,0.2,0.06,0.16,1.0,0.33,0.13,0.1,0.46,0.12,0.25,0.39,0.13,0.5,0.22,0.04,0.23,0.06,0.2,0.26,1.0,0.23,0.26,0.19,1.0,0.43,0.36,0.14,0.2,0.1,0.11,0.09,0.54,0.29,0.1,0.39,0.19,0.41,1.0,0.07,0.36,0.52,0.86,0.13,0.2,0.56,0.22,0.41,1.0,0.37,0.12,1.0,0.16,0.53,0.42,0.25,0.68,0.08,0.5,0.39,0.83,0.34,0.22,0.4,0.13,0.23,0.35,0.07,0.24,0.22,0.24,0.19,0.33,0.1,0.01,0.21,0.9,0.82,0.23,0.28,0.16,0.45,0.08,0.61,0.14,0.62,0.37,0.27,0.36,0.25,0.16,0.07,0.15,0.41,0.24,0.13,0.26,0.29,0.3,1.0,0.5,0.15,0.19,0.11,0.22,0.33,0.13,0.37,0.25,0.03,0.42,0.38,0.27,0.06,0.81,0.69,0.25,0.14,0.53,0.29,0.33,0.2,0.22,0.36,0.25,0.18,0.49,0.28,0.67,0.14,0.48,0.53,0.45,0.3,0.75,0.3,0.32,0.48,0.11,0.26,0.2,0.16,0.14,0.29,0.13,0.11,0.25,0.32,0.63,0.29,0.67,0.16,0.36,0.38,0.11,0.18,0.37,0.05,0.38,0.24,0.19,0.06,0.16,1.0,0.04,0.2,0.4,0.1,0.19,0.2,0.15,0.45,0.41,0.22,0.45,0.6,0.38,0.16,0.3,1.0,0.38,0.66,0.51,0.12,0.06,0.2,0.17,0.2,0.16,0.51,0.1,0.31,0.26,0.27,0.31,0.22,0.12,0.55,0.21,0.03,0.57,0.41,0.37,0.32,0.25,0.14,0.65,0.15,0.47,0.36,0.15,0.15,0.57,0.12,0.39,0.14,0.52,0.33,0.7,0.54,0.14,0.28,0.53,0.59,0.52,0.14,0.25,0.97,0.18,0.36,0.3,0.48,0.2,0.24,0.11,0.37,0.14,0.08,0.14,0.21,0.4,0.68,0.45,0.24,0.26,0.49,0.36,0.25,0.32,0.54,0.7,0.84,0.31,0.21,0.34,0.25,0.45,0.68,0.22,0.62,0.29,0.18,0.16,0.1,0.02,0.31,0.51,0.15,0.27,0.08,0.22,0.26,0.27,0.55,0.67,0.17,0.14,0.68,0.86,0.03,0.11,0.15,0.14,0.62,0.32,0.24,0.43,0.12,0.11,0.09,0.21,0.15,0.12,0.07,0.2,0.16,0.11,0.15,0.13,0.11,0.08,0.07,0.7,0.75,0.09,0.02,0.08,0.04,0.02,0.19,0.04,0.14,0.14,0.06,0.23,0.08,0.04,0.04,0.05,0.06,0.03,0.21,0.07,0.88,0.03,0.04,0.03,0.02,0.03,0.11,0.03,0.01,0.16,0.12,0.02,0.03,0.09,0.02,0.02,0.02,0.03,0.02,0.04,0.09,0.03,0.08,0.02,0.3,0.0,0.29,0.17,0.02,0.04,0.06,0.04,0.94,0.01,0.18,0.02,0.1,0.02,0.01,0.03,0.02,0.22,0.06,0.14,0.79,0.09,0.05,0.09,0.08,0.09,0.04,0.37,1.0,0.65,0.67,1.0,0.76,0.13,0.08,0.06,0.54,0.82,0.58,0.59,0.35,0.21,0.1,0.15,0.59,0.22,0.26,0.63,0.21,0.45,0.36,1.0,0.59,0.63,0.34,0.5,0.18,0.23,0.59,0.11,0.39,0.08,0.26,0.86,0.14,0.48,0.56,1.0,0.26,0.25,0.21,0.21,0.34,0.17,0.34,0.41,0.23,0.27,0.81,0.2,0.73,0.22,0.18,0.95,0.63,0.24,1.0,0.6,0.4,1.0,0.82,0.8,0.31,0.69,0.14,0.87,0.54,0.07,0.69,0.48,1.0,1.0,0.39,0.12,0.15,0.17,0.09,1.0,0.45,0.14,0.83,0.19,0.66,0.22,1.0,0.15,0.13,0.4,0.75,0.34,0.42,0.46,0.25,0.33,0.0,0.25,0.51,0.78,0.41,0.65,0.56,0.4,0.3,0.47,0.11,0.03,0.77,0.25,0.35,0.03,0.56,0.35,0.55,0.41,1.0,0.71,0.15,0.15,0.34,0.53,0.86,0.08,0.18,0.24,0.13,0.3,0.14,0.1,0.14,0.07,0.02,0.18,0.13,0.02,0.28,0.11,0.1,0.01,0.18,0.45,0.08,1.0,0.03,0.01,0.58,0.23,0.07,0.89,0.41,0.69,0.08,0.17,0.05,0.13,0.03,0.09,0.53,0.53,0.34,0.18,0.09,0.12,0.07,0.01,0.08,0.08,0.01,0.15,0.07,0.03,0.27,0.05,0.21,0.22,0.29,0.24,0.2,0.11,0.13,0.06,0.08,0.19,0.0,0.45,0.01,0.65,0.13,0.3,0.07,0.04,0.27,0.63,0.03,0.19,0.04,0.06,0.16,0.05,0.05,0.01,0.04,0.36,0.36,0.45,0.03,0.23,0.26,0.04,0.32,0.21,0.11,0.21,0.14,0.48,0.33,0.19,0.19,0.53,0.43,0.41,0.24,0.16,0.03,0.15,0.19,0.69,0.66,0.27,0.25,0.39,1.0,0.53,0.84,0.05,0.5,0.33,0.61,0.14,0.42,0.37,0.81,0.6,0.44,0.36,0.53,0.66,0.33,1.0,0.44,0.5,0.28,0.06,0.01,0.01,0.09,0.07,0.04,0.09,0.01,0.15,0.07,0.01,0.05,0.03,0.04,0.03,0.03,0.2,0.59,1.0,0.26,0.62,0.23,0.91,0.46,0.26,0.43,0.51,0.29,0.27,0.04,0.02,0.21,0.7,0.15,0.53,0.17,0.09,0.15,0.09,0.37,0.07,0.11,0.04,0.1,0.26,0.01,0.06,0.01,0.15,0.13,0.12,0.09,0.49,0.16,0.12,0.69,0.18,0.1,0.12,0.05,0.75,0.02,0.28,0.37,0.03,0.2,0.18,0.05,0.06,0.07,0.14,0.06,0.13,0.02,0.02,0.1,0.11,0.09,0.09,0.06,0.07,0.4,0.59,0.08,0.18,0.01,0.69,0.11,0.08,0.37,0.18,0.05,0.15,0.06,0.34,0.08,0.08,0.14,0.28,0.44,0.32,0.03,0.08,0.22,0.81,0.73,0.04,0.0,0.11,0.03,0.24,0.11,0.08,0.17,0.21,0.12,0.02,0.09,0.15,0.13,0.06,0.1,0.24,0.09,0.22,0.88,0.41,0.05,0.37,0.04,0.13,0.08,0.03,0.02,0.23,0.15,0.04,0.08,0.03,0.2,0.17,0.15,0.11,0.31,0.25,0.19,0.04,0.02,0.54,0.2,0.75,0.08,0.11,0.15,0.12,0.04,0.31,0.23,0.29,0.1,0.96,0.23,0.45,0.2,0.59,0.16,0.13,0.18,0.05,0.12,0.32,0.3,0.29,0.09,0.19,0.04,0.09,0.15,0.11,0.05,0.02,0.03,0.31,0.05,0.06,0.41,0.24,0.05,0.27,0.54,0.11,0.22,0.17,0.08,0.18,0.09,0.14,0.32,0.24,0.09,0.22,0.16,0.17,0.06,0.35,0.07,0.07,0.14,0.24,0.21,1.0,0.26,0.06,0.1,0.16,0.17,0.19,0.28,0.12,0.11,0.42,0.2,0.16,0.04,0.06,0.06,0.02,0.12,0.03,0.06,0.17,0.01,0.04,0.26,0.09,0.1,0.01,0.03,0.09,0.03,0.04,0.06,0.09,0.02,0.07,0.1,0.08,0.06,0.07,0.05,0.26,0.03,0.44,0.1,0.04,0.08,0.04,0.23,0.08,0.17,0.13,0.12,0.16,0.19,0.17,0.93,0.03,0.24,0.05,0.14,0.01,0.03,0.71,0.02,0.09,0.18,0.37,0.04,0.04,0.11,0.04,0.12,0.02,0.32,0.03,0.24,0.12,0.33,0.08,0.06,0.05,0.09,0.11,0.03,0.07,0.62,0.28,0.07,0.04,0.2,0.12,0.1,0.12,0.05,0.12,0.02,0.04,0.05,0.19,0.17,0.08,0.09,0.05,1.0,0.23,0.2,0.04,0.04,0.05,0.21,0.05,0.18,0.39,0.17,0.6,0.02,0.1,0.03,0.04,0.03,0.12,0.03,0.22,0.03,1.0,0.02,0.21,0.05,0.06,0.02,0.5,0.08,0.02,0.06,0.03,0.38,0.13,0.05,0.02,0.06,0.65,0.03,0.06,0.01,0.16,1.0,0.07,0.13,0.02,0.09,0.03,0.11,0.18,0.25,0.11,0.05,0.11,0.03,0.05,1.0,0.16,0.04,0.04,0.54,0.08,0.2,0.12,0.09,0.09,0.04,0.04,0.07,0.1,0.04,0.1,0.13,0.03,0.06,0.85,0.1,0.04,0.04,0.02,0.03,0.05,0.03,0.03,0.15,0.03,0.04,0.04,0.16,0.04,0.04,0.05,0.04,0.24,0.13,0.06,0.12,0.18,0.26,0.65,0.06,0.27,0.17,0.18,0.04,0.06,0.1,0.08,0.06,0.09,0.1,0.02,0.04,0.05,0.1,0.19,0.18,0.02,0.04,0.83,0.04,0.04,0.07,0.2,0.28,1.0,1.0,0.51,0.03,0.12,0.12,0.04,0.16,0.08,0.1,0.01,0.17,0.36,0.11,0.12,0.85,0.12,0.34,0.34,0.2,0.22,0.12,0.54,0.66,0.66,0.25,0.6,0.07,0.08,0.0,0.1,0.08,0.43,0.48,0.49,0.12,0.31,0.45,0.3,0.27,0.04,0.38,0.13,0.15,0.87,0.23,0.64,0.59,0.8,0.15,0.82,0.05,0.2,0.04,0.02,0.01,0.06,0.01,0.08,0.2,0.16,0.28,0.11,0.02,0.3,0.05,0.18,0.28,0.35,0.14,0.55,0.0,0.52,0.46,0.26,0.37,0.28,0.26,0.4,0.61,0.11,0.39,0.29,0.21,0.06,0.53,0.3,0.55,0.61,0.6,0.74,0.4,0.37,0.59,0.24,0.91,0.21,0.12,0.51,0.2,0.34,0.22,0.35,0.5,0.46,0.36,0.48,0.2,0.52,0.36,0.65,0.73,0.19,0.23,0.86,0.07,0.42,0.45,0.02,0.02,0.05,0.05,0.05,0.02,0.03,0.04,0.97,0.06,0.0,0.03,0.02,0.45,0.06,0.1,0.09,0.04,0.38,0.03,0.02,0.67,0.14,0.03,0.05,0.04,0.03,0.59,0.07,0.62,0.11,0.16,0.79,0.1,0.1,0.05,0.09,0.01,0.3,0.12,0.05,0.05,0.04,0.04,1.0,0.42,0.13,0.1,0.02,0.19,0.1,0.69,0.32,0.09,0.95,0.14,0.01,0.05,0.05,0.02,0.16,0.09,0.1,0.03,0.08,0.1,0.08,0.14,0.15,0.64,0.06,0.04,0.18,0.05,0.06,0.17,0.07,0.27,0.05,0.04,0.04,0.12,0.02,0.15,0.19,0.03,0.18,0.13,0.05,0.07,0.07,0.01,0.41,0.12,0.11,0.03,0.05,0.03,0.03,0.08,0.12,0.2,0.07,0.03,0.05,0.06,0.11,0.51,0.02,0.05,0.17,0.17,0.2,0.46,0.1,0.17,0.07,0.12,0.16,0.39,0.19,0.1,0.18,0.09,0.47,0.54,0.21,0.48,0.07,0.3,0.18,0.06,0.21,0.09,0.12,0.09,0.14,0.21,0.17,0.57,0.15,0.37,0.05,0.41,0.25,0.12,0.06,0.22,0.07,0.07,0.13,0.1,0.11,0.21,0.22,0.13,0.21,0.27,0.05,0.12,0.09,0.06,0.14,0.07,0.21,0.09,0.07,0.1,0.09,0.22,0.09,0.12,0.1,0.13,0.12,0.08,0.19,0.76,0.11,0.14,0.06,0.1,0.06,0.16,0.13,0.19,0.52,0.53,0.87,0.19,0.05,0.15,0.13,0.03,0.06,0.05,0.04,0.03,0.01,0.17,0.09,0.06,0.05,0.0,0.19,0.03,0.04,0.05,0.29,0.12,0.09,0.07,0.28,0.02,0.03,0.02,0.09,0.05,0.02,0.03,0.03,0.1,0.22,0.04,0.13,0.22,0.12,0.06,0.02,0.03,0.03,0.03,0.01,0.32,0.02,0.19,0.05,0.03,1.0,0.1,0.11,1.0,0.03,0.03,0.02,0.06,0.49,0.03,0.15,0.17,0.06,0.02,0.04,0.35,0.07,0.05,0.07,0.01,0.02,0.12,0.02,0.08,0.03,0.06,0.44,0.03,0.12,0.02,0.12,0.21,0.04,0.06,0.06,0.02,0.13,0.05,0.36,0.03,0.15,0.08,0.06,0.05,0.04,0.09,0.21,0.03,0.1,0.05,0.15,0.04,0.04,0.19,0.03,0.03,0.02,0.18,0.49,0.0,0.22,0.26,0.03,0.03,0.05,0.07,0.04,0.06,0.61,0.17,0.32,0.38,0.06,0.85,0.09,0.2,0.23,0.74,0.76,0.06,0.16,1.0,0.06,0.53,0.29,0.78,0.93,0.6,0.1,0.87,0.07,0.21,0.55,0.69,1.0,0.23,0.72,0.53,0.6,0.63,0.15,0.03,0.07,0.02,0.18,0.12,0.08,0.08,0.08,0.18,0.01,0.35,0.03,0.3,0.24,0.33,0.08,0.7,0.1,0.26,0.12,0.17,0.67,0.38,0.36,0.16,0.17,0.41,0.21,0.06,0.24,0.47,0.81,0.12,0.4,0.28,0.63,0.38,0.25,0.03,0.7,0.14,0.57,0.1,0.24,0.2,0.28,0.64,0.17,0.24,0.17,0.06,0.59,0.34,0.27,0.49,0.13,0.12,0.08,0.28,0.17,0.16,0.14,0.08,0.28,0.11,0.72,0.47,0.03,0.24,0.09,0.09,0.07,0.31,0.14,0.39,0.5,0.07,0.06,0.32,0.36,0.39,0.11,0.25,0.83,0.39,0.18,0.33,0.27,0.14,0.31,0.31,0.11,0.09,0.58,0.27,0.19,0.51,0.72,0.12,0.14,0.01,0.06,0.1,0.09,0.07,0.05,0.39,0.11,1.0,0.14,0.52,0.1,0.04,0.27,0.63,0.23,0.6,0.12,0.28,0.2,0.28,0.29,0.34,0.23,0.19,0.54,0.31,0.48,0.13,0.12,0.29,0.52,0.51,0.21,0.15,0.13,0.13,0.43,0.06,0.11,0.04,0.08,0.19,0.26,0.06,0.21,0.22,0.16,0.23,0.52,0.71,0.11,0.23,0.25,0.29,0.28,0.48,0.03,0.33,0.33,0.11,0.35,0.14,0.08,0.34,0.16,0.29,0.32,0.3,0.3,0.28,0.5,0.29,0.68,0.15,0.33,0.74,0.35,0.07,0.11,0.19,0.06,0.14,0.12,0.1,0.12,0.43,0.2,0.2,0.16,0.31,0.28,0.05,0.32,0.03,0.34,0.11,0.1,0.09,0.02,0.1,0.07,0.07,0.03,0.08,0.08,0.05,0.05,0.07,0.04,0.04,0.11,0.04,0.15,0.06,0.04,0.02,0.2,0.08,0.04,0.04,0.24,0.33,0.25,0.07,0.05,0.06,0.01,0.27,0.14,0.18,0.04,0.06,0.67,0.29,0.54,0.31,0.15,0.29,0.24,0.07,0.12,0.15,0.29,0.28,0.07,0.05,0.19,0.05,0.47,0.16,0.09,0.06,0.35,0.18,0.55,0.12,0.05,0.38,0.1,0.04,0.5,0.25,0.22,0.37,0.76,0.67,0.09,0.22,0.1,0.03,0.12,0.09,0.47,0.14,0.14,0.13,0.12,0.16,0.58,0.09,0.06,0.18,0.09,0.2,0.04,0.26,0.39,0.22,0.08,0.36,0.1,0.09,0.08,0.33,0.23,0.31,0.36,0.04,0.22,0.15,0.22,0.01,0.23,0.15,0.22,0.56,0.09,0.16,0.1,0.13,0.02,0.09,0.03,0.49,0.02,0.06,0.07,0.02,0.01,0.05,0.06,0.22,0.04,0.03,0.05,0.06,0.11,0.03,0.06,0.02,0.06,0.02,0.07,0.05,0.03,0.11,0.13,0.07,0.14,0.1,0.4,0.1,0.03,0.18,0.03,0.17,0.09,0.03,0.08,0.0,0.05,0.34,0.02,0.03,0.07,0.16,0.02,0.02,0.06,0.07,0.03,0.04,0.1,0.03,0.05,0.07,0.04,0.09,0.06,0.01,0.09,0.11,0.06,0.05,0.08,0.06,0.06,0.11,0.15,0.12,0.27],\"sizemode\":\"area\",\"sizeref\":0.0025},\"mode\":\"markers\",\"name\":\"\",\"showlegend\":false,\"subplot\":\"mapbox\",\"type\":\"scattermapbox\"}],                        {\"template\":{\"data\":{\"histogram2dcontour\":[{\"type\":\"histogram2dcontour\",\"colorbar\":{\"outlinewidth\":0,\"ticks\":\"\"},\"colorscale\":[[0.0,\"#0d0887\"],[0.1111111111111111,\"#46039f\"],[0.2222222222222222,\"#7201a8\"],[0.3333333333333333,\"#9c179e\"],[0.4444444444444444,\"#bd3786\"],[0.5555555555555556,\"#d8576b\"],[0.6666666666666666,\"#ed7953\"],[0.7777777777777778,\"#fb9f3a\"],[0.8888888888888888,\"#fdca26\"],[1.0,\"#f0f921\"]]}],\"choropleth\":[{\"type\":\"choropleth\",\"colorbar\":{\"outlinewidth\":0,\"ticks\":\"\"}}],\"histogram2d\":[{\"type\":\"histogram2d\",\"colorbar\":{\"outlinewidth\":0,\"ticks\":\"\"},\"colorscale\":[[0.0,\"#0d0887\"],[0.1111111111111111,\"#46039f\"],[0.2222222222222222,\"#7201a8\"],[0.3333333333333333,\"#9c179e\"],[0.4444444444444444,\"#bd3786\"],[0.5555555555555556,\"#d8576b\"],[0.6666666666666666,\"#ed7953\"],[0.7777777777777778,\"#fb9f3a\"],[0.8888888888888888,\"#fdca26\"],[1.0,\"#f0f921\"]]}],\"heatmap\":[{\"type\":\"heatmap\",\"colorbar\":{\"outlinewidth\":0,\"ticks\":\"\"},\"colorscale\":[[0.0,\"#0d0887\"],[0.1111111111111111,\"#46039f\"],[0.2222222222222222,\"#7201a8\"],[0.3333333333333333,\"#9c179e\"],[0.4444444444444444,\"#bd3786\"],[0.5555555555555556,\"#d8576b\"],[0.6666666666666666,\"#ed7953\"],[0.7777777777777778,\"#fb9f3a\"],[0.8888888888888888,\"#fdca26\"],[1.0,\"#f0f921\"]]}],\"heatmapgl\":[{\"type\":\"heatmapgl\",\"colorbar\":{\"outlinewidth\":0,\"ticks\":\"\"},\"colorscale\":[[0.0,\"#0d0887\"],[0.1111111111111111,\"#46039f\"],[0.2222222222222222,\"#7201a8\"],[0.3333333333333333,\"#9c179e\"],[0.4444444444444444,\"#bd3786\"],[0.5555555555555556,\"#d8576b\"],[0.6666666666666666,\"#ed7953\"],[0.7777777777777778,\"#fb9f3a\"],[0.8888888888888888,\"#fdca26\"],[1.0,\"#f0f921\"]]}],\"contourcarpet\":[{\"type\":\"contourcarpet\",\"colorbar\":{\"outlinewidth\":0,\"ticks\":\"\"}}],\"contour\":[{\"type\":\"contour\",\"colorbar\":{\"outlinewidth\":0,\"ticks\":\"\"},\"colorscale\":[[0.0,\"#0d0887\"],[0.1111111111111111,\"#46039f\"],[0.2222222222222222,\"#7201a8\"],[0.3333333333333333,\"#9c179e\"],[0.4444444444444444,\"#bd3786\"],[0.5555555555555556,\"#d8576b\"],[0.6666666666666666,\"#ed7953\"],[0.7777777777777778,\"#fb9f3a\"],[0.8888888888888888,\"#fdca26\"],[1.0,\"#f0f921\"]]}],\"surface\":[{\"type\":\"surface\",\"colorbar\":{\"outlinewidth\":0,\"ticks\":\"\"},\"colorscale\":[[0.0,\"#0d0887\"],[0.1111111111111111,\"#46039f\"],[0.2222222222222222,\"#7201a8\"],[0.3333333333333333,\"#9c179e\"],[0.4444444444444444,\"#bd3786\"],[0.5555555555555556,\"#d8576b\"],[0.6666666666666666,\"#ed7953\"],[0.7777777777777778,\"#fb9f3a\"],[0.8888888888888888,\"#fdca26\"],[1.0,\"#f0f921\"]]}],\"mesh3d\":[{\"type\":\"mesh3d\",\"colorbar\":{\"outlinewidth\":0,\"ticks\":\"\"}}],\"scatter\":[{\"fillpattern\":{\"fillmode\":\"overlay\",\"size\":10,\"solidity\":0.2},\"type\":\"scatter\"}],\"parcoords\":[{\"type\":\"parcoords\",\"line\":{\"colorbar\":{\"outlinewidth\":0,\"ticks\":\"\"}}}],\"scatterpolargl\":[{\"type\":\"scatterpolargl\",\"marker\":{\"colorbar\":{\"outlinewidth\":0,\"ticks\":\"\"}}}],\"bar\":[{\"error_x\":{\"color\":\"#2a3f5f\"},\"error_y\":{\"color\":\"#2a3f5f\"},\"marker\":{\"line\":{\"color\":\"#E5ECF6\",\"width\":0.5},\"pattern\":{\"fillmode\":\"overlay\",\"size\":10,\"solidity\":0.2}},\"type\":\"bar\"}],\"scattergeo\":[{\"type\":\"scattergeo\",\"marker\":{\"colorbar\":{\"outlinewidth\":0,\"ticks\":\"\"}}}],\"scatterpolar\":[{\"type\":\"scatterpolar\",\"marker\":{\"colorbar\":{\"outlinewidth\":0,\"ticks\":\"\"}}}],\"histogram\":[{\"marker\":{\"pattern\":{\"fillmode\":\"overlay\",\"size\":10,\"solidity\":0.2}},\"type\":\"histogram\"}],\"scattergl\":[{\"type\":\"scattergl\",\"marker\":{\"colorbar\":{\"outlinewidth\":0,\"ticks\":\"\"}}}],\"scatter3d\":[{\"type\":\"scatter3d\",\"line\":{\"colorbar\":{\"outlinewidth\":0,\"ticks\":\"\"}},\"marker\":{\"colorbar\":{\"outlinewidth\":0,\"ticks\":\"\"}}}],\"scattermapbox\":[{\"type\":\"scattermapbox\",\"marker\":{\"colorbar\":{\"outlinewidth\":0,\"ticks\":\"\"}}}],\"scatterternary\":[{\"type\":\"scatterternary\",\"marker\":{\"colorbar\":{\"outlinewidth\":0,\"ticks\":\"\"}}}],\"scattercarpet\":[{\"type\":\"scattercarpet\",\"marker\":{\"colorbar\":{\"outlinewidth\":0,\"ticks\":\"\"}}}],\"carpet\":[{\"aaxis\":{\"endlinecolor\":\"#2a3f5f\",\"gridcolor\":\"white\",\"linecolor\":\"white\",\"minorgridcolor\":\"white\",\"startlinecolor\":\"#2a3f5f\"},\"baxis\":{\"endlinecolor\":\"#2a3f5f\",\"gridcolor\":\"white\",\"linecolor\":\"white\",\"minorgridcolor\":\"white\",\"startlinecolor\":\"#2a3f5f\"},\"type\":\"carpet\"}],\"table\":[{\"cells\":{\"fill\":{\"color\":\"#EBF0F8\"},\"line\":{\"color\":\"white\"}},\"header\":{\"fill\":{\"color\":\"#C8D4E3\"},\"line\":{\"color\":\"white\"}},\"type\":\"table\"}],\"barpolar\":[{\"marker\":{\"line\":{\"color\":\"#E5ECF6\",\"width\":0.5},\"pattern\":{\"fillmode\":\"overlay\",\"size\":10,\"solidity\":0.2}},\"type\":\"barpolar\"}],\"pie\":[{\"automargin\":true,\"type\":\"pie\"}]},\"layout\":{\"autotypenumbers\":\"strict\",\"colorway\":[\"#636efa\",\"#EF553B\",\"#00cc96\",\"#ab63fa\",\"#FFA15A\",\"#19d3f3\",\"#FF6692\",\"#B6E880\",\"#FF97FF\",\"#FECB52\"],\"font\":{\"color\":\"#2a3f5f\"},\"hovermode\":\"closest\",\"hoverlabel\":{\"align\":\"left\"},\"paper_bgcolor\":\"white\",\"plot_bgcolor\":\"#E5ECF6\",\"polar\":{\"bgcolor\":\"#E5ECF6\",\"angularaxis\":{\"gridcolor\":\"white\",\"linecolor\":\"white\",\"ticks\":\"\"},\"radialaxis\":{\"gridcolor\":\"white\",\"linecolor\":\"white\",\"ticks\":\"\"}},\"ternary\":{\"bgcolor\":\"#E5ECF6\",\"aaxis\":{\"gridcolor\":\"white\",\"linecolor\":\"white\",\"ticks\":\"\"},\"baxis\":{\"gridcolor\":\"white\",\"linecolor\":\"white\",\"ticks\":\"\"},\"caxis\":{\"gridcolor\":\"white\",\"linecolor\":\"white\",\"ticks\":\"\"}},\"coloraxis\":{\"colorbar\":{\"outlinewidth\":0,\"ticks\":\"\"}},\"colorscale\":{\"sequential\":[[0.0,\"#0d0887\"],[0.1111111111111111,\"#46039f\"],[0.2222222222222222,\"#7201a8\"],[0.3333333333333333,\"#9c179e\"],[0.4444444444444444,\"#bd3786\"],[0.5555555555555556,\"#d8576b\"],[0.6666666666666666,\"#ed7953\"],[0.7777777777777778,\"#fb9f3a\"],[0.8888888888888888,\"#fdca26\"],[1.0,\"#f0f921\"]],\"sequentialminus\":[[0.0,\"#0d0887\"],[0.1111111111111111,\"#46039f\"],[0.2222222222222222,\"#7201a8\"],[0.3333333333333333,\"#9c179e\"],[0.4444444444444444,\"#bd3786\"],[0.5555555555555556,\"#d8576b\"],[0.6666666666666666,\"#ed7953\"],[0.7777777777777778,\"#fb9f3a\"],[0.8888888888888888,\"#fdca26\"],[1.0,\"#f0f921\"]],\"diverging\":[[0,\"#8e0152\"],[0.1,\"#c51b7d\"],[0.2,\"#de77ae\"],[0.3,\"#f1b6da\"],[0.4,\"#fde0ef\"],[0.5,\"#f7f7f7\"],[0.6,\"#e6f5d0\"],[0.7,\"#b8e186\"],[0.8,\"#7fbc41\"],[0.9,\"#4d9221\"],[1,\"#276419\"]]},\"xaxis\":{\"gridcolor\":\"white\",\"linecolor\":\"white\",\"ticks\":\"\",\"title\":{\"standoff\":15},\"zerolinecolor\":\"white\",\"automargin\":true,\"zerolinewidth\":2},\"yaxis\":{\"gridcolor\":\"white\",\"linecolor\":\"white\",\"ticks\":\"\",\"title\":{\"standoff\":15},\"zerolinecolor\":\"white\",\"automargin\":true,\"zerolinewidth\":2},\"scene\":{\"xaxis\":{\"backgroundcolor\":\"#E5ECF6\",\"gridcolor\":\"white\",\"linecolor\":\"white\",\"showbackground\":true,\"ticks\":\"\",\"zerolinecolor\":\"white\",\"gridwidth\":2},\"yaxis\":{\"backgroundcolor\":\"#E5ECF6\",\"gridcolor\":\"white\",\"linecolor\":\"white\",\"showbackground\":true,\"ticks\":\"\",\"zerolinecolor\":\"white\",\"gridwidth\":2},\"zaxis\":{\"backgroundcolor\":\"#E5ECF6\",\"gridcolor\":\"white\",\"linecolor\":\"white\",\"showbackground\":true,\"ticks\":\"\",\"zerolinecolor\":\"white\",\"gridwidth\":2}},\"shapedefaults\":{\"line\":{\"color\":\"#2a3f5f\"}},\"annotationdefaults\":{\"arrowcolor\":\"#2a3f5f\",\"arrowhead\":0,\"arrowwidth\":1},\"geo\":{\"bgcolor\":\"white\",\"landcolor\":\"#E5ECF6\",\"subunitcolor\":\"white\",\"showland\":true,\"showlakes\":true,\"lakecolor\":\"white\"},\"title\":{\"x\":0.05},\"mapbox\":{\"style\":\"light\"}}},\"mapbox\":{\"domain\":{\"x\":[0.0,1.0],\"y\":[0.0,1.0]},\"center\":{\"lat\":37.96981974583752,\"lon\":-90.26195171611776},\"zoom\":2.5,\"style\":\"open-street-map\"},\"coloraxis\":{\"colorbar\":{\"title\":{\"text\":\"violent_crime_rate\"}},\"colorscale\":[[0,\"orange\"],[1,\"red\"]]},\"legend\":{\"tracegroupgap\":0,\"itemsizing\":\"constant\"},\"margin\":{\"t\":0,\"r\":0,\"l\":0,\"b\":0},\"height\":800,\"width\":800},                        {\"responsive\": true}                    ).then(function(){\n",
       "                            \n",
       "var gd = document.getElementById('e34cbe4f-6cb5-4e2e-8345-e76f1e3888cb');\n",
       "var x = new MutationObserver(function (mutations, observer) {{\n",
       "        var display = window.getComputedStyle(gd).display;\n",
       "        if (!display || display === 'none') {{\n",
       "            console.log([gd, 'removed!']);\n",
       "            Plotly.purge(gd);\n",
       "            observer.disconnect();\n",
       "        }}\n",
       "}});\n",
       "\n",
       "// Listen for the removal of the full notebook cells\n",
       "var notebookContainer = gd.closest('#notebook-container');\n",
       "if (notebookContainer) {{\n",
       "    x.observe(notebookContainer, {childList: true});\n",
       "}}\n",
       "\n",
       "// Listen for the clearing of the current output cell\n",
       "var outputEl = gd.closest('.output');\n",
       "if (outputEl) {{\n",
       "    x.observe(outputEl, {childList: true});\n",
       "}}\n",
       "\n",
       "                        })                };                });            </script>        </div>"
      ]
     },
     "metadata": {},
     "output_type": "display_data"
    }
   ],
   "source": [
    "color_scale = [(0, 'orange'), (1,'red')]\n",
    "\n",
    "fig = px.scatter_mapbox(df, \n",
    "                        lat=\"latitude\", \n",
    "                        lon=\"longitude\", \n",
    "                        hover_name=\"state\", \n",
    "                        hover_data=[\"state\", \"area\"],\n",
    "                        color=\"violent_crime_rate\",\n",
    "                        color_continuous_scale=color_scale,\n",
    "                        size=\"violent_crime_rate\",\n",
    "                        zoom=2.5, \n",
    "                        height=800,\n",
    "                        width=800)\n",
    "\n",
    "fig.update_layout(mapbox_style=\"open-street-map\")\n",
    "fig.update_layout(margin={\"r\":0,\"t\":0,\"l\":0,\"b\":0})\n",
    "fig.show()"
   ]
  },
  {
   "cell_type": "code",
   "execution_count": 15,
   "metadata": {},
   "outputs": [
    {
     "data": {
      "text/html": [
       "<div>\n",
       "<style scoped>\n",
       "    .dataframe tbody tr th:only-of-type {\n",
       "        vertical-align: middle;\n",
       "    }\n",
       "\n",
       "    .dataframe tbody tr th {\n",
       "        vertical-align: top;\n",
       "    }\n",
       "\n",
       "    .dataframe thead th {\n",
       "        text-align: right;\n",
       "    }\n",
       "</style>\n",
       "<table border=\"1\" class=\"dataframe\">\n",
       "  <thead>\n",
       "    <tr style=\"text-align: right;\">\n",
       "      <th></th>\n",
       "      <th>area</th>\n",
       "      <th>type</th>\n",
       "      <th>state</th>\n",
       "      <th>latitude</th>\n",
       "      <th>longitude</th>\n",
       "      <th>fold</th>\n",
       "      <th>population</th>\n",
       "      <th>householdsize</th>\n",
       "      <th>racepctblack</th>\n",
       "      <th>racePctWhite</th>\n",
       "      <th>...</th>\n",
       "      <th>PolicOperBudg</th>\n",
       "      <th>LemasPctPolicOnPatr</th>\n",
       "      <th>LemasGangUnitDeploy</th>\n",
       "      <th>LemasPctOfficDrugUn</th>\n",
       "      <th>PolicBudgPerPop</th>\n",
       "      <th>violent_crime_rate</th>\n",
       "      <th>stname</th>\n",
       "      <th>st</th>\n",
       "      <th>stusps</th>\n",
       "      <th>geometry</th>\n",
       "    </tr>\n",
       "  </thead>\n",
       "  <tbody>\n",
       "    <tr>\n",
       "      <th>0</th>\n",
       "      <td>Sheffield</td>\n",
       "      <td>city</td>\n",
       "      <td>Alabama</td>\n",
       "      <td>34.765089</td>\n",
       "      <td>-87.698641</td>\n",
       "      <td>2</td>\n",
       "      <td>0.00</td>\n",
       "      <td>0.31</td>\n",
       "      <td>0.46</td>\n",
       "      <td>0.63</td>\n",
       "      <td>...</td>\n",
       "      <td>NaN</td>\n",
       "      <td>NaN</td>\n",
       "      <td>NaN</td>\n",
       "      <td>0.0</td>\n",
       "      <td>NaN</td>\n",
       "      <td>0.10</td>\n",
       "      <td>Alabama</td>\n",
       "      <td>1</td>\n",
       "      <td>AL</td>\n",
       "      <td>POINT (-87.69864 34.76509)</td>\n",
       "    </tr>\n",
       "    <tr>\n",
       "      <th>1</th>\n",
       "      <td>Auburn</td>\n",
       "      <td>city</td>\n",
       "      <td>Alabama</td>\n",
       "      <td>32.609857</td>\n",
       "      <td>-85.480783</td>\n",
       "      <td>1</td>\n",
       "      <td>0.04</td>\n",
       "      <td>0.37</td>\n",
       "      <td>0.32</td>\n",
       "      <td>0.70</td>\n",
       "      <td>...</td>\n",
       "      <td>NaN</td>\n",
       "      <td>NaN</td>\n",
       "      <td>NaN</td>\n",
       "      <td>0.0</td>\n",
       "      <td>NaN</td>\n",
       "      <td>0.15</td>\n",
       "      <td>Alabama</td>\n",
       "      <td>1</td>\n",
       "      <td>AL</td>\n",
       "      <td>POINT (-85.48078 32.60986)</td>\n",
       "    </tr>\n",
       "    <tr>\n",
       "      <th>2</th>\n",
       "      <td>Daphne</td>\n",
       "      <td>city</td>\n",
       "      <td>Alabama</td>\n",
       "      <td>30.603525</td>\n",
       "      <td>-87.903605</td>\n",
       "      <td>7</td>\n",
       "      <td>0.00</td>\n",
       "      <td>0.39</td>\n",
       "      <td>0.31</td>\n",
       "      <td>0.75</td>\n",
       "      <td>...</td>\n",
       "      <td>NaN</td>\n",
       "      <td>NaN</td>\n",
       "      <td>NaN</td>\n",
       "      <td>0.0</td>\n",
       "      <td>NaN</td>\n",
       "      <td>0.05</td>\n",
       "      <td>Alabama</td>\n",
       "      <td>1</td>\n",
       "      <td>AL</td>\n",
       "      <td>POINT (-87.90360 30.60353)</td>\n",
       "    </tr>\n",
       "  </tbody>\n",
       "</table>\n",
       "<p>3 rows × 133 columns</p>\n",
       "</div>"
      ],
      "text/plain": [
       "        area  type    state   latitude  longitude  fold  population  \\\n",
       "0  Sheffield  city  Alabama  34.765089 -87.698641     2        0.00   \n",
       "1     Auburn  city  Alabama  32.609857 -85.480783     1        0.04   \n",
       "2     Daphne  city  Alabama  30.603525 -87.903605     7        0.00   \n",
       "\n",
       "   householdsize  racepctblack  racePctWhite  ...  PolicOperBudg  \\\n",
       "0           0.31          0.46          0.63  ...            NaN   \n",
       "1           0.37          0.32          0.70  ...            NaN   \n",
       "2           0.39          0.31          0.75  ...            NaN   \n",
       "\n",
       "   LemasPctPolicOnPatr  LemasGangUnitDeploy  LemasPctOfficDrugUn  \\\n",
       "0                  NaN                  NaN                  0.0   \n",
       "1                  NaN                  NaN                  0.0   \n",
       "2                  NaN                  NaN                  0.0   \n",
       "\n",
       "   PolicBudgPerPop  violent_crime_rate   stname   st   stusps  \\\n",
       "0              NaN                0.10  Alabama    1       AL   \n",
       "1              NaN                0.15  Alabama    1       AL   \n",
       "2              NaN                0.05  Alabama    1       AL   \n",
       "\n",
       "                     geometry  \n",
       "0  POINT (-87.69864 34.76509)  \n",
       "1  POINT (-85.48078 32.60986)  \n",
       "2  POINT (-87.90360 30.60353)  \n",
       "\n",
       "[3 rows x 133 columns]"
      ]
     },
     "execution_count": 15,
     "metadata": {},
     "output_type": "execute_result"
    }
   ],
   "source": [
    "gdf.head(3)"
   ]
  },
  {
   "cell_type": "code",
   "execution_count": 29,
   "metadata": {},
   "outputs": [
    {
     "data": {
      "application/vnd.plotly.v1+json": {
       "config": {
        "plotlyServerURL": "https://plot.ly"
       },
       "data": [
        {
         "coloraxis": "coloraxis",
         "geo": "geo",
         "hovertemplate": "code=%{location}<br>violent_crime_rate=%{z}<extra></extra>",
         "locationmode": "USA-states",
         "locations": [
          " AL",
          " AL",
          " AL",
          " AL",
          " AL",
          " AL",
          " AL",
          " AL",
          " AL",
          " AL",
          " AL",
          " AL",
          " AL",
          " AL",
          " AL",
          " AL",
          " AL",
          " AL",
          " AL",
          " AL",
          " AL",
          " AL",
          " AL",
          " AL",
          " AL",
          " AL",
          " AL",
          " AL",
          " AL",
          " AL",
          " AL",
          " AL",
          " AL",
          " AL",
          " AL",
          " AL",
          " AL",
          " AL",
          " AL",
          " AL",
          " AL",
          " AL",
          " AL",
          " AK",
          " AK",
          " AK",
          " AZ",
          " AZ",
          " AZ",
          " AZ",
          " AZ",
          " AZ",
          " AZ",
          " AZ",
          " AZ",
          " AZ",
          " AZ",
          " AZ",
          " AZ",
          " AZ",
          " AZ",
          " AZ",
          " AZ",
          " AZ",
          " AZ",
          " AZ",
          " AR",
          " AR",
          " AR",
          " AR",
          " AR",
          " AR",
          " AR",
          " AR",
          " AR",
          " AR",
          " AR",
          " AR",
          " AR",
          " AR",
          " AR",
          " AR",
          " AR",
          " AR",
          " AR",
          " AR",
          " AR",
          " AR",
          " AR",
          " AR",
          " AR",
          " CA",
          " CA",
          " CA",
          " CA",
          " CA",
          " CA",
          " CA",
          " CA",
          " CA",
          " CA",
          " CA",
          " CA",
          " CA",
          " CA",
          " CA",
          " CA",
          " CA",
          " CA",
          " CA",
          " CA",
          " CA",
          " CA",
          " CA",
          " CA",
          " CA",
          " CA",
          " CA",
          " CA",
          " CA",
          " CA",
          " CA",
          " CA",
          " CA",
          " CA",
          " CA",
          " CA",
          " CA",
          " CA",
          " CA",
          " CA",
          " CA",
          " CA",
          " CA",
          " CA",
          " CA",
          " CA",
          " CA",
          " CA",
          " CA",
          " CA",
          " CA",
          " CA",
          " CA",
          " CA",
          " CA",
          " CA",
          " CA",
          " CA",
          " CA",
          " CA",
          " CA",
          " CA",
          " CA",
          " CA",
          " CA",
          " CA",
          " CA",
          " CA",
          " CA",
          " CA",
          " CA",
          " CA",
          " CA",
          " CA",
          " CA",
          " CA",
          " CA",
          " CA",
          " CA",
          " CA",
          " CA",
          " CA",
          " CA",
          " CA",
          " CA",
          " CA",
          " CA",
          " CA",
          " CA",
          " CA",
          " CA",
          " CA",
          " CA",
          " CA",
          " CA",
          " CA",
          " CA",
          " CA",
          " CA",
          " CA",
          " CA",
          " CA",
          " CA",
          " CA",
          " CA",
          " CA",
          " CA",
          " CA",
          " CA",
          " CA",
          " CA",
          " CA",
          " CA",
          " CA",
          " CA",
          " CA",
          " CA",
          " CA",
          " CA",
          " CA",
          " CA",
          " CA",
          " CA",
          " CA",
          " CA",
          " CA",
          " CA",
          " CA",
          " CA",
          " CA",
          " CA",
          " CA",
          " CA",
          " CA",
          " CA",
          " CA",
          " CA",
          " CA",
          " CA",
          " CA",
          " CA",
          " CA",
          " CA",
          " CA",
          " CA",
          " CA",
          " CA",
          " CA",
          " CA",
          " CA",
          " CA",
          " CA",
          " CA",
          " CA",
          " CA",
          " CA",
          " CA",
          " CA",
          " CA",
          " CA",
          " CA",
          " CA",
          " CA",
          " CA",
          " CA",
          " CA",
          " CA",
          " CA",
          " CA",
          " CA",
          " CA",
          " CA",
          " CA",
          " CA",
          " CA",
          " CA",
          " CA",
          " CA",
          " CA",
          " CA",
          " CA",
          " CA",
          " CA",
          " CA",
          " CA",
          " CA",
          " CA",
          " CA",
          " CA",
          " CA",
          " CA",
          " CA",
          " CA",
          " CA",
          " CA",
          " CA",
          " CA",
          " CA",
          " CA",
          " CA",
          " CA",
          " CA",
          " CA",
          " CA",
          " CA",
          " CA",
          " CA",
          " CA",
          " CA",
          " CA",
          " CA",
          " CA",
          " CA",
          " CA",
          " CA",
          " CA",
          " CA",
          " CA",
          " CA",
          " CA",
          " CA",
          " CA",
          " CA",
          " CA",
          " CA",
          " CA",
          " CA",
          " CA",
          " CA",
          " CA",
          " CA",
          " CA",
          " CA",
          " CA",
          " CA",
          " CA",
          " CA",
          " CA",
          " CA",
          " CA",
          " CA",
          " CA",
          " CA",
          " CA",
          " CA",
          " CA",
          " CA",
          " CA",
          " CA",
          " CA",
          " CA",
          " CA",
          " CA",
          " CA",
          " CA",
          " CA",
          " CA",
          " CA",
          " CA",
          " CA",
          " CA",
          " CA",
          " CA",
          " CA",
          " CA",
          " CA",
          " CA",
          " CA",
          " CA",
          " CA",
          " CA",
          " CA",
          " CA",
          " CA",
          " CA",
          " CA",
          " CA",
          " CA",
          " CO",
          " CO",
          " CO",
          " CO",
          " CO",
          " CO",
          " CO",
          " CO",
          " CO",
          " CO",
          " CO",
          " CO",
          " CO",
          " CO",
          " CO",
          " CO",
          " CO",
          " CO",
          " CO",
          " CO",
          " CO",
          " CO",
          " CO",
          " CO",
          " CO",
          " CT",
          " CT",
          " CT",
          " CT",
          " CT",
          " CT",
          " CT",
          " CT",
          " CT",
          " CT",
          " CT",
          " CT",
          " CT",
          " CT",
          " CT",
          " CT",
          " CT",
          " CT",
          " CT",
          " CT",
          " CT",
          " CT",
          " CT",
          " CT",
          " CT",
          " CT",
          " CT",
          " CT",
          " CT",
          " CT",
          " CT",
          " CT",
          " CT",
          " CT",
          " CT",
          " CT",
          " CT",
          " CT",
          " CT",
          " CT",
          " CT",
          " CT",
          " CT",
          " CT",
          " CT",
          " CT",
          " CT",
          " CT",
          " CT",
          " CT",
          " CT",
          " CT",
          " CT",
          " CT",
          " CT",
          " CT",
          " CT",
          " CT",
          " CT",
          " CT",
          " CT",
          " CT",
          " CT",
          " CT",
          " CT",
          " CT",
          " CT",
          " CT",
          " CT",
          " DE",
          " DC",
          " FL",
          " FL",
          " FL",
          " FL",
          " FL",
          " FL",
          " FL",
          " FL",
          " FL",
          " FL",
          " FL",
          " FL",
          " FL",
          " FL",
          " FL",
          " FL",
          " FL",
          " FL",
          " FL",
          " FL",
          " FL",
          " FL",
          " FL",
          " FL",
          " FL",
          " FL",
          " FL",
          " FL",
          " FL",
          " FL",
          " FL",
          " FL",
          " FL",
          " FL",
          " FL",
          " FL",
          " FL",
          " FL",
          " FL",
          " FL",
          " FL",
          " FL",
          " FL",
          " FL",
          " FL",
          " FL",
          " FL",
          " FL",
          " FL",
          " FL",
          " FL",
          " FL",
          " FL",
          " FL",
          " FL",
          " FL",
          " FL",
          " FL",
          " FL",
          " FL",
          " FL",
          " FL",
          " FL",
          " FL",
          " FL",
          " FL",
          " FL",
          " FL",
          " FL",
          " FL",
          " FL",
          " FL",
          " FL",
          " FL",
          " FL",
          " FL",
          " FL",
          " FL",
          " FL",
          " FL",
          " FL",
          " FL",
          " FL",
          " FL",
          " FL",
          " FL",
          " FL",
          " FL",
          " FL",
          " FL",
          " GA",
          " GA",
          " GA",
          " GA",
          " GA",
          " GA",
          " GA",
          " GA",
          " GA",
          " GA",
          " GA",
          " GA",
          " GA",
          " GA",
          " GA",
          " GA",
          " GA",
          " GA",
          " GA",
          " GA",
          " GA",
          " GA",
          " GA",
          " GA",
          " GA",
          " GA",
          " GA",
          " GA",
          " GA",
          " GA",
          " GA",
          " GA",
          " GA",
          " GA",
          " GA",
          " GA",
          " GA",
          " ID",
          " ID",
          " ID",
          " ID",
          " ID",
          " ID",
          " ID",
          " IN",
          " IN",
          " IN",
          " IN",
          " IN",
          " IN",
          " IN",
          " IN",
          " IN",
          " IN",
          " IN",
          " IN",
          " IN",
          " IN",
          " IN",
          " IN",
          " IN",
          " IN",
          " IN",
          " IN",
          " IN",
          " IN",
          " IN",
          " IN",
          " IN",
          " IN",
          " IN",
          " IN",
          " IN",
          " IN",
          " IN",
          " IN",
          " IN",
          " IN",
          " IN",
          " IN",
          " IN",
          " IN",
          " IN",
          " IN",
          " IN",
          " IN",
          " IN",
          " IN",
          " IN",
          " IN",
          " IN",
          " IN",
          " IA",
          " IA",
          " IA",
          " IA",
          " IA",
          " IA",
          " IA",
          " IA",
          " IA",
          " IA",
          " IA",
          " IA",
          " IA",
          " IA",
          " IA",
          " IA",
          " IA",
          " IA",
          " IA",
          " IA",
          " KS",
          " KY",
          " KY",
          " KY",
          " KY",
          " KY",
          " KY",
          " KY",
          " KY",
          " KY",
          " KY",
          " KY",
          " KY",
          " KY",
          " KY",
          " KY",
          " KY",
          " KY",
          " KY",
          " KY",
          " KY",
          " KY",
          " KY",
          " KY",
          " KY",
          " KY",
          " KY",
          " LA",
          " LA",
          " LA",
          " LA",
          " LA",
          " LA",
          " LA",
          " LA",
          " LA",
          " LA",
          " LA",
          " LA",
          " LA",
          " LA",
          " LA",
          " LA",
          " LA",
          " LA",
          " LA",
          " LA",
          " LA",
          " LA",
          " ME",
          " ME",
          " ME",
          " ME",
          " ME",
          " ME",
          " ME",
          " ME",
          " ME",
          " ME",
          " ME",
          " ME",
          " ME",
          " ME",
          " ME",
          " ME",
          " ME",
          " MD",
          " MD",
          " MD",
          " MD",
          " MD",
          " MD",
          " MD",
          " MD",
          " MD",
          " MD",
          " MD",
          " MD",
          " MA",
          " MA",
          " MA",
          " MA",
          " MA",
          " MA",
          " MA",
          " MA",
          " MA",
          " MA",
          " MA",
          " MA",
          " MA",
          " MA",
          " MA",
          " MA",
          " MA",
          " MA",
          " MA",
          " MA",
          " MA",
          " MA",
          " MA",
          " MA",
          " MA",
          " MA",
          " MA",
          " MA",
          " MA",
          " MA",
          " MA",
          " MA",
          " MA",
          " MA",
          " MA",
          " MA",
          " MA",
          " MA",
          " MA",
          " MA",
          " MA",
          " MA",
          " MA",
          " MA",
          " MA",
          " MA",
          " MA",
          " MA",
          " MA",
          " MA",
          " MA",
          " MA",
          " MA",
          " MA",
          " MA",
          " MA",
          " MA",
          " MA",
          " MA",
          " MA",
          " MA",
          " MA",
          " MA",
          " MA",
          " MA",
          " MA",
          " MA",
          " MA",
          " MA",
          " MA",
          " MA",
          " MA",
          " MA",
          " MA",
          " MA",
          " MA",
          " MA",
          " MA",
          " MA",
          " MA",
          " MA",
          " MA",
          " MA",
          " MA",
          " MA",
          " MA",
          " MA",
          " MA",
          " MA",
          " MA",
          " MA",
          " MA",
          " MA",
          " MA",
          " MA",
          " MA",
          " MA",
          " MA",
          " MA",
          " MA",
          " MA",
          " MA",
          " MA",
          " MA",
          " MA",
          " MA",
          " MA",
          " MA",
          " MA",
          " MA",
          " MA",
          " MA",
          " MA",
          " MA",
          " MA",
          " MA",
          " MA",
          " MA",
          " MA",
          " MA",
          " MA",
          " MN",
          " MN",
          " MN",
          " MN",
          " MN",
          " MN",
          " MN",
          " MS",
          " MS",
          " MS",
          " MS",
          " MS",
          " MS",
          " MS",
          " MS",
          " MS",
          " MS",
          " MS",
          " MS",
          " MS",
          " MS",
          " MS",
          " MS",
          " MS",
          " MS",
          " MS",
          " MO",
          " MO",
          " MO",
          " MO",
          " MO",
          " MO",
          " MO",
          " MO",
          " MO",
          " MO",
          " MO",
          " MO",
          " MO",
          " MO",
          " MO",
          " MO",
          " MO",
          " MO",
          " MO",
          " MO",
          " MO",
          " MO",
          " MO",
          " MO",
          " MO",
          " MO",
          " MO",
          " MO",
          " MO",
          " MO",
          " MO",
          " MO",
          " MO",
          " MO",
          " MO",
          " MO",
          " MO",
          " MO",
          " MO",
          " MO",
          " MO",
          " MO",
          " NV",
          " NV",
          " NV",
          " NV",
          " NV",
          " NH",
          " NH",
          " NH",
          " NH",
          " NH",
          " NH",
          " NH",
          " NH",
          " NH",
          " NH",
          " NH",
          " NH",
          " NH",
          " NH",
          " NH",
          " NH",
          " NH",
          " NH",
          " NH",
          " NH",
          " NH",
          " NJ",
          " NJ",
          " NJ",
          " NJ",
          " NJ",
          " NJ",
          " NJ",
          " NJ",
          " NJ",
          " NJ",
          " NJ",
          " NJ",
          " NJ",
          " NJ",
          " NJ",
          " NJ",
          " NJ",
          " NJ",
          " NJ",
          " NJ",
          " NJ",
          " NJ",
          " NJ",
          " NJ",
          " NJ",
          " NJ",
          " NJ",
          " NJ",
          " NJ",
          " NJ",
          " NJ",
          " NJ",
          " NJ",
          " NJ",
          " NJ",
          " NJ",
          " NJ",
          " NJ",
          " NJ",
          " NJ",
          " NJ",
          " NJ",
          " NJ",
          " NJ",
          " NJ",
          " NJ",
          " NJ",
          " NJ",
          " NJ",
          " NJ",
          " NJ",
          " NJ",
          " NJ",
          " NJ",
          " NJ",
          " NJ",
          " NJ",
          " NJ",
          " NJ",
          " NJ",
          " NJ",
          " NJ",
          " NJ",
          " NJ",
          " NJ",
          " NJ",
          " NJ",
          " NJ",
          " NJ",
          " NJ",
          " NJ",
          " NJ",
          " NJ",
          " NJ",
          " NJ",
          " NJ",
          " NJ",
          " NJ",
          " NJ",
          " NJ",
          " NJ",
          " NJ",
          " NJ",
          " NJ",
          " NJ",
          " NJ",
          " NJ",
          " NJ",
          " NJ",
          " NJ",
          " NJ",
          " NJ",
          " NJ",
          " NJ",
          " NJ",
          " NJ",
          " NJ",
          " NJ",
          " NJ",
          " NJ",
          " NJ",
          " NJ",
          " NJ",
          " NJ",
          " NJ",
          " NJ",
          " NJ",
          " NJ",
          " NJ",
          " NJ",
          " NJ",
          " NJ",
          " NJ",
          " NJ",
          " NJ",
          " NJ",
          " NJ",
          " NJ",
          " NJ",
          " NJ",
          " NJ",
          " NJ",
          " NJ",
          " NJ",
          " NJ",
          " NJ",
          " NJ",
          " NJ",
          " NJ",
          " NJ",
          " NJ",
          " NJ",
          " NJ",
          " NJ",
          " NJ",
          " NJ",
          " NJ",
          " NJ",
          " NJ",
          " NJ",
          " NJ",
          " NJ",
          " NJ",
          " NJ",
          " NJ",
          " NJ",
          " NJ",
          " NJ",
          " NJ",
          " NJ",
          " NJ",
          " NJ",
          " NJ",
          " NJ",
          " NJ",
          " NJ",
          " NJ",
          " NJ",
          " NJ",
          " NJ",
          " NJ",
          " NJ",
          " NJ",
          " NJ",
          " NJ",
          " NJ",
          " NJ",
          " NJ",
          " NJ",
          " NJ",
          " NJ",
          " NJ",
          " NJ",
          " NJ",
          " NJ",
          " NJ",
          " NJ",
          " NJ",
          " NJ",
          " NJ",
          " NJ",
          " NJ",
          " NJ",
          " NJ",
          " NJ",
          " NJ",
          " NJ",
          " NJ",
          " NJ",
          " NJ",
          " NJ",
          " NJ",
          " NJ",
          " NJ",
          " NJ",
          " NJ",
          " NJ",
          " NJ",
          " NJ",
          " NJ",
          " NJ",
          " NJ",
          " NJ",
          " NJ",
          " NJ",
          " NJ",
          " NJ",
          " NJ",
          " NJ",
          " NJ",
          " NJ",
          " NM",
          " NM",
          " NM",
          " NM",
          " NM",
          " NM",
          " NM",
          " NM",
          " NM",
          " NM",
          " NY",
          " NY",
          " NY",
          " NY",
          " NY",
          " NY",
          " NY",
          " NY",
          " NY",
          " NY",
          " NY",
          " NY",
          " NY",
          " NY",
          " NY",
          " NY",
          " NY",
          " NY",
          " NY",
          " NY",
          " NY",
          " NY",
          " NY",
          " NY",
          " NY",
          " NY",
          " NY",
          " NY",
          " NY",
          " NY",
          " NY",
          " NY",
          " NY",
          " NY",
          " NY",
          " NY",
          " NY",
          " NY",
          " NY",
          " NY",
          " NY",
          " NY",
          " NY",
          " NY",
          " NY",
          " NY",
          " NC",
          " NC",
          " NC",
          " NC",
          " NC",
          " NC",
          " NC",
          " NC",
          " NC",
          " NC",
          " NC",
          " NC",
          " NC",
          " NC",
          " NC",
          " NC",
          " NC",
          " NC",
          " NC",
          " NC",
          " NC",
          " NC",
          " NC",
          " NC",
          " NC",
          " NC",
          " NC",
          " NC",
          " NC",
          " NC",
          " NC",
          " NC",
          " NC",
          " NC",
          " NC",
          " NC",
          " NC",
          " NC",
          " NC",
          " NC",
          " NC",
          " NC",
          " NC",
          " NC",
          " NC",
          " NC",
          " ND",
          " ND",
          " ND",
          " ND",
          " ND",
          " ND",
          " ND",
          " ND",
          " OH",
          " OH",
          " OH",
          " OH",
          " OH",
          " OH",
          " OH",
          " OH",
          " OH",
          " OH",
          " OH",
          " OH",
          " OH",
          " OH",
          " OH",
          " OH",
          " OH",
          " OH",
          " OH",
          " OH",
          " OH",
          " OH",
          " OH",
          " OH",
          " OH",
          " OH",
          " OH",
          " OH",
          " OH",
          " OH",
          " OH",
          " OH",
          " OH",
          " OH",
          " OH",
          " OH",
          " OH",
          " OH",
          " OH",
          " OH",
          " OH",
          " OH",
          " OH",
          " OH",
          " OH",
          " OH",
          " OH",
          " OH",
          " OH",
          " OH",
          " OH",
          " OH",
          " OH",
          " OH",
          " OH",
          " OH",
          " OH",
          " OH",
          " OH",
          " OH",
          " OH",
          " OH",
          " OH",
          " OH",
          " OH",
          " OH",
          " OH",
          " OH",
          " OH",
          " OH",
          " OH",
          " OH",
          " OH",
          " OH",
          " OH",
          " OH",
          " OH",
          " OH",
          " OH",
          " OH",
          " OH",
          " OH",
          " OH",
          " OH",
          " OH",
          " OH",
          " OH",
          " OH",
          " OH",
          " OH",
          " OH",
          " OH",
          " OH",
          " OH",
          " OH",
          " OH",
          " OH",
          " OH",
          " OH",
          " OH",
          " OH",
          " OH",
          " OH",
          " OH",
          " OH",
          " OH",
          " OH",
          " OH",
          " OH",
          " OK",
          " OK",
          " OK",
          " OK",
          " OK",
          " OK",
          " OK",
          " OK",
          " OK",
          " OK",
          " OK",
          " OK",
          " OK",
          " OK",
          " OK",
          " OK",
          " OK",
          " OK",
          " OK",
          " OK",
          " OK",
          " OK",
          " OK",
          " OK",
          " OK",
          " OK",
          " OK",
          " OK",
          " OK",
          " OK",
          " OK",
          " OK",
          " OK",
          " OK",
          " OK",
          " OK",
          " OR",
          " OR",
          " OR",
          " OR",
          " OR",
          " OR",
          " OR",
          " OR",
          " OR",
          " OR",
          " OR",
          " OR",
          " OR",
          " OR",
          " OR",
          " OR",
          " OR",
          " OR",
          " OR",
          " OR",
          " OR",
          " OR",
          " OR",
          " OR",
          " OR",
          " OR",
          " OR",
          " OR",
          " OR",
          " OR",
          " OR",
          " PA",
          " PA",
          " PA",
          " PA",
          " PA",
          " PA",
          " PA",
          " PA",
          " PA",
          " PA",
          " PA",
          " PA",
          " PA",
          " PA",
          " PA",
          " PA",
          " PA",
          " PA",
          " PA",
          " PA",
          " PA",
          " PA",
          " PA",
          " PA",
          " PA",
          " PA",
          " PA",
          " PA",
          " PA",
          " PA",
          " PA",
          " PA",
          " PA",
          " PA",
          " PA",
          " PA",
          " PA",
          " PA",
          " PA",
          " PA",
          " PA",
          " PA",
          " PA",
          " PA",
          " PA",
          " PA",
          " PA",
          " PA",
          " PA",
          " PA",
          " PA",
          " PA",
          " PA",
          " PA",
          " PA",
          " PA",
          " PA",
          " PA",
          " PA",
          " PA",
          " PA",
          " PA",
          " PA",
          " PA",
          " PA",
          " PA",
          " PA",
          " PA",
          " PA",
          " PA",
          " PA",
          " PA",
          " PA",
          " PA",
          " PA",
          " PA",
          " PA",
          " PA",
          " PA",
          " PA",
          " PA",
          " PA",
          " PA",
          " PA",
          " PA",
          " PA",
          " PA",
          " PA",
          " PA",
          " PA",
          " PA",
          " PA",
          " PA",
          " PA",
          " PA",
          " PA",
          " PA",
          " PA",
          " PA",
          " PA",
          " PA",
          " RI",
          " RI",
          " RI",
          " RI",
          " RI",
          " RI",
          " RI",
          " RI",
          " RI",
          " RI",
          " RI",
          " RI",
          " RI",
          " RI",
          " RI",
          " RI",
          " RI",
          " RI",
          " RI",
          " RI",
          " RI",
          " RI",
          " RI",
          " RI",
          " RI",
          " RI",
          " SC",
          " SC",
          " SC",
          " SC",
          " SC",
          " SC",
          " SC",
          " SC",
          " SC",
          " SC",
          " SC",
          " SC",
          " SC",
          " SC",
          " SC",
          " SC",
          " SC",
          " SC",
          " SC",
          " SC",
          " SC",
          " SC",
          " SC",
          " SC",
          " SC",
          " SC",
          " SC",
          " SC",
          " SD",
          " SD",
          " SD",
          " SD",
          " SD",
          " SD",
          " SD",
          " SD",
          " SD",
          " TN",
          " TN",
          " TN",
          " TN",
          " TN",
          " TN",
          " TN",
          " TN",
          " TN",
          " TN",
          " TN",
          " TN",
          " TN",
          " TN",
          " TN",
          " TN",
          " TN",
          " TN",
          " TN",
          " TN",
          " TN",
          " TN",
          " TN",
          " TN",
          " TN",
          " TN",
          " TN",
          " TN",
          " TN",
          " TN",
          " TN",
          " TN",
          " TN",
          " TN",
          " TN",
          " TX",
          " TX",
          " TX",
          " TX",
          " TX",
          " TX",
          " TX",
          " TX",
          " TX",
          " TX",
          " TX",
          " TX",
          " TX",
          " TX",
          " TX",
          " TX",
          " TX",
          " TX",
          " TX",
          " TX",
          " TX",
          " TX",
          " TX",
          " TX",
          " TX",
          " TX",
          " TX",
          " TX",
          " TX",
          " TX",
          " TX",
          " TX",
          " TX",
          " TX",
          " TX",
          " TX",
          " TX",
          " TX",
          " TX",
          " TX",
          " TX",
          " TX",
          " TX",
          " TX",
          " TX",
          " TX",
          " TX",
          " TX",
          " TX",
          " TX",
          " TX",
          " TX",
          " TX",
          " TX",
          " TX",
          " TX",
          " TX",
          " TX",
          " TX",
          " TX",
          " TX",
          " TX",
          " TX",
          " TX",
          " TX",
          " TX",
          " TX",
          " TX",
          " TX",
          " TX",
          " TX",
          " TX",
          " TX",
          " TX",
          " TX",
          " TX",
          " TX",
          " TX",
          " TX",
          " TX",
          " TX",
          " TX",
          " TX",
          " TX",
          " TX",
          " TX",
          " TX",
          " TX",
          " TX",
          " TX",
          " TX",
          " TX",
          " TX",
          " TX",
          " TX",
          " TX",
          " TX",
          " TX",
          " TX",
          " TX",
          " TX",
          " TX",
          " TX",
          " TX",
          " TX",
          " TX",
          " TX",
          " TX",
          " TX",
          " TX",
          " TX",
          " TX",
          " TX",
          " TX",
          " TX",
          " TX",
          " TX",
          " TX",
          " TX",
          " TX",
          " TX",
          " TX",
          " TX",
          " TX",
          " TX",
          " TX",
          " TX",
          " TX",
          " TX",
          " TX",
          " TX",
          " TX",
          " TX",
          " TX",
          " TX",
          " TX",
          " TX",
          " TX",
          " TX",
          " TX",
          " TX",
          " TX",
          " TX",
          " TX",
          " TX",
          " TX",
          " TX",
          " TX",
          " TX",
          " TX",
          " TX",
          " TX",
          " TX",
          " TX",
          " TX",
          " TX",
          " UT",
          " UT",
          " UT",
          " UT",
          " UT",
          " UT",
          " UT",
          " UT",
          " UT",
          " UT",
          " UT",
          " UT",
          " UT",
          " UT",
          " UT",
          " UT",
          " UT",
          " UT",
          " UT",
          " UT",
          " UT",
          " UT",
          " UT",
          " UT",
          " VT",
          " VT",
          " VT",
          " VT",
          " VA",
          " VA",
          " VA",
          " VA",
          " VA",
          " VA",
          " VA",
          " VA",
          " VA",
          " VA",
          " VA",
          " VA",
          " VA",
          " VA",
          " VA",
          " VA",
          " VA",
          " VA",
          " VA",
          " VA",
          " VA",
          " VA",
          " VA",
          " VA",
          " VA",
          " VA",
          " VA",
          " VA",
          " VA",
          " VA",
          " VA",
          " VA",
          " VA",
          " WA",
          " WA",
          " WA",
          " WA",
          " WA",
          " WA",
          " WA",
          " WA",
          " WA",
          " WA",
          " WA",
          " WA",
          " WA",
          " WA",
          " WA",
          " WA",
          " WA",
          " WA",
          " WA",
          " WA",
          " WA",
          " WA",
          " WA",
          " WA",
          " WA",
          " WA",
          " WA",
          " WA",
          " WA",
          " WA",
          " WA",
          " WA",
          " WA",
          " WA",
          " WA",
          " WA",
          " WA",
          " WA",
          " WA",
          " WA",
          " WV",
          " WV",
          " WV",
          " WV",
          " WV",
          " WV",
          " WV",
          " WV",
          " WV",
          " WV",
          " WV",
          " WV",
          " WV",
          " WV",
          " WI",
          " WI",
          " WI",
          " WI",
          " WI",
          " WI",
          " WI",
          " WI",
          " WI",
          " WI",
          " WI",
          " WI",
          " WI",
          " WI",
          " WI",
          " WI",
          " WI",
          " WI",
          " WI",
          " WI",
          " WI",
          " WI",
          " WI",
          " WI",
          " WI",
          " WI",
          " WI",
          " WI",
          " WI",
          " WI",
          " WI",
          " WI",
          " WI",
          " WI",
          " WI",
          " WI",
          " WI",
          " WI",
          " WI",
          " WI",
          " WI",
          " WI",
          " WI",
          " WI",
          " WI",
          " WI",
          " WI",
          " WI",
          " WI",
          " WI",
          " WI",
          " WI",
          " WI",
          " WI",
          " WI",
          " WI",
          " WI",
          " WI",
          " WI",
          " WI",
          " WY",
          " WY",
          " WY",
          " WY",
          " WY",
          " WY",
          " WY"
         ],
         "name": "",
         "type": "choropleth",
         "z": [
          0.1,
          0.15,
          0.05,
          0.09,
          0.51,
          0.8,
          1,
          1,
          0.28,
          0.23,
          0.25,
          0.15,
          0.03,
          0.31,
          0.34,
          0.06,
          0.55,
          0.22,
          0.53,
          0.9,
          0.53,
          0.65,
          0.01,
          0.08,
          0.16,
          1,
          0.35,
          1,
          0.22,
          0.41,
          0.01,
          0.5,
          0.15,
          0.52,
          0.02,
          0.14,
          0.19,
          0.35,
          1,
          0.03,
          0.44,
          0.62,
          1,
          0.36,
          0.05,
          0.31,
          0.07,
          0.57,
          0.3,
          0.2,
          0.34,
          0.08,
          0.33,
          0.18,
          0.09,
          0.45,
          0.34,
          0.32,
          0.16,
          0.1,
          0.06,
          0.05,
          0.1,
          0.17,
          0.4,
          0.23,
          0.3,
          0.11,
          0.19,
          0.07,
          0.61,
          0.9,
          0.04,
          0.36,
          0.21,
          0.08,
          0.57,
          0.24,
          0.34,
          1,
          0.03,
          0.04,
          0.05,
          0.54,
          0.09,
          0.24,
          0.29,
          0.42,
          0.11,
          0.02,
          0.2,
          0.06,
          0.16,
          1,
          0.33,
          0.13,
          0.1,
          0.46,
          0.12,
          0.25,
          0.39,
          0.13,
          0.5,
          0.22,
          0.04,
          0.23,
          0.06,
          0.2,
          0.26,
          1,
          0.23,
          0.26,
          0.19,
          1,
          0.43,
          0.36,
          0.14,
          0.2,
          0.1,
          0.11,
          0.09,
          0.54,
          0.29,
          0.1,
          0.39,
          0.19,
          0.41,
          1,
          0.07,
          0.36,
          0.52,
          0.86,
          0.13,
          0.2,
          0.56,
          0.22,
          0.41,
          1,
          0.37,
          0.12,
          1,
          0.16,
          0.53,
          0.42,
          0.25,
          0.68,
          0.08,
          0.5,
          0.39,
          0.83,
          0.34,
          0.22,
          0.4,
          0.13,
          0.23,
          0.35,
          0.07,
          0.24,
          0.22,
          0.24,
          0.19,
          0.33,
          0.1,
          0.01,
          0.21,
          0.9,
          0.82,
          0.23,
          0.28,
          0.16,
          0.45,
          0.08,
          0.61,
          0.14,
          0.62,
          0.37,
          0.27,
          0.36,
          0.25,
          0.16,
          0.07,
          0.15,
          0.41,
          0.24,
          0.13,
          0.26,
          0.29,
          0.3,
          1,
          0.5,
          0.15,
          0.19,
          0.11,
          0.22,
          0.33,
          0.13,
          0.37,
          0.25,
          0.03,
          0.42,
          0.38,
          0.27,
          0.06,
          0.81,
          0.69,
          0.25,
          0.14,
          0.53,
          0.29,
          0.33,
          0.2,
          0.22,
          0.36,
          0.25,
          0.18,
          0.49,
          0.28,
          0.67,
          0.14,
          0.48,
          0.53,
          0.45,
          0.3,
          0.75,
          0.3,
          0.32,
          0.48,
          0.11,
          0.26,
          0.2,
          0.16,
          0.14,
          0.29,
          0.13,
          0.11,
          0.25,
          0.32,
          0.63,
          0.29,
          0.67,
          0.16,
          0.36,
          0.38,
          0.11,
          0.18,
          0.37,
          0.05,
          0.38,
          0.24,
          0.19,
          0.06,
          0.16,
          1,
          0.04,
          0.2,
          0.4,
          0.1,
          0.19,
          0.2,
          0.15,
          0.45,
          0.41,
          0.22,
          0.45,
          0.6,
          0.38,
          0.16,
          0.3,
          1,
          0.38,
          0.66,
          0.51,
          0.12,
          0.06,
          0.2,
          0.17,
          0.2,
          0.16,
          0.51,
          0.1,
          0.31,
          0.26,
          0.27,
          0.31,
          0.22,
          0.12,
          0.55,
          0.21,
          0.03,
          0.57,
          0.41,
          0.37,
          0.32,
          0.25,
          0.14,
          0.65,
          0.15,
          0.47,
          0.36,
          0.15,
          0.15,
          0.57,
          0.12,
          0.39,
          0.14,
          0.52,
          0.33,
          0.7,
          0.54,
          0.14,
          0.28,
          0.53,
          0.59,
          0.52,
          0.14,
          0.25,
          0.97,
          0.18,
          0.36,
          0.3,
          0.48,
          0.2,
          0.24,
          0.11,
          0.37,
          0.14,
          0.08,
          0.14,
          0.21,
          0.4,
          0.68,
          0.45,
          0.24,
          0.26,
          0.49,
          0.36,
          0.25,
          0.32,
          0.54,
          0.7,
          0.84,
          0.31,
          0.21,
          0.34,
          0.25,
          0.45,
          0.68,
          0.22,
          0.62,
          0.29,
          0.18,
          0.16,
          0.1,
          0.02,
          0.31,
          0.51,
          0.15,
          0.27,
          0.08,
          0.22,
          0.26,
          0.27,
          0.55,
          0.67,
          0.17,
          0.14,
          0.68,
          0.86,
          0.03,
          0.11,
          0.15,
          0.14,
          0.62,
          0.32,
          0.24,
          0.43,
          0.12,
          0.11,
          0.09,
          0.21,
          0.15,
          0.12,
          0.07,
          0.2,
          0.16,
          0.11,
          0.15,
          0.13,
          0.11,
          0.08,
          0.07,
          0.7,
          0.75,
          0.09,
          0.02,
          0.08,
          0.04,
          0.02,
          0.19,
          0.04,
          0.14,
          0.14,
          0.06,
          0.23,
          0.08,
          0.04,
          0.04,
          0.05,
          0.06,
          0.03,
          0.21,
          0.07,
          0.88,
          0.03,
          0.04,
          0.03,
          0.02,
          0.03,
          0.11,
          0.03,
          0.01,
          0.16,
          0.12,
          0.02,
          0.03,
          0.09,
          0.02,
          0.02,
          0.02,
          0.03,
          0.02,
          0.04,
          0.09,
          0.03,
          0.08,
          0.02,
          0.3,
          0,
          0.29,
          0.17,
          0.02,
          0.04,
          0.06,
          0.04,
          0.94,
          0.01,
          0.18,
          0.02,
          0.1,
          0.02,
          0.01,
          0.03,
          0.02,
          0.22,
          0.06,
          0.14,
          0.79,
          0.09,
          0.05,
          0.09,
          0.08,
          0.09,
          0.04,
          0.37,
          1,
          0.65,
          0.67,
          1,
          0.76,
          0.13,
          0.08,
          0.06,
          0.54,
          0.82,
          0.58,
          0.59,
          0.35,
          0.21,
          0.1,
          0.15,
          0.59,
          0.22,
          0.26,
          0.63,
          0.21,
          0.45,
          0.36,
          1,
          0.59,
          0.63,
          0.34,
          0.5,
          0.18,
          0.23,
          0.59,
          0.11,
          0.39,
          0.08,
          0.26,
          0.86,
          0.14,
          0.48,
          0.56,
          1,
          0.26,
          0.25,
          0.21,
          0.21,
          0.34,
          0.17,
          0.34,
          0.41,
          0.23,
          0.27,
          0.81,
          0.2,
          0.73,
          0.22,
          0.18,
          0.95,
          0.63,
          0.24,
          1,
          0.6,
          0.4,
          1,
          0.82,
          0.8,
          0.31,
          0.69,
          0.14,
          0.87,
          0.54,
          0.07,
          0.69,
          0.48,
          1,
          1,
          0.39,
          0.12,
          0.15,
          0.17,
          0.09,
          1,
          0.45,
          0.14,
          0.83,
          0.19,
          0.66,
          0.22,
          1,
          0.15,
          0.13,
          0.4,
          0.75,
          0.34,
          0.42,
          0.46,
          0.25,
          0.33,
          0,
          0.25,
          0.51,
          0.78,
          0.41,
          0.65,
          0.56,
          0.4,
          0.3,
          0.47,
          0.11,
          0.03,
          0.77,
          0.25,
          0.35,
          0.03,
          0.56,
          0.35,
          0.55,
          0.41,
          1,
          0.71,
          0.15,
          0.15,
          0.34,
          0.53,
          0.86,
          0.08,
          0.18,
          0.24,
          0.13,
          0.3,
          0.14,
          0.1,
          0.14,
          0.07,
          0.02,
          0.18,
          0.13,
          0.02,
          0.28,
          0.11,
          0.1,
          0.01,
          0.18,
          0.45,
          0.08,
          1,
          0.03,
          0.01,
          0.58,
          0.23,
          0.07,
          0.89,
          0.41,
          0.69,
          0.08,
          0.17,
          0.05,
          0.13,
          0.03,
          0.09,
          0.53,
          0.53,
          0.34,
          0.18,
          0.09,
          0.12,
          0.07,
          0.01,
          0.08,
          0.08,
          0.01,
          0.15,
          0.07,
          0.03,
          0.27,
          0.05,
          0.21,
          0.22,
          0.29,
          0.24,
          0.2,
          0.11,
          0.13,
          0.06,
          0.08,
          0.19,
          0,
          0.45,
          0.01,
          0.65,
          0.13,
          0.3,
          0.07,
          0.04,
          0.27,
          0.63,
          0.03,
          0.19,
          0.04,
          0.06,
          0.16,
          0.05,
          0.05,
          0.01,
          0.04,
          0.36,
          0.36,
          0.45,
          0.03,
          0.23,
          0.26,
          0.04,
          0.32,
          0.21,
          0.11,
          0.21,
          0.14,
          0.48,
          0.33,
          0.19,
          0.19,
          0.53,
          0.43,
          0.41,
          0.24,
          0.16,
          0.03,
          0.15,
          0.19,
          0.69,
          0.66,
          0.27,
          0.25,
          0.39,
          1,
          0.53,
          0.84,
          0.05,
          0.5,
          0.33,
          0.61,
          0.14,
          0.42,
          0.37,
          0.81,
          0.6,
          0.44,
          0.36,
          0.53,
          0.66,
          0.33,
          1,
          0.44,
          0.5,
          0.28,
          0.06,
          0.01,
          0.01,
          0.09,
          0.07,
          0.04,
          0.09,
          0.01,
          0.15,
          0.07,
          0.01,
          0.05,
          0.03,
          0.04,
          0.03,
          0.03,
          0.2,
          0.59,
          1,
          0.26,
          0.62,
          0.23,
          0.91,
          0.46,
          0.26,
          0.43,
          0.51,
          0.29,
          0.27,
          0.04,
          0.02,
          0.21,
          0.7,
          0.15,
          0.53,
          0.17,
          0.09,
          0.15,
          0.09,
          0.37,
          0.07,
          0.11,
          0.04,
          0.1,
          0.26,
          0.01,
          0.06,
          0.01,
          0.15,
          0.13,
          0.12,
          0.09,
          0.49,
          0.16,
          0.12,
          0.69,
          0.18,
          0.1,
          0.12,
          0.05,
          0.75,
          0.02,
          0.28,
          0.37,
          0.03,
          0.2,
          0.18,
          0.05,
          0.06,
          0.07,
          0.14,
          0.06,
          0.13,
          0.02,
          0.02,
          0.1,
          0.11,
          0.09,
          0.09,
          0.06,
          0.07,
          0.4,
          0.59,
          0.08,
          0.18,
          0.01,
          0.69,
          0.11,
          0.08,
          0.37,
          0.18,
          0.05,
          0.15,
          0.06,
          0.34,
          0.08,
          0.08,
          0.14,
          0.28,
          0.44,
          0.32,
          0.03,
          0.08,
          0.22,
          0.81,
          0.73,
          0.04,
          0,
          0.11,
          0.03,
          0.24,
          0.11,
          0.08,
          0.17,
          0.21,
          0.12,
          0.02,
          0.09,
          0.15,
          0.13,
          0.06,
          0.1,
          0.24,
          0.09,
          0.22,
          0.88,
          0.41,
          0.05,
          0.37,
          0.04,
          0.13,
          0.08,
          0.03,
          0.02,
          0.23,
          0.15,
          0.04,
          0.08,
          0.03,
          0.2,
          0.17,
          0.15,
          0.11,
          0.31,
          0.25,
          0.19,
          0.04,
          0.02,
          0.54,
          0.2,
          0.75,
          0.08,
          0.11,
          0.15,
          0.12,
          0.04,
          0.31,
          0.23,
          0.29,
          0.1,
          0.96,
          0.23,
          0.45,
          0.2,
          0.59,
          0.16,
          0.13,
          0.18,
          0.05,
          0.12,
          0.32,
          0.3,
          0.29,
          0.09,
          0.19,
          0.04,
          0.09,
          0.15,
          0.11,
          0.05,
          0.02,
          0.03,
          0.31,
          0.05,
          0.06,
          0.41,
          0.24,
          0.05,
          0.27,
          0.54,
          0.11,
          0.22,
          0.17,
          0.08,
          0.18,
          0.09,
          0.14,
          0.32,
          0.24,
          0.09,
          0.22,
          0.16,
          0.17,
          0.06,
          0.35,
          0.07,
          0.07,
          0.14,
          0.24,
          0.21,
          1,
          0.26,
          0.06,
          0.1,
          0.16,
          0.17,
          0.19,
          0.28,
          0.12,
          0.11,
          0.42,
          0.2,
          0.16,
          0.04,
          0.06,
          0.06,
          0.02,
          0.12,
          0.03,
          0.06,
          0.17,
          0.01,
          0.04,
          0.26,
          0.09,
          0.1,
          0.01,
          0.03,
          0.09,
          0.03,
          0.04,
          0.06,
          0.09,
          0.02,
          0.07,
          0.1,
          0.08,
          0.06,
          0.07,
          0.05,
          0.26,
          0.03,
          0.44,
          0.1,
          0.04,
          0.08,
          0.04,
          0.23,
          0.08,
          0.17,
          0.13,
          0.12,
          0.16,
          0.19,
          0.17,
          0.93,
          0.03,
          0.24,
          0.05,
          0.14,
          0.01,
          0.03,
          0.71,
          0.02,
          0.09,
          0.18,
          0.37,
          0.04,
          0.04,
          0.11,
          0.04,
          0.12,
          0.02,
          0.32,
          0.03,
          0.24,
          0.12,
          0.33,
          0.08,
          0.06,
          0.05,
          0.09,
          0.11,
          0.03,
          0.07,
          0.62,
          0.28,
          0.07,
          0.04,
          0.2,
          0.12,
          0.1,
          0.12,
          0.05,
          0.12,
          0.02,
          0.04,
          0.05,
          0.19,
          0.17,
          0.08,
          0.09,
          0.05,
          1,
          0.23,
          0.2,
          0.04,
          0.04,
          0.05,
          0.21,
          0.05,
          0.18,
          0.39,
          0.17,
          0.6,
          0.02,
          0.1,
          0.03,
          0.04,
          0.03,
          0.12,
          0.03,
          0.22,
          0.03,
          1,
          0.02,
          0.21,
          0.05,
          0.06,
          0.02,
          0.5,
          0.08,
          0.02,
          0.06,
          0.03,
          0.38,
          0.13,
          0.05,
          0.02,
          0.06,
          0.65,
          0.03,
          0.06,
          0.01,
          0.16,
          1,
          0.07,
          0.13,
          0.02,
          0.09,
          0.03,
          0.11,
          0.18,
          0.25,
          0.11,
          0.05,
          0.11,
          0.03,
          0.05,
          1,
          0.16,
          0.04,
          0.04,
          0.54,
          0.08,
          0.2,
          0.12,
          0.09,
          0.09,
          0.04,
          0.04,
          0.07,
          0.1,
          0.04,
          0.1,
          0.13,
          0.03,
          0.06,
          0.85,
          0.1,
          0.04,
          0.04,
          0.02,
          0.03,
          0.05,
          0.03,
          0.03,
          0.15,
          0.03,
          0.04,
          0.04,
          0.16,
          0.04,
          0.04,
          0.05,
          0.04,
          0.24,
          0.13,
          0.06,
          0.12,
          0.18,
          0.26,
          0.65,
          0.06,
          0.27,
          0.17,
          0.18,
          0.04,
          0.06,
          0.1,
          0.08,
          0.06,
          0.09,
          0.1,
          0.02,
          0.04,
          0.05,
          0.1,
          0.19,
          0.18,
          0.02,
          0.04,
          0.83,
          0.04,
          0.04,
          0.07,
          0.2,
          0.28,
          1,
          1,
          0.51,
          0.03,
          0.12,
          0.12,
          0.04,
          0.16,
          0.08,
          0.1,
          0.01,
          0.17,
          0.36,
          0.11,
          0.12,
          0.85,
          0.12,
          0.34,
          0.34,
          0.2,
          0.22,
          0.12,
          0.54,
          0.66,
          0.66,
          0.25,
          0.6,
          0.07,
          0.08,
          0,
          0.1,
          0.08,
          0.43,
          0.48,
          0.49,
          0.12,
          0.31,
          0.45,
          0.3,
          0.27,
          0.04,
          0.38,
          0.13,
          0.15,
          0.87,
          0.23,
          0.64,
          0.59,
          0.8,
          0.15,
          0.82,
          0.05,
          0.2,
          0.04,
          0.02,
          0.01,
          0.06,
          0.01,
          0.08,
          0.2,
          0.16,
          0.28,
          0.11,
          0.02,
          0.3,
          0.05,
          0.18,
          0.28,
          0.35,
          0.14,
          0.55,
          0,
          0.52,
          0.46,
          0.26,
          0.37,
          0.28,
          0.26,
          0.4,
          0.61,
          0.11,
          0.39,
          0.29,
          0.21,
          0.06,
          0.53,
          0.3,
          0.55,
          0.61,
          0.6,
          0.74,
          0.4,
          0.37,
          0.59,
          0.24,
          0.91,
          0.21,
          0.12,
          0.51,
          0.2,
          0.34,
          0.22,
          0.35,
          0.5,
          0.46,
          0.36,
          0.48,
          0.2,
          0.52,
          0.36,
          0.65,
          0.73,
          0.19,
          0.23,
          0.86,
          0.07,
          0.42,
          0.45,
          0.02,
          0.02,
          0.05,
          0.05,
          0.05,
          0.02,
          0.03,
          0.04,
          0.97,
          0.06,
          0,
          0.03,
          0.02,
          0.45,
          0.06,
          0.1,
          0.09,
          0.04,
          0.38,
          0.03,
          0.02,
          0.67,
          0.14,
          0.03,
          0.05,
          0.04,
          0.03,
          0.59,
          0.07,
          0.62,
          0.11,
          0.16,
          0.79,
          0.1,
          0.1,
          0.05,
          0.09,
          0.01,
          0.3,
          0.12,
          0.05,
          0.05,
          0.04,
          0.04,
          1,
          0.42,
          0.13,
          0.1,
          0.02,
          0.19,
          0.1,
          0.69,
          0.32,
          0.09,
          0.95,
          0.14,
          0.01,
          0.05,
          0.05,
          0.02,
          0.16,
          0.09,
          0.1,
          0.03,
          0.08,
          0.1,
          0.08,
          0.14,
          0.15,
          0.64,
          0.06,
          0.04,
          0.18,
          0.05,
          0.06,
          0.17,
          0.07,
          0.27,
          0.05,
          0.04,
          0.04,
          0.12,
          0.02,
          0.15,
          0.19,
          0.03,
          0.18,
          0.13,
          0.05,
          0.07,
          0.07,
          0.01,
          0.41,
          0.12,
          0.11,
          0.03,
          0.05,
          0.03,
          0.03,
          0.08,
          0.12,
          0.2,
          0.07,
          0.03,
          0.05,
          0.06,
          0.11,
          0.51,
          0.02,
          0.05,
          0.17,
          0.17,
          0.2,
          0.46,
          0.1,
          0.17,
          0.07,
          0.12,
          0.16,
          0.39,
          0.19,
          0.1,
          0.18,
          0.09,
          0.47,
          0.54,
          0.21,
          0.48,
          0.07,
          0.3,
          0.18,
          0.06,
          0.21,
          0.09,
          0.12,
          0.09,
          0.14,
          0.21,
          0.17,
          0.57,
          0.15,
          0.37,
          0.05,
          0.41,
          0.25,
          0.12,
          0.06,
          0.22,
          0.07,
          0.07,
          0.13,
          0.1,
          0.11,
          0.21,
          0.22,
          0.13,
          0.21,
          0.27,
          0.05,
          0.12,
          0.09,
          0.06,
          0.14,
          0.07,
          0.21,
          0.09,
          0.07,
          0.1,
          0.09,
          0.22,
          0.09,
          0.12,
          0.1,
          0.13,
          0.12,
          0.08,
          0.19,
          0.76,
          0.11,
          0.14,
          0.06,
          0.1,
          0.06,
          0.16,
          0.13,
          0.19,
          0.52,
          0.53,
          0.87,
          0.19,
          0.05,
          0.15,
          0.13,
          0.03,
          0.06,
          0.05,
          0.04,
          0.03,
          0.01,
          0.17,
          0.09,
          0.06,
          0.05,
          0,
          0.19,
          0.03,
          0.04,
          0.05,
          0.29,
          0.12,
          0.09,
          0.07,
          0.28,
          0.02,
          0.03,
          0.02,
          0.09,
          0.05,
          0.02,
          0.03,
          0.03,
          0.1,
          0.22,
          0.04,
          0.13,
          0.22,
          0.12,
          0.06,
          0.02,
          0.03,
          0.03,
          0.03,
          0.01,
          0.32,
          0.02,
          0.19,
          0.05,
          0.03,
          1,
          0.1,
          0.11,
          1,
          0.03,
          0.03,
          0.02,
          0.06,
          0.49,
          0.03,
          0.15,
          0.17,
          0.06,
          0.02,
          0.04,
          0.35,
          0.07,
          0.05,
          0.07,
          0.01,
          0.02,
          0.12,
          0.02,
          0.08,
          0.03,
          0.06,
          0.44,
          0.03,
          0.12,
          0.02,
          0.12,
          0.21,
          0.04,
          0.06,
          0.06,
          0.02,
          0.13,
          0.05,
          0.36,
          0.03,
          0.15,
          0.08,
          0.06,
          0.05,
          0.04,
          0.09,
          0.21,
          0.03,
          0.1,
          0.05,
          0.15,
          0.04,
          0.04,
          0.19,
          0.03,
          0.03,
          0.02,
          0.18,
          0.49,
          0,
          0.22,
          0.26,
          0.03,
          0.03,
          0.05,
          0.07,
          0.04,
          0.06,
          0.61,
          0.17,
          0.32,
          0.38,
          0.06,
          0.85,
          0.09,
          0.2,
          0.23,
          0.74,
          0.76,
          0.06,
          0.16,
          1,
          0.06,
          0.53,
          0.29,
          0.78,
          0.93,
          0.6,
          0.1,
          0.87,
          0.07,
          0.21,
          0.55,
          0.69,
          1,
          0.23,
          0.72,
          0.53,
          0.6,
          0.63,
          0.15,
          0.03,
          0.07,
          0.02,
          0.18,
          0.12,
          0.08,
          0.08,
          0.08,
          0.18,
          0.01,
          0.35,
          0.03,
          0.3,
          0.24,
          0.33,
          0.08,
          0.7,
          0.1,
          0.26,
          0.12,
          0.17,
          0.67,
          0.38,
          0.36,
          0.16,
          0.17,
          0.41,
          0.21,
          0.06,
          0.24,
          0.47,
          0.81,
          0.12,
          0.4,
          0.28,
          0.63,
          0.38,
          0.25,
          0.03,
          0.7,
          0.14,
          0.57,
          0.1,
          0.24,
          0.2,
          0.28,
          0.64,
          0.17,
          0.24,
          0.17,
          0.06,
          0.59,
          0.34,
          0.27,
          0.49,
          0.13,
          0.12,
          0.08,
          0.28,
          0.17,
          0.16,
          0.14,
          0.08,
          0.28,
          0.11,
          0.72,
          0.47,
          0.03,
          0.24,
          0.09,
          0.09,
          0.07,
          0.31,
          0.14,
          0.39,
          0.5,
          0.07,
          0.06,
          0.32,
          0.36,
          0.39,
          0.11,
          0.25,
          0.83,
          0.39,
          0.18,
          0.33,
          0.27,
          0.14,
          0.31,
          0.31,
          0.11,
          0.09,
          0.58,
          0.27,
          0.19,
          0.51,
          0.72,
          0.12,
          0.14,
          0.01,
          0.06,
          0.1,
          0.09,
          0.07,
          0.05,
          0.39,
          0.11,
          1,
          0.14,
          0.52,
          0.1,
          0.04,
          0.27,
          0.63,
          0.23,
          0.6,
          0.12,
          0.28,
          0.2,
          0.28,
          0.29,
          0.34,
          0.23,
          0.19,
          0.54,
          0.31,
          0.48,
          0.13,
          0.12,
          0.29,
          0.52,
          0.51,
          0.21,
          0.15,
          0.13,
          0.13,
          0.43,
          0.06,
          0.11,
          0.04,
          0.08,
          0.19,
          0.26,
          0.06,
          0.21,
          0.22,
          0.16,
          0.23,
          0.52,
          0.71,
          0.11,
          0.23,
          0.25,
          0.29,
          0.28,
          0.48,
          0.03,
          0.33,
          0.33,
          0.11,
          0.35,
          0.14,
          0.08,
          0.34,
          0.16,
          0.29,
          0.32,
          0.3,
          0.3,
          0.28,
          0.5,
          0.29,
          0.68,
          0.15,
          0.33,
          0.74,
          0.35,
          0.07,
          0.11,
          0.19,
          0.06,
          0.14,
          0.12,
          0.1,
          0.12,
          0.43,
          0.2,
          0.2,
          0.16,
          0.31,
          0.28,
          0.05,
          0.32,
          0.03,
          0.34,
          0.11,
          0.1,
          0.09,
          0.02,
          0.1,
          0.07,
          0.07,
          0.03,
          0.08,
          0.08,
          0.05,
          0.05,
          0.07,
          0.04,
          0.04,
          0.11,
          0.04,
          0.15,
          0.06,
          0.04,
          0.02,
          0.2,
          0.08,
          0.04,
          0.04,
          0.24,
          0.33,
          0.25,
          0.07,
          0.05,
          0.06,
          0.01,
          0.27,
          0.14,
          0.18,
          0.04,
          0.06,
          0.67,
          0.29,
          0.54,
          0.31,
          0.15,
          0.29,
          0.24,
          0.07,
          0.12,
          0.15,
          0.29,
          0.28,
          0.07,
          0.05,
          0.19,
          0.05,
          0.47,
          0.16,
          0.09,
          0.06,
          0.35,
          0.18,
          0.55,
          0.12,
          0.05,
          0.38,
          0.1,
          0.04,
          0.5,
          0.25,
          0.22,
          0.37,
          0.76,
          0.67,
          0.09,
          0.22,
          0.1,
          0.03,
          0.12,
          0.09,
          0.47,
          0.14,
          0.14,
          0.13,
          0.12,
          0.16,
          0.58,
          0.09,
          0.06,
          0.18,
          0.09,
          0.2,
          0.04,
          0.26,
          0.39,
          0.22,
          0.08,
          0.36,
          0.1,
          0.09,
          0.08,
          0.33,
          0.23,
          0.31,
          0.36,
          0.04,
          0.22,
          0.15,
          0.22,
          0.01,
          0.23,
          0.15,
          0.22,
          0.56,
          0.09,
          0.16,
          0.1,
          0.13,
          0.02,
          0.09,
          0.03,
          0.49,
          0.02,
          0.06,
          0.07,
          0.02,
          0.01,
          0.05,
          0.06,
          0.22,
          0.04,
          0.03,
          0.05,
          0.06,
          0.11,
          0.03,
          0.06,
          0.02,
          0.06,
          0.02,
          0.07,
          0.05,
          0.03,
          0.11,
          0.13,
          0.07,
          0.14,
          0.1,
          0.4,
          0.1,
          0.03,
          0.18,
          0.03,
          0.17,
          0.09,
          0.03,
          0.08,
          0,
          0.05,
          0.34,
          0.02,
          0.03,
          0.07,
          0.16,
          0.02,
          0.02,
          0.06,
          0.07,
          0.03,
          0.04,
          0.1,
          0.03,
          0.05,
          0.07,
          0.04,
          0.09,
          0.06,
          0.01,
          0.09,
          0.11,
          0.06,
          0.05,
          0.08,
          0.06,
          0.06,
          0.11,
          0.15,
          0.12,
          0.27
         ]
        }
       ],
       "layout": {
        "autosize": true,
        "coloraxis": {
         "colorbar": {
          "title": {
           "text": "violent_crime_rate"
          }
         },
         "colorscale": [
          [
           0,
           "#0d0887"
          ],
          [
           0.1111111111111111,
           "#46039f"
          ],
          [
           0.2222222222222222,
           "#7201a8"
          ],
          [
           0.3333333333333333,
           "#9c179e"
          ],
          [
           0.4444444444444444,
           "#bd3786"
          ],
          [
           0.5555555555555556,
           "#d8576b"
          ],
          [
           0.6666666666666666,
           "#ed7953"
          ],
          [
           0.7777777777777778,
           "#fb9f3a"
          ],
          [
           0.8888888888888888,
           "#fdca26"
          ],
          [
           1,
           "#f0f921"
          ]
         ]
        },
        "geo": {
         "center": {},
         "domain": {
          "x": [
           0,
           1
          ],
          "y": [
           0,
           1
          ]
         },
         "scope": "usa"
        },
        "legend": {
         "tracegroupgap": 0
        },
        "margin": {
         "t": 60
        },
        "template": {
         "data": {
          "bar": [
           {
            "error_x": {
             "color": "#2a3f5f"
            },
            "error_y": {
             "color": "#2a3f5f"
            },
            "marker": {
             "line": {
              "color": "#E5ECF6",
              "width": 0.5
             },
             "pattern": {
              "fillmode": "overlay",
              "size": 10,
              "solidity": 0.2
             }
            },
            "type": "bar"
           }
          ],
          "barpolar": [
           {
            "marker": {
             "line": {
              "color": "#E5ECF6",
              "width": 0.5
             },
             "pattern": {
              "fillmode": "overlay",
              "size": 10,
              "solidity": 0.2
             }
            },
            "type": "barpolar"
           }
          ],
          "carpet": [
           {
            "aaxis": {
             "endlinecolor": "#2a3f5f",
             "gridcolor": "white",
             "linecolor": "white",
             "minorgridcolor": "white",
             "startlinecolor": "#2a3f5f"
            },
            "baxis": {
             "endlinecolor": "#2a3f5f",
             "gridcolor": "white",
             "linecolor": "white",
             "minorgridcolor": "white",
             "startlinecolor": "#2a3f5f"
            },
            "type": "carpet"
           }
          ],
          "choropleth": [
           {
            "colorbar": {
             "outlinewidth": 0,
             "ticks": ""
            },
            "type": "choropleth"
           }
          ],
          "contour": [
           {
            "colorbar": {
             "outlinewidth": 0,
             "ticks": ""
            },
            "colorscale": [
             [
              0,
              "#0d0887"
             ],
             [
              0.1111111111111111,
              "#46039f"
             ],
             [
              0.2222222222222222,
              "#7201a8"
             ],
             [
              0.3333333333333333,
              "#9c179e"
             ],
             [
              0.4444444444444444,
              "#bd3786"
             ],
             [
              0.5555555555555556,
              "#d8576b"
             ],
             [
              0.6666666666666666,
              "#ed7953"
             ],
             [
              0.7777777777777778,
              "#fb9f3a"
             ],
             [
              0.8888888888888888,
              "#fdca26"
             ],
             [
              1,
              "#f0f921"
             ]
            ],
            "type": "contour"
           }
          ],
          "contourcarpet": [
           {
            "colorbar": {
             "outlinewidth": 0,
             "ticks": ""
            },
            "type": "contourcarpet"
           }
          ],
          "heatmap": [
           {
            "colorbar": {
             "outlinewidth": 0,
             "ticks": ""
            },
            "colorscale": [
             [
              0,
              "#0d0887"
             ],
             [
              0.1111111111111111,
              "#46039f"
             ],
             [
              0.2222222222222222,
              "#7201a8"
             ],
             [
              0.3333333333333333,
              "#9c179e"
             ],
             [
              0.4444444444444444,
              "#bd3786"
             ],
             [
              0.5555555555555556,
              "#d8576b"
             ],
             [
              0.6666666666666666,
              "#ed7953"
             ],
             [
              0.7777777777777778,
              "#fb9f3a"
             ],
             [
              0.8888888888888888,
              "#fdca26"
             ],
             [
              1,
              "#f0f921"
             ]
            ],
            "type": "heatmap"
           }
          ],
          "heatmapgl": [
           {
            "colorbar": {
             "outlinewidth": 0,
             "ticks": ""
            },
            "colorscale": [
             [
              0,
              "#0d0887"
             ],
             [
              0.1111111111111111,
              "#46039f"
             ],
             [
              0.2222222222222222,
              "#7201a8"
             ],
             [
              0.3333333333333333,
              "#9c179e"
             ],
             [
              0.4444444444444444,
              "#bd3786"
             ],
             [
              0.5555555555555556,
              "#d8576b"
             ],
             [
              0.6666666666666666,
              "#ed7953"
             ],
             [
              0.7777777777777778,
              "#fb9f3a"
             ],
             [
              0.8888888888888888,
              "#fdca26"
             ],
             [
              1,
              "#f0f921"
             ]
            ],
            "type": "heatmapgl"
           }
          ],
          "histogram": [
           {
            "marker": {
             "pattern": {
              "fillmode": "overlay",
              "size": 10,
              "solidity": 0.2
             }
            },
            "type": "histogram"
           }
          ],
          "histogram2d": [
           {
            "colorbar": {
             "outlinewidth": 0,
             "ticks": ""
            },
            "colorscale": [
             [
              0,
              "#0d0887"
             ],
             [
              0.1111111111111111,
              "#46039f"
             ],
             [
              0.2222222222222222,
              "#7201a8"
             ],
             [
              0.3333333333333333,
              "#9c179e"
             ],
             [
              0.4444444444444444,
              "#bd3786"
             ],
             [
              0.5555555555555556,
              "#d8576b"
             ],
             [
              0.6666666666666666,
              "#ed7953"
             ],
             [
              0.7777777777777778,
              "#fb9f3a"
             ],
             [
              0.8888888888888888,
              "#fdca26"
             ],
             [
              1,
              "#f0f921"
             ]
            ],
            "type": "histogram2d"
           }
          ],
          "histogram2dcontour": [
           {
            "colorbar": {
             "outlinewidth": 0,
             "ticks": ""
            },
            "colorscale": [
             [
              0,
              "#0d0887"
             ],
             [
              0.1111111111111111,
              "#46039f"
             ],
             [
              0.2222222222222222,
              "#7201a8"
             ],
             [
              0.3333333333333333,
              "#9c179e"
             ],
             [
              0.4444444444444444,
              "#bd3786"
             ],
             [
              0.5555555555555556,
              "#d8576b"
             ],
             [
              0.6666666666666666,
              "#ed7953"
             ],
             [
              0.7777777777777778,
              "#fb9f3a"
             ],
             [
              0.8888888888888888,
              "#fdca26"
             ],
             [
              1,
              "#f0f921"
             ]
            ],
            "type": "histogram2dcontour"
           }
          ],
          "mesh3d": [
           {
            "colorbar": {
             "outlinewidth": 0,
             "ticks": ""
            },
            "type": "mesh3d"
           }
          ],
          "parcoords": [
           {
            "line": {
             "colorbar": {
              "outlinewidth": 0,
              "ticks": ""
             }
            },
            "type": "parcoords"
           }
          ],
          "pie": [
           {
            "automargin": true,
            "type": "pie"
           }
          ],
          "scatter": [
           {
            "fillpattern": {
             "fillmode": "overlay",
             "size": 10,
             "solidity": 0.2
            },
            "type": "scatter"
           }
          ],
          "scatter3d": [
           {
            "line": {
             "colorbar": {
              "outlinewidth": 0,
              "ticks": ""
             }
            },
            "marker": {
             "colorbar": {
              "outlinewidth": 0,
              "ticks": ""
             }
            },
            "type": "scatter3d"
           }
          ],
          "scattercarpet": [
           {
            "marker": {
             "colorbar": {
              "outlinewidth": 0,
              "ticks": ""
             }
            },
            "type": "scattercarpet"
           }
          ],
          "scattergeo": [
           {
            "marker": {
             "colorbar": {
              "outlinewidth": 0,
              "ticks": ""
             }
            },
            "type": "scattergeo"
           }
          ],
          "scattergl": [
           {
            "marker": {
             "colorbar": {
              "outlinewidth": 0,
              "ticks": ""
             }
            },
            "type": "scattergl"
           }
          ],
          "scattermapbox": [
           {
            "marker": {
             "colorbar": {
              "outlinewidth": 0,
              "ticks": ""
             }
            },
            "type": "scattermapbox"
           }
          ],
          "scatterpolar": [
           {
            "marker": {
             "colorbar": {
              "outlinewidth": 0,
              "ticks": ""
             }
            },
            "type": "scatterpolar"
           }
          ],
          "scatterpolargl": [
           {
            "marker": {
             "colorbar": {
              "outlinewidth": 0,
              "ticks": ""
             }
            },
            "type": "scatterpolargl"
           }
          ],
          "scatterternary": [
           {
            "marker": {
             "colorbar": {
              "outlinewidth": 0,
              "ticks": ""
             }
            },
            "type": "scatterternary"
           }
          ],
          "surface": [
           {
            "colorbar": {
             "outlinewidth": 0,
             "ticks": ""
            },
            "colorscale": [
             [
              0,
              "#0d0887"
             ],
             [
              0.1111111111111111,
              "#46039f"
             ],
             [
              0.2222222222222222,
              "#7201a8"
             ],
             [
              0.3333333333333333,
              "#9c179e"
             ],
             [
              0.4444444444444444,
              "#bd3786"
             ],
             [
              0.5555555555555556,
              "#d8576b"
             ],
             [
              0.6666666666666666,
              "#ed7953"
             ],
             [
              0.7777777777777778,
              "#fb9f3a"
             ],
             [
              0.8888888888888888,
              "#fdca26"
             ],
             [
              1,
              "#f0f921"
             ]
            ],
            "type": "surface"
           }
          ],
          "table": [
           {
            "cells": {
             "fill": {
              "color": "#EBF0F8"
             },
             "line": {
              "color": "white"
             }
            },
            "header": {
             "fill": {
              "color": "#C8D4E3"
             },
             "line": {
              "color": "white"
             }
            },
            "type": "table"
           }
          ]
         },
         "layout": {
          "annotationdefaults": {
           "arrowcolor": "#2a3f5f",
           "arrowhead": 0,
           "arrowwidth": 1
          },
          "autotypenumbers": "strict",
          "coloraxis": {
           "colorbar": {
            "outlinewidth": 0,
            "ticks": ""
           }
          },
          "colorscale": {
           "diverging": [
            [
             0,
             "#8e0152"
            ],
            [
             0.1,
             "#c51b7d"
            ],
            [
             0.2,
             "#de77ae"
            ],
            [
             0.3,
             "#f1b6da"
            ],
            [
             0.4,
             "#fde0ef"
            ],
            [
             0.5,
             "#f7f7f7"
            ],
            [
             0.6,
             "#e6f5d0"
            ],
            [
             0.7,
             "#b8e186"
            ],
            [
             0.8,
             "#7fbc41"
            ],
            [
             0.9,
             "#4d9221"
            ],
            [
             1,
             "#276419"
            ]
           ],
           "sequential": [
            [
             0,
             "#0d0887"
            ],
            [
             0.1111111111111111,
             "#46039f"
            ],
            [
             0.2222222222222222,
             "#7201a8"
            ],
            [
             0.3333333333333333,
             "#9c179e"
            ],
            [
             0.4444444444444444,
             "#bd3786"
            ],
            [
             0.5555555555555556,
             "#d8576b"
            ],
            [
             0.6666666666666666,
             "#ed7953"
            ],
            [
             0.7777777777777778,
             "#fb9f3a"
            ],
            [
             0.8888888888888888,
             "#fdca26"
            ],
            [
             1,
             "#f0f921"
            ]
           ],
           "sequentialminus": [
            [
             0,
             "#0d0887"
            ],
            [
             0.1111111111111111,
             "#46039f"
            ],
            [
             0.2222222222222222,
             "#7201a8"
            ],
            [
             0.3333333333333333,
             "#9c179e"
            ],
            [
             0.4444444444444444,
             "#bd3786"
            ],
            [
             0.5555555555555556,
             "#d8576b"
            ],
            [
             0.6666666666666666,
             "#ed7953"
            ],
            [
             0.7777777777777778,
             "#fb9f3a"
            ],
            [
             0.8888888888888888,
             "#fdca26"
            ],
            [
             1,
             "#f0f921"
            ]
           ]
          },
          "colorway": [
           "#636efa",
           "#EF553B",
           "#00cc96",
           "#ab63fa",
           "#FFA15A",
           "#19d3f3",
           "#FF6692",
           "#B6E880",
           "#FF97FF",
           "#FECB52"
          ],
          "font": {
           "color": "#2a3f5f"
          },
          "geo": {
           "bgcolor": "white",
           "lakecolor": "white",
           "landcolor": "#E5ECF6",
           "showlakes": true,
           "showland": true,
           "subunitcolor": "white"
          },
          "hoverlabel": {
           "align": "left"
          },
          "hovermode": "closest",
          "mapbox": {
           "style": "light"
          },
          "paper_bgcolor": "white",
          "plot_bgcolor": "#E5ECF6",
          "polar": {
           "angularaxis": {
            "gridcolor": "white",
            "linecolor": "white",
            "ticks": ""
           },
           "bgcolor": "#E5ECF6",
           "radialaxis": {
            "gridcolor": "white",
            "linecolor": "white",
            "ticks": ""
           }
          },
          "scene": {
           "xaxis": {
            "backgroundcolor": "#E5ECF6",
            "gridcolor": "white",
            "gridwidth": 2,
            "linecolor": "white",
            "showbackground": true,
            "ticks": "",
            "zerolinecolor": "white"
           },
           "yaxis": {
            "backgroundcolor": "#E5ECF6",
            "gridcolor": "white",
            "gridwidth": 2,
            "linecolor": "white",
            "showbackground": true,
            "ticks": "",
            "zerolinecolor": "white"
           },
           "zaxis": {
            "backgroundcolor": "#E5ECF6",
            "gridcolor": "white",
            "gridwidth": 2,
            "linecolor": "white",
            "showbackground": true,
            "ticks": "",
            "zerolinecolor": "white"
           }
          },
          "shapedefaults": {
           "line": {
            "color": "#2a3f5f"
           }
          },
          "ternary": {
           "aaxis": {
            "gridcolor": "white",
            "linecolor": "white",
            "ticks": ""
           },
           "baxis": {
            "gridcolor": "white",
            "linecolor": "white",
            "ticks": ""
           },
           "bgcolor": "#E5ECF6",
           "caxis": {
            "gridcolor": "white",
            "linecolor": "white",
            "ticks": ""
           }
          },
          "title": {
           "x": 0.05
          },
          "xaxis": {
           "automargin": true,
           "gridcolor": "white",
           "linecolor": "white",
           "ticks": "",
           "title": {
            "standoff": 15
           },
           "zerolinecolor": "white",
           "zerolinewidth": 2
          },
          "yaxis": {
           "automargin": true,
           "gridcolor": "white",
           "linecolor": "white",
           "ticks": "",
           "title": {
            "standoff": 15
           },
           "zerolinecolor": "white",
           "zerolinewidth": 2
          }
         }
        }
       }
      },
      "image/png": "[encoded data removed]",
      "text/html": [
       "<div>                            <div id=\"17b46dfe-2992-4a66-b6b8-e2a556c91efa\" class=\"plotly-graph-div\" style=\"height:525px; width:100%;\"></div>            <script type=\"text/javascript\">                require([\"plotly\"], function(Plotly) {                    window.PLOTLYENV=window.PLOTLYENV || {};                                    if (document.getElementById(\"17b46dfe-2992-4a66-b6b8-e2a556c91efa\")) {                    Plotly.newPlot(                        \"17b46dfe-2992-4a66-b6b8-e2a556c91efa\",                        [{\"coloraxis\":\"coloraxis\",\"geo\":\"geo\",\"hovertemplate\":\"code=%{location}<br>violent_crime_rate=%{z}<extra></extra>\",\"locationmode\":\"USA-states\",\"locations\":[\" AL\",\" AL\",\" AL\",\" AL\",\" AL\",\" AL\",\" AL\",\" AL\",\" AL\",\" AL\",\" AL\",\" AL\",\" AL\",\" AL\",\" AL\",\" AL\",\" AL\",\" AL\",\" AL\",\" AL\",\" AL\",\" AL\",\" AL\",\" AL\",\" AL\",\" AL\",\" AL\",\" AL\",\" AL\",\" AL\",\" AL\",\" AL\",\" AL\",\" AL\",\" AL\",\" AL\",\" AL\",\" AL\",\" AL\",\" AL\",\" AL\",\" AL\",\" AL\",\" AK\",\" AK\",\" AK\",\" AZ\",\" AZ\",\" AZ\",\" AZ\",\" AZ\",\" AZ\",\" AZ\",\" AZ\",\" AZ\",\" AZ\",\" AZ\",\" AZ\",\" AZ\",\" AZ\",\" AZ\",\" AZ\",\" AZ\",\" AZ\",\" AZ\",\" AZ\",\" AR\",\" AR\",\" AR\",\" AR\",\" AR\",\" AR\",\" AR\",\" AR\",\" AR\",\" AR\",\" AR\",\" AR\",\" AR\",\" AR\",\" AR\",\" AR\",\" AR\",\" AR\",\" AR\",\" AR\",\" AR\",\" AR\",\" AR\",\" AR\",\" AR\",\" CA\",\" CA\",\" CA\",\" CA\",\" CA\",\" CA\",\" CA\",\" CA\",\" CA\",\" CA\",\" CA\",\" CA\",\" CA\",\" CA\",\" CA\",\" CA\",\" CA\",\" CA\",\" CA\",\" CA\",\" CA\",\" CA\",\" CA\",\" CA\",\" CA\",\" CA\",\" CA\",\" CA\",\" CA\",\" CA\",\" CA\",\" CA\",\" CA\",\" CA\",\" CA\",\" CA\",\" CA\",\" CA\",\" CA\",\" CA\",\" CA\",\" CA\",\" CA\",\" CA\",\" CA\",\" CA\",\" CA\",\" CA\",\" CA\",\" CA\",\" CA\",\" CA\",\" CA\",\" CA\",\" CA\",\" CA\",\" CA\",\" CA\",\" CA\",\" CA\",\" CA\",\" CA\",\" CA\",\" CA\",\" CA\",\" CA\",\" CA\",\" CA\",\" CA\",\" CA\",\" CA\",\" CA\",\" CA\",\" CA\",\" CA\",\" CA\",\" CA\",\" CA\",\" CA\",\" CA\",\" CA\",\" CA\",\" CA\",\" CA\",\" CA\",\" CA\",\" CA\",\" CA\",\" CA\",\" CA\",\" CA\",\" CA\",\" CA\",\" CA\",\" CA\",\" CA\",\" CA\",\" CA\",\" CA\",\" CA\",\" CA\",\" CA\",\" CA\",\" CA\",\" CA\",\" CA\",\" CA\",\" CA\",\" CA\",\" CA\",\" CA\",\" CA\",\" CA\",\" CA\",\" CA\",\" CA\",\" CA\",\" CA\",\" CA\",\" CA\",\" CA\",\" CA\",\" CA\",\" CA\",\" CA\",\" CA\",\" CA\",\" CA\",\" CA\",\" CA\",\" CA\",\" CA\",\" CA\",\" CA\",\" CA\",\" CA\",\" CA\",\" CA\",\" CA\",\" CA\",\" CA\",\" CA\",\" CA\",\" CA\",\" CA\",\" CA\",\" CA\",\" CA\",\" CA\",\" CA\",\" CA\",\" CA\",\" CA\",\" CA\",\" CA\",\" CA\",\" CA\",\" CA\",\" CA\",\" CA\",\" CA\",\" CA\",\" CA\",\" CA\",\" CA\",\" CA\",\" CA\",\" CA\",\" CA\",\" CA\",\" CA\",\" CA\",\" CA\",\" CA\",\" CA\",\" CA\",\" CA\",\" CA\",\" CA\",\" CA\",\" CA\",\" CA\",\" CA\",\" CA\",\" CA\",\" CA\",\" CA\",\" CA\",\" CA\",\" CA\",\" CA\",\" CA\",\" CA\",\" CA\",\" CA\",\" CA\",\" CA\",\" CA\",\" CA\",\" CA\",\" CA\",\" CA\",\" CA\",\" CA\",\" CA\",\" CA\",\" CA\",\" CA\",\" CA\",\" CA\",\" CA\",\" CA\",\" CA\",\" CA\",\" CA\",\" CA\",\" CA\",\" CA\",\" CA\",\" CA\",\" CA\",\" CA\",\" CA\",\" CA\",\" CA\",\" CA\",\" CA\",\" CA\",\" CA\",\" CA\",\" CA\",\" CA\",\" CA\",\" CA\",\" CA\",\" CA\",\" CA\",\" CA\",\" CA\",\" CA\",\" CA\",\" CA\",\" CA\",\" CA\",\" CA\",\" CA\",\" CA\",\" CA\",\" CA\",\" CA\",\" CA\",\" CA\",\" CA\",\" CA\",\" CA\",\" CA\",\" CA\",\" CA\",\" CA\",\" CA\",\" CA\",\" CA\",\" CA\",\" CA\",\" CA\",\" CA\",\" CA\",\" CA\",\" CA\",\" CA\",\" CA\",\" CA\",\" CA\",\" CA\",\" CA\",\" CA\",\" CA\",\" CA\",\" CO\",\" CO\",\" CO\",\" CO\",\" CO\",\" CO\",\" CO\",\" CO\",\" CO\",\" CO\",\" CO\",\" CO\",\" CO\",\" CO\",\" CO\",\" CO\",\" CO\",\" CO\",\" CO\",\" CO\",\" CO\",\" CO\",\" CO\",\" CO\",\" CO\",\" CT\",\" CT\",\" CT\",\" CT\",\" CT\",\" CT\",\" CT\",\" CT\",\" CT\",\" CT\",\" CT\",\" CT\",\" CT\",\" CT\",\" CT\",\" CT\",\" CT\",\" CT\",\" CT\",\" CT\",\" CT\",\" CT\",\" CT\",\" CT\",\" CT\",\" CT\",\" CT\",\" CT\",\" CT\",\" CT\",\" CT\",\" CT\",\" CT\",\" CT\",\" CT\",\" CT\",\" CT\",\" CT\",\" CT\",\" CT\",\" CT\",\" CT\",\" CT\",\" CT\",\" CT\",\" CT\",\" CT\",\" CT\",\" CT\",\" CT\",\" CT\",\" CT\",\" CT\",\" CT\",\" CT\",\" CT\",\" CT\",\" CT\",\" CT\",\" CT\",\" CT\",\" CT\",\" CT\",\" CT\",\" CT\",\" CT\",\" CT\",\" CT\",\" CT\",\" DE\",\" DC\",\" FL\",\" FL\",\" FL\",\" FL\",\" FL\",\" FL\",\" FL\",\" FL\",\" FL\",\" FL\",\" FL\",\" FL\",\" FL\",\" FL\",\" FL\",\" FL\",\" FL\",\" FL\",\" FL\",\" FL\",\" FL\",\" FL\",\" FL\",\" FL\",\" FL\",\" FL\",\" FL\",\" FL\",\" FL\",\" FL\",\" FL\",\" FL\",\" FL\",\" FL\",\" FL\",\" FL\",\" FL\",\" FL\",\" FL\",\" FL\",\" FL\",\" FL\",\" FL\",\" FL\",\" FL\",\" FL\",\" FL\",\" FL\",\" FL\",\" FL\",\" FL\",\" FL\",\" FL\",\" FL\",\" FL\",\" FL\",\" FL\",\" FL\",\" FL\",\" FL\",\" FL\",\" FL\",\" FL\",\" FL\",\" FL\",\" FL\",\" FL\",\" FL\",\" FL\",\" FL\",\" FL\",\" FL\",\" FL\",\" FL\",\" FL\",\" FL\",\" FL\",\" FL\",\" FL\",\" FL\",\" FL\",\" FL\",\" FL\",\" FL\",\" FL\",\" FL\",\" FL\",\" FL\",\" FL\",\" FL\",\" GA\",\" GA\",\" GA\",\" GA\",\" GA\",\" GA\",\" GA\",\" GA\",\" GA\",\" GA\",\" GA\",\" GA\",\" GA\",\" GA\",\" GA\",\" GA\",\" GA\",\" GA\",\" GA\",\" GA\",\" GA\",\" GA\",\" GA\",\" GA\",\" GA\",\" GA\",\" GA\",\" GA\",\" GA\",\" GA\",\" GA\",\" GA\",\" GA\",\" GA\",\" GA\",\" GA\",\" GA\",\" ID\",\" ID\",\" ID\",\" ID\",\" ID\",\" ID\",\" ID\",\" IN\",\" IN\",\" IN\",\" IN\",\" IN\",\" IN\",\" IN\",\" IN\",\" IN\",\" IN\",\" IN\",\" IN\",\" IN\",\" IN\",\" IN\",\" IN\",\" IN\",\" IN\",\" IN\",\" IN\",\" IN\",\" IN\",\" IN\",\" IN\",\" IN\",\" IN\",\" IN\",\" IN\",\" IN\",\" IN\",\" IN\",\" IN\",\" IN\",\" IN\",\" IN\",\" IN\",\" IN\",\" IN\",\" IN\",\" IN\",\" IN\",\" IN\",\" IN\",\" IN\",\" IN\",\" IN\",\" IN\",\" IN\",\" IA\",\" IA\",\" IA\",\" IA\",\" IA\",\" IA\",\" IA\",\" IA\",\" IA\",\" IA\",\" IA\",\" IA\",\" IA\",\" IA\",\" IA\",\" IA\",\" IA\",\" IA\",\" IA\",\" IA\",\" KS\",\" KY\",\" KY\",\" KY\",\" KY\",\" KY\",\" KY\",\" KY\",\" KY\",\" KY\",\" KY\",\" KY\",\" KY\",\" KY\",\" KY\",\" KY\",\" KY\",\" KY\",\" KY\",\" KY\",\" KY\",\" KY\",\" KY\",\" KY\",\" KY\",\" KY\",\" KY\",\" LA\",\" LA\",\" LA\",\" LA\",\" LA\",\" LA\",\" LA\",\" LA\",\" LA\",\" LA\",\" LA\",\" LA\",\" LA\",\" LA\",\" LA\",\" LA\",\" LA\",\" LA\",\" LA\",\" LA\",\" LA\",\" LA\",\" ME\",\" ME\",\" ME\",\" ME\",\" ME\",\" ME\",\" ME\",\" ME\",\" ME\",\" ME\",\" ME\",\" ME\",\" ME\",\" ME\",\" ME\",\" ME\",\" ME\",\" MD\",\" MD\",\" MD\",\" MD\",\" MD\",\" MD\",\" MD\",\" MD\",\" MD\",\" MD\",\" MD\",\" MD\",\" MA\",\" MA\",\" MA\",\" MA\",\" MA\",\" MA\",\" MA\",\" MA\",\" MA\",\" MA\",\" MA\",\" MA\",\" MA\",\" MA\",\" MA\",\" MA\",\" MA\",\" MA\",\" MA\",\" MA\",\" MA\",\" MA\",\" MA\",\" MA\",\" MA\",\" MA\",\" MA\",\" MA\",\" MA\",\" MA\",\" MA\",\" MA\",\" MA\",\" MA\",\" MA\",\" MA\",\" MA\",\" MA\",\" MA\",\" MA\",\" MA\",\" MA\",\" MA\",\" MA\",\" MA\",\" MA\",\" MA\",\" MA\",\" MA\",\" MA\",\" MA\",\" MA\",\" MA\",\" MA\",\" MA\",\" MA\",\" MA\",\" MA\",\" MA\",\" MA\",\" MA\",\" MA\",\" MA\",\" MA\",\" MA\",\" MA\",\" MA\",\" MA\",\" MA\",\" MA\",\" MA\",\" MA\",\" MA\",\" MA\",\" MA\",\" MA\",\" MA\",\" MA\",\" MA\",\" MA\",\" MA\",\" MA\",\" MA\",\" MA\",\" MA\",\" MA\",\" MA\",\" MA\",\" MA\",\" MA\",\" MA\",\" MA\",\" MA\",\" MA\",\" MA\",\" MA\",\" MA\",\" MA\",\" MA\",\" MA\",\" MA\",\" MA\",\" MA\",\" MA\",\" MA\",\" MA\",\" MA\",\" MA\",\" MA\",\" MA\",\" MA\",\" MA\",\" MA\",\" MA\",\" MA\",\" MA\",\" MA\",\" MA\",\" MA\",\" MA\",\" MA\",\" MN\",\" MN\",\" MN\",\" MN\",\" MN\",\" MN\",\" MN\",\" MS\",\" MS\",\" MS\",\" MS\",\" MS\",\" MS\",\" MS\",\" MS\",\" MS\",\" MS\",\" MS\",\" MS\",\" MS\",\" MS\",\" MS\",\" MS\",\" MS\",\" MS\",\" MS\",\" MO\",\" MO\",\" MO\",\" MO\",\" MO\",\" MO\",\" MO\",\" MO\",\" MO\",\" MO\",\" MO\",\" MO\",\" MO\",\" MO\",\" MO\",\" MO\",\" MO\",\" MO\",\" MO\",\" MO\",\" MO\",\" MO\",\" MO\",\" MO\",\" MO\",\" MO\",\" MO\",\" MO\",\" MO\",\" MO\",\" MO\",\" MO\",\" MO\",\" MO\",\" MO\",\" MO\",\" MO\",\" MO\",\" MO\",\" MO\",\" MO\",\" MO\",\" NV\",\" NV\",\" NV\",\" NV\",\" NV\",\" NH\",\" NH\",\" NH\",\" NH\",\" NH\",\" NH\",\" NH\",\" NH\",\" NH\",\" NH\",\" NH\",\" NH\",\" NH\",\" NH\",\" NH\",\" NH\",\" NH\",\" NH\",\" NH\",\" NH\",\" NH\",\" NJ\",\" NJ\",\" NJ\",\" NJ\",\" NJ\",\" NJ\",\" NJ\",\" NJ\",\" NJ\",\" NJ\",\" NJ\",\" NJ\",\" NJ\",\" NJ\",\" NJ\",\" NJ\",\" NJ\",\" NJ\",\" NJ\",\" NJ\",\" NJ\",\" NJ\",\" NJ\",\" NJ\",\" NJ\",\" NJ\",\" NJ\",\" NJ\",\" NJ\",\" NJ\",\" NJ\",\" NJ\",\" NJ\",\" NJ\",\" NJ\",\" NJ\",\" NJ\",\" NJ\",\" NJ\",\" NJ\",\" NJ\",\" NJ\",\" NJ\",\" NJ\",\" NJ\",\" NJ\",\" NJ\",\" NJ\",\" NJ\",\" NJ\",\" NJ\",\" NJ\",\" NJ\",\" NJ\",\" NJ\",\" NJ\",\" NJ\",\" NJ\",\" NJ\",\" NJ\",\" NJ\",\" NJ\",\" NJ\",\" NJ\",\" NJ\",\" NJ\",\" NJ\",\" NJ\",\" NJ\",\" NJ\",\" NJ\",\" NJ\",\" NJ\",\" NJ\",\" NJ\",\" NJ\",\" NJ\",\" NJ\",\" NJ\",\" NJ\",\" NJ\",\" NJ\",\" NJ\",\" NJ\",\" NJ\",\" NJ\",\" NJ\",\" NJ\",\" NJ\",\" NJ\",\" NJ\",\" NJ\",\" NJ\",\" NJ\",\" NJ\",\" NJ\",\" NJ\",\" NJ\",\" NJ\",\" NJ\",\" NJ\",\" NJ\",\" NJ\",\" NJ\",\" NJ\",\" NJ\",\" NJ\",\" NJ\",\" NJ\",\" NJ\",\" NJ\",\" NJ\",\" NJ\",\" NJ\",\" NJ\",\" NJ\",\" NJ\",\" NJ\",\" NJ\",\" NJ\",\" NJ\",\" NJ\",\" NJ\",\" NJ\",\" NJ\",\" NJ\",\" NJ\",\" NJ\",\" NJ\",\" NJ\",\" NJ\",\" NJ\",\" NJ\",\" NJ\",\" NJ\",\" NJ\",\" NJ\",\" NJ\",\" NJ\",\" NJ\",\" NJ\",\" NJ\",\" NJ\",\" NJ\",\" NJ\",\" NJ\",\" NJ\",\" NJ\",\" NJ\",\" NJ\",\" NJ\",\" NJ\",\" NJ\",\" NJ\",\" NJ\",\" NJ\",\" NJ\",\" NJ\",\" NJ\",\" NJ\",\" NJ\",\" NJ\",\" NJ\",\" NJ\",\" NJ\",\" NJ\",\" NJ\",\" NJ\",\" NJ\",\" NJ\",\" NJ\",\" NJ\",\" NJ\",\" NJ\",\" NJ\",\" NJ\",\" NJ\",\" NJ\",\" NJ\",\" NJ\",\" NJ\",\" NJ\",\" NJ\",\" NJ\",\" NJ\",\" NJ\",\" NJ\",\" NJ\",\" NJ\",\" NJ\",\" NJ\",\" NJ\",\" NJ\",\" NJ\",\" NJ\",\" NJ\",\" NJ\",\" NJ\",\" NJ\",\" NJ\",\" NJ\",\" NJ\",\" NJ\",\" NJ\",\" NJ\",\" NJ\",\" NJ\",\" NJ\",\" NJ\",\" NJ\",\" NJ\",\" NM\",\" NM\",\" NM\",\" NM\",\" NM\",\" NM\",\" NM\",\" NM\",\" NM\",\" NM\",\" NY\",\" NY\",\" NY\",\" NY\",\" NY\",\" NY\",\" NY\",\" NY\",\" NY\",\" NY\",\" NY\",\" NY\",\" NY\",\" NY\",\" NY\",\" NY\",\" NY\",\" NY\",\" NY\",\" NY\",\" NY\",\" NY\",\" NY\",\" NY\",\" NY\",\" NY\",\" NY\",\" NY\",\" NY\",\" NY\",\" NY\",\" NY\",\" NY\",\" NY\",\" NY\",\" NY\",\" NY\",\" NY\",\" NY\",\" NY\",\" NY\",\" NY\",\" NY\",\" NY\",\" NY\",\" NY\",\" NC\",\" NC\",\" NC\",\" NC\",\" NC\",\" NC\",\" NC\",\" NC\",\" NC\",\" NC\",\" NC\",\" NC\",\" NC\",\" NC\",\" NC\",\" NC\",\" NC\",\" NC\",\" NC\",\" NC\",\" NC\",\" NC\",\" NC\",\" NC\",\" NC\",\" NC\",\" NC\",\" NC\",\" NC\",\" NC\",\" NC\",\" NC\",\" NC\",\" NC\",\" NC\",\" NC\",\" NC\",\" NC\",\" NC\",\" NC\",\" NC\",\" NC\",\" NC\",\" NC\",\" NC\",\" NC\",\" ND\",\" ND\",\" ND\",\" ND\",\" ND\",\" ND\",\" ND\",\" ND\",\" OH\",\" OH\",\" OH\",\" OH\",\" OH\",\" OH\",\" OH\",\" OH\",\" OH\",\" OH\",\" OH\",\" OH\",\" OH\",\" OH\",\" OH\",\" OH\",\" OH\",\" OH\",\" OH\",\" OH\",\" OH\",\" OH\",\" OH\",\" OH\",\" OH\",\" OH\",\" OH\",\" OH\",\" OH\",\" OH\",\" OH\",\" OH\",\" OH\",\" OH\",\" OH\",\" OH\",\" OH\",\" OH\",\" OH\",\" OH\",\" OH\",\" OH\",\" OH\",\" OH\",\" OH\",\" OH\",\" OH\",\" OH\",\" OH\",\" OH\",\" OH\",\" OH\",\" OH\",\" OH\",\" OH\",\" OH\",\" OH\",\" OH\",\" OH\",\" OH\",\" OH\",\" OH\",\" OH\",\" OH\",\" OH\",\" OH\",\" OH\",\" OH\",\" OH\",\" OH\",\" OH\",\" OH\",\" OH\",\" OH\",\" OH\",\" OH\",\" OH\",\" OH\",\" OH\",\" OH\",\" OH\",\" OH\",\" OH\",\" OH\",\" OH\",\" OH\",\" OH\",\" OH\",\" OH\",\" OH\",\" OH\",\" OH\",\" OH\",\" OH\",\" OH\",\" OH\",\" OH\",\" OH\",\" OH\",\" OH\",\" OH\",\" OH\",\" OH\",\" OH\",\" OH\",\" OH\",\" OH\",\" OH\",\" OH\",\" OK\",\" OK\",\" OK\",\" OK\",\" OK\",\" OK\",\" OK\",\" OK\",\" OK\",\" OK\",\" OK\",\" OK\",\" OK\",\" OK\",\" OK\",\" OK\",\" OK\",\" OK\",\" OK\",\" OK\",\" OK\",\" OK\",\" OK\",\" OK\",\" OK\",\" OK\",\" OK\",\" OK\",\" OK\",\" OK\",\" OK\",\" OK\",\" OK\",\" OK\",\" OK\",\" OK\",\" OR\",\" OR\",\" OR\",\" OR\",\" OR\",\" OR\",\" OR\",\" OR\",\" OR\",\" OR\",\" OR\",\" OR\",\" OR\",\" OR\",\" OR\",\" OR\",\" OR\",\" OR\",\" OR\",\" OR\",\" OR\",\" OR\",\" OR\",\" OR\",\" OR\",\" OR\",\" OR\",\" OR\",\" OR\",\" OR\",\" OR\",\" PA\",\" PA\",\" PA\",\" PA\",\" PA\",\" PA\",\" PA\",\" PA\",\" PA\",\" PA\",\" PA\",\" PA\",\" PA\",\" PA\",\" PA\",\" PA\",\" PA\",\" PA\",\" PA\",\" PA\",\" PA\",\" PA\",\" PA\",\" PA\",\" PA\",\" PA\",\" PA\",\" PA\",\" PA\",\" PA\",\" PA\",\" PA\",\" PA\",\" PA\",\" PA\",\" PA\",\" PA\",\" PA\",\" PA\",\" PA\",\" PA\",\" PA\",\" PA\",\" PA\",\" PA\",\" PA\",\" PA\",\" PA\",\" PA\",\" PA\",\" PA\",\" PA\",\" PA\",\" PA\",\" PA\",\" PA\",\" PA\",\" PA\",\" PA\",\" PA\",\" PA\",\" PA\",\" PA\",\" PA\",\" PA\",\" PA\",\" PA\",\" PA\",\" PA\",\" PA\",\" PA\",\" PA\",\" PA\",\" PA\",\" PA\",\" PA\",\" PA\",\" PA\",\" PA\",\" PA\",\" PA\",\" PA\",\" PA\",\" PA\",\" PA\",\" PA\",\" PA\",\" PA\",\" PA\",\" PA\",\" PA\",\" PA\",\" PA\",\" PA\",\" PA\",\" PA\",\" PA\",\" PA\",\" PA\",\" PA\",\" PA\",\" RI\",\" RI\",\" RI\",\" RI\",\" RI\",\" RI\",\" RI\",\" RI\",\" RI\",\" RI\",\" RI\",\" RI\",\" RI\",\" RI\",\" RI\",\" RI\",\" RI\",\" RI\",\" RI\",\" RI\",\" RI\",\" RI\",\" RI\",\" RI\",\" RI\",\" RI\",\" SC\",\" SC\",\" SC\",\" SC\",\" SC\",\" SC\",\" SC\",\" SC\",\" SC\",\" SC\",\" SC\",\" SC\",\" SC\",\" SC\",\" SC\",\" SC\",\" SC\",\" SC\",\" SC\",\" SC\",\" SC\",\" SC\",\" SC\",\" SC\",\" SC\",\" SC\",\" SC\",\" SC\",\" SD\",\" SD\",\" SD\",\" SD\",\" SD\",\" SD\",\" SD\",\" SD\",\" SD\",\" TN\",\" TN\",\" TN\",\" TN\",\" TN\",\" TN\",\" TN\",\" TN\",\" TN\",\" TN\",\" TN\",\" TN\",\" TN\",\" TN\",\" TN\",\" TN\",\" TN\",\" TN\",\" TN\",\" TN\",\" TN\",\" TN\",\" TN\",\" TN\",\" TN\",\" TN\",\" TN\",\" TN\",\" TN\",\" TN\",\" TN\",\" TN\",\" TN\",\" TN\",\" TN\",\" TX\",\" TX\",\" TX\",\" TX\",\" TX\",\" TX\",\" TX\",\" TX\",\" TX\",\" TX\",\" TX\",\" TX\",\" TX\",\" TX\",\" TX\",\" TX\",\" TX\",\" TX\",\" TX\",\" TX\",\" TX\",\" TX\",\" TX\",\" TX\",\" TX\",\" TX\",\" TX\",\" TX\",\" TX\",\" TX\",\" TX\",\" TX\",\" TX\",\" TX\",\" TX\",\" TX\",\" TX\",\" TX\",\" TX\",\" TX\",\" TX\",\" TX\",\" TX\",\" TX\",\" TX\",\" TX\",\" TX\",\" TX\",\" TX\",\" TX\",\" TX\",\" TX\",\" TX\",\" TX\",\" TX\",\" TX\",\" TX\",\" TX\",\" TX\",\" TX\",\" TX\",\" TX\",\" TX\",\" TX\",\" TX\",\" TX\",\" TX\",\" TX\",\" TX\",\" TX\",\" TX\",\" TX\",\" TX\",\" TX\",\" TX\",\" TX\",\" TX\",\" TX\",\" TX\",\" TX\",\" TX\",\" TX\",\" TX\",\" TX\",\" TX\",\" TX\",\" TX\",\" TX\",\" TX\",\" TX\",\" TX\",\" TX\",\" TX\",\" TX\",\" TX\",\" TX\",\" TX\",\" TX\",\" TX\",\" TX\",\" TX\",\" TX\",\" TX\",\" TX\",\" TX\",\" TX\",\" TX\",\" TX\",\" TX\",\" TX\",\" TX\",\" TX\",\" TX\",\" TX\",\" TX\",\" TX\",\" TX\",\" TX\",\" TX\",\" TX\",\" TX\",\" TX\",\" TX\",\" TX\",\" TX\",\" TX\",\" TX\",\" TX\",\" TX\",\" TX\",\" TX\",\" TX\",\" TX\",\" TX\",\" TX\",\" TX\",\" TX\",\" TX\",\" TX\",\" TX\",\" TX\",\" TX\",\" TX\",\" TX\",\" TX\",\" TX\",\" TX\",\" TX\",\" TX\",\" TX\",\" TX\",\" TX\",\" TX\",\" TX\",\" TX\",\" TX\",\" UT\",\" UT\",\" UT\",\" UT\",\" UT\",\" UT\",\" UT\",\" UT\",\" UT\",\" UT\",\" UT\",\" UT\",\" UT\",\" UT\",\" UT\",\" UT\",\" UT\",\" UT\",\" UT\",\" UT\",\" UT\",\" UT\",\" UT\",\" UT\",\" VT\",\" VT\",\" VT\",\" VT\",\" VA\",\" VA\",\" VA\",\" VA\",\" VA\",\" VA\",\" VA\",\" VA\",\" VA\",\" VA\",\" VA\",\" VA\",\" VA\",\" VA\",\" VA\",\" VA\",\" VA\",\" VA\",\" VA\",\" VA\",\" VA\",\" VA\",\" VA\",\" VA\",\" VA\",\" VA\",\" VA\",\" VA\",\" VA\",\" VA\",\" VA\",\" VA\",\" VA\",\" WA\",\" WA\",\" WA\",\" WA\",\" WA\",\" WA\",\" WA\",\" WA\",\" WA\",\" WA\",\" WA\",\" WA\",\" WA\",\" WA\",\" WA\",\" WA\",\" WA\",\" WA\",\" WA\",\" WA\",\" WA\",\" WA\",\" WA\",\" WA\",\" WA\",\" WA\",\" WA\",\" WA\",\" WA\",\" WA\",\" WA\",\" WA\",\" WA\",\" WA\",\" WA\",\" WA\",\" WA\",\" WA\",\" WA\",\" WA\",\" WV\",\" WV\",\" WV\",\" WV\",\" WV\",\" WV\",\" WV\",\" WV\",\" WV\",\" WV\",\" WV\",\" WV\",\" WV\",\" WV\",\" WI\",\" WI\",\" WI\",\" WI\",\" WI\",\" WI\",\" WI\",\" WI\",\" WI\",\" WI\",\" WI\",\" WI\",\" WI\",\" WI\",\" WI\",\" WI\",\" WI\",\" WI\",\" WI\",\" WI\",\" WI\",\" WI\",\" WI\",\" WI\",\" WI\",\" WI\",\" WI\",\" WI\",\" WI\",\" WI\",\" WI\",\" WI\",\" WI\",\" WI\",\" WI\",\" WI\",\" WI\",\" WI\",\" WI\",\" WI\",\" WI\",\" WI\",\" WI\",\" WI\",\" WI\",\" WI\",\" WI\",\" WI\",\" WI\",\" WI\",\" WI\",\" WI\",\" WI\",\" WI\",\" WI\",\" WI\",\" WI\",\" WI\",\" WI\",\" WI\",\" WY\",\" WY\",\" WY\",\" WY\",\" WY\",\" WY\",\" WY\"],\"name\":\"\",\"z\":[0.1,0.15,0.05,0.09,0.51,0.8,1.0,1.0,0.28,0.23,0.25,0.15,0.03,0.31,0.34,0.06,0.55,0.22,0.53,0.9,0.53,0.65,0.01,0.08,0.16,1.0,0.35,1.0,0.22,0.41,0.01,0.5,0.15,0.52,0.02,0.14,0.19,0.35,1.0,0.03,0.44,0.62,1.0,0.36,0.05,0.31,0.07,0.57,0.3,0.2,0.34,0.08,0.33,0.18,0.09,0.45,0.34,0.32,0.16,0.1,0.06,0.05,0.1,0.17,0.4,0.23,0.3,0.11,0.19,0.07,0.61,0.9,0.04,0.36,0.21,0.08,0.57,0.24,0.34,1.0,0.03,0.04,0.05,0.54,0.09,0.24,0.29,0.42,0.11,0.02,0.2,0.06,0.16,1.0,0.33,0.13,0.1,0.46,0.12,0.25,0.39,0.13,0.5,0.22,0.04,0.23,0.06,0.2,0.26,1.0,0.23,0.26,0.19,1.0,0.43,0.36,0.14,0.2,0.1,0.11,0.09,0.54,0.29,0.1,0.39,0.19,0.41,1.0,0.07,0.36,0.52,0.86,0.13,0.2,0.56,0.22,0.41,1.0,0.37,0.12,1.0,0.16,0.53,0.42,0.25,0.68,0.08,0.5,0.39,0.83,0.34,0.22,0.4,0.13,0.23,0.35,0.07,0.24,0.22,0.24,0.19,0.33,0.1,0.01,0.21,0.9,0.82,0.23,0.28,0.16,0.45,0.08,0.61,0.14,0.62,0.37,0.27,0.36,0.25,0.16,0.07,0.15,0.41,0.24,0.13,0.26,0.29,0.3,1.0,0.5,0.15,0.19,0.11,0.22,0.33,0.13,0.37,0.25,0.03,0.42,0.38,0.27,0.06,0.81,0.69,0.25,0.14,0.53,0.29,0.33,0.2,0.22,0.36,0.25,0.18,0.49,0.28,0.67,0.14,0.48,0.53,0.45,0.3,0.75,0.3,0.32,0.48,0.11,0.26,0.2,0.16,0.14,0.29,0.13,0.11,0.25,0.32,0.63,0.29,0.67,0.16,0.36,0.38,0.11,0.18,0.37,0.05,0.38,0.24,0.19,0.06,0.16,1.0,0.04,0.2,0.4,0.1,0.19,0.2,0.15,0.45,0.41,0.22,0.45,0.6,0.38,0.16,0.3,1.0,0.38,0.66,0.51,0.12,0.06,0.2,0.17,0.2,0.16,0.51,0.1,0.31,0.26,0.27,0.31,0.22,0.12,0.55,0.21,0.03,0.57,0.41,0.37,0.32,0.25,0.14,0.65,0.15,0.47,0.36,0.15,0.15,0.57,0.12,0.39,0.14,0.52,0.33,0.7,0.54,0.14,0.28,0.53,0.59,0.52,0.14,0.25,0.97,0.18,0.36,0.3,0.48,0.2,0.24,0.11,0.37,0.14,0.08,0.14,0.21,0.4,0.68,0.45,0.24,0.26,0.49,0.36,0.25,0.32,0.54,0.7,0.84,0.31,0.21,0.34,0.25,0.45,0.68,0.22,0.62,0.29,0.18,0.16,0.1,0.02,0.31,0.51,0.15,0.27,0.08,0.22,0.26,0.27,0.55,0.67,0.17,0.14,0.68,0.86,0.03,0.11,0.15,0.14,0.62,0.32,0.24,0.43,0.12,0.11,0.09,0.21,0.15,0.12,0.07,0.2,0.16,0.11,0.15,0.13,0.11,0.08,0.07,0.7,0.75,0.09,0.02,0.08,0.04,0.02,0.19,0.04,0.14,0.14,0.06,0.23,0.08,0.04,0.04,0.05,0.06,0.03,0.21,0.07,0.88,0.03,0.04,0.03,0.02,0.03,0.11,0.03,0.01,0.16,0.12,0.02,0.03,0.09,0.02,0.02,0.02,0.03,0.02,0.04,0.09,0.03,0.08,0.02,0.3,0.0,0.29,0.17,0.02,0.04,0.06,0.04,0.94,0.01,0.18,0.02,0.1,0.02,0.01,0.03,0.02,0.22,0.06,0.14,0.79,0.09,0.05,0.09,0.08,0.09,0.04,0.37,1.0,0.65,0.67,1.0,0.76,0.13,0.08,0.06,0.54,0.82,0.58,0.59,0.35,0.21,0.1,0.15,0.59,0.22,0.26,0.63,0.21,0.45,0.36,1.0,0.59,0.63,0.34,0.5,0.18,0.23,0.59,0.11,0.39,0.08,0.26,0.86,0.14,0.48,0.56,1.0,0.26,0.25,0.21,0.21,0.34,0.17,0.34,0.41,0.23,0.27,0.81,0.2,0.73,0.22,0.18,0.95,0.63,0.24,1.0,0.6,0.4,1.0,0.82,0.8,0.31,0.69,0.14,0.87,0.54,0.07,0.69,0.48,1.0,1.0,0.39,0.12,0.15,0.17,0.09,1.0,0.45,0.14,0.83,0.19,0.66,0.22,1.0,0.15,0.13,0.4,0.75,0.34,0.42,0.46,0.25,0.33,0.0,0.25,0.51,0.78,0.41,0.65,0.56,0.4,0.3,0.47,0.11,0.03,0.77,0.25,0.35,0.03,0.56,0.35,0.55,0.41,1.0,0.71,0.15,0.15,0.34,0.53,0.86,0.08,0.18,0.24,0.13,0.3,0.14,0.1,0.14,0.07,0.02,0.18,0.13,0.02,0.28,0.11,0.1,0.01,0.18,0.45,0.08,1.0,0.03,0.01,0.58,0.23,0.07,0.89,0.41,0.69,0.08,0.17,0.05,0.13,0.03,0.09,0.53,0.53,0.34,0.18,0.09,0.12,0.07,0.01,0.08,0.08,0.01,0.15,0.07,0.03,0.27,0.05,0.21,0.22,0.29,0.24,0.2,0.11,0.13,0.06,0.08,0.19,0.0,0.45,0.01,0.65,0.13,0.3,0.07,0.04,0.27,0.63,0.03,0.19,0.04,0.06,0.16,0.05,0.05,0.01,0.04,0.36,0.36,0.45,0.03,0.23,0.26,0.04,0.32,0.21,0.11,0.21,0.14,0.48,0.33,0.19,0.19,0.53,0.43,0.41,0.24,0.16,0.03,0.15,0.19,0.69,0.66,0.27,0.25,0.39,1.0,0.53,0.84,0.05,0.5,0.33,0.61,0.14,0.42,0.37,0.81,0.6,0.44,0.36,0.53,0.66,0.33,1.0,0.44,0.5,0.28,0.06,0.01,0.01,0.09,0.07,0.04,0.09,0.01,0.15,0.07,0.01,0.05,0.03,0.04,0.03,0.03,0.2,0.59,1.0,0.26,0.62,0.23,0.91,0.46,0.26,0.43,0.51,0.29,0.27,0.04,0.02,0.21,0.7,0.15,0.53,0.17,0.09,0.15,0.09,0.37,0.07,0.11,0.04,0.1,0.26,0.01,0.06,0.01,0.15,0.13,0.12,0.09,0.49,0.16,0.12,0.69,0.18,0.1,0.12,0.05,0.75,0.02,0.28,0.37,0.03,0.2,0.18,0.05,0.06,0.07,0.14,0.06,0.13,0.02,0.02,0.1,0.11,0.09,0.09,0.06,0.07,0.4,0.59,0.08,0.18,0.01,0.69,0.11,0.08,0.37,0.18,0.05,0.15,0.06,0.34,0.08,0.08,0.14,0.28,0.44,0.32,0.03,0.08,0.22,0.81,0.73,0.04,0.0,0.11,0.03,0.24,0.11,0.08,0.17,0.21,0.12,0.02,0.09,0.15,0.13,0.06,0.1,0.24,0.09,0.22,0.88,0.41,0.05,0.37,0.04,0.13,0.08,0.03,0.02,0.23,0.15,0.04,0.08,0.03,0.2,0.17,0.15,0.11,0.31,0.25,0.19,0.04,0.02,0.54,0.2,0.75,0.08,0.11,0.15,0.12,0.04,0.31,0.23,0.29,0.1,0.96,0.23,0.45,0.2,0.59,0.16,0.13,0.18,0.05,0.12,0.32,0.3,0.29,0.09,0.19,0.04,0.09,0.15,0.11,0.05,0.02,0.03,0.31,0.05,0.06,0.41,0.24,0.05,0.27,0.54,0.11,0.22,0.17,0.08,0.18,0.09,0.14,0.32,0.24,0.09,0.22,0.16,0.17,0.06,0.35,0.07,0.07,0.14,0.24,0.21,1.0,0.26,0.06,0.1,0.16,0.17,0.19,0.28,0.12,0.11,0.42,0.2,0.16,0.04,0.06,0.06,0.02,0.12,0.03,0.06,0.17,0.01,0.04,0.26,0.09,0.1,0.01,0.03,0.09,0.03,0.04,0.06,0.09,0.02,0.07,0.1,0.08,0.06,0.07,0.05,0.26,0.03,0.44,0.1,0.04,0.08,0.04,0.23,0.08,0.17,0.13,0.12,0.16,0.19,0.17,0.93,0.03,0.24,0.05,0.14,0.01,0.03,0.71,0.02,0.09,0.18,0.37,0.04,0.04,0.11,0.04,0.12,0.02,0.32,0.03,0.24,0.12,0.33,0.08,0.06,0.05,0.09,0.11,0.03,0.07,0.62,0.28,0.07,0.04,0.2,0.12,0.1,0.12,0.05,0.12,0.02,0.04,0.05,0.19,0.17,0.08,0.09,0.05,1.0,0.23,0.2,0.04,0.04,0.05,0.21,0.05,0.18,0.39,0.17,0.6,0.02,0.1,0.03,0.04,0.03,0.12,0.03,0.22,0.03,1.0,0.02,0.21,0.05,0.06,0.02,0.5,0.08,0.02,0.06,0.03,0.38,0.13,0.05,0.02,0.06,0.65,0.03,0.06,0.01,0.16,1.0,0.07,0.13,0.02,0.09,0.03,0.11,0.18,0.25,0.11,0.05,0.11,0.03,0.05,1.0,0.16,0.04,0.04,0.54,0.08,0.2,0.12,0.09,0.09,0.04,0.04,0.07,0.1,0.04,0.1,0.13,0.03,0.06,0.85,0.1,0.04,0.04,0.02,0.03,0.05,0.03,0.03,0.15,0.03,0.04,0.04,0.16,0.04,0.04,0.05,0.04,0.24,0.13,0.06,0.12,0.18,0.26,0.65,0.06,0.27,0.17,0.18,0.04,0.06,0.1,0.08,0.06,0.09,0.1,0.02,0.04,0.05,0.1,0.19,0.18,0.02,0.04,0.83,0.04,0.04,0.07,0.2,0.28,1.0,1.0,0.51,0.03,0.12,0.12,0.04,0.16,0.08,0.1,0.01,0.17,0.36,0.11,0.12,0.85,0.12,0.34,0.34,0.2,0.22,0.12,0.54,0.66,0.66,0.25,0.6,0.07,0.08,0.0,0.1,0.08,0.43,0.48,0.49,0.12,0.31,0.45,0.3,0.27,0.04,0.38,0.13,0.15,0.87,0.23,0.64,0.59,0.8,0.15,0.82,0.05,0.2,0.04,0.02,0.01,0.06,0.01,0.08,0.2,0.16,0.28,0.11,0.02,0.3,0.05,0.18,0.28,0.35,0.14,0.55,0.0,0.52,0.46,0.26,0.37,0.28,0.26,0.4,0.61,0.11,0.39,0.29,0.21,0.06,0.53,0.3,0.55,0.61,0.6,0.74,0.4,0.37,0.59,0.24,0.91,0.21,0.12,0.51,0.2,0.34,0.22,0.35,0.5,0.46,0.36,0.48,0.2,0.52,0.36,0.65,0.73,0.19,0.23,0.86,0.07,0.42,0.45,0.02,0.02,0.05,0.05,0.05,0.02,0.03,0.04,0.97,0.06,0.0,0.03,0.02,0.45,0.06,0.1,0.09,0.04,0.38,0.03,0.02,0.67,0.14,0.03,0.05,0.04,0.03,0.59,0.07,0.62,0.11,0.16,0.79,0.1,0.1,0.05,0.09,0.01,0.3,0.12,0.05,0.05,0.04,0.04,1.0,0.42,0.13,0.1,0.02,0.19,0.1,0.69,0.32,0.09,0.95,0.14,0.01,0.05,0.05,0.02,0.16,0.09,0.1,0.03,0.08,0.1,0.08,0.14,0.15,0.64,0.06,0.04,0.18,0.05,0.06,0.17,0.07,0.27,0.05,0.04,0.04,0.12,0.02,0.15,0.19,0.03,0.18,0.13,0.05,0.07,0.07,0.01,0.41,0.12,0.11,0.03,0.05,0.03,0.03,0.08,0.12,0.2,0.07,0.03,0.05,0.06,0.11,0.51,0.02,0.05,0.17,0.17,0.2,0.46,0.1,0.17,0.07,0.12,0.16,0.39,0.19,0.1,0.18,0.09,0.47,0.54,0.21,0.48,0.07,0.3,0.18,0.06,0.21,0.09,0.12,0.09,0.14,0.21,0.17,0.57,0.15,0.37,0.05,0.41,0.25,0.12,0.06,0.22,0.07,0.07,0.13,0.1,0.11,0.21,0.22,0.13,0.21,0.27,0.05,0.12,0.09,0.06,0.14,0.07,0.21,0.09,0.07,0.1,0.09,0.22,0.09,0.12,0.1,0.13,0.12,0.08,0.19,0.76,0.11,0.14,0.06,0.1,0.06,0.16,0.13,0.19,0.52,0.53,0.87,0.19,0.05,0.15,0.13,0.03,0.06,0.05,0.04,0.03,0.01,0.17,0.09,0.06,0.05,0.0,0.19,0.03,0.04,0.05,0.29,0.12,0.09,0.07,0.28,0.02,0.03,0.02,0.09,0.05,0.02,0.03,0.03,0.1,0.22,0.04,0.13,0.22,0.12,0.06,0.02,0.03,0.03,0.03,0.01,0.32,0.02,0.19,0.05,0.03,1.0,0.1,0.11,1.0,0.03,0.03,0.02,0.06,0.49,0.03,0.15,0.17,0.06,0.02,0.04,0.35,0.07,0.05,0.07,0.01,0.02,0.12,0.02,0.08,0.03,0.06,0.44,0.03,0.12,0.02,0.12,0.21,0.04,0.06,0.06,0.02,0.13,0.05,0.36,0.03,0.15,0.08,0.06,0.05,0.04,0.09,0.21,0.03,0.1,0.05,0.15,0.04,0.04,0.19,0.03,0.03,0.02,0.18,0.49,0.0,0.22,0.26,0.03,0.03,0.05,0.07,0.04,0.06,0.61,0.17,0.32,0.38,0.06,0.85,0.09,0.2,0.23,0.74,0.76,0.06,0.16,1.0,0.06,0.53,0.29,0.78,0.93,0.6,0.1,0.87,0.07,0.21,0.55,0.69,1.0,0.23,0.72,0.53,0.6,0.63,0.15,0.03,0.07,0.02,0.18,0.12,0.08,0.08,0.08,0.18,0.01,0.35,0.03,0.3,0.24,0.33,0.08,0.7,0.1,0.26,0.12,0.17,0.67,0.38,0.36,0.16,0.17,0.41,0.21,0.06,0.24,0.47,0.81,0.12,0.4,0.28,0.63,0.38,0.25,0.03,0.7,0.14,0.57,0.1,0.24,0.2,0.28,0.64,0.17,0.24,0.17,0.06,0.59,0.34,0.27,0.49,0.13,0.12,0.08,0.28,0.17,0.16,0.14,0.08,0.28,0.11,0.72,0.47,0.03,0.24,0.09,0.09,0.07,0.31,0.14,0.39,0.5,0.07,0.06,0.32,0.36,0.39,0.11,0.25,0.83,0.39,0.18,0.33,0.27,0.14,0.31,0.31,0.11,0.09,0.58,0.27,0.19,0.51,0.72,0.12,0.14,0.01,0.06,0.1,0.09,0.07,0.05,0.39,0.11,1.0,0.14,0.52,0.1,0.04,0.27,0.63,0.23,0.6,0.12,0.28,0.2,0.28,0.29,0.34,0.23,0.19,0.54,0.31,0.48,0.13,0.12,0.29,0.52,0.51,0.21,0.15,0.13,0.13,0.43,0.06,0.11,0.04,0.08,0.19,0.26,0.06,0.21,0.22,0.16,0.23,0.52,0.71,0.11,0.23,0.25,0.29,0.28,0.48,0.03,0.33,0.33,0.11,0.35,0.14,0.08,0.34,0.16,0.29,0.32,0.3,0.3,0.28,0.5,0.29,0.68,0.15,0.33,0.74,0.35,0.07,0.11,0.19,0.06,0.14,0.12,0.1,0.12,0.43,0.2,0.2,0.16,0.31,0.28,0.05,0.32,0.03,0.34,0.11,0.1,0.09,0.02,0.1,0.07,0.07,0.03,0.08,0.08,0.05,0.05,0.07,0.04,0.04,0.11,0.04,0.15,0.06,0.04,0.02,0.2,0.08,0.04,0.04,0.24,0.33,0.25,0.07,0.05,0.06,0.01,0.27,0.14,0.18,0.04,0.06,0.67,0.29,0.54,0.31,0.15,0.29,0.24,0.07,0.12,0.15,0.29,0.28,0.07,0.05,0.19,0.05,0.47,0.16,0.09,0.06,0.35,0.18,0.55,0.12,0.05,0.38,0.1,0.04,0.5,0.25,0.22,0.37,0.76,0.67,0.09,0.22,0.1,0.03,0.12,0.09,0.47,0.14,0.14,0.13,0.12,0.16,0.58,0.09,0.06,0.18,0.09,0.2,0.04,0.26,0.39,0.22,0.08,0.36,0.1,0.09,0.08,0.33,0.23,0.31,0.36,0.04,0.22,0.15,0.22,0.01,0.23,0.15,0.22,0.56,0.09,0.16,0.1,0.13,0.02,0.09,0.03,0.49,0.02,0.06,0.07,0.02,0.01,0.05,0.06,0.22,0.04,0.03,0.05,0.06,0.11,0.03,0.06,0.02,0.06,0.02,0.07,0.05,0.03,0.11,0.13,0.07,0.14,0.1,0.4,0.1,0.03,0.18,0.03,0.17,0.09,0.03,0.08,0.0,0.05,0.34,0.02,0.03,0.07,0.16,0.02,0.02,0.06,0.07,0.03,0.04,0.1,0.03,0.05,0.07,0.04,0.09,0.06,0.01,0.09,0.11,0.06,0.05,0.08,0.06,0.06,0.11,0.15,0.12,0.27],\"type\":\"choropleth\"}],                        {\"template\":{\"data\":{\"histogram2dcontour\":[{\"type\":\"histogram2dcontour\",\"colorbar\":{\"outlinewidth\":0,\"ticks\":\"\"},\"colorscale\":[[0.0,\"#0d0887\"],[0.1111111111111111,\"#46039f\"],[0.2222222222222222,\"#7201a8\"],[0.3333333333333333,\"#9c179e\"],[0.4444444444444444,\"#bd3786\"],[0.5555555555555556,\"#d8576b\"],[0.6666666666666666,\"#ed7953\"],[0.7777777777777778,\"#fb9f3a\"],[0.8888888888888888,\"#fdca26\"],[1.0,\"#f0f921\"]]}],\"choropleth\":[{\"type\":\"choropleth\",\"colorbar\":{\"outlinewidth\":0,\"ticks\":\"\"}}],\"histogram2d\":[{\"type\":\"histogram2d\",\"colorbar\":{\"outlinewidth\":0,\"ticks\":\"\"},\"colorscale\":[[0.0,\"#0d0887\"],[0.1111111111111111,\"#46039f\"],[0.2222222222222222,\"#7201a8\"],[0.3333333333333333,\"#9c179e\"],[0.4444444444444444,\"#bd3786\"],[0.5555555555555556,\"#d8576b\"],[0.6666666666666666,\"#ed7953\"],[0.7777777777777778,\"#fb9f3a\"],[0.8888888888888888,\"#fdca26\"],[1.0,\"#f0f921\"]]}],\"heatmap\":[{\"type\":\"heatmap\",\"colorbar\":{\"outlinewidth\":0,\"ticks\":\"\"},\"colorscale\":[[0.0,\"#0d0887\"],[0.1111111111111111,\"#46039f\"],[0.2222222222222222,\"#7201a8\"],[0.3333333333333333,\"#9c179e\"],[0.4444444444444444,\"#bd3786\"],[0.5555555555555556,\"#d8576b\"],[0.6666666666666666,\"#ed7953\"],[0.7777777777777778,\"#fb9f3a\"],[0.8888888888888888,\"#fdca26\"],[1.0,\"#f0f921\"]]}],\"heatmapgl\":[{\"type\":\"heatmapgl\",\"colorbar\":{\"outlinewidth\":0,\"ticks\":\"\"},\"colorscale\":[[0.0,\"#0d0887\"],[0.1111111111111111,\"#46039f\"],[0.2222222222222222,\"#7201a8\"],[0.3333333333333333,\"#9c179e\"],[0.4444444444444444,\"#bd3786\"],[0.5555555555555556,\"#d8576b\"],[0.6666666666666666,\"#ed7953\"],[0.7777777777777778,\"#fb9f3a\"],[0.8888888888888888,\"#fdca26\"],[1.0,\"#f0f921\"]]}],\"contourcarpet\":[{\"type\":\"contourcarpet\",\"colorbar\":{\"outlinewidth\":0,\"ticks\":\"\"}}],\"contour\":[{\"type\":\"contour\",\"colorbar\":{\"outlinewidth\":0,\"ticks\":\"\"},\"colorscale\":[[0.0,\"#0d0887\"],[0.1111111111111111,\"#46039f\"],[0.2222222222222222,\"#7201a8\"],[0.3333333333333333,\"#9c179e\"],[0.4444444444444444,\"#bd3786\"],[0.5555555555555556,\"#d8576b\"],[0.6666666666666666,\"#ed7953\"],[0.7777777777777778,\"#fb9f3a\"],[0.8888888888888888,\"#fdca26\"],[1.0,\"#f0f921\"]]}],\"surface\":[{\"type\":\"surface\",\"colorbar\":{\"outlinewidth\":0,\"ticks\":\"\"},\"colorscale\":[[0.0,\"#0d0887\"],[0.1111111111111111,\"#46039f\"],[0.2222222222222222,\"#7201a8\"],[0.3333333333333333,\"#9c179e\"],[0.4444444444444444,\"#bd3786\"],[0.5555555555555556,\"#d8576b\"],[0.6666666666666666,\"#ed7953\"],[0.7777777777777778,\"#fb9f3a\"],[0.8888888888888888,\"#fdca26\"],[1.0,\"#f0f921\"]]}],\"mesh3d\":[{\"type\":\"mesh3d\",\"colorbar\":{\"outlinewidth\":0,\"ticks\":\"\"}}],\"scatter\":[{\"fillpattern\":{\"fillmode\":\"overlay\",\"size\":10,\"solidity\":0.2},\"type\":\"scatter\"}],\"parcoords\":[{\"type\":\"parcoords\",\"line\":{\"colorbar\":{\"outlinewidth\":0,\"ticks\":\"\"}}}],\"scatterpolargl\":[{\"type\":\"scatterpolargl\",\"marker\":{\"colorbar\":{\"outlinewidth\":0,\"ticks\":\"\"}}}],\"bar\":[{\"error_x\":{\"color\":\"#2a3f5f\"},\"error_y\":{\"color\":\"#2a3f5f\"},\"marker\":{\"line\":{\"color\":\"#E5ECF6\",\"width\":0.5},\"pattern\":{\"fillmode\":\"overlay\",\"size\":10,\"solidity\":0.2}},\"type\":\"bar\"}],\"scattergeo\":[{\"type\":\"scattergeo\",\"marker\":{\"colorbar\":{\"outlinewidth\":0,\"ticks\":\"\"}}}],\"scatterpolar\":[{\"type\":\"scatterpolar\",\"marker\":{\"colorbar\":{\"outlinewidth\":0,\"ticks\":\"\"}}}],\"histogram\":[{\"marker\":{\"pattern\":{\"fillmode\":\"overlay\",\"size\":10,\"solidity\":0.2}},\"type\":\"histogram\"}],\"scattergl\":[{\"type\":\"scattergl\",\"marker\":{\"colorbar\":{\"outlinewidth\":0,\"ticks\":\"\"}}}],\"scatter3d\":[{\"type\":\"scatter3d\",\"line\":{\"colorbar\":{\"outlinewidth\":0,\"ticks\":\"\"}},\"marker\":{\"colorbar\":{\"outlinewidth\":0,\"ticks\":\"\"}}}],\"scattermapbox\":[{\"type\":\"scattermapbox\",\"marker\":{\"colorbar\":{\"outlinewidth\":0,\"ticks\":\"\"}}}],\"scatterternary\":[{\"type\":\"scatterternary\",\"marker\":{\"colorbar\":{\"outlinewidth\":0,\"ticks\":\"\"}}}],\"scattercarpet\":[{\"type\":\"scattercarpet\",\"marker\":{\"colorbar\":{\"outlinewidth\":0,\"ticks\":\"\"}}}],\"carpet\":[{\"aaxis\":{\"endlinecolor\":\"#2a3f5f\",\"gridcolor\":\"white\",\"linecolor\":\"white\",\"minorgridcolor\":\"white\",\"startlinecolor\":\"#2a3f5f\"},\"baxis\":{\"endlinecolor\":\"#2a3f5f\",\"gridcolor\":\"white\",\"linecolor\":\"white\",\"minorgridcolor\":\"white\",\"startlinecolor\":\"#2a3f5f\"},\"type\":\"carpet\"}],\"table\":[{\"cells\":{\"fill\":{\"color\":\"#EBF0F8\"},\"line\":{\"color\":\"white\"}},\"header\":{\"fill\":{\"color\":\"#C8D4E3\"},\"line\":{\"color\":\"white\"}},\"type\":\"table\"}],\"barpolar\":[{\"marker\":{\"line\":{\"color\":\"#E5ECF6\",\"width\":0.5},\"pattern\":{\"fillmode\":\"overlay\",\"size\":10,\"solidity\":0.2}},\"type\":\"barpolar\"}],\"pie\":[{\"automargin\":true,\"type\":\"pie\"}]},\"layout\":{\"autotypenumbers\":\"strict\",\"colorway\":[\"#636efa\",\"#EF553B\",\"#00cc96\",\"#ab63fa\",\"#FFA15A\",\"#19d3f3\",\"#FF6692\",\"#B6E880\",\"#FF97FF\",\"#FECB52\"],\"font\":{\"color\":\"#2a3f5f\"},\"hovermode\":\"closest\",\"hoverlabel\":{\"align\":\"left\"},\"paper_bgcolor\":\"white\",\"plot_bgcolor\":\"#E5ECF6\",\"polar\":{\"bgcolor\":\"#E5ECF6\",\"angularaxis\":{\"gridcolor\":\"white\",\"linecolor\":\"white\",\"ticks\":\"\"},\"radialaxis\":{\"gridcolor\":\"white\",\"linecolor\":\"white\",\"ticks\":\"\"}},\"ternary\":{\"bgcolor\":\"#E5ECF6\",\"aaxis\":{\"gridcolor\":\"white\",\"linecolor\":\"white\",\"ticks\":\"\"},\"baxis\":{\"gridcolor\":\"white\",\"linecolor\":\"white\",\"ticks\":\"\"},\"caxis\":{\"gridcolor\":\"white\",\"linecolor\":\"white\",\"ticks\":\"\"}},\"coloraxis\":{\"colorbar\":{\"outlinewidth\":0,\"ticks\":\"\"}},\"colorscale\":{\"sequential\":[[0.0,\"#0d0887\"],[0.1111111111111111,\"#46039f\"],[0.2222222222222222,\"#7201a8\"],[0.3333333333333333,\"#9c179e\"],[0.4444444444444444,\"#bd3786\"],[0.5555555555555556,\"#d8576b\"],[0.6666666666666666,\"#ed7953\"],[0.7777777777777778,\"#fb9f3a\"],[0.8888888888888888,\"#fdca26\"],[1.0,\"#f0f921\"]],\"sequentialminus\":[[0.0,\"#0d0887\"],[0.1111111111111111,\"#46039f\"],[0.2222222222222222,\"#7201a8\"],[0.3333333333333333,\"#9c179e\"],[0.4444444444444444,\"#bd3786\"],[0.5555555555555556,\"#d8576b\"],[0.6666666666666666,\"#ed7953\"],[0.7777777777777778,\"#fb9f3a\"],[0.8888888888888888,\"#fdca26\"],[1.0,\"#f0f921\"]],\"diverging\":[[0,\"#8e0152\"],[0.1,\"#c51b7d\"],[0.2,\"#de77ae\"],[0.3,\"#f1b6da\"],[0.4,\"#fde0ef\"],[0.5,\"#f7f7f7\"],[0.6,\"#e6f5d0\"],[0.7,\"#b8e186\"],[0.8,\"#7fbc41\"],[0.9,\"#4d9221\"],[1,\"#276419\"]]},\"xaxis\":{\"gridcolor\":\"white\",\"linecolor\":\"white\",\"ticks\":\"\",\"title\":{\"standoff\":15},\"zerolinecolor\":\"white\",\"automargin\":true,\"zerolinewidth\":2},\"yaxis\":{\"gridcolor\":\"white\",\"linecolor\":\"white\",\"ticks\":\"\",\"title\":{\"standoff\":15},\"zerolinecolor\":\"white\",\"automargin\":true,\"zerolinewidth\":2},\"scene\":{\"xaxis\":{\"backgroundcolor\":\"#E5ECF6\",\"gridcolor\":\"white\",\"linecolor\":\"white\",\"showbackground\":true,\"ticks\":\"\",\"zerolinecolor\":\"white\",\"gridwidth\":2},\"yaxis\":{\"backgroundcolor\":\"#E5ECF6\",\"gridcolor\":\"white\",\"linecolor\":\"white\",\"showbackground\":true,\"ticks\":\"\",\"zerolinecolor\":\"white\",\"gridwidth\":2},\"zaxis\":{\"backgroundcolor\":\"#E5ECF6\",\"gridcolor\":\"white\",\"linecolor\":\"white\",\"showbackground\":true,\"ticks\":\"\",\"zerolinecolor\":\"white\",\"gridwidth\":2}},\"shapedefaults\":{\"line\":{\"color\":\"#2a3f5f\"}},\"annotationdefaults\":{\"arrowcolor\":\"#2a3f5f\",\"arrowhead\":0,\"arrowwidth\":1},\"geo\":{\"bgcolor\":\"white\",\"landcolor\":\"#E5ECF6\",\"subunitcolor\":\"white\",\"showland\":true,\"showlakes\":true,\"lakecolor\":\"white\"},\"title\":{\"x\":0.05},\"mapbox\":{\"style\":\"light\"}}},\"geo\":{\"domain\":{\"x\":[0.0,1.0],\"y\":[0.0,1.0]},\"center\":{},\"scope\":\"usa\"},\"coloraxis\":{\"colorbar\":{\"title\":{\"text\":\"violent_crime_rate\"}},\"colorscale\":[[0.0,\"#0d0887\"],[0.1111111111111111,\"#46039f\"],[0.2222222222222222,\"#7201a8\"],[0.3333333333333333,\"#9c179e\"],[0.4444444444444444,\"#bd3786\"],[0.5555555555555556,\"#d8576b\"],[0.6666666666666666,\"#ed7953\"],[0.7777777777777778,\"#fb9f3a\"],[0.8888888888888888,\"#fdca26\"],[1.0,\"#f0f921\"]]},\"legend\":{\"tracegroupgap\":0},\"margin\":{\"t\":60}},                        {\"responsive\": true}                    ).then(function(){\n",
       "                            \n",
       "var gd = document.getElementById('17b46dfe-2992-4a66-b6b8-e2a556c91efa');\n",
       "var x = new MutationObserver(function (mutations, observer) {{\n",
       "        var display = window.getComputedStyle(gd).display;\n",
       "        if (!display || display === 'none') {{\n",
       "            console.log([gd, 'removed!']);\n",
       "            Plotly.purge(gd);\n",
       "            observer.disconnect();\n",
       "        }}\n",
       "}});\n",
       "\n",
       "// Listen for the removal of the full notebook cells\n",
       "var notebookContainer = gd.closest('#notebook-container');\n",
       "if (notebookContainer) {{\n",
       "    x.observe(notebookContainer, {childList: true});\n",
       "}}\n",
       "\n",
       "// Listen for the clearing of the current output cell\n",
       "var outputEl = gd.closest('.output');\n",
       "if (outputEl) {{\n",
       "    x.observe(outputEl, {childList: true});\n",
       "}}\n",
       "\n",
       "                        })                };                });            </script>        </div>"
      ]
     },
     "metadata": {},
     "output_type": "display_data"
    }
   ],
   "source": [
    "fig = px.choropleth(gdf, locations='code',\n",
    "                    locationmode=\"USA-states\", color='violent_crime_rate', scope=\"usa\")\n",
    "fig.show()"
   ]
  },
  {
   "cell_type": "code",
   "execution_count": null,
   "metadata": {},
   "outputs": [],
   "source": [
    "# with urlopen('https://raw.githubusercontent.com/plotly/datasets/master/geojson-counties-fips.json') as response:\n",
    "#     counties = json.load(response)\n",
    "\n",
    "# fig = px.choropleth_mapbox(df, geojson=counties, locations='violent_crime_rate', color='PopDens',\n",
    "#                            color_continuous_scale=\"Viridis\",\n",
    "#                            range_color=(0, 12),\n",
    "#                            mapbox_style=\"carto-positron\",\n",
    "#                            zoom=3, center = {\"lat\": 37.0902, \"lon\": -95.7129},\n",
    "#                            opacity=0.5,\n",
    "#                            labels={'PopDens':'Population Density'}\n",
    "#                           )\n",
    "# fig.update_layout(margin={\"r\":0,\"t\":0,\"l\":0,\"b\":0})\n",
    "# fig.show()"
   ]
  },
  {
   "cell_type": "code",
   "execution_count": null,
   "metadata": {},
   "outputs": [],
   "source": []
  }
 ],
 "metadata": {
  "kernelspec": {
   "display_name": "Python [conda env:dataviz-532]",
   "language": "python",
   "name": "conda-env-dataviz-532-py"
  },
  "language_info": {
   "codemirror_mode": {
    "name": "ipython",
    "version": 3
   },
   "file_extension": ".py",
   "mimetype": "text/x-python",
   "name": "python",
   "nbconvert_exporter": "python",
   "pygments_lexer": "ipython3",
   "version": "3.11.0"
  }
 },
 "nbformat": 4,
 "nbformat_minor": 4
}
