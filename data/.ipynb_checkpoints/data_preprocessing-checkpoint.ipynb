{
 "cells": [
  {
   "cell_type": "code",
   "execution_count": 6,
   "metadata": {},
   "outputs": [],
   "source": [
    "#imports\n",
    "from geopy.geocoders import Nominatim\n",
    "import pandas as pd\n",
    "import re"
   ]
  },
  {
   "cell_type": "code",
   "execution_count": 7,
   "metadata": {},
   "outputs": [
    {
     "name": "stdout",
     "output_type": "stream",
     "text": [
      "Latitude: 34.0537585\n",
      "Longitude: -116.59672363338927\n"
     ]
    }
   ],
   "source": [
    "geolocator = Nominatim(user_agent=\"get_location\")\n",
    "\n",
    "location = \"Morongo Valley\"\n",
    "location = geolocator.geocode(location)\n",
    "latitude = location.latitude\n",
    "longitude = location.longitude\n",
    "\n",
    "print(\"Latitude:\", latitude)\n",
    "print(\"Longitude:\", longitude)"
   ]
  },
  {
   "cell_type": "code",
   "execution_count": 8,
   "metadata": {},
   "outputs": [],
   "source": [
    "def get_coordinate(query: str):\n",
    "    \"\"\"\n",
    "    Get the latitude and longitude from an input query string\n",
    "    \"\"\"\n",
    "    geolocator = Nominatim(user_agent=\"get_location\")\n",
    " \n",
    "    location = geolocator.geocode(query)\n",
    "    if location is not None:\n",
    "        latitude = location.latitude\n",
    "        longitude = location.longitude\n",
    "        return latitude, longitude\n",
    "    else:\n",
    "        return None\n",
    "\n",
    "def partition_by_caps(input):\n",
    "    parts = re.findall('[A-Z][^A-Z]*', input)\n",
    "    return parts"
   ]
  },
  {
   "cell_type": "code",
   "execution_count": 9,
   "metadata": {},
   "outputs": [],
   "source": [
    "# Extract variable name\n",
    "file = open(\"communities.names\") \n",
    "content = file.readlines()\n",
    "variables_initial = content[75:203]\n",
    "pat1 = r'\\snumeric$'\n",
    "pat2 = r'^@attribute\\s'\n",
    "pat3 = r'\\sstring$'\n",
    "combined_pat = r'|'.join((pat1, pat2, pat3))\n",
    "variables = [re.sub(combined_pat, '', name.strip()) for name in variables_initial]"
   ]
  },
  {
   "cell_type": "code",
   "execution_count": 10,
   "metadata": {},
   "outputs": [
    {
     "data": {
      "text/plain": [
       "Series([], Name: community, dtype: object)"
      ]
     },
     "execution_count": 5,
     "metadata": {},
     "output_type": "execute_result"
    }
   ],
   "source": [
    "df = pd.read_csv('communities.csv', index_col=None, header=None)\n",
    "df.columns = variables\n",
    "df = df.rename(columns={'ViolentCrimesPerPop': 'violent_crime_rate'})\n",
    "types = ['city', 'township', 'town', 'borough', 'village', 'division', 'district', 'Valle']\n",
    "df[df['communityname'].str[-4:]=='alle']['communityname']"
   ]
  },
  {
   "cell_type": "code",
   "execution_count": null,
   "metadata": {},
   "outputs": [
    {
     "data": {
      "text/plain": [
       "'Pennsylvania'"
      ]
     },
     "execution_count": 6,
     "metadata": {},
     "output_type": "execute_result"
    }
   ],
   "source": [
    "sep = '\\s*,\\s*'\n",
    "\n",
    "# Read CSV file using custom separator\n",
    "state_code_df = pd.read_csv('us-state-code.csv', sep=sep, engine='python')\n",
    "def get_state_name(code:int):\n",
    "    return state_code_df.query('st=='+str(code))['stname'].to_string(index=False)\n",
    "\n",
    "get_state_name(42)"
   ]
  },
  {
   "cell_type": "code",
   "execution_count": null,
   "metadata": {},
   "outputs": [],
   "source": [
    "df['state_name'] = df['state'].apply(get_state_name)"
   ]
  },
  {
   "cell_type": "code",
   "execution_count": null,
   "metadata": {},
   "outputs": [],
   "source": [
    "city_lst = df['communityname'].apply(partition_by_caps).to_list()"
   ]
  },
  {
   "cell_type": "code",
   "execution_count": null,
   "metadata": {},
   "outputs": [
    {
     "ename": "IndexError",
     "evalue": "list index out of range",
     "output_type": "error",
     "traceback": [
      "\u001b[0;31m---------------------------------------------------------------------------\u001b[0m",
      "\u001b[0;31mIndexError\u001b[0m                                Traceback (most recent call last)",
      "Cell \u001b[0;32mIn[9], line 4\u001b[0m\n\u001b[1;32m      2\u001b[0m \u001b[38;5;28;01mfor\u001b[39;00m city \u001b[38;5;129;01min\u001b[39;00m city_lst:\n\u001b[1;32m      3\u001b[0m     \u001b[38;5;28;01mfor\u001b[39;00m t \u001b[38;5;129;01min\u001b[39;00m types:\n\u001b[0;32m----> 4\u001b[0m         \u001b[38;5;28;01mif\u001b[39;00m t \u001b[38;5;129;01min\u001b[39;00m \u001b[43mcity\u001b[49m\u001b[43m[\u001b[49m\u001b[38;5;241;43m-\u001b[39;49m\u001b[38;5;241;43m1\u001b[39;49m\u001b[43m]\u001b[49m:\n\u001b[1;32m      5\u001b[0m             city[\u001b[38;5;241m-\u001b[39m\u001b[38;5;241m1\u001b[39m] \u001b[38;5;241m=\u001b[39m city[\u001b[38;5;241m-\u001b[39m\u001b[38;5;241m1\u001b[39m]\u001b[38;5;241m.\u001b[39mremovesuffix(t)\n\u001b[1;32m      6\u001b[0m             type_list\u001b[38;5;241m.\u001b[39mappend(t)\n",
      "\u001b[0;31mIndexError\u001b[0m: list index out of range"
     ]
    }
   ],
   "source": [
    "type_list = []\n",
    "for city in city_lst:\n",
    "    for t in types:\n",
    "        if t in city[-1]:\n",
    "            city[-1] = city[-1].removesuffix(t)\n",
    "            type_list.append(t)\n",
    "            removed = True\n",
    "            break\n",
    "        \n",
    "\n",
    "\n",
    "    \n",
    "df['type'] = type_list\n",
    "df['city'] = city_lst"
   ]
  },
  {
   "cell_type": "code",
   "execution_count": null,
   "metadata": {},
   "outputs": [],
   "source": [
    "query_strs = []\n",
    "\n",
    "for i in range(len(df['type'])):\n",
    "    query_msg = ''\n",
    "    for name in df['city'][i]:\n",
    "        query_msg += name + ' '\n",
    "    query_msg = query_msg[:-1]\n",
    "    query_msg += ', '+df['state_name'][i]\n",
    "    \n",
    "    query_strs.append(query_msg)"
   ]
  },
  {
   "cell_type": "code",
   "execution_count": null,
   "metadata": {},
   "outputs": [],
   "source": [
    "# # this will take ~ 20 min\n",
    "# latitudes = []\n",
    "# longitudes = []\n",
    "# for i in range(len(df['type'])):\n",
    "#     try:\n",
    "#         coor = get_coordinate(query_strs[i])\n",
    "#         if coor is not None:\n",
    "#             latitudes.append(coor[0])\n",
    "#             longitudes.append(coor[1])\n",
    "#         else:\n",
    "#             latitudes.append(None)\n",
    "#             longitudes.append(None)\n",
    "#     except:\n",
    "#         latitudes.append(None)\n",
    "#         longitudes.append(None)"
   ]
  },
  {
   "cell_type": "code",
   "execution_count": null,
   "metadata": {},
   "outputs": [],
   "source": [
    "# pd.DataFrame({'latitude':latitudes,'longitude':longitudes}).to_csv('coordinates.csv')"
   ]
  },
  {
   "cell_type": "code",
   "execution_count": null,
   "metadata": {},
   "outputs": [],
   "source": [
    "# pd.read_csv('coordinates.csv')[['latitude', 'longitude']].to_csv('coordinates.csv')"
   ]
  },
  {
   "cell_type": "code",
   "execution_count": null,
   "metadata": {},
   "outputs": [],
   "source": [
    "coor = pd.read_csv('coordinates.csv')"
   ]
  },
  {
   "cell_type": "code",
   "execution_count": null,
   "metadata": {},
   "outputs": [],
   "source": [
    "coor.isna().sum()"
   ]
  },
  {
   "cell_type": "code",
   "execution_count": null,
   "metadata": {},
   "outputs": [],
   "source": [
    "df['latitude'] = coor['latitude']\n",
    "df['longitude'] = coor['longitude']"
   ]
  },
  {
   "cell_type": "code",
   "execution_count": null,
   "metadata": {},
   "outputs": [],
   "source": [
    "cities = []\n",
    "for i in range(len(df['city'])):\n",
    "    city_str = ''\n",
    "    for name in df['city'][i]:\n",
    "        city_str += name + ' '\n",
    "    city_str = city_str[:-1]\n",
    "    \n",
    "    cities.append(city_str)\n",
    "df['community'] = cities"
   ]
  },
  {
   "cell_type": "code",
   "execution_count": null,
   "metadata": {},
   "outputs": [],
   "source": [
    "df"
   ]
  },
  {
   "cell_type": "code",
   "execution_count": null,
   "metadata": {},
   "outputs": [],
   "source": [
    "df.to_csv('processed_communities.csv')"
   ]
  }
 ],
 "metadata": {
  "kernelspec": {
   "display_name": "Python 3 (ipykernel)",
   "language": "python",
   "name": "python3"
  },
  "language_info": {
   "codemirror_mode": {
    "name": "ipython",
    "version": 3
   },
   "file_extension": ".py",
   "mimetype": "text/x-python",
   "name": "python",
   "nbconvert_exporter": "python",
   "pygments_lexer": "ipython3",
   "version": "3.10.8"
  },
  "vscode": {
   "interpreter": {
    "hash": "fb3255e8c177a1137413fe9062f3de4b862da5af4fbc98ca150dccf9d8cb90c8"
   }
  }
 },
 "nbformat": 4,
 "nbformat_minor": 4
}
